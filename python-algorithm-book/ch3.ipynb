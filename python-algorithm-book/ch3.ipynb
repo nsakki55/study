{
 "cells": [
  {
   "cell_type": "markdown",
   "metadata": {},
   "source": [
    "## 二分探索"
   ]
  },
  {
   "cell_type": "code",
   "execution_count": 5,
   "metadata": {},
   "outputs": [
    {
     "name": "stdout",
     "output_type": "stream",
     "text": [
      "3\n"
     ]
    }
   ],
   "source": [
    "def binary_search(data, value):\n",
    "    left = 0\n",
    "    right = len(data) - 1\n",
    "    while left <= right:\n",
    "        mid = (left + right) // 2\n",
    "        if data[mid] == value:\n",
    "            return mid\n",
    "        elif data[mid] < value:\n",
    "            left = mid + 1\n",
    "        else:\n",
    "            right = mid - 1\n",
    "    return -1\n",
    "\n",
    "data = [10, 20, 30, 40, 50, 60, 70, 80, 90]\n",
    "print(binary_search(data, 40))"
   ]
  },
  {
   "cell_type": "code",
   "execution_count": 7,
   "metadata": {},
   "outputs": [
    {
     "name": "stdout",
     "output_type": "stream",
     "text": [
      "0 1 2 3 4 5 6 7 8 9 10 11 12 13 14 "
     ]
    }
   ],
   "source": [
    "def breadth_search():\n",
    "    tree = [[1, 2], [3, 4], [5, 6], [7, 8], [9, 10], [11, 12],\n",
    "        [13, 14], [], [], [], [], [], [], [], []]\n",
    "    \n",
    "    data = [0]\n",
    "    while len(data) > 0:\n",
    "        pos = data.pop(0)\n",
    "        print(pos, end=' ')\n",
    "        for i in tree[pos]:\n",
    "            data.append(i)\n",
    "            \n",
    "breadth_search()"
   ]
  },
  {
   "cell_type": "code",
   "execution_count": 8,
   "metadata": {},
   "outputs": [
    {
     "name": "stdout",
     "output_type": "stream",
     "text": [
      "0 1 3 7 8 4 9 10 2 5 11 12 6 13 14 "
     ]
    }
   ],
   "source": [
    "def depth_search():\n",
    "    tree = [[1, 2], [3, 4], [5, 6], [7, 8], [9, 10], [11, 12],\n",
    "        [13, 14], [], [], [], [], [], [], [], []]\n",
    "    \n",
    "    def search(pos):\n",
    "        print(pos, end=' ')\n",
    "        for i in tree[pos]:\n",
    "            search(i)\n",
    "    search(0)\n",
    "    \n",
    "depth_search()"
   ]
  },
  {
   "cell_type": "code",
   "execution_count": 9,
   "metadata": {},
   "outputs": [
    {
     "name": "stdout",
     "output_type": "stream",
     "text": [
      "7 8 3 9 10 4 1 11 12 5 13 14 6 2 0 "
     ]
    }
   ],
   "source": [
    "def depth_search2():\n",
    "    tree = [[1, 2], [3, 4], [5, 6], [7, 8], [9, 10], [11, 12],\n",
    "        [13, 14], [], [], [], [], [], [], [], []]\n",
    "    \n",
    "    def search(pos):\n",
    "        for i in tree[pos]:\n",
    "            search(i)\n",
    "        print(pos, end=' ')\n",
    "    search(0)\n",
    "    \n",
    "depth_search2()"
   ]
  },
  {
   "cell_type": "code",
   "execution_count": 14,
   "metadata": {},
   "outputs": [
    {
     "name": "stdout",
     "output_type": "stream",
     "text": [
      "7 3 8 1 9 4 10 0 11 5 12 2 13 6 14 "
     ]
    }
   ],
   "source": [
    "def depth_search3():\n",
    "    tree = [[1, 2], [3, 4], [5, 6], [7, 8], [9, 10], [11, 12],\n",
    "        [13, 14], [], [], [], [], [], [], [], []]\n",
    "    \n",
    "    def search(pos):\n",
    "        if len(tree[pos]) == 2:\n",
    "            search(tree[pos][0])\n",
    "            print(pos, end=' ')\n",
    "            search(tree[pos][1])\n",
    "            \n",
    "        elif len(tree[pos]) == 1:\n",
    "            search(tree[pos][0])\n",
    "            print(pos, end = ' ')\n",
    "        \n",
    "        else:\n",
    "            print(pos, end = ' ')\n",
    "        \n",
    "    search(0)\n",
    "depth_search3()"
   ]
  },
  {
   "cell_type": "code",
   "execution_count": 16,
   "metadata": {},
   "outputs": [
    {
     "name": "stdout",
     "output_type": "stream",
     "text": [
      "0 2 6 14 13 5 12 11 1 4 10 9 3 8 7 "
     ]
    }
   ],
   "source": [
    "def depth_search4():\n",
    "    tree = [[1, 2], [3, 4], [5, 6], [7, 8], [9, 10], [11, 12],\n",
    "        [13, 14], [], [], [], [], [], [], [], []]\n",
    "    \n",
    "    data =[0]\n",
    "    while len(data) > 0:\n",
    "        pos = data.pop()\n",
    "        print(pos , end = ' ')\n",
    "        for i in tree[pos]:\n",
    "            data.append(i)\n",
    "            \n",
    "depth_search4()"
   ]
  },
  {
   "cell_type": "code",
   "execution_count": 22,
   "metadata": {},
   "outputs": [
    {
     "name": "stdout",
     "output_type": "stream",
     "text": [
      "28\n"
     ]
    }
   ],
   "source": [
    "\n",
    "maze = [\n",
    "    [9, 9, 9, 9, 9, 9, 9, 9, 9, 9, 9, 9],\n",
    "    [9, 0, 0, 0, 9, 0, 0, 0, 0, 0, 0, 9],\n",
    "    [9, 0, 9, 0, 0, 0, 9, 9, 0, 9, 9, 9],\n",
    "    [9, 0, 9, 9, 0, 9, 0, 0, 0, 9, 0, 9],\n",
    "    [9, 0, 0, 0, 9, 0, 0, 9, 9, 0, 9, 9],\n",
    "    [9, 9, 9, 0, 0, 9, 0, 9, 0, 0, 0, 9],\n",
    "    [9, 0, 0, 0, 9, 0, 9, 0, 0, 9, 1, 9],\n",
    "    [9, 0, 9, 0, 0, 0, 0, 9, 0, 0, 9, 9],\n",
    "    [9, 0, 0, 9, 0, 9, 0, 0, 9, 0, 0, 9],\n",
    "    [9, 0, 9, 0, 9, 0, 9, 0, 0, 9, 0, 9],\n",
    "    [9, 0, 0, 0, 0, 0, 0, 9, 0, 0, 0, 9],\n",
    "    [9, 9, 9, 9, 9, 9, 9, 9, 9, 9, 9, 9]\n",
    "]\n",
    "\n",
    "def maze1():\n",
    "    # スタート位置(x座標、y座標、移動回数)をセット\n",
    "    pos = [[1, 1, 0]]\n",
    "\n",
    "    while len(pos) > 0:\n",
    "        x, y, depth = pos.pop(0)\n",
    "\n",
    "        # ゴールに着くと終了\n",
    "        if maze[x][y] == 1:\n",
    "            print(depth)\n",
    "            break\n",
    "\n",
    "        # 探索済みとしてセット\n",
    "        maze[x][y] = 2\n",
    "\n",
    "        #上下左右を探索\n",
    "        if maze[x - 1][y] < 2:\n",
    "            pos.append([x - 1, y, depth + 1])\n",
    "        if maze[x + 1][y] < 2:\n",
    "            pos.append([x + 1, y, depth + 1])\n",
    "        if maze[x][y - 1] < 2:\n",
    "            pos.append([x, y - 1, depth + 1])\n",
    "        if maze[x][y + 1] < 2:\n",
    "            pos.append([x, y + 1, depth + 1])\n",
    "            \n",
    "maze1()"
   ]
  },
  {
   "cell_type": "code",
   "execution_count": 27,
   "metadata": {},
   "outputs": [],
   "source": [
    "\n",
    "maze = [\n",
    "    [9, 9, 9, 9, 9, 9, 9, 9, 9, 9, 9, 9],\n",
    "    [9, 0, 0, 0, 9, 0, 0, 0, 0, 0, 0, 9],\n",
    "    [9, 0, 9, 0, 0, 0, 9, 9, 0, 9, 9, 9],\n",
    "    [9, 0, 9, 9, 0, 9, 0, 0, 0, 9, 0, 9],\n",
    "    [9, 0, 0, 0, 9, 0, 0, 9, 9, 0, 9, 9],\n",
    "    [9, 9, 9, 0, 0, 9, 0, 9, 0, 0, 0, 9],\n",
    "    [9, 0, 0, 0, 9, 0, 9, 0, 0, 9, 1, 9],\n",
    "    [9, 0, 9, 0, 0, 0, 0, 9, 0, 0, 9, 9],\n",
    "    [9, 0, 0, 9, 0, 9, 0, 0, 9, 0, 0, 9],\n",
    "    [9, 0, 9, 0, 9, 0, 9, 0, 0, 9, 0, 9],\n",
    "    [9, 0, 0, 0, 0, 0, 0, 9, 0, 0, 0, 9],\n",
    "    [9, 9, 9, 9, 9, 9, 9, 9, 9, 9, 9, 9]\n",
    "]\n",
    "\n",
    "\n",
    "def search(x, y ,depth):\n",
    "\n",
    "\n",
    "    # ゴールに着くと終了\n",
    "    if maze[x][y] == 1:\n",
    "        print(depth)\n",
    "        exit()\n",
    "\n",
    "    # 探索済みとしてセット\n",
    "    maze[x][y] = 2\n",
    "\n",
    "    #上下左右を探索\n",
    "    if maze[x - 1][y] < 2:\n",
    "        pos.append([x - 1, y, depth + 1])\n",
    "    if maze[x + 1][y] < 2:\n",
    "        pos.append([x + 1, y, depth + 1])\n",
    "    if maze[x][y - 1] < 2:\n",
    "        pos.append([x, y - 1, depth + 1])\n",
    "    if maze[x][y + 1] < 2:\n",
    "        pos.append([x, y + 1, depth + 1])\n",
    "\n",
    "    maze[x][y] = 0\n",
    "\n",
    "search(1, 1, 0)"
   ]
  },
  {
   "cell_type": "code",
   "execution_count": 28,
   "metadata": {},
   "outputs": [
    {
     "name": "stdout",
     "output_type": "stream",
     "text": [
      "28\n"
     ]
    }
   ],
   "source": [
    "def maze3():\n",
    "    # 右手法での移動方向（下、右、上、左）をセット\n",
    "    dir = [[1, 0], [0, 1], [-1, 0], [0, -1]]\n",
    "\n",
    "    # スタート位置(x座標、y座標、移動回数、方向)をセット\n",
    "    x, y, depth, d = 1, 1, 0, 0\n",
    "\n",
    "    while maze[x][y] != 1:\n",
    "        # 探索済みとしてセット\n",
    "        maze[x][y] = 2\n",
    "\n",
    "        #右手法で探索\n",
    "        for i in range(len(dir)):\n",
    "            # 進行方向の右側から順に探す\n",
    "            j = (d + i - 1) % len(dir)\n",
    "            if maze[x + dir[j][0]][y + dir[j][1]] < 2:\n",
    "                # 未訪問の場合は進めて移動回数を増やす\n",
    "                x += dir[j][0]\n",
    "                y += dir[j][1]\n",
    "                d = j\n",
    "                depth += 1\n",
    "                break\n",
    "            elif maze[x + dir[j][0]][y + dir[j][1]] == 2:\n",
    "                # 訪問済みの場合は進めて移動回数を減らす\n",
    "                x += dir[j][0]\n",
    "                y += dir[j][1]\n",
    "                d = j\n",
    "                depth -= 1\n",
    "                break\n",
    "\n",
    "    print(depth)\n",
    "    \n",
    "maze3()"
   ]
  },
  {
   "cell_type": "code",
   "execution_count": 29,
   "metadata": {},
   "outputs": [
    {
     "name": "stdout",
     "output_type": "stream",
     "text": [
      "[0, 4, 7, 5, 2, 6, 1, 3]\n",
      "[0, 5, 7, 2, 6, 3, 1, 4]\n",
      "[0, 6, 3, 5, 7, 1, 4, 2]\n",
      "[0, 6, 4, 7, 1, 3, 5, 2]\n",
      "[1, 3, 5, 7, 2, 0, 6, 4]\n",
      "[1, 4, 6, 0, 2, 7, 5, 3]\n",
      "[1, 4, 6, 3, 0, 7, 5, 2]\n",
      "[1, 5, 0, 6, 3, 7, 2, 4]\n",
      "[1, 5, 7, 2, 0, 3, 6, 4]\n",
      "[1, 6, 2, 5, 7, 4, 0, 3]\n",
      "[1, 6, 4, 7, 0, 3, 5, 2]\n",
      "[1, 7, 5, 0, 2, 4, 6, 3]\n",
      "[2, 0, 6, 4, 7, 1, 3, 5]\n",
      "[2, 4, 1, 7, 0, 6, 3, 5]\n",
      "[2, 4, 1, 7, 5, 3, 6, 0]\n",
      "[2, 4, 6, 0, 3, 1, 7, 5]\n",
      "[2, 4, 7, 3, 0, 6, 1, 5]\n",
      "[2, 5, 1, 4, 7, 0, 6, 3]\n",
      "[2, 5, 1, 6, 0, 3, 7, 4]\n",
      "[2, 5, 1, 6, 4, 0, 7, 3]\n",
      "[2, 5, 3, 0, 7, 4, 6, 1]\n",
      "[2, 5, 3, 1, 7, 4, 6, 0]\n",
      "[2, 5, 7, 0, 3, 6, 4, 1]\n",
      "[2, 5, 7, 0, 4, 6, 1, 3]\n",
      "[2, 5, 7, 1, 3, 0, 6, 4]\n",
      "[2, 6, 1, 7, 4, 0, 3, 5]\n",
      "[2, 6, 1, 7, 5, 3, 0, 4]\n",
      "[2, 7, 3, 6, 0, 5, 1, 4]\n",
      "[3, 0, 4, 7, 1, 6, 2, 5]\n",
      "[3, 0, 4, 7, 5, 2, 6, 1]\n",
      "[3, 1, 4, 7, 5, 0, 2, 6]\n",
      "[3, 1, 6, 2, 5, 7, 0, 4]\n",
      "[3, 1, 6, 2, 5, 7, 4, 0]\n",
      "[3, 1, 6, 4, 0, 7, 5, 2]\n",
      "[3, 1, 7, 4, 6, 0, 2, 5]\n",
      "[3, 1, 7, 5, 0, 2, 4, 6]\n",
      "[3, 5, 0, 4, 1, 7, 2, 6]\n",
      "[3, 5, 7, 1, 6, 0, 2, 4]\n",
      "[3, 5, 7, 2, 0, 6, 4, 1]\n",
      "[3, 6, 0, 7, 4, 1, 5, 2]\n",
      "[3, 6, 2, 7, 1, 4, 0, 5]\n",
      "[3, 6, 4, 1, 5, 0, 2, 7]\n",
      "[3, 6, 4, 2, 0, 5, 7, 1]\n",
      "[3, 7, 0, 2, 5, 1, 6, 4]\n",
      "[3, 7, 0, 4, 6, 1, 5, 2]\n",
      "[3, 7, 4, 2, 0, 6, 1, 5]\n",
      "[4, 0, 3, 5, 7, 1, 6, 2]\n",
      "[4, 0, 7, 3, 1, 6, 2, 5]\n",
      "[4, 0, 7, 5, 2, 6, 1, 3]\n",
      "[4, 1, 3, 5, 7, 2, 0, 6]\n",
      "[4, 1, 3, 6, 2, 7, 5, 0]\n",
      "[4, 1, 5, 0, 6, 3, 7, 2]\n",
      "[4, 1, 7, 0, 3, 6, 2, 5]\n",
      "[4, 2, 0, 5, 7, 1, 3, 6]\n",
      "[4, 2, 0, 6, 1, 7, 5, 3]\n",
      "[4, 2, 7, 3, 6, 0, 5, 1]\n",
      "[4, 6, 0, 2, 7, 5, 3, 1]\n",
      "[4, 6, 0, 3, 1, 7, 5, 2]\n",
      "[4, 6, 1, 3, 7, 0, 2, 5]\n",
      "[4, 6, 1, 5, 2, 0, 3, 7]\n",
      "[4, 6, 1, 5, 2, 0, 7, 3]\n",
      "[4, 6, 3, 0, 2, 7, 5, 1]\n",
      "[4, 7, 3, 0, 2, 5, 1, 6]\n",
      "[4, 7, 3, 0, 6, 1, 5, 2]\n",
      "[5, 0, 4, 1, 7, 2, 6, 3]\n",
      "[5, 1, 6, 0, 2, 4, 7, 3]\n",
      "[5, 1, 6, 0, 3, 7, 4, 2]\n",
      "[5, 2, 0, 6, 4, 7, 1, 3]\n",
      "[5, 2, 0, 7, 3, 1, 6, 4]\n",
      "[5, 2, 0, 7, 4, 1, 3, 6]\n",
      "[5, 2, 4, 6, 0, 3, 1, 7]\n",
      "[5, 2, 4, 7, 0, 3, 1, 6]\n",
      "[5, 2, 6, 1, 3, 7, 0, 4]\n",
      "[5, 2, 6, 1, 7, 4, 0, 3]\n",
      "[5, 2, 6, 3, 0, 7, 1, 4]\n",
      "[5, 3, 0, 4, 7, 1, 6, 2]\n",
      "[5, 3, 1, 7, 4, 6, 0, 2]\n",
      "[5, 3, 6, 0, 2, 4, 1, 7]\n",
      "[5, 3, 6, 0, 7, 1, 4, 2]\n",
      "[5, 7, 1, 3, 0, 6, 4, 2]\n",
      "[6, 0, 2, 7, 5, 3, 1, 4]\n",
      "[6, 1, 3, 0, 7, 4, 2, 5]\n",
      "[6, 1, 5, 2, 0, 3, 7, 4]\n",
      "[6, 2, 0, 5, 7, 4, 1, 3]\n",
      "[6, 2, 7, 1, 4, 0, 5, 3]\n",
      "[6, 3, 1, 4, 7, 0, 2, 5]\n",
      "[6, 3, 1, 7, 5, 0, 2, 4]\n",
      "[6, 4, 2, 0, 5, 7, 1, 3]\n",
      "[7, 1, 3, 0, 6, 4, 2, 5]\n",
      "[7, 1, 4, 2, 0, 6, 3, 5]\n",
      "[7, 2, 0, 5, 1, 4, 6, 3]\n",
      "[7, 3, 0, 2, 5, 1, 6, 4]\n"
     ]
    }
   ],
   "source": [
    "N = 8\n",
    "\n",
    "# 斜めのチェック\n",
    "def check(x, col):\n",
    "    # 配置済みの行を逆順に調べる\n",
    "    for i, row in enumerate(reversed(col)):\n",
    "        if (x + i + 1 == row) or (x - i - 1 == row):\n",
    "            return False\n",
    "    return True\n",
    "\n",
    "def search(col):\n",
    "    if len(col) == N: # すべて配置できれば出力\n",
    "        print(col)\n",
    "        return\n",
    "\n",
    "    for i in range(N):\n",
    "        if i not in col: # 同じ行は使わない\n",
    "            if check(i, col):\n",
    "                col.append(i)\n",
    "                search(col)\n",
    "                col.pop()\n",
    "\n",
    "search([])\n"
   ]
  },
  {
   "cell_type": "code",
   "execution_count": 31,
   "metadata": {},
   "outputs": [
    {
     "name": "stdout",
     "output_type": "stream",
     "text": [
      "3\n",
      "a -> b\n",
      "a -> c\n",
      "b -> c\n",
      "a -> b\n",
      "c -> a\n",
      "c -> b\n",
      "a -> b\n"
     ]
    }
   ],
   "source": [
    "def hanoi(n, src, dist, via):\n",
    "    if n > 1:\n",
    "        hanoi(n - 1, src, via, dist)\n",
    "        print(src + ' -> ' + dist)\n",
    "        hanoi(n - 1, via, dist, src)\n",
    "        \n",
    "    else:\n",
    "        print(src + ' -> ' + dist)\n",
    "        \n",
    "n = int(input())\n",
    "hanoi(n, 'a', 'b', 'c')"
   ]
  },
  {
   "cell_type": "code",
   "execution_count": 33,
   "metadata": {},
   "outputs": [
    {
     "ename": "KeyboardInterrupt",
     "evalue": "",
     "output_type": "error",
     "traceback": [
      "\u001b[0;31m---------------------------------------------------------------------------\u001b[0m",
      "\u001b[0;31mKeyboardInterrupt\u001b[0m                         Traceback (most recent call last)",
      "\u001b[0;32m<ipython-input-33-cb669d711b71>\u001b[0m in \u001b[0;36m<module>\u001b[0;34m\u001b[0m\n\u001b[1;32m      9\u001b[0m                 \u001b[0msearch\u001b[0m\u001b[0;34m(\u001b[0m\u001b[0mdir_name\u001b[0m \u001b[0;34m+\u001b[0m \u001b[0mi\u001b[0m \u001b[0;34m+\u001b[0m \u001b[0;34m'/'\u001b[0m\u001b[0;34m,\u001b[0m \u001b[0mname\u001b[0m\u001b[0;34m)\u001b[0m\u001b[0;34m\u001b[0m\u001b[0;34m\u001b[0m\u001b[0m\n\u001b[1;32m     10\u001b[0m \u001b[0;34m\u001b[0m\u001b[0m\n\u001b[0;32m---> 11\u001b[0;31m \u001b[0msearch\u001b[0m\u001b[0;34m(\u001b[0m\u001b[0;34m'/'\u001b[0m\u001b[0;34m,\u001b[0m \u001b[0;34m'book'\u001b[0m\u001b[0;34m)\u001b[0m\u001b[0;34m\u001b[0m\u001b[0;34m\u001b[0m\u001b[0m\n\u001b[0m",
      "\u001b[0;32m<ipython-input-33-cb669d711b71>\u001b[0m in \u001b[0;36msearch\u001b[0;34m(dir_name, name)\u001b[0m\n\u001b[1;32m      7\u001b[0m         \u001b[0;32mif\u001b[0m \u001b[0mos\u001b[0m\u001b[0;34m.\u001b[0m\u001b[0mpath\u001b[0m\u001b[0;34m.\u001b[0m\u001b[0misdir\u001b[0m\u001b[0;34m(\u001b[0m\u001b[0mdir_name\u001b[0m \u001b[0;34m+\u001b[0m \u001b[0mi\u001b[0m\u001b[0;34m)\u001b[0m\u001b[0;34m:\u001b[0m\u001b[0;34m\u001b[0m\u001b[0;34m\u001b[0m\u001b[0m\n\u001b[1;32m      8\u001b[0m             \u001b[0;32mif\u001b[0m \u001b[0mos\u001b[0m\u001b[0;34m.\u001b[0m\u001b[0maccess\u001b[0m\u001b[0;34m(\u001b[0m\u001b[0mdir_name\u001b[0m \u001b[0;34m+\u001b[0m \u001b[0mi\u001b[0m\u001b[0;34m,\u001b[0m \u001b[0mos\u001b[0m\u001b[0;34m.\u001b[0m\u001b[0mR_OK\u001b[0m\u001b[0;34m)\u001b[0m\u001b[0;34m:\u001b[0m\u001b[0;34m\u001b[0m\u001b[0;34m\u001b[0m\u001b[0m\n\u001b[0;32m----> 9\u001b[0;31m                 \u001b[0msearch\u001b[0m\u001b[0;34m(\u001b[0m\u001b[0mdir_name\u001b[0m \u001b[0;34m+\u001b[0m \u001b[0mi\u001b[0m \u001b[0;34m+\u001b[0m \u001b[0;34m'/'\u001b[0m\u001b[0;34m,\u001b[0m \u001b[0mname\u001b[0m\u001b[0;34m)\u001b[0m\u001b[0;34m\u001b[0m\u001b[0;34m\u001b[0m\u001b[0m\n\u001b[0m\u001b[1;32m     10\u001b[0m \u001b[0;34m\u001b[0m\u001b[0m\n\u001b[1;32m     11\u001b[0m \u001b[0msearch\u001b[0m\u001b[0;34m(\u001b[0m\u001b[0;34m'/'\u001b[0m\u001b[0;34m,\u001b[0m \u001b[0;34m'book'\u001b[0m\u001b[0;34m)\u001b[0m\u001b[0;34m\u001b[0m\u001b[0;34m\u001b[0m\u001b[0m\n",
      "\u001b[0;32m<ipython-input-33-cb669d711b71>\u001b[0m in \u001b[0;36msearch\u001b[0;34m(dir_name, name)\u001b[0m\n\u001b[1;32m      7\u001b[0m         \u001b[0;32mif\u001b[0m \u001b[0mos\u001b[0m\u001b[0;34m.\u001b[0m\u001b[0mpath\u001b[0m\u001b[0;34m.\u001b[0m\u001b[0misdir\u001b[0m\u001b[0;34m(\u001b[0m\u001b[0mdir_name\u001b[0m \u001b[0;34m+\u001b[0m \u001b[0mi\u001b[0m\u001b[0;34m)\u001b[0m\u001b[0;34m:\u001b[0m\u001b[0;34m\u001b[0m\u001b[0;34m\u001b[0m\u001b[0m\n\u001b[1;32m      8\u001b[0m             \u001b[0;32mif\u001b[0m \u001b[0mos\u001b[0m\u001b[0;34m.\u001b[0m\u001b[0maccess\u001b[0m\u001b[0;34m(\u001b[0m\u001b[0mdir_name\u001b[0m \u001b[0;34m+\u001b[0m \u001b[0mi\u001b[0m\u001b[0;34m,\u001b[0m \u001b[0mos\u001b[0m\u001b[0;34m.\u001b[0m\u001b[0mR_OK\u001b[0m\u001b[0;34m)\u001b[0m\u001b[0;34m:\u001b[0m\u001b[0;34m\u001b[0m\u001b[0;34m\u001b[0m\u001b[0m\n\u001b[0;32m----> 9\u001b[0;31m                 \u001b[0msearch\u001b[0m\u001b[0;34m(\u001b[0m\u001b[0mdir_name\u001b[0m \u001b[0;34m+\u001b[0m \u001b[0mi\u001b[0m \u001b[0;34m+\u001b[0m \u001b[0;34m'/'\u001b[0m\u001b[0;34m,\u001b[0m \u001b[0mname\u001b[0m\u001b[0;34m)\u001b[0m\u001b[0;34m\u001b[0m\u001b[0;34m\u001b[0m\u001b[0m\n\u001b[0m\u001b[1;32m     10\u001b[0m \u001b[0;34m\u001b[0m\u001b[0m\n\u001b[1;32m     11\u001b[0m \u001b[0msearch\u001b[0m\u001b[0;34m(\u001b[0m\u001b[0;34m'/'\u001b[0m\u001b[0;34m,\u001b[0m \u001b[0;34m'book'\u001b[0m\u001b[0;34m)\u001b[0m\u001b[0;34m\u001b[0m\u001b[0;34m\u001b[0m\u001b[0m\n",
      "\u001b[0;32m<ipython-input-33-cb669d711b71>\u001b[0m in \u001b[0;36msearch\u001b[0;34m(dir_name, name)\u001b[0m\n\u001b[1;32m      7\u001b[0m         \u001b[0;32mif\u001b[0m \u001b[0mos\u001b[0m\u001b[0;34m.\u001b[0m\u001b[0mpath\u001b[0m\u001b[0;34m.\u001b[0m\u001b[0misdir\u001b[0m\u001b[0;34m(\u001b[0m\u001b[0mdir_name\u001b[0m \u001b[0;34m+\u001b[0m \u001b[0mi\u001b[0m\u001b[0;34m)\u001b[0m\u001b[0;34m:\u001b[0m\u001b[0;34m\u001b[0m\u001b[0;34m\u001b[0m\u001b[0m\n\u001b[1;32m      8\u001b[0m             \u001b[0;32mif\u001b[0m \u001b[0mos\u001b[0m\u001b[0;34m.\u001b[0m\u001b[0maccess\u001b[0m\u001b[0;34m(\u001b[0m\u001b[0mdir_name\u001b[0m \u001b[0;34m+\u001b[0m \u001b[0mi\u001b[0m\u001b[0;34m,\u001b[0m \u001b[0mos\u001b[0m\u001b[0;34m.\u001b[0m\u001b[0mR_OK\u001b[0m\u001b[0;34m)\u001b[0m\u001b[0;34m:\u001b[0m\u001b[0;34m\u001b[0m\u001b[0;34m\u001b[0m\u001b[0m\n\u001b[0;32m----> 9\u001b[0;31m                 \u001b[0msearch\u001b[0m\u001b[0;34m(\u001b[0m\u001b[0mdir_name\u001b[0m \u001b[0;34m+\u001b[0m \u001b[0mi\u001b[0m \u001b[0;34m+\u001b[0m \u001b[0;34m'/'\u001b[0m\u001b[0;34m,\u001b[0m \u001b[0mname\u001b[0m\u001b[0;34m)\u001b[0m\u001b[0;34m\u001b[0m\u001b[0;34m\u001b[0m\u001b[0m\n\u001b[0m\u001b[1;32m     10\u001b[0m \u001b[0;34m\u001b[0m\u001b[0m\n\u001b[1;32m     11\u001b[0m \u001b[0msearch\u001b[0m\u001b[0;34m(\u001b[0m\u001b[0;34m'/'\u001b[0m\u001b[0;34m,\u001b[0m \u001b[0;34m'book'\u001b[0m\u001b[0;34m)\u001b[0m\u001b[0;34m\u001b[0m\u001b[0;34m\u001b[0m\u001b[0m\n",
      "\u001b[0;32m<ipython-input-33-cb669d711b71>\u001b[0m in \u001b[0;36msearch\u001b[0;34m(dir_name, name)\u001b[0m\n\u001b[1;32m      7\u001b[0m         \u001b[0;32mif\u001b[0m \u001b[0mos\u001b[0m\u001b[0;34m.\u001b[0m\u001b[0mpath\u001b[0m\u001b[0;34m.\u001b[0m\u001b[0misdir\u001b[0m\u001b[0;34m(\u001b[0m\u001b[0mdir_name\u001b[0m \u001b[0;34m+\u001b[0m \u001b[0mi\u001b[0m\u001b[0;34m)\u001b[0m\u001b[0;34m:\u001b[0m\u001b[0;34m\u001b[0m\u001b[0;34m\u001b[0m\u001b[0m\n\u001b[1;32m      8\u001b[0m             \u001b[0;32mif\u001b[0m \u001b[0mos\u001b[0m\u001b[0;34m.\u001b[0m\u001b[0maccess\u001b[0m\u001b[0;34m(\u001b[0m\u001b[0mdir_name\u001b[0m \u001b[0;34m+\u001b[0m \u001b[0mi\u001b[0m\u001b[0;34m,\u001b[0m \u001b[0mos\u001b[0m\u001b[0;34m.\u001b[0m\u001b[0mR_OK\u001b[0m\u001b[0;34m)\u001b[0m\u001b[0;34m:\u001b[0m\u001b[0;34m\u001b[0m\u001b[0;34m\u001b[0m\u001b[0m\n\u001b[0;32m----> 9\u001b[0;31m                 \u001b[0msearch\u001b[0m\u001b[0;34m(\u001b[0m\u001b[0mdir_name\u001b[0m \u001b[0;34m+\u001b[0m \u001b[0mi\u001b[0m \u001b[0;34m+\u001b[0m \u001b[0;34m'/'\u001b[0m\u001b[0;34m,\u001b[0m \u001b[0mname\u001b[0m\u001b[0;34m)\u001b[0m\u001b[0;34m\u001b[0m\u001b[0;34m\u001b[0m\u001b[0m\n\u001b[0m\u001b[1;32m     10\u001b[0m \u001b[0;34m\u001b[0m\u001b[0m\n\u001b[1;32m     11\u001b[0m \u001b[0msearch\u001b[0m\u001b[0;34m(\u001b[0m\u001b[0;34m'/'\u001b[0m\u001b[0;34m,\u001b[0m \u001b[0;34m'book'\u001b[0m\u001b[0;34m)\u001b[0m\u001b[0;34m\u001b[0m\u001b[0;34m\u001b[0m\u001b[0m\n",
      "\u001b[0;32m<ipython-input-33-cb669d711b71>\u001b[0m in \u001b[0;36msearch\u001b[0;34m(dir_name, name)\u001b[0m\n\u001b[1;32m      7\u001b[0m         \u001b[0;32mif\u001b[0m \u001b[0mos\u001b[0m\u001b[0;34m.\u001b[0m\u001b[0mpath\u001b[0m\u001b[0;34m.\u001b[0m\u001b[0misdir\u001b[0m\u001b[0;34m(\u001b[0m\u001b[0mdir_name\u001b[0m \u001b[0;34m+\u001b[0m \u001b[0mi\u001b[0m\u001b[0;34m)\u001b[0m\u001b[0;34m:\u001b[0m\u001b[0;34m\u001b[0m\u001b[0;34m\u001b[0m\u001b[0m\n\u001b[1;32m      8\u001b[0m             \u001b[0;32mif\u001b[0m \u001b[0mos\u001b[0m\u001b[0;34m.\u001b[0m\u001b[0maccess\u001b[0m\u001b[0;34m(\u001b[0m\u001b[0mdir_name\u001b[0m \u001b[0;34m+\u001b[0m \u001b[0mi\u001b[0m\u001b[0;34m,\u001b[0m \u001b[0mos\u001b[0m\u001b[0;34m.\u001b[0m\u001b[0mR_OK\u001b[0m\u001b[0;34m)\u001b[0m\u001b[0;34m:\u001b[0m\u001b[0;34m\u001b[0m\u001b[0;34m\u001b[0m\u001b[0m\n\u001b[0;32m----> 9\u001b[0;31m                 \u001b[0msearch\u001b[0m\u001b[0;34m(\u001b[0m\u001b[0mdir_name\u001b[0m \u001b[0;34m+\u001b[0m \u001b[0mi\u001b[0m \u001b[0;34m+\u001b[0m \u001b[0;34m'/'\u001b[0m\u001b[0;34m,\u001b[0m \u001b[0mname\u001b[0m\u001b[0;34m)\u001b[0m\u001b[0;34m\u001b[0m\u001b[0;34m\u001b[0m\u001b[0m\n\u001b[0m\u001b[1;32m     10\u001b[0m \u001b[0;34m\u001b[0m\u001b[0m\n\u001b[1;32m     11\u001b[0m \u001b[0msearch\u001b[0m\u001b[0;34m(\u001b[0m\u001b[0;34m'/'\u001b[0m\u001b[0;34m,\u001b[0m \u001b[0;34m'book'\u001b[0m\u001b[0;34m)\u001b[0m\u001b[0;34m\u001b[0m\u001b[0;34m\u001b[0m\u001b[0m\n",
      "\u001b[0;32m<ipython-input-33-cb669d711b71>\u001b[0m in \u001b[0;36msearch\u001b[0;34m(dir_name, name)\u001b[0m\n\u001b[1;32m      7\u001b[0m         \u001b[0;32mif\u001b[0m \u001b[0mos\u001b[0m\u001b[0;34m.\u001b[0m\u001b[0mpath\u001b[0m\u001b[0;34m.\u001b[0m\u001b[0misdir\u001b[0m\u001b[0;34m(\u001b[0m\u001b[0mdir_name\u001b[0m \u001b[0;34m+\u001b[0m \u001b[0mi\u001b[0m\u001b[0;34m)\u001b[0m\u001b[0;34m:\u001b[0m\u001b[0;34m\u001b[0m\u001b[0;34m\u001b[0m\u001b[0m\n\u001b[1;32m      8\u001b[0m             \u001b[0;32mif\u001b[0m \u001b[0mos\u001b[0m\u001b[0;34m.\u001b[0m\u001b[0maccess\u001b[0m\u001b[0;34m(\u001b[0m\u001b[0mdir_name\u001b[0m \u001b[0;34m+\u001b[0m \u001b[0mi\u001b[0m\u001b[0;34m,\u001b[0m \u001b[0mos\u001b[0m\u001b[0;34m.\u001b[0m\u001b[0mR_OK\u001b[0m\u001b[0;34m)\u001b[0m\u001b[0;34m:\u001b[0m\u001b[0;34m\u001b[0m\u001b[0;34m\u001b[0m\u001b[0m\n\u001b[0;32m----> 9\u001b[0;31m                 \u001b[0msearch\u001b[0m\u001b[0;34m(\u001b[0m\u001b[0mdir_name\u001b[0m \u001b[0;34m+\u001b[0m \u001b[0mi\u001b[0m \u001b[0;34m+\u001b[0m \u001b[0;34m'/'\u001b[0m\u001b[0;34m,\u001b[0m \u001b[0mname\u001b[0m\u001b[0;34m)\u001b[0m\u001b[0;34m\u001b[0m\u001b[0;34m\u001b[0m\u001b[0m\n\u001b[0m\u001b[1;32m     10\u001b[0m \u001b[0;34m\u001b[0m\u001b[0m\n\u001b[1;32m     11\u001b[0m \u001b[0msearch\u001b[0m\u001b[0;34m(\u001b[0m\u001b[0;34m'/'\u001b[0m\u001b[0;34m,\u001b[0m \u001b[0;34m'book'\u001b[0m\u001b[0;34m)\u001b[0m\u001b[0;34m\u001b[0m\u001b[0;34m\u001b[0m\u001b[0m\n",
      "\u001b[0;32m<ipython-input-33-cb669d711b71>\u001b[0m in \u001b[0;36msearch\u001b[0;34m(dir_name, name)\u001b[0m\n\u001b[1;32m      7\u001b[0m         \u001b[0;32mif\u001b[0m \u001b[0mos\u001b[0m\u001b[0;34m.\u001b[0m\u001b[0mpath\u001b[0m\u001b[0;34m.\u001b[0m\u001b[0misdir\u001b[0m\u001b[0;34m(\u001b[0m\u001b[0mdir_name\u001b[0m \u001b[0;34m+\u001b[0m \u001b[0mi\u001b[0m\u001b[0;34m)\u001b[0m\u001b[0;34m:\u001b[0m\u001b[0;34m\u001b[0m\u001b[0;34m\u001b[0m\u001b[0m\n\u001b[1;32m      8\u001b[0m             \u001b[0;32mif\u001b[0m \u001b[0mos\u001b[0m\u001b[0;34m.\u001b[0m\u001b[0maccess\u001b[0m\u001b[0;34m(\u001b[0m\u001b[0mdir_name\u001b[0m \u001b[0;34m+\u001b[0m \u001b[0mi\u001b[0m\u001b[0;34m,\u001b[0m \u001b[0mos\u001b[0m\u001b[0;34m.\u001b[0m\u001b[0mR_OK\u001b[0m\u001b[0;34m)\u001b[0m\u001b[0;34m:\u001b[0m\u001b[0;34m\u001b[0m\u001b[0;34m\u001b[0m\u001b[0m\n\u001b[0;32m----> 9\u001b[0;31m                 \u001b[0msearch\u001b[0m\u001b[0;34m(\u001b[0m\u001b[0mdir_name\u001b[0m \u001b[0;34m+\u001b[0m \u001b[0mi\u001b[0m \u001b[0;34m+\u001b[0m \u001b[0;34m'/'\u001b[0m\u001b[0;34m,\u001b[0m \u001b[0mname\u001b[0m\u001b[0;34m)\u001b[0m\u001b[0;34m\u001b[0m\u001b[0;34m\u001b[0m\u001b[0m\n\u001b[0m\u001b[1;32m     10\u001b[0m \u001b[0;34m\u001b[0m\u001b[0m\n\u001b[1;32m     11\u001b[0m \u001b[0msearch\u001b[0m\u001b[0;34m(\u001b[0m\u001b[0;34m'/'\u001b[0m\u001b[0;34m,\u001b[0m \u001b[0;34m'book'\u001b[0m\u001b[0;34m)\u001b[0m\u001b[0;34m\u001b[0m\u001b[0;34m\u001b[0m\u001b[0m\n",
      "\u001b[0;32m<ipython-input-33-cb669d711b71>\u001b[0m in \u001b[0;36msearch\u001b[0;34m(dir_name, name)\u001b[0m\n\u001b[1;32m      2\u001b[0m \u001b[0;34m\u001b[0m\u001b[0m\n\u001b[1;32m      3\u001b[0m \u001b[0;32mdef\u001b[0m \u001b[0msearch\u001b[0m\u001b[0;34m(\u001b[0m\u001b[0mdir_name\u001b[0m\u001b[0;34m,\u001b[0m \u001b[0mname\u001b[0m\u001b[0;34m)\u001b[0m\u001b[0;34m:\u001b[0m\u001b[0;34m\u001b[0m\u001b[0;34m\u001b[0m\u001b[0m\n\u001b[0;32m----> 4\u001b[0;31m     \u001b[0;32mfor\u001b[0m \u001b[0mi\u001b[0m \u001b[0;32min\u001b[0m \u001b[0mos\u001b[0m\u001b[0;34m.\u001b[0m\u001b[0mlistdir\u001b[0m\u001b[0;34m(\u001b[0m\u001b[0mdir_name\u001b[0m\u001b[0;34m)\u001b[0m\u001b[0;34m:\u001b[0m\u001b[0;34m\u001b[0m\u001b[0;34m\u001b[0m\u001b[0m\n\u001b[0m\u001b[1;32m      5\u001b[0m         \u001b[0;32mif\u001b[0m \u001b[0mi\u001b[0m \u001b[0;34m==\u001b[0m \u001b[0mname\u001b[0m\u001b[0;34m:\u001b[0m\u001b[0;34m\u001b[0m\u001b[0;34m\u001b[0m\u001b[0m\n\u001b[1;32m      6\u001b[0m             \u001b[0mprint\u001b[0m\u001b[0;34m(\u001b[0m\u001b[0mdir_name\u001b[0m \u001b[0;34m+\u001b[0m \u001b[0mi\u001b[0m\u001b[0;34m)\u001b[0m\u001b[0;34m\u001b[0m\u001b[0;34m\u001b[0m\u001b[0m\n",
      "\u001b[0;31mKeyboardInterrupt\u001b[0m: "
     ]
    }
   ],
   "source": [
    "import os\n",
    "\n",
    "def search(dir_name, name):\n",
    "    for i in os.listdir(dir_name):\n",
    "        if i == name:\n",
    "            print(dir_name + i)\n",
    "        if os.path.isdir(dir_name + i):\n",
    "            if os.access(dir_name + i, os.R_OK):\n",
    "                search(dir_name + i + '/', name)\n",
    "                \n",
    "search('/', 'book')"
   ]
  },
  {
   "cell_type": "code",
   "execution_count": 39,
   "metadata": {},
   "outputs": [
    {
     "name": "stdout",
     "output_type": "stream",
     "text": [
      "goodfellow-book\n",
      ".DS_Store\n",
      "deep-learning-from-scratch-3\n",
      "introduction-scala\n",
      "introduction_to_ml_with_python\n",
      "pytorch-tutorial\n",
      "deep-learning-from-scratch-2\n",
      "statistical-model\n",
      "python-algorithm-book\n",
      "R_statictics\n",
      "handson-ml\n",
      "jisou_programmer\n",
      "book-r-stan-bayesian-model-intro\n",
      "Gaussian-Processes-for-Machine-Learning\n",
      "statistical-mode\n",
      "README.md\n",
      "tensorflow-deeplearning\n",
      ".gitignore\n",
      "deep-learning-with-python-notebooks\n",
      "deep-learning-from-scratch\n",
      "kagglebook-master\n",
      "pytorch_advanced\n",
      "feature-engineering-book\n",
      "hazipata\n",
      "machine-learning-essence\n",
      "Bayesian\n",
      ".git\n",
      "cibook\n",
      "python-machine-learning-book\n",
      "introduction_to_statictics\n",
      "data-analyse-100-knocks\n",
      "PRML\n",
      ".gitignore~\n",
      "awesomebook\n",
      "castella_book\n"
     ]
    }
   ],
   "source": [
    "import os\n",
    "\n",
    "queue = ['/Users/satsuki/tech-notes']\n",
    "\n",
    "while len(queue) > 0:\n",
    "    dir = queue.pop()\n",
    "    for i in os.listdir(dir):\n",
    "        print(i)\n",
    "        if i == 'book':\n",
    "            print(dir + i)\n",
    "        if os.path.isdir(dir + i):\n",
    "            if os.access(dir + i, os.R_OK):\n",
    "                queue.append(dir + i + '/')\n"
   ]
  },
  {
   "cell_type": "code",
   "execution_count": null,
   "metadata": {},
   "outputs": [],
   "source": []
  },
  {
   "cell_type": "code",
   "execution_count": null,
   "metadata": {},
   "outputs": [],
   "source": []
  }
 ],
 "metadata": {
  "kernelspec": {
   "display_name": "Python 3",
   "language": "python",
   "name": "python3"
  },
  "language_info": {
   "codemirror_mode": {
    "name": "ipython",
    "version": 3
   },
   "file_extension": ".py",
   "mimetype": "text/x-python",
   "name": "python",
   "nbconvert_exporter": "python",
   "pygments_lexer": "ipython3",
   "version": "3.6.9"
  }
 },
 "nbformat": 4,
 "nbformat_minor": 2
}

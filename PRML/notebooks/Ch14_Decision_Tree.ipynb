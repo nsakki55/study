{
 "cells": [
  {
   "cell_type": "markdown",
   "metadata": {},
   "source": [
    "# Decision tree classifier\n",
    "\n",
    "In this notebook, we implement Decision tree classifier from scratch. \n",
    "Our formulation is based on Section 14.4 of the book PRML. However, we d"
   ]
  },
  {
   "cell_type": "code",
   "execution_count": 1,
   "metadata": {
    "collapsed": true
   },
   "outputs": [],
   "source": [
    "import numpy as np\n",
    "\n",
    "import matplotlib as mpl\n",
    "from matplotlib import pyplot as plt\n",
    "%matplotlib inline\n",
    "mpl.rc(\"savefig\",dpi=100)"
   ]
  },
  {
   "cell_type": "markdown",
   "metadata": {},
   "source": [
    "## 1 Setting\n",
    "\n",
    "Here we consider classification problems. \n",
    "\n",
    "* Let $N \\in \\mathbb{N}$ be the number of training data points, \n",
    "* $d \\in \\mathbb{N}$ be the dimension of input, \n",
    "* $\\mathcal{C} = \\left\\{ 0, 1, \\dots, C-1 \\right\\}$ be the set of class labels, \n",
    "* $x_0, x_1, \\dots , x_{N-1} \\in \\mathbb{R}^d$ be the training input data, $y_0, y_1, \\dots, y_{N-1} \\in \\mathcal{C}$ be the training labels, \n",
    "$y := {}^t (y_0, \\dots, y_{N-1}) \\in \\mathcal{C}^N$."
   ]
  },
  {
   "cell_type": "markdown",
   "metadata": {},
   "source": [
    "## 2 Theory\n",
    "\n",
    "### 2.1 Expressing a partitioning of the feature space with a decision tree\n",
    "\n",
    "In a decision tree classification, we parition the input space $\\mathbb{R}^d$ into disjoint hyperrectangles. \n",
    "In each hyperrectangle, the classifier predicts a single class. \n",
    "\n",
    "The partitioning is performed by selecting a hyperrectangle $A$ (for the first parition, $A = \\mathbb{R}^d$), the axis $i \\in \\{ 0,1, \\dots, d-1 \\}$, and the threshold $\\theta$, and partition $A$ into two parts \n",
    "$$\n",
    "\\begin{align}\n",
    "    A_1 &= \\left\\{ x \\ \\middle| \\ x \\in A, \\ x_i > \\theta \\right\\} \\\\\n",
    "    A_2 &= \\left\\{ x \\ \\middle| \\ x \\in A, \\ x_i \\leq \\theta \\right\\}\n",
    "\\end{align}\n",
    "$$\n",
    "Specific ways for choosing $i$ and $\\theta$ will be given later. \n",
    "\n",
    "We express a series of successive paritionings by a tree which we call a decision tree, where each node is \n",
    "* associated with one partitioning (splitting) operation if it is not a terminal (leaf) node, and \n",
    "* associated with one hyperrectangle and one class which is the prediction of the classifier on the hyperrectangle region. \n",
    "\n",
    "For the detail, see Figures 14.5 and 14.6 in the textbook.\n",
    "\n",
    "Our task here is to choose a good way of constructing a decision tree, namely, how to partition the feature space and how to choose the predicted class for each region. \n",
    "\n",
    "Although it is written in the textbook that it is customary to \n",
    "* first grow the tree using a given criterion, and \n",
    "* then prune the tree to make the model generalize better, \n",
    "we will not implement pruning here, and imposing regularization by limitting some properties of the tree (e.g. depth of the tree). \n",
    "\n",
    "Note that scikit-learn also employs this approach."
   ]
  },
  {
   "cell_type": "markdown",
   "metadata": {},
   "source": [
    "### 2.2 Criteria for partitioning\n",
    "\n",
    "Given a hyperrectangle to be splitted, we split the region according to a given criteria as follows\n",
    "(In terms of decision tree terminology, given a non-terminal node, we add two nodes to the given node.).\n",
    "\n",
    "First, as the criteria, we can use cross entropy: \n",
    "$$\n",
    "\\begin{align}\n",
    "    Q(R_{\\tau}) := -\\sum_{c=0}^{C-1} p_{\\tau}^{c} \\log p_{\\tau}^{c}\n",
    "\\end{align}\n",
    "$$\n",
    "or Gini index:\n",
    "$$\n",
    "\\begin{align}\n",
    "    Q(R_{\\tau}) := \\sum_{c=0}^{C-1} p_{\\tau}^{c} \\left( 1 - p_{\\tau}^{c} \\right)\n",
    "\\end{align}\n",
    "$$\n",
    "where\n",
    "$$\n",
    "\\begin{align}\n",
    "    p_{\\tau}^{c} &:= \\frac{N_{\\tau}^{c}}{N_{\\tau}} \\\\\n",
    "    N_{\\tau}^{c} &:= \\left| \\left\\{  i \\in [N] \\middle| x_i \\in R_{\\tau}, \\ y_i = c  \\right\\} \\right|, \\\\\n",
    "    N_{\\tau} &:= \\sum_{c=0}^{C-1} N_{\\tau}^{c}.\n",
    "\\end{align}\n",
    "$$\n",
    "\n",
    "Suppose split the region $R_{\\tau}$ into two disjoint regions $R_{\\rho}$ and $R_{\\sigma}$. \n",
    "Then, it can be shown easily from the properties of conditional entropy (for cross-entropy) or direct calculation (Gini index) that \n",
    "$$\n",
    "\\begin{align}\n",
    "    Q(R_{\\tau}) \\geq \\frac{N_\\sigma}{N_\\tau} Q(R_{\\sigma})  + \\frac{N_\\rho}{N_\\tau} Q(R_{\\rho}) \n",
    "\\end{align}\n",
    "$$\n",
    "\n",
    "Our criteria here isto find the \"best\" splitting by which the quantity decrease the most, i.e., the splitting $\\sigma, \\rho$ with the smallest value of \n",
    "$$\n",
    "\\begin{align}\n",
    "    \\frac{N_\\sigma}{N_\\tau} Q(R_{\\sigma})  + \\frac{N_\\rho}{N_\\tau} Q(R_{\\rho}) \n",
    "\\end{align}\n",
    "$$"
   ]
  },
  {
   "cell_type": "markdown",
   "metadata": {},
   "source": [
    "### 2.3 Stopping criteria\n",
    "\n",
    "We have shown how we split a node (a hyperrectangular region). Next problem is when to stop. \n",
    "\n",
    "Here we use a simple criteria: we stop growing tree when \n",
    "* there is only one class inside the region, or \n",
    "* the number of data associated with the node is smaller than a predefined minimum value, or \n",
    "* the depth of the tree has reached a predefined maximum depth.\n",
    "\n",
    "Having raeched a leaf node, we associate the node with a predicted class, which will be determined by the most frequently appearing class in the corresponding region. \n"
   ]
  },
  {
   "cell_type": "markdown",
   "metadata": {},
   "source": [
    "## 3 From math to code\n",
    "\n",
    "In this notebook, we employ the gini index as our splitting criteria.\n",
    "\n",
    "We define two classes, namely, Node and DecisionTreeClassifier.\n",
    "Here, the Node class contains all the attributes and methods required to construct a decision tree and to make prediction accordingly.\n",
    "\n",
    "Specifically, the split method of the node recursively split the training data, and thereby construct a decision tree classifier."
   ]
  },
  {
   "cell_type": "markdown",
   "metadata": {},
   "source": [
    "## 4 Code"
   ]
  },
  {
   "cell_type": "code",
   "execution_count": 2,
   "metadata": {
    "collapsed": true
   },
   "outputs": [],
   "source": [
    "class Node:\n",
    "    '''\n",
    "    the class representing a single node in a decision tree\n",
    "    '''\n",
    "    def __init__(self, depth, X=None, y=None):\n",
    "        '''\n",
    "        isleaf : a Boolean variable indicating whether the node is a leaf node or not.\n",
    "        depth : the depth of the node\n",
    "        X : the indices of data set associated with the nodes (to be splitted by the node)\n",
    "        y : label associated with the data\n",
    "        feature : the index of axis by which the node separate data\n",
    "        thresh : the threshold $\\theta$ of splitting applied to the feature.\n",
    "        label : the most frequent class in the points associated with the node.\n",
    "        left : the left child node of the node\n",
    "        right : the right child node of the node\n",
    "        '''\n",
    "        self.isleaf = None\n",
    "        self.depth = depth\n",
    "        self.X = X\n",
    "        self.y = y\n",
    "        self.n, self.m = np.shape(self.X)\n",
    "        self.feature = None\n",
    "        self.thresh = None\n",
    "        self.label = np.argmax(np.bincount(y))\n",
    "        self.left = None\n",
    "        self.right = None\n",
    "        \n",
    "        \n",
    "    def gini(self, y):\n",
    "        '''\n",
    "        The method calculates gini index for a given label array y.\n",
    "        '''\n",
    "        Ns = np.bincount(y)\n",
    "        N = len(y)\n",
    "        return np.sum(Ns/N * (1- Ns/N))\n",
    "        \n",
    "    def calc_gini_splitted(self, y_left, y_right):\n",
    "        '''\n",
    "        The method calculates 'gini index' after the splitting, where the values is given by weighted sum of gini indices of two regions.\n",
    "        '''\n",
    "        Nl = len(y_left)\n",
    "        Nr = len(y_right)\n",
    "        N =  Nl + Nr \n",
    "        return Nl/N*self.gini(y_left) + Nr/N*self.gini(y_right)\n",
    "        \n",
    "    \n",
    "    def find_best_split(self):\n",
    "        best_feature = None\n",
    "        best_thresh = None\n",
    "        val = float(\"inf\")\n",
    "        for feature in range(self.m):\n",
    "            sort_ind = np.argsort(self.X[:, feature])\n",
    "            X_sorted = self.X[sort_ind]\n",
    "            y_sorted = self.y[sort_ind]\n",
    "            for i in range(1, self.n):\n",
    "                y_left = y_sorted[:i]\n",
    "                y_right = y_sorted[i:]\n",
    "                tmp_val = self.calc_gini_splitted(y_left, y_right)\n",
    "                if tmp_val < val:\n",
    "                    val = tmp_val\n",
    "                    best_feature = feature\n",
    "                    best_thresh = (X_sorted[i-1, feature] + X_sorted[i, feature]) / 2\n",
    "        self.feature = best_feature\n",
    "        self.thresh = best_thresh\n",
    "    \n",
    "    def split(self, max_depth, min_samples_split):\n",
    "        '''\n",
    "        The method splits data points recursively, where the splitting is based on the feature and threshold given by the result of find_best_split\n",
    "        '''\n",
    "        if len(self.y) < min_samples_split:\n",
    "            self.isleaf = True\n",
    "            return\n",
    "        elif self.depth >= max_depth:\n",
    "            self.isleaf = True\n",
    "            return\n",
    "        elif len(np.unique(self.y)) <= 1:\n",
    "            self.isleaf = True\n",
    "            return\n",
    "        else:\n",
    "            self.isleaf = False\n",
    "            self.find_best_split()\n",
    "            left_ind = np.where(self.X[:, self.feature] < self.thresh)\n",
    "            right_ind = np.where(self.X[:, self.feature] >= self.thresh)\n",
    "            self.left = Node(depth=self.depth+1, X=self.X[left_ind], y=self.y[left_ind])\n",
    "            self.right = Node(depth=self.depth+1, X=self.X[right_ind], y=self.y[right_ind])\n",
    "            self.left.split(max_depth, min_samples_split)\n",
    "            self.right.split(max_depth, min_samples_split)\n",
    "            return\n",
    "            \n",
    "    def judge(self, x):\n",
    "        '''\n",
    "        The method makes prediction as to which class the input x falls into.\n",
    "        '''\n",
    "        if self.isleaf:\n",
    "            return self.label\n",
    "        else:\n",
    "            if x[self.feature] < self.thresh:\n",
    "                return self.left.judge(x)\n",
    "            else:\n",
    "                return self.right.judge(x)"
   ]
  },
  {
   "cell_type": "code",
   "execution_count": 3,
   "metadata": {
    "collapsed": true
   },
   "outputs": [],
   "source": [
    "class DecisionTreeClassifier:\n",
    "    def __init__(self, max_depth, min_samples_split):\n",
    "        self.max_depth = max_depth\n",
    "        self.min_samples_split = min_samples_split\n",
    "    \n",
    "    def fit(self, X, y):\n",
    "        self.root_node = Node(depth=0, X=X, y=y)\n",
    "        self.root_node.split(max_depth=self.max_depth, min_samples_split=self.min_samples_split)\n",
    "        return self\n",
    "        \n",
    "    def predict(self, X):\n",
    "        y = np.zeros(len(X), dtype='int')\n",
    "        for i in range(len(X)):\n",
    "            y[i] = self.root_node.judge(X[i])\n",
    "        return y"
   ]
  },
  {
   "cell_type": "markdown",
   "metadata": {},
   "source": [
    "# 5 Experiment"
   ]
  },
  {
   "cell_type": "code",
   "execution_count": 4,
   "metadata": {
    "collapsed": true
   },
   "outputs": [],
   "source": [
    "from sklearn import datasets\n",
    "\n",
    "N = 100\n",
    "X, y = datasets.make_moons(n_samples = N, noise = 0.2)\n",
    "\n",
    "xx1 = np.linspace(np.min(X[:,0]),np.max(X[:,0]),101)\n",
    "xx2 = np.linspace(np.min(X[:,1]),np.max(X[:,1]),100)\n",
    "Xtest = np.array([[x1,x2] for x1 in xx1  for x2 in xx2])\n",
    "xxx1, xxx2 = np.meshgrid(xx1, xx2)\n",
    "\n",
    "def plot_result(clf):\n",
    "    plt.plot(X[:,0][y==1], X[:,1][y==1],\"o\",label=\"1\")\n",
    "    plt.plot(X[:,0][y==0], X[:,1][y==0],\"o\",label=\"0\")\n",
    "    plt.legend()\n",
    "    pred_val = clf.predict(Xtest)\n",
    "    pred_val_2D = np.reshape(pred_val,(len(xx1),len(xx2))).T\n",
    "    plt.pcolormesh(xxx1, xxx2, pred_val_2D)\n",
    "    plt.colorbar()\n",
    "    plt.show()"
   ]
  },
  {
   "cell_type": "code",
   "execution_count": 5,
   "metadata": {
    "scrolled": true
   },
   "outputs": [
    {
     "data": {
      "image/png": "[encoded data removed]",
      "text/plain": [
       "<Figure size 432x288 with 2 Axes>"
      ]
     },
     "metadata": {},
     "output_type": "display_data"
    }
   ],
   "source": [
    "dtc = DecisionTreeClassifier(max_depth=40, min_samples_split=2)\n",
    "dtc.fit(X, y)\n",
    "plot_result(dtc)"
   ]
  },
  {
   "cell_type": "markdown",
   "metadata": {},
   "source": [
    "We can see that decreasing the max_depth or increasing min_sample_split makes the decision tree (or its decision boundary) more regular. \n",
    "Thus, we can regularize the model by tweaking these parameters.\n",
    "\n",
    "decreasing max_depth ..."
   ]
  },
  {
   "cell_type": "code",
   "execution_count": 6,
   "metadata": {
    "scrolled": false
   },
   "outputs": [
    {
     "data": {
      "image/png": "[encoded data removed]",
      "text/plain": [
       "<Figure size 432x288 with 2 Axes>"
      ]
     },
     "metadata": {},
     "output_type": "display_data"
    }
   ],
   "source": [
    "dtc2 = DecisionTreeClassifier(max_depth=4, min_samples_split=2)\n",
    "dtc2.fit(X, y)\n",
    "plot_result(dtc2)"
   ]
  },
  {
   "cell_type": "code",
   "execution_count": 7,
   "metadata": {},
   "outputs": [
    {
     "data": {
      "image/png": "[encoded data removed]",
      "text/plain": [
       "<Figure size 432x288 with 2 Axes>"
      ]
     },
     "metadata": {},
     "output_type": "display_data"
    }
   ],
   "source": [
    "dtc3 = DecisionTreeClassifier(max_depth=2, min_samples_split=2)\n",
    "dtc3.fit(X, y)\n",
    "plot_result(dtc3)"
   ]
  },
  {
   "cell_type": "markdown",
   "metadata": {},
   "source": [
    "increasing min_samples_split ..."
   ]
  },
  {
   "cell_type": "code",
   "execution_count": 8,
   "metadata": {},
   "outputs": [
    {
     "data": {
      "image/png": "[encoded data removed]",
      "text/plain": [
       "<Figure size 432x288 with 2 Axes>"
      ]
     },
     "metadata": {},
     "output_type": "display_data"
    }
   ],
   "source": [
    "dtc4 = DecisionTreeClassifier(max_depth=40, min_samples_split=10)\n",
    "dtc4.fit(X, y)\n",
    "plot_result(dtc4)"
   ]
  },
  {
   "cell_type": "code",
   "execution_count": 9,
   "metadata": {},
   "outputs": [
    {
     "data": {
      "image/png": "[encoded data removed]",
      "text/plain": [
       "<Figure size 432x288 with 2 Axes>"
      ]
     },
     "metadata": {},
     "output_type": "display_data"
    }
   ],
   "source": [
    "dtc5 = DecisionTreeClassifier(max_depth=40, min_samples_split=20)\n",
    "dtc5.fit(X, y)\n",
    "plot_result(dtc5)"
   ]
  }
 ],
 "metadata": {
  "kernelspec": {
   "display_name": "Python 3",
   "language": "python",
   "name": "python3"
  },
  "language_info": {
   "codemirror_mode": {
    "name": "ipython",
    "version": 3
   },
   "file_extension": ".py",
   "mimetype": "text/x-python",
   "name": "python",
   "nbconvert_exporter": "python",
   "pygments_lexer": "ipython3",
   "version": "3.6.6"
  }
 },
 "nbformat": 4,
 "nbformat_minor": 2
}

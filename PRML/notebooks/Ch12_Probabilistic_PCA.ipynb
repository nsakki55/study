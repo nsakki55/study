{
 "cells": [
  {
   "cell_type": "markdown",
   "metadata": {
    "collapsed": true
   },
   "source": [
    "# probabilistic Principle Component Analysis\n",
    "\n",
    "In this notebook, we will implement　probabilistic Principle Component Analysis (PCA). \n",
    "We will work on both \n",
    "* maximum likelihood estimation, and \n",
    "* Bayesian PCA"
   ]
  },
  {
   "cell_type": "code",
   "execution_count": 1,
   "metadata": {
    "collapsed": true
   },
   "outputs": [],
   "source": [
    "import numpy as np\n",
    "import matplotlib as mpl\n",
    "from matplotlib import pyplot as plt\n",
    "from scipy.linalg import eigh\n",
    "\n",
    "%matplotlib inline\n",
    "mpl.rc(\"savefig\",dpi=100)"
   ]
  },
  {
   "cell_type": "markdown",
   "metadata": {},
   "source": [
    "# 1 Setting\n",
    "\n",
    "Here we consider a unsupervised learning problem. \n",
    "\n",
    "* Let $N \\in \\mathbb{N}$ be the number of data points, and\n",
    "* Let $d \\in \\mathbb{N}$ be the input dimension.\n",
    "* Denote input data by $x_0, x_1, \\dots , x_{N-1} \\in \\mathbb{R}^d$. \n",
    "* Denote the input data collectively by a matrix $X$, where $X_{n,i}$ is $i$-th component of $x_n$."
   ]
  },
  {
   "cell_type": "markdown",
   "metadata": {},
   "source": [
    "# 2 Theory\n",
    "\n",
    "\n",
    "## 2.1 Model\n",
    "\n",
    "\n",
    "* Let $m \\in \\mathbb{N}$ be the dimension of the latent variables.\n",
    "* Denote latent variables corresponding to input data points by $z_0, \\dots, z_{N-1} \\in \\mathbb{R}^{m}$. \n",
    "* Denote the latent variables collectively by $Z = (z_{n})_{ n \\in \\{ 0, 1, \\dots, N-1 \\} }$\n",
    "\n",
    "### 2.1.1 Maximum-likelihood approach\n",
    "\n",
    "In the maximum-likelihood approach, we consider the model\n",
    "$$\n",
    "\\begin{align}\n",
    "    &{} p\\left(X,Z \\middle| W, \\mu, \\sigma^2 \\right) = \\prod_{n=0}^{N-1} p\\left(x_n \\middle| z_n, W, \\mu, \\sigma^2 \\right)p(z_n) \\\\\n",
    "    &{} p\\left(z \\right) := \\mathcal{N}\\left(z \\middle| 0, I_m \\right) \\\\ \n",
    "    &{} p\\left(x \\middle|z, W, \\mu, \\sigma^2 \\right) := \\mathcal{N}\\left(x \\middle| W z + \\mu, \\sigma^2 I_d \\right), \n",
    "\\end{align}\n",
    "$$\n",
    "where \n",
    "* $\\mathcal{N}\\left(\\cdot \\middle| \\mu , \\Sigma \\right)$ is a gaussian probability density with mean $\\mu$ and covariance matrix $\\Sigma$.\n",
    "* $\\mu \\in \\mathbb{R}^d$, $W$ is a $d \\times m$ matrix, $\\sigma > 0$, and they are the parameters of the model.\n",
    "\n",
    "### 2.1.2 Bayesian approach\n",
    "\n",
    "In the Bayesian approach, we consider the model defined by \n",
    "$$\n",
    "\\begin{align}\n",
    "    &{} p\\left(X, Z, W \\middle| \\alpha, \\mu, \\sigma^2 \\right) := p\\left(X,Z \\middle| W, \\mu, \\sigma^2 \\right) p(W| \\alpha) \\\\\n",
    "    &{} p\\left(W \\middle| \\alpha \\right) = \\prod_{i=0}^{m-1} \\left[ \\left( \\frac{\\alpha_i}{2\\pi}\\right)^{d/2} \\exp\\left( - \\frac{1}{2} \\alpha_i w_{i}^{T} w_i \\right) \\right]\n",
    "\\end{align}\n",
    "$$\n",
    "where\n",
    "* $p\\left(X,Z \\middle| W, \\mu, \\sigma^2 \\right)$ is the same as the previous model, \n",
    "* $W = (w_0, w_1, \\dots, w_{M-1})$, and $w_{i} \\in \\mathbb{R}^d$ represents column vector."
   ]
  },
  {
   "cell_type": "markdown",
   "metadata": {},
   "source": [
    "## 2.2 Estimation\n",
    "\n",
    "### 2.2.1 Maximum likelihood estimation (analytical result)\n",
    "\n",
    "In the maximum-likelihood approach, our goal is to obtain $\\mu, W, \\sigma^2$ that maximizes the likelihood function\n",
    "$$\n",
    "\\begin{align}\n",
    "    p\\left(X \\middle| \\mu, W, \\sigma^2 \\right) := \\int  p\\left(X,Z \\middle| \\mu, W, \\sigma^2 \\right) dZ, \n",
    "\\end{align}\n",
    "$$\n",
    "whose form is shown in equation (12.43) of the book. \n",
    "\n",
    "An analytical solution to this maximization problem is given by\n",
    "\n",
    "$$\n",
    "\\begin{align}\n",
    "    \\mu &= \\bar{x} := \\frac{1}{N} \\sum_{n=0}^{N-1}  x_n \\\\\n",
    "    W &= U_m \\left(L_m - \\sigma^2 I \\right)^{1/2} \\\\\n",
    "    \\sigma^2 &= \\frac{1}{d-m} \\sum_{i=m}^{d-1} \\lambda_i, \n",
    "\\end{align}\n",
    "$$\n",
    "where \n",
    "* $U_m$ is a $d \\times m$ matrix, whose columns are eigenvectors of the data covariance matrix $S$ (whose definition is given below), that correspond to the largest $m$ eigenvalues.\n",
    "* $\\lambda_i$ are eigenvalues of $S$.\n",
    "* $L_m$ is a $m \\times m$ diagonal matrix, whose diagonal elements are $\\lambda_i$ corresponding to the eigenvectors listed as columns of $U_m$.\n",
    "\n",
    "$S$ is defined by\n",
    "$$\n",
    "\\begin{align}\n",
    "    S := \\frac{1}{N} \\sum_{n=0}^{N-1} (x_n - \\bar{x}) (x_n - \\bar{x})^T, \n",
    "\\end{align}\n",
    "$$"
   ]
  },
  {
   "cell_type": "markdown",
   "metadata": {},
   "source": [
    "\n",
    "### 2.2.2 Maximum likelihood estimation (EM algorithm)\n",
    "\n",
    "Here, instead of analytical solution, we take EM algorithm approach\n",
    "The benefit of this approach is given in Section 12.2.2 of the book. \n",
    "\n",
    "First, maximization with respect to $\\mu$ can be easily done, whose result is \n",
    "$$\n",
    "\\begin{align}\n",
    "    \\mu = \\bar{x} := \\frac{1}{N} \\sum_{n=0}^{N-1}x_n. \n",
    "\\end{align}\n",
    "$$\n",
    "In this section, we will henceforth fix $\\mu$ to be this value.\n",
    "\n",
    "In EM algorithm for probabilistic PCA, we update parameters $W$ and $\\sigma^2$ as follows\n",
    "$$\n",
    "\\begin{align}\n",
    "    & W_{new} = \\left[ \\sum_{n=0}^{N-1} (x_n - \\bar{x}) \\mathbb{E}_{old}[z_n]^T \\right] \n",
    "        \\left[ \\sum_{n=0}^{N-1} \\mathbb{E}_{old}[z_n z_{n}^{T}]  \\right]^{-1} \\\\\n",
    "    & \\sigma^{2}_{new} = \\frac{1}{ND}\\sum_{n=0}^{N-1} \n",
    "        \\left[ \\| x_n - \\bar{x} \\|^2 - 2 \\mathbb{E}_{old}\\left[ z_n\\right]^T W_{new}^{T} (x_n-\\bar{x})\n",
    "        {} + \\mathrm{Tr}\\left( \\mathbb{E}_{old}\\left[ z_n z_{n}^{T} \\right] W_{new}^{T} W_{new} \\right) \\right] \\\\\n",
    "    & \\mathbb{E}_{old}\\left[ z_n \\right] := M_{old}^{-1} W_{old}^{T} \\left( x_n - \\bar{x} \\right) \\\\\n",
    "    & \\mathbb{E}_{old}\\left[ z_n z_{n}^{T} \\right] := \\sigma_{old}^{2} M_{old}^{-1} + \n",
    "        \\mathbb{E}_{old}\\left[ z_n \\right] \\mathbb{E}_{old}\\left[ z_n \\right]^T \\\\\n",
    "    & M_{old} := W_{old}^{T} W_{old} + \\sigma_{old}^{2} I_M\n",
    "\\end{align}\n",
    "$$"
   ]
  },
  {
   "cell_type": "markdown",
   "metadata": {},
   "source": [
    "### 2.2.3 Bayesian estimation\n",
    "\n",
    "Our goal here is to obtain $\\mu, \\alpha, \\sigma^2$ that maximizes the marginal likelihood function\n",
    "$$\n",
    "\\begin{align}\n",
    "    p\\left(X \\middle| \\alpha, \\mu, \\sigma^2 \\right) &:= \\int  p\\left(X,Z \\middle| W, \\mu, \\sigma^2 \\right) p\\left(W \\middle| \\alpha \\right) dW dZ \\\\\n",
    "    &= \\int  p\\left(X \\middle| W, \\mu, \\sigma^2 \\right) p\\left(W \\middle| \\alpha \\right) dW \n",
    "\\end{align}\n",
    "$$\n",
    "\n",
    "The maximization with respect to $\\mu$ can be easily done, whose result is\n",
    "$$\n",
    "\\begin{align}\n",
    "    \\mu = \\bar{x} := \\frac{1}{N} \\sum_{n=0}^{N-1}x_n. \n",
    "\\end{align}\n",
    "$$\n",
    "In this section, we will henceforth fix $\\mu$ to be this value.\n",
    "\n",
    "The integral is not analytically tractable, and hence we resort to approximation. By applying Laplace approximation to the integral above, and neglecting the factor coming from hessian (Note : I am not sure under what kind of condition the latter approximation can be justified. ), the problem can be reduced to obtain $W, \\alpha, \\sigma^2$ that maximize\n",
    "$$\n",
    "\\begin{align}\n",
    "    & \\frac{d}{2} \\sum_{i=0}^{m-1} \\log \\alpha_i + \\log p\\left( X \\middle| W, \\mu, \\sigma^2 \\right)\n",
    "        {} - \\frac{1}{2} \\sum_{i=0}^{m-1} \\alpha_i \\| w_i \\|^2\n",
    "\\end{align}\n",
    "$$\n",
    "\n",
    "The maximization is done iteratively, and the update equations are as follows\n",
    "$$\n",
    "\\begin{align}\n",
    "    & W_{new} = \\left[ \\sum_{n=0}^{N-1} (x_n - \\bar{x}) \\mathbb{E}_{old}[z_n]^T \\right] \n",
    "        \\left[ \\sum_{n=0}^{N-1} \\mathbb{E}_{old}[z_n z_{n}^{T}]  + \\sigma_{old}^{2} A \\right]^{-1} \\\\\n",
    "    & A = \\mathrm{diag}\\left( \\alpha_{i, old} \\right) \\\\\n",
    "    & \\sigma^{2}_{new} = \\frac{1}{ND}\\sum_{n=0}^{N-1} \n",
    "        \\left[ \\| x_n - \\bar{x} \\|^2 - 2 \\mathbb{E}_{old}\\left[ z_n\\right]^T W_{new}^{T} (x_n-\\bar{x})\n",
    "        {} + \\mathrm{Tr}\\left( \\mathbb{E}_{old}\\left[ z_n z_{n}^{T} \\right] W_{new}^{T} W_{new} \\right) \\right] \\\\\n",
    "    & \\mathbb{E}_{old}\\left[ z_n \\right] := M_{old}^{-1} W_{old}^{T} \\left( x_n - \\bar{x} \\right) \\\\\n",
    "    & \\mathbb{E}_{old}\\left[ z_n z_{n}^{T} \\right] := \\sigma_{old}^{2} M_{old}^{-1} + \n",
    "        \\mathbb{E}_{old}\\left[ z_n \\right] \\mathbb{E}_{old}\\left[ z_n \\right]^T \\\\\n",
    "    & M_{old} := W_{old}^{T} W_{old} + \\sigma_{old}^{2} I_m \\\\\n",
    "    & \\alpha_{i,new} = \\frac{d}{\\|w_{i,new}\\|^2}\n",
    "\\end{align}\n",
    "$$\n",
    "\n",
    "(Note : As far as I understand, the process is not an EM algorithm, because it contains the re-estimation of $\\alpha$. Below, I use equations shown in the book, but I have not understood theoretical justifications of this iterative optimization process. )"
   ]
  },
  {
   "cell_type": "markdown",
   "metadata": {},
   "source": [
    "## 2.3 Transformation\n",
    "\n",
    "Suppose we have trained our PCA model. \n",
    "Let us consider a new data $\\xi$, whose corresponding latent variabl we denote $\\zeta$. \n",
    "\n",
    "The model can be used in two ways: \n",
    "* given the observation $\\xi$ and transform it to the corresponding latent variable $\\zeta$, or\n",
    "* given the latent variable $\\zeta$, inverse transform it to observable $\\xi$.\n",
    "\n",
    "Because the model is probabilistic, the output will be a probability distribution, which is given below\n",
    "$$\n",
    "\\begin{align}\n",
    "    &{} p\\left( \\zeta \\middle| \\xi, X, W, \\mu, \\sigma^2 \\right) =  \\mathcal{N}\\left( \\zeta \\middle| M^{-1} W^T (\\xi - \\mu), \\sigma^2 M^{-1} \\right)\\\\\n",
    "    &{} p\\left( \\xi \\middle| z, W, \\mu, \\sigma^2 \\right) = \\mathcal{N}\\left( \\xi \\middle| W\\zeta + \\mu, \\sigma^2 I_d \\right) , \n",
    "\\end{align}\n",
    "$$\n",
    "where $M:= W^T W + \\sigma^2 I_m$.\n",
    "\n",
    "NOTE : In Bayesian case, in principle we have to integrating out $W$, but this is intractable. I simply replaced the posterior distribution of $W$ by a delta function peaked at the value of $W$ which gives the maximum of the posterior distribution (c.f. Laplace approximation in the previous section.). Under this approximation, the above result applies to both maximum-likelihood approach and Bayesian approach."
   ]
  },
  {
   "cell_type": "markdown",
   "metadata": {},
   "source": [
    "# 3 From math to code\n",
    "\n",
    "We define two classes, namely, `MLPCA` class and `BPCA` class, where the former performs conventional PCA (or equivalently, maximum likelihood estimation), and the latter implements the Bayesian PCA.\n",
    "\n",
    "We first define `MLPCA` class, and then define `BPCA`, which inherits from `MLPCA`.\n",
    "\n",
    "\n",
    "## 3.1 `MLPCA` class\n",
    "\n",
    "### 3.1.1 Properties and methods\n",
    "\n",
    "We let `MLPCA` have the following properties and methods:\n",
    "\n",
    "#### Properties \n",
    "\n",
    "* `m` : positive integer representing $m$, i.e., the dimension of the latent variables\n",
    "* `d` : positive integer representing $d$, i.e., the dimension of the observable\n",
    "* `W` : 2D numpy array representing $W$\n",
    "* `mu` : 1D numpy array representing $\\mu$\n",
    "* `variance` : positive float representing $\\sigma^2$\n",
    "\n",
    "\n",
    "#### Methods\n",
    "\n",
    "* `_fit_analytical` : performing the fitting analytically.\n",
    "* `_init_params` : initializing model parameters `W`, `variance`, depending on the input `X`.\n",
    "* `_estep` : calculating and returning $\\mathbb{E}_{old}\\left[ z_n \\right]$ and $\\sum_{n=0}^{N-1} \\mathbb{E}_{old}\\left[ z_n z_{n}^{T} \\right]$\n",
    "* `_mstep` : updating $W$ and $\\sigma^2$ using $\\mathbb{E}_{old}\\left[ z_n \\right]$ and $\\sum_{n=0}^{N-1} \\mathbb{E}_{old}\\left[ z_n z_{n}^{T} \\right]$\n",
    "* `_fit_em` : performing the fitting by EM algorithm.\n",
    "* `fit` : performing fitting either by analytical solution or EM algorithm.\n",
    "* `transform` : transform a given dataset into the latent space.\n",
    "* `inverse_transform` : inverse transofmr a given dataset in the latent space to the original space.\n",
    "\n",
    "### 3.1.2 Code"
   ]
  },
  {
   "cell_type": "code",
   "execution_count": 2,
   "metadata": {
    "collapsed": true
   },
   "outputs": [],
   "source": [
    "class MLPCA: \n",
    "    def __init__(self, m):\n",
    "        self.m = m\n",
    "        self.d = None\n",
    "        self.W = None\n",
    "        self.mu = None\n",
    "        self.variance = None\n",
    "        \n",
    "    def _fit_analytical(self, X):\n",
    "        self.d = len(X[0])\n",
    "        self.mu = np.mean(X, axis=0)\n",
    "        S = np.cov(X, rowvar=False, ddof=0)\n",
    "        eigenvals, eigenvecs = eigh(S)\n",
    "        ind = np.argsort(eigenvals)[::-1][0:self.m] # sort the eigenvalues in decreasing order, and choose the largest m\n",
    "        eigenvals_largest = eigenvals[ind]\n",
    "        eigenvecs_largest = eigenvecs[:, ind]\n",
    "        if self.d != self.m:\n",
    "            self.variance = 1/(self.d - self.m) * np.sum(np.sort(eigenvals)[::-1][self.m:])\n",
    "        else:\n",
    "            self.variance = 0.0\n",
    "        self.W = eigenvecs_largest @ np.diag( np.sqrt(eigenvals_largest - self.variance) )\n",
    "        \n",
    "        \n",
    "        \n",
    "    def _init_params(self, X, W=None, variance=None):\n",
    "        '''\n",
    "        Method for initializing model parameterse based on the size and variance of the input data array. \n",
    "        \n",
    "        Parameters\n",
    "        ----------\n",
    "        X : 2D numpy array\n",
    "            2D numpy array representing input data, where X[n, i] represents the i-th element of n-th point in X.\n",
    "        W : 2D numpy array, default None\n",
    "            2D numpy array representing the initial value of parameter W\n",
    "        variance : positive float, default is None\n",
    "            positive float representing the initial value of parameter variance\n",
    "        '''\n",
    "        self.d = len(X[0])\n",
    "        self.mu = np.mean(X, axis=0)\n",
    "        self.W = np.eye(self.d)[:,:self.m] if (W is None) else W # probably there are better initializations \n",
    "        self.variance = 1.0 if (variance is None) else variance\n",
    "        \n",
    "    def _estep(self, X):\n",
    "        '''\n",
    "        Method for performing E-step, returning \n",
    "        $\\mathbb{E}_{old}\\left[ z_n \\right]$ and $\\sum_{n=0}^{N-1} \\mathbb{E}_{old}\\left[ z_n z_{n}^{T} \\right]$\n",
    "        \n",
    "        Parameters\n",
    "        ----------\n",
    "        X : 2D numpy array\n",
    "            2D numpy array representing input data, where X[n, i] represents the i-th element of n-th point in X.\n",
    "            \n",
    "        Returns\n",
    "        ----------\n",
    "        Ez : 2D numpy array\n",
    "            (len(X), self.m) array, where Ez[n, i] = $\\mathbb{E}_{old}[z_n]_i$\n",
    "        sumEzz : 2D numpy array\n",
    "            (self.m, self.m) array, where sumEzz[i,j] = $\\sum_{n=0}^{N-1} \\mathbb{E}_{old}\\left[z_n z_{n}^{T} \\right]_{i,j}$\n",
    "        '''\n",
    "        Minv = np.linalg.inv( (self.W).T @ self.W + self.variance*np.eye(self.m) ) # we only use inverse of the matrix M\n",
    "        dX = X - self.mu\n",
    "        Ez = dX @ self.W @ (Minv.T)\n",
    "        sumEzz = len(X) * self.variance * Minv + (Ez.T) @ Ez\n",
    "        return Ez, sumEzz\n",
    "        \n",
    "        \n",
    "    def _mstep(self, X, Ez, sumEzz):\n",
    "        '''\n",
    "        Method for performing M-step, and updating model parameters\n",
    "        \n",
    "        Parameters\n",
    "        ----------\n",
    "        X : 2D numpy array\n",
    "            2D numpy array representing input data, where X[n, i] represents the i-th element of n-th point in X.\n",
    "        Ez : 2D numpy array\n",
    "            (len(X), self.m) array, where Ez[n, i] = $\\mathbb{E}_{old}[z_n]_i$\n",
    "        sumEzz : 2D numpy array\n",
    "            (self.m, self.m) array, where sumEzz[i,j] = $\\sum_{n=0}^{N-1} \\mathbb{E}_{old}\\left[z_n z_{n}^{T} \\right]_{i,j}$\n",
    "        '''\n",
    "        dX = X - self.mu\n",
    "        self.W = ((dX.T) @ Ez) @  np.linalg.inv(sumEzz)\n",
    "        self.variance = ( np.linalg.norm(dX)**2 - 2*np.trace(Ez @ (self.W.T) @ (dX.T) ) + np.trace( sumEzz @ self.W.T @ self.W ) )  /(len(X)*self.d)\n",
    "        \n",
    "                \n",
    "    def _fit_em(self, X, max_iter=100, tol=1e-4, disp_message=False, W0=None, variance0=None):\n",
    "        '''\n",
    "        Method for performing fitting by EM algorithm\n",
    "        \n",
    "        Parameters\n",
    "        ----------\n",
    "        X : 2D numpy array\n",
    "            2D numpy array representing input data, where X[n, i] represents the i-th element of n-th point in X.\n",
    "        max_iter : positive int\n",
    "            The maximum number of iteration allowed\n",
    "        tol : positive float\n",
    "            Threshold for termination of iteration. \n",
    "            Concretely, the iteration is stopped when the change of W and variance is smaller than tol.\n",
    "        disp_message : Boolean, default False\n",
    "            If True, the number of iteration and convergence will displayed.\n",
    "        W0 : 2D numpy array, default None\n",
    "            2D numpy array representing the initial value of parameter W\n",
    "        variance0 : positive float, default is None\n",
    "            positive float representing the initial value of parameter variance\n",
    "        '''\n",
    "        self._init_params(X, W=W0, variance=variance0)\n",
    "            \n",
    "        for i in range(max_iter):\n",
    "            Wold = self.W\n",
    "            varianceold = self.variance\n",
    "            \n",
    "            Ez, sumEzz = self._estep(X)\n",
    "            self._mstep(X, Ez, sumEzz)\n",
    "    \n",
    "            err = np.sqrt(np.linalg.norm(self.W - Wold)**2 + (self.variance - varianceold)**2)\n",
    "            if err < tol:\n",
    "                break\n",
    "                \n",
    "        if disp_message:\n",
    "            print(f\"n_iter : {i}\")\n",
    "            print(f\"converged : {i < max_iter - 1}\")\n",
    "\n",
    "    def fit(self, X, method='analytical', **kwargs):\n",
    "        '''\n",
    "        Method for performing fitting\n",
    "        \n",
    "        Parameters\n",
    "        ----------\n",
    "        X : 2D numpy array\n",
    "            2D numpy array representing input data, where X[n, i] represents the i-th element of n-th point in X.\n",
    "        method : str, either 'analytical' or 'em'\n",
    "            If method == 'analytical', _fit_analytical is invoked, while if method == 'em', _fit_em is invoked.\n",
    "        '''\n",
    "        if method == 'analytical':\n",
    "            self._fit_analytical(X)\n",
    "        elif method == 'em':\n",
    "            self._fit_em(X, **kwargs)\n",
    "        else:\n",
    "            \"Method should be either `analytical` or `em`.\"\n",
    "        \n",
    "            \n",
    "    def transform(self, X, return_cov=False):\n",
    "        '''\n",
    "        Method for performing transformation, transforming observables to latent variables\n",
    "        \n",
    "        Parameters\n",
    "        ----------\n",
    "        X : 2D numpy array\n",
    "            (len(X), self.d) numpy array representing input data, where X[n, i] represents the i-th element of n-th point in X.\n",
    "        return_cov : Boolean, default False\n",
    "            If True, the covariance matrix of the predictive distribution is also returned\n",
    "            \n",
    "        Returns\n",
    "        ----------\n",
    "        Z : 2D numpy array\n",
    "            (len(X), self.m) array representing the expectation values of the latent variables \n",
    "            corresponding to the input observable X\n",
    "        cov : 2D numpy array, returned only if return_cov is True\n",
    "            (self.m, self.m) array representing the covariance matrix for the predictive distribution \n",
    "            Concretely, it corresponds to $\\sigma^2 M^{-1}$\n",
    "        '''\n",
    "        Minv = np.linalg.inv( (self.W).T @ self.W + self.variance*np.eye(self.m) ) # we only use inverse of the matrix M\n",
    "        dX = X - self.mu\n",
    "        Z = dX @ self.W @ (Minv.T)\n",
    "        if return_cov:\n",
    "            cov = self.variance * Minv\n",
    "            return Z, cov\n",
    "        else:\n",
    "            return Z\n",
    "           \n",
    "    def inverse_transform(self, Z, return_cov=False):\n",
    "        '''\n",
    "        Method for performing inverse transformation, transforming latent variables to observables\n",
    "        \n",
    "        Parameters\n",
    "        ----------\n",
    "        Z : 2D numpy array\n",
    "            (len(Z), self.m) numpy array representing latent variables\n",
    "        return_cov : Boolean, default False\n",
    "            If True, the covariance matrix of the predictive distribution is also returned\n",
    "            \n",
    "        Returns\n",
    "        ----------\n",
    "        X : 2D numpy array\n",
    "            (len(Z), self.d) numpy array representing input data, where X[n, i] represents the i-th element of n-th point in X.\n",
    "        \n",
    "        cov : 2D numpy array, returned only if return_cov is True\n",
    "            (self.d, self.d) array representing the covariance matrix for the predictive distribution \n",
    "            Concretely, it corresponds to $\\sigma^2 I_d$\n",
    "        '''\n",
    "        X = Z @ (self.W.T) + self.mu\n",
    "        if return_cov:\n",
    "            cov = self.variance * np.eye(self.d)\n",
    "            return X, cov\n",
    "        else:\n",
    "            return X\n",
    "        "
   ]
  },
  {
   "cell_type": "markdown",
   "metadata": {},
   "source": [
    "## 3.2 `BPCA` class\n",
    "\n",
    "### 3.2.1 Properties and methods\n",
    "\n",
    "We let `MLPCA` have the following properties and methods:\n",
    "\n",
    "#### Properties\n",
    "\n",
    "In addition to the properties the `MLPCA` class has, we let `BPCA` has the following property.\n",
    "\n",
    "* `alpha` : positive float representing $\\alpha$\n",
    "\n",
    "#### Methods\n",
    "\n",
    "The methods `_init_params`, `_m_step` and `fit` will be overridden appropriately, and we add the following method\n",
    "* `_calc_alpha` : updating $\\alpha$\n",
    "\n",
    "### 3.2.2 Code"
   ]
  },
  {
   "cell_type": "code",
   "execution_count": 3,
   "metadata": {
    "collapsed": true
   },
   "outputs": [],
   "source": [
    "class BPCA(MLPCA): \n",
    "    def __init__(self, m):\n",
    "        super().__init__(m)\n",
    "        self.alpha = None\n",
    "        \n",
    "    def _init_params(self, X, W=None, variance=None, alpha=None):\n",
    "        '''\n",
    "        Method for initializing model parameterse based on the size and variance of the input data array. \n",
    "        \n",
    "        Parameters\n",
    "        ----------\n",
    "        X : 2D numpy array\n",
    "            2D numpy array representing input data, where X[n, i] represents the i-th element of n-th point in X.\n",
    "        W : 2D numpy array, default None\n",
    "            2D numpy array representing the initial value of parameter W\n",
    "        variance : positive float, default is None\n",
    "            positive float representing the initial value of parameter variance\n",
    "        alpha : positive float, default is None\n",
    "            positive float representing the initial value of alpha\n",
    "        '''\n",
    "        super()._init_params(X, W, variance)\n",
    "        self.alpha =  np.ones(self.m) if (alpha is None) else alpha\n",
    "        \n",
    "        \n",
    "    def _mstep(self, X, Ez, sumEzz):\n",
    "        '''\n",
    "        Method for performing M-step, and updating model parameters\n",
    "        \n",
    "        Parameters\n",
    "        ----------\n",
    "        X : 2D numpy array\n",
    "            2D numpy array representing input data, where X[n, i] represents the i-th element of n-th point in X.\n",
    "        Ez : 2D numpy array\n",
    "            (len(X), self.m) array, where Ez[n, i] = $\\mathbb{E}_{old}[z_n]_i$\n",
    "        sumEzz : 2D numpy array\n",
    "            (self.m, self.m) array, where sumEzz[i,j] = $\\sum_{n=0}^{N-1} \\mathbb{E}_{old}\\left[z_n z_{n}^{T} \\right]_{i,j}$\n",
    "        '''\n",
    "        dX = X - self.mu\n",
    "        self.W = ((dX.T) @ Ez) @  np.linalg.inv(sumEzz + self.variance * np.diag(self.alpha))\n",
    "        self.variance = ( np.linalg.norm(dX)**2 - 2*np.trace(Ez @ (self.W.T) @ (dX.T) ) + np.trace( sumEzz @ self.W.T @ self.W ) )  /(len(X)*self.d)\n",
    "        \n",
    "        \n",
    "    def _calc_alpha(self):\n",
    "        '''\n",
    "        Method for updating the value of alpha for Bayesian approach\n",
    "        '''\n",
    "        wnorms = np.linalg.norm(self.W, axis=0)**2\n",
    "        for i in range(self.m):\n",
    "            self.alpha[i] = self.d/wnorms[i] if (wnorms[i] != 0) else np.inf\n",
    "        \n",
    "    def fit(self, X, max_iter=100, tol=1e-4, disp_message=False, W0=None, variance0=None, alpha0=None):\n",
    "        '''\n",
    "        Method for performing fitting\n",
    "        \n",
    "        Parameters\n",
    "        ----------\n",
    "        X : 2D numpy array\n",
    "            2D numpy array representing input data, where X[n, i] represents the i-th element of n-th point in X.\n",
    "        max_iter : positive int\n",
    "            The maximum number of iteration allowed\n",
    "        tol : positive float\n",
    "            Threshold for termination of iteration. \n",
    "            Concretely, the iteration is stopped when the change of W and variance is smaller than tol.\n",
    "        disp_message : Boolean, default False\n",
    "            If True, the number of iteration and convergence will displayed.\n",
    "        W0 : 2D numpy array, default None\n",
    "            2D numpy array representing the initial value of parameter W\n",
    "        variance0 : positive float, default is None\n",
    "            positive float representing the initial value of parameter variance\n",
    "        alpha0 : positive float, default is None\n",
    "            positive float representing the initial value of alpha   \n",
    "        '''\n",
    "        self._init_params(X, W=W0, variance=variance0, alpha=alpha0)\n",
    "            \n",
    "        for i in range(max_iter):\n",
    "            Wold = self.W\n",
    "            varianceold = self.variance\n",
    "            \n",
    "            Ez, sumEzz = self._estep(X)\n",
    "            self._mstep(X, Ez, sumEzz)\n",
    "            self._calc_alpha()\n",
    "            # convergence check. because we expect some components of alpha to be infinite, alpha is excluded from the convergence criterion\n",
    "            err = np.sqrt(np.linalg.norm(self.W - Wold)**2 + (self.variance - varianceold)**2)\n",
    "            if err < tol:\n",
    "                break\n",
    "                \n",
    "        if disp_message:\n",
    "            print(f\"n_iter : {i}\")\n",
    "            print(f\"converged : {i < max_iter - 1}\")"
   ]
  },
  {
   "cell_type": "markdown",
   "metadata": {},
   "source": [
    "# 4 Experiment\n",
    "\n",
    "In this section, we shall apply our `MLPCA` and `BPCA` classes to several data.\n",
    "\n",
    "## 4.1 two dimensional Gaussian\n",
    "\n",
    "First, we consider toy example of two dimensional Gaussian distributed data."
   ]
  },
  {
   "cell_type": "code",
   "execution_count": 4,
   "metadata": {
    "scrolled": true
   },
   "outputs": [
    {
     "data": {
      "image/png": "[encoded data removed]",
      "text/plain": [
       "<Figure size 432x288 with 1 Axes>"
      ]
     },
     "metadata": {},
     "output_type": "display_data"
    }
   ],
   "source": [
    "rnd = np.random.RandomState(0)\n",
    "X = rnd.multivariate_normal(np.zeros(2), cov = np.array([[2,1],[1,2]]), size=200)\n",
    "plt.plot(X[:,0],X[:,1],'.')\n",
    "plt.show()"
   ]
  },
  {
   "cell_type": "markdown",
   "metadata": {},
   "source": [
    "Because the data is two-dimensional, the only meaningful choice of the latent variables dimension is $m=1$.\n",
    "\n",
    "We perform the three methods of PCA, and compare the results in two ways: \n",
    "\n",
    "1. $C$ matrix, which governs the predictive distribution, and defined by\n",
    "$$\n",
    "\\begin{align}\n",
    "    C := W W^T + \\sigma^2 I_d. \n",
    "\\end{align}\n",
    "$$\n",
    "Note that $W$ is not unique in maximum-likelihood estimation, and hence directly comparing $W$ is not meaningful.\n",
    "2. Graphically looking at generated samples"
   ]
  },
  {
   "cell_type": "code",
   "execution_count": 5,
   "metadata": {},
   "outputs": [
    {
     "name": "stdout",
     "output_type": "stream",
     "text": [
      "n_iter : 32\n",
      "converged : True\n",
      "n_iter : 32\n",
      "converged : True\n"
     ]
    }
   ],
   "source": [
    "max_iter = 1000\n",
    "\n",
    "mlpca1 = MLPCA(m=1)\n",
    "mlpca1.fit(X=X, method='analytical')\n",
    "\n",
    "mlpca2 = MLPCA(m=1)\n",
    "mlpca2.fit(X=X, method='em', disp_message=True, tol=1e-6, max_iter=max_iter)\n",
    "\n",
    "bpca = BPCA(m=1)\n",
    "bpca.fit(X=X, disp_message=True, tol=1e-6, max_iter=max_iter)"
   ]
  },
  {
   "cell_type": "code",
   "execution_count": 6,
   "metadata": {
    "collapsed": true
   },
   "outputs": [],
   "source": [
    "def calc_cmat(pca):\n",
    "    W = pca.W\n",
    "    variance = pca.variance\n",
    "    d = len(W)\n",
    "    return W @ (W.T) + variance*np.eye(d)"
   ]
  },
  {
   "cell_type": "code",
   "execution_count": 7,
   "metadata": {
    "scrolled": true
   },
   "outputs": [
    {
     "name": "stdout",
     "output_type": "stream",
     "text": [
      "2.6651931942223766e-06\n",
      "0.04384689691566826\n"
     ]
    }
   ],
   "source": [
    "C1 = calc_cmat(mlpca1)\n",
    "C2 = calc_cmat(mlpca2)\n",
    "C3 = calc_cmat(bpca)\n",
    "\n",
    "print(np.linalg.norm(C1 - C2))\n",
    "print(np.linalg.norm(C1 - C3))"
   ]
  },
  {
   "cell_type": "markdown",
   "metadata": {},
   "source": [
    "We can see that the difference between the two maximum-likelihood approaches are almost negligible, as expected. "
   ]
  },
  {
   "cell_type": "code",
   "execution_count": 8,
   "metadata": {
    "collapsed": true
   },
   "outputs": [],
   "source": [
    "def plot_2dim_pca(ax, pca, X):\n",
    "    N = len(X)\n",
    "    \n",
    "    rnd = np.random.RandomState(1)\n",
    "    Z = rnd.multivariate_normal(np.zeros(1), cov=np.eye(1), size=N)\n",
    "    X_mean, X_cov = pca.inverse_transform(Z=Z, return_cov=True)\n",
    "    rnd = np.random.RandomState(2)\n",
    "    noise = rnd.multivariate_normal(np.zeros(2), cov=X_cov, size=N)\n",
    "    Xsample = X_mean + noise\n",
    "\n",
    "    ax.plot(X[:, 0], X[:, 1], 'o', label='original data')\n",
    "    ax.plot(X_mean[:,0], X_mean[:,1], label='low dimensional subset')\n",
    "    ax.plot(Xsample[:,0], Xsample[:,1], '.', label='generated samples')\n",
    "    ax.legend()"
   ]
  },
  {
   "cell_type": "code",
   "execution_count": 9,
   "metadata": {},
   "outputs": [
    {
     "data": {
      "image/png": "[encoded data removed]",
      "text/plain": [
       "<Figure size 1296x432 with 3 Axes>"
      ]
     },
     "metadata": {},
     "output_type": "display_data"
    }
   ],
   "source": [
    "fig, axes = plt.subplots(1, 3, figsize=(18, 6))\n",
    "plot_2dim_pca(axes[0], mlpca1, X)\n",
    "plot_2dim_pca(axes[1], mlpca2, X)\n",
    "plot_2dim_pca(axes[2], bpca, X)"
   ]
  },
  {
   "cell_type": "markdown",
   "metadata": {},
   "source": [
    "It seems that there are no visible differences between these three results, in terms of the generated data."
   ]
  },
  {
   "cell_type": "markdown",
   "metadata": {},
   "source": [
    "## 4.2 High dimensional data\n",
    "\n",
    "Next, to see the benefit of the Bayesian approach, we shall consider a higher dimensional data.\n",
    "\n",
    "More speicfically, we assume that the data is 10 dimensional, and obey a Gaussian distribution, which has large variance in three directions."
   ]
  },
  {
   "cell_type": "code",
   "execution_count": 10,
   "metadata": {
    "collapsed": true
   },
   "outputs": [],
   "source": [
    "N = 300\n",
    "D = 10\n",
    "var = np.array([1.0, 0.1, 1.0, 0.1, 0.1, 0.1, 0.1, 0.1, 1.0, 0.1])\n",
    "rnd = np.random.RandomState(0)\n",
    "X = rnd.multivariate_normal(np.zeros(D), cov=np.diag(var), size=N)"
   ]
  },
  {
   "cell_type": "markdown",
   "metadata": {},
   "source": [
    "We compare the result by visualizing $\\| w_i \\|$, and see how many degrees of freedom is remaining or suppressed."
   ]
  },
  {
   "cell_type": "code",
   "execution_count": 11,
   "metadata": {
    "collapsed": true
   },
   "outputs": [],
   "source": [
    "def plot_magnitude_of_coefficients(ax, pcas, labels):\n",
    "    for i in range(len(pcas)):\n",
    "        Wsize = np.linalg.norm(pcas[i].W, axis = 0)**2\n",
    "        ax.plot(np.sort(Wsize)[::-1], 'o-', label=labels[i])\n",
    "    ax.set_yscale('log')\n",
    "    ax.set_xlabel(r'$i$')\n",
    "    ax.set_ylabel(r'$\\|w_i\\|^2$')\n",
    "    ax.legend()"
   ]
  },
  {
   "cell_type": "code",
   "execution_count": 12,
   "metadata": {
    "scrolled": true
   },
   "outputs": [
    {
     "name": "stderr",
     "output_type": "stream",
     "text": [
      "C:\\Users\\sokohaku\\Anaconda3\\lib\\site-packages\\ipykernel_launcher.py:49: RuntimeWarning: overflow encountered in double_scalars\n"
     ]
    },
    {
     "name": "stdout",
     "output_type": "stream",
     "text": [
      "n_iter : 49\n",
      "converged : True\n"
     ]
    },
    {
     "data": {
      "image/png": "[encoded data removed]",
      "text/plain": [
       "<Figure size 432x288 with 1 Axes>"
      ]
     },
     "metadata": {},
     "output_type": "display_data"
    }
   ],
   "source": [
    "m = 9\n",
    "mlpca = MLPCA(m=m)\n",
    "mlpca.fit(X, method='analytical')\n",
    "bpca = BPCA(m=m)\n",
    "bpca.fit(X, max_iter=1000, tol=1e-5, disp_message=True)\n",
    "\n",
    "ax = plt.subplot(111)\n",
    "plot_magnitude_of_coefficients(ax, [mlpca, bpca], ['ML', 'Bayes'])"
   ]
  },
  {
   "cell_type": "markdown",
   "metadata": {},
   "source": [
    "It can be clearly seen that the Bayesian approach suppresses redundant degrees of freedom."
   ]
  },
  {
   "cell_type": "markdown",
   "metadata": {},
   "source": [
    "## 4.3 Hand-written digits\n",
    "\n",
    "Next, we consider hand-written digits data of the digit three.\n"
   ]
  },
  {
   "cell_type": "code",
   "execution_count": 13,
   "metadata": {},
   "outputs": [
    {
     "name": "stdout",
     "output_type": "stream",
     "text": [
      "The number of data points : 183\n",
      "The dimension of the observables : 64\n"
     ]
    }
   ],
   "source": [
    "from sklearn import datasets\n",
    "digits = datasets.load_digits()\n",
    "\n",
    "threes = digits.data[np.where(digits.target==3)]/16.0 # extracting the data corresponding threes, and perform scaling\n",
    "print(f\"The number of data points : {len(threes)}\")\n",
    "print(f\"The dimension of the observables : {len(threes[0])}\")"
   ]
  },
  {
   "cell_type": "code",
   "execution_count": 14,
   "metadata": {},
   "outputs": [
    {
     "data": {
      "image/png": "[encoded data removed]",
      "text/plain": [
       "<Figure size 864x432 with 4 Axes>"
      ]
     },
     "metadata": {},
     "output_type": "display_data"
    }
   ],
   "source": [
    "fig, axes = plt.subplots(1, 4, figsize=(12, 6))\n",
    "for (i, ax) in  enumerate(axes):\n",
    "    ax.imshow(threes[i].reshape((8,8)), cmap='gray_r') "
   ]
  },
  {
   "cell_type": "code",
   "execution_count": 16,
   "metadata": {
    "scrolled": false
   },
   "outputs": [
    {
     "name": "stderr",
     "output_type": "stream",
     "text": [
      "C:\\Users\\sokohaku\\Anaconda3\\lib\\site-packages\\ipykernel_launcher.py:49: RuntimeWarning: overflow encountered in double_scalars\n"
     ]
    },
    {
     "name": "stdout",
     "output_type": "stream",
     "text": [
      "n_iter : 3532\n",
      "converged : True\n"
     ]
    },
    {
     "data": {
      "image/png": "[encoded data removed]",
      "text/plain": [
       "<Figure size 432x288 with 1 Axes>"
      ]
     },
     "metadata": {},
     "output_type": "display_data"
    }
   ],
   "source": [
    "m = 63\n",
    "max_iter = 10000\n",
    "\n",
    "mlpca = MLPCA(m=m)\n",
    "mlpca.fit(threes)\n",
    "\n",
    "bpca = BPCA(m=m)\n",
    "bpca.fit(threes, disp_message=True, max_iter=max_iter, tol=1e-4)\n",
    "\n",
    "ax = plt.subplot(111)\n",
    "plot_magnitude_of_coefficients(ax, [mlpca, bpca], ['ML', 'Bayes'])"
   ]
  },
  {
   "cell_type": "markdown",
   "metadata": {},
   "source": [
    "Again, we can see that the Bayesian approach suppresses redundant degrees of freedom."
   ]
  }
 ],
 "metadata": {
  "kernelspec": {
   "display_name": "Python 3",
   "language": "python",
   "name": "python3"
  },
  "language_info": {
   "codemirror_mode": {
    "name": "ipython",
    "version": 3
   },
   "file_extension": ".py",
   "mimetype": "text/x-python",
   "name": "python",
   "nbconvert_exporter": "python",
   "pygments_lexer": "ipython3",
   "version": "3.6.6"
  }
 },
 "nbformat": 4,
 "nbformat_minor": 2
}

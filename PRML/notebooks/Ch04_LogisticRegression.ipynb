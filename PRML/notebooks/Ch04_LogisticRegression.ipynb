{
 "cells": [
  {
   "cell_type": "markdown",
   "metadata": {},
   "source": [
    "# Logistic regression classifier\n",
    "\n",
    "In this notebook, we implement logistic regression classifier described in Section 4.3 of the book PRML. "
   ]
  },
  {
   "cell_type": "code",
   "execution_count": 1,
   "metadata": {},
   "outputs": [],
   "source": [
    "import time\n",
    "import numpy as np\n",
    "import matplotlib as mpl\n",
    "from matplotlib import pyplot as plt\n",
    "\n",
    "%matplotlib inline\n",
    "plt.rcParams['axes.labelsize'] = 14\n",
    "plt.rcParams['xtick.labelsize'] = 12\n",
    "plt.rcParams['ytick.labelsize'] = 12"
   ]
  },
  {
   "cell_type": "markdown",
   "metadata": {},
   "source": [
    "# 1. Setting \n",
    "\n",
    "* Let $N \\in \\mathbb{N}$ be the number of training data points, \n",
    "* $d \\in \\mathbb{N}$ be the dimension of input, \n",
    "* $\\mathcal{C} = \\left\\{ 0, 1, \\dots, C-1 \\right\\}$ be the set of class labels, \n",
    "* $x_0, x_1, \\dots , x_{N-1} \\in \\mathbb{R}^d$ be the training input data, $y_0, y_1, \\dots, y_{N-1} \\in \\mathcal{C}$ be the training labels, and\n",
    "$y := (y_0, \\dots, y_{N-1})^T \\in \\mathcal{C}^N$.\n",
    "* Let $t_n \\in \\left\\{0,1\\right\\}^{C}$ be the 1-of-$C$ coding of $y_n$, i.e., for $y_n = c$, $t_n$ is a vector with its $c$ th component being 1 and other components being zero. "
   ]
  },
  {
   "cell_type": "markdown",
   "metadata": {},
   "source": [
    "# 2. Theory \n",
    "\n",
    "## 2.1 Model\n",
    "\n",
    "We consider the following discriminative model (equation (4.104) in PRML)\n",
    "$$\n",
    "\\begin{align}\n",
    "    p(y|x,\\theta) = \\frac{\\exp\\left[{\\theta^{(y)}}^T \\phi(x)\\right] }{ \\sum_{y'=0}^{C-1} \\exp\\left[{\\theta^{(y')}}^T \\phi(x)\\right] }\n",
    "\\end{align}\n",
    "$$\n",
    "where\n",
    "* $\\phi : \\mathbb{R}^d \\rightarrow \\mathbb{R}^M $, $\\phi(x) = (\\phi_0(x), \\dots, \\phi_{M-1}(x))^T$ are basis functions,  \n",
    "* $\\theta^{(y)} \\in \\mathbb{R}^M$ are weight parameters, and \n",
    "* $\\theta = \\left( {\\theta^{(0)}}^T, \\dots, {\\theta^{(C-1)}}^T  \\right)^T \\in \\mathbb{R}^{CM}$\n",
    "\n",
    "Later, we use \"linear\" basis function\n",
    "$$\n",
    "\\begin{align}\n",
    "    \\phi_j(x) = \\begin{cases}\n",
    "        1 & (j=0)\\\\\n",
    "        x^{(j-1)} & (j = 1.\\dots, d) \n",
    "    \\end{cases}\n",
    "\\end{align},\n",
    "$$\n",
    "where $x^{(j)}$ represents $j$-th element of $x \\in \\mathbb{R}^d$\n",
    "\n",
    "\n",
    "Let $\\Phi$ be a $N \\times M$ matrix defined by\n",
    "\\begin{equation}\n",
    "    \\Phi = (\\Phi_{i,j}), \\ \\ \\Phi_{i,j} = \\phi_j(x_i)\n",
    "\\end{equation}"
   ]
  },
  {
   "cell_type": "markdown",
   "metadata": {},
   "source": [
    "## 2.2 Cost function and its derivatives\n",
    "\n",
    "### 2.2.1 Cost function\n",
    "\n",
    "In training a logistic classifier, we select the parameter that minimizes the following cost function (See equations (4.107) and (4.108) in PRML) : \n",
    "$$\n",
    "\\begin{align}\n",
    "    J(\\theta) :=  - \\frac{1}{N} \\sum_{n=0}^{N-1} \\sum_{c=0}^{C-1} t_{n,c} \\log p_{n,c} + \\frac{\\lambda}{2N} \\| \\theta \\|^2, \n",
    "\\end{align}\n",
    "$$\n",
    "where \n",
    "$$\n",
    "\\begin{align}\n",
    "    p_{n,c} &:= p(c|x_n,\\theta) = \\frac{\\exp\\left[{\\theta^{(c)}}^T \\phi(x_n)\\right] }{ \\sum_{c'=0}^{C-1} \\exp\\left[ {\\theta^{(c')}}^T \\phi(x_n)  \\right]}  \\\\\n",
    "    t_{n,c} &:= \\delta_{y_n, c}\n",
    "\\end{align}\n",
    "$$\n",
    "the first term is negative log likelihood, and the second term is a $l^2$ regularization term.\n",
    "\n",
    "### 2.2.2 Gradient\n",
    "\n",
    "To perform the minimization, we need the gradient of the cost function, which is given by (See equation (4.109) in PRML)\n",
    "$$\n",
    "\\begin{align}\n",
    "    \\frac{\\partial J}{\\partial \\theta^{(c)}_{j}} = \n",
    "        \\frac{1}{N} \\sum_{n=0}^{N-1} ( p_{n,c} -  t_{n,c}) \\phi_j(x_n) + \\frac{\\lambda}{N} \\theta^{(c)}_{j}\n",
    "\\end{align}\n",
    "$$\n",
    "\n",
    "### 2.2.3 Hessian\n",
    "\n",
    "Later, we use the second derivative, or Hessian, of the cost function to perform minimization (Newton-Raphson) method. Here, the Hessian is given by (See equation (4.110) in PRML)\n",
    "$$\n",
    "\\begin{align}\n",
    "    H_{(c, j), (c', j')} &:= \\frac{\\partial^2 J}{\\partial \\theta^{(c)}_{j} \\partial \\theta^{(c')}_{j'}} \\\\\n",
    "    &= \\frac{1}{N} \\sum_{n=0}^{N-1} p_{n, c} \\left( \\delta_{c, c'} - p_{n, c'}\\right) \\Phi_{n, j} \\Phi_{n, j'}\n",
    "    {} + \\frac{\\lambda}{N} \\delta_{c, c'} \\delta_{j, j'} \n",
    "\\end{align}\n",
    "$$"
   ]
  },
  {
   "cell_type": "markdown",
   "metadata": {},
   "source": [
    "## 2.3 Minimization of the cost function\n",
    "\n",
    "In contrast to the linear regression cases discussed in Chapter 3 of PRML, we now have a cost function which cannot be analytically minimized. Thus, we resort to numerical minimization of the cost function. \n",
    "\n",
    "Here we try two methods: gradient descent and Newton-Raphson method. \n",
    "\n",
    "### 2.3.1 Gradient Descent\n",
    "\n",
    "In gradient descent method, we iteratively update our variable in the direction of gradient, i.e., if we denote the function to be minimized by $f$ and its variable by $x$, then in the $n$-th step of iteration, we have\n",
    "$$\n",
    "\\begin{align}\n",
    "    x_{n+1} = x_n - \\alpha \\nabla f(x_n)\n",
    "\\end{align}\n",
    "$$\n",
    "where $\\alpha > 0$ is learning rate, which should be specified by the user.\n",
    "\n",
    "### 2.3.2 Newton method\n",
    "\n",
    "In Newton-Raphson algorithm, we utilize the information of second derivative. More specifically, if we denote\n",
    "* the function to be minimized by $f$, \n",
    "* the Hessian of the function by $H$, and\n",
    "* the variable by $x$, \n",
    "\n",
    "then in $n$-th step, we have\n",
    "$$\n",
    "\\begin{align}\n",
    "    x_{n+1} = x_{n} - \\left[H(x_n)\\right]^{-1} \\nabla f(x_n)\n",
    "\\end{align}\n",
    "$$\n",
    "\n",
    "We can calculate the second term $\\left[H(x_n)\\right]^{-1} \\nabla f(x_n)$ exactly (for example, by LU decomposition or directly inverting $H$) or approximately by iterative method such as conjugate gradient. One advantage of the iterative methods is that it does not require the matrix itself, and only needs the function which gives the product of the matrix and an arbitrary vector. We will come back to this point later in this notebook.\n",
    "\n",
    "### 2.3.3 Comparison\n",
    "\n",
    "Because Newton-Raphson method requires the information of Hessian and solving the linear equation corresponding it, the computational cost for each iteration is higher than that of gradient descent. \n",
    "However, it usually converges much faster than gradient descent in the sense that the number of iteration required is much smaller. \n",
    "\n",
    "In this noteobook, we implement both methods (especially, for Newton method, we implement both method for solving the linear equation), and compare their behavior.\n",
    "\n",
    "For detail, also see a lecture by Prof. Andrew Ng https://www.youtube.com/watch?v=iwO0JPt59YQ"
   ]
  },
  {
   "cell_type": "markdown",
   "metadata": {},
   "source": [
    "# 3. From math to code\n",
    "\n",
    "## 3.1 Matrix representation\n",
    "\n",
    "Here we express cost function and its gradient using a matrix notation. \n",
    "The following matrix will be used:\n",
    "* $\\Phi$ or `Phi` : `(N, M)` array, where `Phi[n, m]` = $\\phi_m(x_n)$\n",
    "* $\\Theta$ or `Theta` : `(C, M)` array, where `Theta[c, j]` = $\\theta^{(c)}_{j}$\n",
    "* $T$ or `T` : `(N,C)` array, where `T[n, c]` = $t_{n, c}$\n",
    "* $P$ or `P` : `(N, C)` array, where `P[n, c]` = $p_{n, c}$\n",
    "\n",
    "Note that $P$ can be expressed by $\\Phi$ and $\\Theta$ as \n",
    "\n",
    "$$\n",
    "\\begin{align}\n",
    "    P_{n,c} &= \\frac{\\exp\\left[\\sum_{j=0}^{M-1} \\theta^{(c)}_{j} \\phi_{j}(x_n)\\right] }{ \\sum_{c'=0}^{C-1} \\exp\\left[ \\sum_{j=0}^{M-1} \\theta^{(c')}_{j} \\phi_{j}(x_n)  \\right]} \\\\\n",
    "    &= \\frac{ \\exp \\left[ \\left( \\Phi \\Theta^T \\right)_{n, c'} \\right]  }{ \\sum_{c'=0}^{C-1} \\exp\\left[ \\left( \\Phi \\Theta^T \\right)_{n, c'} \\right] }\n",
    "\\end{align}\n",
    "$$"
   ]
  },
  {
   "cell_type": "code",
   "execution_count": 2,
   "metadata": {},
   "outputs": [],
   "source": [
    "def calcPhimat(X):\n",
    "    '''\n",
    "    This function generates the design matrix Phi from X, the input data\n",
    "        \n",
    "    Parameters\n",
    "    ----------\n",
    "    X : 2-D numpy array\n",
    "        (N,d) numpy array, with X[n, i] = i-th element of x_n\n",
    "            \n",
    "    Returns\n",
    "    ----------\n",
    "    Phi : 2-D numpy array\n",
    "        The design matrix\n",
    "    '''\n",
    "    N = len(X)\n",
    "    if len(np.shape(X)) == 1:\n",
    "        d = 1\n",
    "    else:\n",
    "        d = np.shape(X)[1]\n",
    "    Phi = np.zeros((N,d+1))\n",
    "    Phi[:,0] = np.ones(N)\n",
    "    Phi[:,1:] = np.reshape(X, (N,d))\n",
    "    return Phi\n",
    "\n",
    "def calcTmat(y, C):\n",
    "    '''\n",
    "    This function generates the matrix T from the training label y and the number of classes C\n",
    "    \n",
    "    Parameters\n",
    "    ----------\n",
    "    y : 1-D numpy array\n",
    "        The elements of y should be integers in [0, C-1]\n",
    "    C : int\n",
    "        The number of classes\n",
    "        \n",
    "    Returns\n",
    "    ----------\n",
    "    T : (len(y), C) numpy array\n",
    "        T[n, c] = 1 if y[n] == c else 0\n",
    "    '''\n",
    "    N = len(y)\n",
    "    T = np.zeros((N, C))\n",
    "    for c in range(C):\n",
    "        T[:, c] = (y == c)\n",
    "    return T\n",
    "\n",
    "def calcPmat(Theta, Phi):\n",
    "    '''\n",
    "    This function generates the matrix P from the weight Theta and the design matrix Phi\n",
    "    \n",
    "    Parameters\n",
    "    ----------\n",
    "    Theta : 2-D numpy array\n",
    "        Matrix representing the weight parameter\n",
    "    Phi : 2-D numpy array\n",
    "        The design matrix\n",
    "        \n",
    "    Returns\n",
    "    ----------\n",
    "    P : 2-D numpy array\n",
    "    '''\n",
    "    P = np.exp( Phi @ (Theta.T) )\n",
    "    P = P/np.reshape( np.sum(P, axis= 1), (len(Phi),1)  ) \n",
    "    return P"
   ]
  },
  {
   "cell_type": "markdown",
   "metadata": {},
   "source": [
    "## 3.2 Cost function and its derivatives\n",
    "\n",
    "### 3.2.1 Cost function\n",
    "\n",
    "With these definitions, for the cost function, we have\n",
    "$$\n",
    "\\begin{align}\n",
    "    J(\\Theta) \n",
    "        &= - \\frac{1}{N} \\sum_{n=0}^{N-1} \\sum_{c=0}^{C-1} t_{n,c} \\log p_{n,c} + \\frac{\\lambda}{2N} \\| \\theta \\|^2  \\\\\n",
    "        &= -\\frac{1}{N} sum(T \\ast \\log P) + \\frac{\\lambda}{2N} \\| \\Theta \\|_{2}^{2}\n",
    "\\end{align}\n",
    "$$\n",
    "where $\\log$ means elementwise log, $\\ast$ means elementwise product, and, $sum$ means summing up all elements of a matrix. "
   ]
  },
  {
   "cell_type": "code",
   "execution_count": 3,
   "metadata": {},
   "outputs": [],
   "source": [
    "def cost_function(thtvec, Phi, T, lam):\n",
    "    '''\n",
    "    This function calculate the loss function and its gradient\n",
    "    \n",
    "    Parameters\n",
    "    ----------\n",
    "    thtvec : 1-D numpy array \n",
    "        (M*C,) array, which represents the weight parameter Theta, in flattened form\n",
    "    Phi : 2-D numpy array\n",
    "        (N, M) array, design matrix\n",
    "    T : 2-D numpy array\n",
    "        (N, C) array, where T[n, c] = 1 if y[n] == c else 0\n",
    "    lam : float\n",
    "        The regularization constant\n",
    "    \n",
    "    Returns\n",
    "    ----------\n",
    "    J : float\n",
    "        The value of cost function        \n",
    "    '''\n",
    "    N, M = np.shape(Phi)\n",
    "    C = np.shape(T)[1]\n",
    "    Theta = np.reshape(thtvec, (C, M))\n",
    "    P = calcPmat(Theta, Phi)\n",
    "    J = -1.0/N*np.sum(T*np.log(P)) + lam/(2.0*N)*np.linalg.norm(thtvec)**2\n",
    "    return J"
   ]
  },
  {
   "cell_type": "markdown",
   "metadata": {},
   "source": [
    "### 3.2.2 Gradient\n",
    "\n",
    "If we regard $\\frac{\\partial J(\\Theta)}{\\partial \\Theta}$ as a matrix, then the gradient can be written as\n",
    "$$\n",
    "\\begin{align}\n",
    "    \\frac{\\partial J(\\Theta)}{\\partial \\Theta}\n",
    "    &= \\left(  \\frac{1}{N} \\sum_{n=0}^{N-1} ( p_{n,c} -  t_{n,c}) \\phi_j(x_n) + \\frac{\\lambda}{N} \\theta^{(c)}_{j} \\right)_{c,j} \\\\\n",
    "    &= \\frac{1}{N} (P-T)^T \\Phi + \\frac{\\lambda}{N} \\Theta. \n",
    "\\end{align}\n",
    "$$\n",
    "Because our (and many other) minimization functions assume that gradient is given as a vector (or 1-D array), we convert the matrix (2-D array) by invoking `np.reshape`. "
   ]
  },
  {
   "cell_type": "code",
   "execution_count": 4,
   "metadata": {},
   "outputs": [],
   "source": [
    "def grad_cost_function(thtvec, Phi, T, lam):\n",
    "    '''\n",
    "    This function calculates the gradient of the cost function \n",
    "    \n",
    "    Parameters\n",
    "    ----------\n",
    "    See the help for cost_function\n",
    "        \n",
    "    Returns\n",
    "    ----------\n",
    "    grad_vec : 2-D array\n",
    "        The gradient of the cost function with respect to the weight parameter Theta, in flattened form\n",
    "    '''\n",
    "    N, M = np.shape(Phi)\n",
    "    C = np.shape(T)[1]\n",
    "    Theta = np.reshape(thtvec, (C, M))\n",
    "    P = calcPmat(Theta, Phi)\n",
    "    grad_mat = 1.0/N*((P - T).T) @ Phi + lam/N*Theta\n",
    "    grad_vec = np.reshape(grad_mat, len(thtvec))\n",
    "    return grad_vec"
   ]
  },
  {
   "cell_type": "markdown",
   "metadata": {},
   "source": [
    "### 3.2.3 Hessian\n",
    "\n",
    "Calculating Hessian is more complicated (Recall that our implementation of Newton-Raphson method assumes that Hessian is a matrix, i.e., it is 2-D array. ) . \n",
    "Before delving into the calculation, let us recall the analytic expression for the Hessian (We have rewritten indeices here).\n",
    "$$\n",
    "\\begin{align}\n",
    "    H_{(i, j), (k, l)} &= \\frac{\\partial^2 J}{\\partial \\theta^{(i)}_{j} \\partial \\theta^{(k)}_{l}} \\\\\n",
    "    &= \\frac{1}{N} \\sum_{n=0}^{N-1} p_{n, i} \\left( \\delta_{i, k} - p_{n, k}\\right) \\Phi_{n, j} \\Phi_{n, l}\n",
    "    {} + \\frac{\\lambda}{N} \\delta_{(i,j), (k,l)}\n",
    "\\end{align}\n",
    "$$\n",
    "Frist, we calculate a $(C, M, C, M)$ array corresponding to the first term, i.e., we treat the regularization term later, because it is just a $CM \\times CM$ identity matrix. We can make use of numpy broadcasting and `np.einsum`. \n",
    "\n",
    "Note that the computational complexity of calculating the Hessian matrix is $\\mathcal{O}(NM^2C^2)$, because we have to calculate $(CM)^2$ elements, and for each element we have summation over $N$ terms."
   ]
  },
  {
   "cell_type": "code",
   "execution_count": 5,
   "metadata": {},
   "outputs": [],
   "source": [
    "def hess_cost_function(thtvec, Phi, T, lam):\n",
    "    '''\n",
    "    This function calculates the Hessian of the cost function \n",
    "    \n",
    "    Parameters\n",
    "    ----------\n",
    "    See the help for cost_function\n",
    "    \n",
    "    Returns\n",
    "    ----------\n",
    "    H : 2-D array\n",
    "        The hessian\n",
    "    '''\n",
    "    N, M = np.shape(Phi)\n",
    "    C = np.shape(T)[1]\n",
    "    Theta = np.reshape(thtvec, (C, M))\n",
    "    P = calcPmat(Theta, Phi)\n",
    "    tmparr_A = np.reshape(P, (N, C, 1)) * ( np.reshape(np.identity(C), (1, C, C)) - np.reshape(P, (N, 1, C)) )\n",
    "    tmparr_B = np.reshape(Phi, (N, M, 1)) * np.reshape(Phi, (N, 1, M)) \n",
    "    H_tmp = np.einsum('nik,njl->ijkl', tmparr_A, tmparr_B)/N\n",
    "    H = np.reshape(H_tmp, (C*M, C*M)) + lam/N*np.identity(C*M)\n",
    "    return H"
   ]
  },
  {
   "cell_type": "markdown",
   "metadata": {},
   "source": [
    "### 3.2.4 Product of Hessian and vector\n",
    "\n",
    "As was pointed out in Section 2.3.2, we do not need the Hessian matrix itself when we use iterative methods such as conjugate gradient to calculate $H^{-1}(x) \\nabla f(x)$. Instead, it suffices to provide the function which returns the product of the matrix and an arbitrary input vector (for detail, see https://docs.scipy.org/doc/scipy/reference/generated/scipy.sparse.linalg.cg.html). \n",
    "Here we give a function which returns such product function. The important point is that, the computational cost required to calculate the product is much less than the cost required for calculating the Hessian itself (We will evaluate the computational complexity of the process in the next paragraph.).\n",
    "\n",
    "First, let us denote by `v` the `(C*M,)` input vector, and by $(V_{i,j})_{i= 0, \\dots, C-1, j = 0, \\dots, M-1}$ the matrix expression for the vector. \n",
    "The product of the input vector and Hessian is given by\n",
    "$$\n",
    "\\begin{align}\n",
    "    &{} \\sum_{k,l}      H_{(i, j), (k, l)} V_{k, l} \\\\\n",
    "    &= \\sum_{k,l} \\frac{\\partial^2 J}{\\partial \\theta^{(i)}_{j} \\partial \\theta^{(k)}_{l}}  V_{k, l} \\\\\n",
    "    &= \\frac{1}{N} \\sum_{n=0}^{N-1}\\sum_{k,l} p_{n, i} \\left( \\delta_{i, k} - p_{n, k}\\right) \\Phi_{n, j} \\Phi_{n, l} V_{k, l}\n",
    "    {} + \\frac{\\lambda}{N} \\sum_{k,l} \\delta_{(i,j), (k,l)} V_{k,l} \\\\\n",
    "    &= \\frac{1}{N} \\sum_{n=0}^{N-1} \\left( \\sum_{l} p_{n, i} \\Phi_{n, j} \\Phi_{n, l} V_{i, l}\n",
    "        {} - \\sum_{k,l}  p_{n, i} p_{n, k} \\Phi_{n, j} \\Phi_{n, l} V_{k, l} \\right) + \\frac{\\lambda}{N} V_{i,j} \\\\\n",
    "    &= \\frac{1}{N} \\sum_{n=0}^{N-1}  p_{n, i} \\Phi_{n, j} \\left( \\sum_{l}  \\Phi_{n, l} V_{i, l}\n",
    "        {} - \\sum_{k,l}  p_{n, k} \\Phi_{n, l} V_{k, l} \\right) + \\frac{\\lambda}{N} V_{i,j} \\\\\n",
    "\\end{align}\n",
    "$$\n",
    "\n",
    "The calculation can be done step by step as follows:\n",
    "* First, we set `tmp[n, k]` $= \\sum_{l=0}^{M-1} \\Phi_{n, l} V_{k, l}$ = `(Phi @ V.T) [n, k]`. Thus, `tmp = Phi @ V.T`, and since `Phi` and 'V' are (N, M) array and (C, M) array respectively, the process takes $\\mathcal{O}(NMC)$ time.\n",
    "* Next, we calculate $ \\sum_{l}  \\Phi_{n, l} V_{i, l}- \\sum_{k,l}  p_{n, k} \\Phi_{n, l} V_{k, l}$ = `tmp[n, i]` $- \\sum_{k=0}^{C-1}$ `P[n, k] * tmp[n, k]`, and set it as `tmp`. The process takes $\\mathcal{O}(NC^2)$ time, if we first calculate all the product and take summation.\n",
    "* Then, we calculate $\\sum_{n=0}^{N-1}  p_{n, i} \\Phi_{n, j} \\left( \\sum_{l}  \\Phi_{n, l} V_{i, l}- \\sum_{k,l}  p_{n, k} \\Phi_{n, l} V_{k, l} \\right)$ = $\\sum_{n=0}^{N-1} $`P[n, i] * Phi[n, j] * tmp[n, i]` = $\\sum_{n=0}^{N-1}$ `(P*tmp)[n, i] * Phi[n, j]` = `((P*tmp).T @ Phi)[i,j]`. The process takes $\\mathcal{O}(NMC)$ time.\n",
    "\n",
    "Thus, the computational complexity of the procedure is $\\mathcal{O}(NC(M+C))$, which is smaller than the computational complexity for the calculation of Hessian matrix."
   ]
  },
  {
   "cell_type": "code",
   "execution_count": 6,
   "metadata": {},
   "outputs": [],
   "source": [
    "from scipy.sparse.linalg import LinearOperator\n",
    "\n",
    "def hessp_cost_function(thtvec, Phi, T, lam):\n",
    "    '''\n",
    "    This function returns the function representing the product of Hessian and a given vector\n",
    "    \n",
    "    Parameters\n",
    "    ----------\n",
    "    See the help for cost_function\n",
    "    \n",
    "    Returns\n",
    "    ----------\n",
    "    A : scipy.sparse,linalg.LinearOperator object\n",
    "        A linear operator representing the Hessian of the cost function\n",
    "    '''\n",
    "    N, M = np.shape(Phi)\n",
    "    C = np.shape(T)[1]\n",
    "    Theta = np.reshape(thtvec, (C, M))\n",
    "    P = calcPmat(Theta, Phi)\n",
    "    def hp(v):\n",
    "        V = np.reshape(v, (C, M))\n",
    "        tmp = Phi @ V.T\n",
    "        tmp = tmp - np.reshape(np.sum(P*tmp, axis=1), (N, -1))\n",
    "        product = ((P*tmp).T @ Phi)/N + lam/N*V\n",
    "        product = product.flatten()\n",
    "        return product\n",
    "    A = LinearOperator((C*M, C*M), matvec=hp)\n",
    "    return A"
   ]
  },
  {
   "cell_type": "markdown",
   "metadata": {},
   "source": [
    "## 3.3 Minimization\n",
    "\n",
    "Here, we use gradient descent and Newton-Raphson method to numerically minimize the cost function. The functions performing these minimization procedures are given below.\n",
    "\n",
    "### 3.3.1 Gradient Descent\n",
    "\n",
    "In gradient descent, we obtain an approximate optimal solution by the update\n",
    "$$\n",
    "\\begin{align}\n",
    "    x_{n+1} = x_n - \\alpha \\nabla f(x_n).\n",
    "\\end{align}\n",
    "$$\n",
    "\n",
    "Here, as to the stopping criterion, we examine the change of function value, and if it does not decrease more than the specified value `ftol`, we terminate the iteration."
   ]
  },
  {
   "cell_type": "code",
   "execution_count": 7,
   "metadata": {},
   "outputs": [],
   "source": [
    "def minimize_GD(func, x0, grad, alpha=0.01, maxiter=1e4, ftol=1e-5):\n",
    "    '''\n",
    "    This function minimizes the given function using gradient descent method\n",
    "    \n",
    "    Parameters\n",
    "    ----------\n",
    "    func : callable\n",
    "        Function to be minimized (real-valued)\n",
    "    x0 : 1-D array\n",
    "        Initial value of the variable\n",
    "    grad : callable\n",
    "        The gradient of func (returns 1-D array)\n",
    "    alpha : float\n",
    "        Learning rate\n",
    "    maxiter : int\n",
    "        Maximum number of iteration\n",
    "    ftol : float\n",
    "        The threshold for stopping criterion. If the change of the value of function is smaller than this value, the iteration stops.\n",
    "    \n",
    "    Returns\n",
    "    ----------\n",
    "    result : dictionary\n",
    "        result['x'] ... variable, result['nit'] ... the number of iteration, result['func']...the value of the function, result['success']... whether the minimization is successful or not\n",
    "    '''\n",
    "    x = x0\n",
    "    nit = 0\n",
    "    while nit < maxiter:\n",
    "        xold = x\n",
    "        x = x - alpha*grad(x)\n",
    "        nit += 1\n",
    "        if abs(func(x) - func(xold)) < ftol:\n",
    "            break\n",
    "    success = (nit < maxiter)\n",
    "    return {'x': x, 'nit':nit, 'func':func(x), 'success':success}"
   ]
  },
  {
   "cell_type": "markdown",
   "metadata": {},
   "source": [
    "### 3.3.2 Newton method\n",
    "\n",
    "There are two ways for calculating the second term $\\left[H(x_n)\\right]^{-1} \\nabla f(x_n)$: \n",
    "* One is to calculate the product by solving the linear equation $H(x_n) y = \\nabla f(x_n)$ exactly using `numpy.linalg.solve`( https://docs.scipy.org/doc/numpy/reference/generated/numpy.linalg.solve.html )\n",
    "* The other one is to solve the linear equation approximately by conjugate gradient (CG) method using `scipy.sparse.linalg.cg`( https://docs.scipy.org/doc/scipy/reference/generated/scipy.sparse.linalg.cg.html ), which can be applied to positive definite coefficient matrices.\n",
    "\n",
    "While the first one is more conceptually straightforward, the second one is computationally more efficient (For detail, please consult with textbooks on numerical linear algebra.). \n",
    "\n",
    "It should be also noted that, `scipy.sparse.linalg.cg` does not require the matrix itself, but only needs a function giving the product of the coefficient matrix and an arbitrary vector. As was pointed out in Section 3.3.4, the computational complexity of this procedure is smaller than that of the calculation of Hessian matrix.\n",
    "\n",
    "For comparison, we implement both methods as follows"
   ]
  },
  {
   "cell_type": "code",
   "execution_count": 8,
   "metadata": {},
   "outputs": [],
   "source": [
    "def minimize_newton(func, x0, grad, hess, maxiter=1e4, ftol=1e-5):\n",
    "    '''\n",
    "    This function minimizes the given function using Newton method\n",
    "    \n",
    "    Parameters\n",
    "    ----------\n",
    "    func : callable\n",
    "        Function to be minimized (real-valued)\n",
    "    x0 : 1-D array\n",
    "        Initial value of the variable\n",
    "    grad : callable\n",
    "        The gradient of func (returns 1-D array)\n",
    "    hess: callable\n",
    "        The hessian of func (returns 2-D array)\n",
    "    maxiter : int\n",
    "        Maximum number of iteration\n",
    "    ftol : float\n",
    "        The threshold for stopping criterion. If the change of the value of function is smaller than this value, the iteration stops.\n",
    "    \n",
    "    Returns\n",
    "    ----------\n",
    "    result : dictionary\n",
    "        result['x'] ... variable, result['nit'] ... the number of iteration, result['func']...the value of the function, result['success']... whether the minimization is successful or not\n",
    "    '''\n",
    "    x = x0\n",
    "    nit = 0\n",
    "    while nit < maxiter:\n",
    "        xold = x\n",
    "        x = x - np.linalg.solve(hess(x), grad(x))\n",
    "        nit += 1\n",
    "        if abs(func(x) - func(xold)) < ftol:\n",
    "            break\n",
    "    success = (nit < maxiter)\n",
    "    return {'x': x, 'nit':nit, 'func':func(x), 'success':success} "
   ]
  },
  {
   "cell_type": "code",
   "execution_count": 9,
   "metadata": {},
   "outputs": [],
   "source": [
    "from scipy.sparse.linalg import cg\n",
    "\n",
    "def minimize_ncg(func, x0, grad, hessp, maxiter=1e4, ftol=1e-5):\n",
    "    '''\n",
    "    This function minimizes the given function using Newton-CG method\n",
    "    \n",
    "    Parameters\n",
    "    ----------\n",
    "    func : callable\n",
    "        Function to be minimized (real-valued)\n",
    "    x0 : 1-D array\n",
    "        Initial value of the variable\n",
    "    grad : callable\n",
    "        The gradient of func (returns 1-D array)\n",
    "    hessp: callable\n",
    "        A function which returns scipy.sparse.linalg.LinearOperator object representing Hessian\n",
    "    maxiter : int\n",
    "        Maximum number of iteration\n",
    "    ftol : float\n",
    "        The threshold for stopping criterion. If the change of the value of function is smaller than this value, the iteration stops.\n",
    "    \n",
    "    Returns\n",
    "    ----------\n",
    "    result : dictionary\n",
    "        result['x'] ... variable, result['nit'] ... the number of iteration, result['func']...the value of the function, result['success']... whether the minimization is successful or not\n",
    "    '''\n",
    "    x = x0\n",
    "    nit = 0\n",
    "    while nit < maxiter:\n",
    "        xold = x\n",
    "        x = x - cg(A=hessp(x), b=grad(x))[0]\n",
    "        nit += 1\n",
    "        if abs(func(x) - func(xold)) < ftol:\n",
    "            break\n",
    "    success = (nit < maxiter)\n",
    "    return {'x': x, 'nit':nit, 'func':func(x), 'success':success} "
   ]
  },
  {
   "cell_type": "markdown",
   "metadata": {},
   "source": [
    "### 3.3.3 Minimization (combined)\n",
    "\n",
    "We can write a function bundling all the algorithms shown above:"
   ]
  },
  {
   "cell_type": "code",
   "execution_count": 10,
   "metadata": {},
   "outputs": [],
   "source": [
    "def minimize(func, x0, method, grad, hess=None, hessp=None, alpha=None, maxiter=1e4, ftol=1e-5):\n",
    "    '''\n",
    "    This function minimizes the given function using the method speicified by user.\n",
    "    \n",
    "    Parameters\n",
    "    ----------\n",
    "    func : callable\n",
    "        Function to be minimized (real-valued)\n",
    "    x0 : 1-D array\n",
    "        Initial value of the variable\n",
    "    method : string\n",
    "        One of 'gd', 'newton', 'newton-cg'.\n",
    "    grad : callable\n",
    "        The gradient of func (returns 1-D array)\n",
    "    hess : callable\n",
    "        The hessian of func (returns 2-D array). Required when method='newton'\n",
    "    hessp: callable\n",
    "        A function which returns scipy.sparse.linalg.LinearOperator object representing Hessian. Required when method='newton-cg'\n",
    "    alpha : float\n",
    "        Learning rate\n",
    "    maxiter : int\n",
    "        Maximum number of iteration\n",
    "    ftol : float\n",
    "        The threshold for stopping criterion. If the change of the value of function is smaller than this value, the iteration stops.\n",
    "    \n",
    "    Returns\n",
    "    ----------\n",
    "    result : dictionary\n",
    "        result['x'] ... variable, result['nit'] ... the number of iteration, result['func']...the value of the function, result['success']... whether the minimization is successful or not\n",
    "    '''\n",
    "    if method == 'gd':\n",
    "        if alpha is None:\n",
    "            print(\"Gradient descent needs a learning rate parameter alpha.\")\n",
    "            return\n",
    "        else:\n",
    "            return minimize_GD(func, x0, grad, alpha, maxiter, ftol)\n",
    "    elif method == 'newton':\n",
    "        if hess is None:\n",
    "            print(\"Newton-Raphson method requires the hessian.\")\n",
    "            return\n",
    "        else:\n",
    "            return minimize_newton(func, x0, grad, hess, maxiter, ftol)\n",
    "    elif method == 'newton-cg':\n",
    "        if hessp is None:\n",
    "            print(\"Newton-CG method requires the hessian-product function.\")\n",
    "            return\n",
    "        else:\n",
    "            return minimize_ncg(func, x0, grad, hessp, maxiter, ftol)\n",
    "    else:\n",
    "        print(\"method should be one of gd, newton, newton-cg\")"
   ]
  },
  {
   "cell_type": "markdown",
   "metadata": {},
   "source": [
    "## 3.4 Classifier "
   ]
  },
  {
   "cell_type": "code",
   "execution_count": 11,
   "metadata": {},
   "outputs": [],
   "source": [
    "class LogisticClf:\n",
    "    def __init__(self, C, lam):\n",
    "        self.C = C  # the number of labels\n",
    "        self.lam = lam #regularization parameter\n",
    "        self.Theta = None\n",
    "            \n",
    "    def fit(self, X, y, method='NR', alpha=None, maxiter=1e4, ftol=1e-5, show_message=False):\n",
    "        '''\n",
    "        Parameters\n",
    "        ----------\n",
    "        X : 1-D or 2-D numpy array\n",
    "            (N,) or (N, d) array, representing the training input data\n",
    "        y : 1-D numpy arra\n",
    "            (N,) array, representing training labels\n",
    "        '''\n",
    "        Phi = calcPhimat(X)\n",
    "        T = calcTmat(y, self.C)\n",
    "        N, M = np.shape(Phi)\n",
    "        \n",
    "        tht0 = np.zeros(M*self.C)\n",
    "        time_start = time.time()\n",
    "        result = minimize(func=lambda x : cost_function(x, Phi, T, self.lam), \n",
    "                          x0=tht0, \n",
    "                          method=method,\n",
    "                          grad=lambda x : grad_cost_function(x, Phi, T, self.lam),\n",
    "                          hess=lambda x : hess_cost_function(x, Phi, T, self.lam),\n",
    "                          hessp = lambda x : hessp_cost_function(x, Phi, T, self.lam),\n",
    "                          alpha=alpha,\n",
    "                          maxiter=maxiter,\n",
    "                          ftol=ftol\n",
    "                         )\n",
    "        time_end = time.time()\n",
    "        if show_message:\n",
    "            print(f\"success : {result['success']}\")\n",
    "            print(f\"nit : {result['nit']}\")\n",
    "            print(f\"calcualtion time : {time_end - time_start}seconds\")\n",
    "        self.Theta = np.reshape(result['x'], (self.C, M))\n",
    "        \n",
    "    def predict_proba(self, X):\n",
    "        '''\n",
    "        Parameters\n",
    "        ----------\n",
    "        X : 1-D or 2-D numpy array\n",
    "            (N,) or (N, d) array, representing the training input data\n",
    "        Returns\n",
    "        ----------\n",
    "        proba : 2-D numpy arra\n",
    "            (len(X), self.C) array, where proba[n, c] represents the probability that the n-th instance belongs to c-th class\n",
    "        '''\n",
    "        return calcPmat(self.Theta, calcPhimat(X))\n",
    "        \n",
    "    def predict(self, X):\n",
    "        '''\n",
    "        Parameters\n",
    "        ----------\n",
    "        X : 1-D or 2-D numpy array\n",
    "            (N,) or (N, d) array, representing the training input data\n",
    "        Returns\n",
    "        ----------\n",
    "        classes : 1-D numpy arra\n",
    "            (len(X), ) array, where classes[n] represents the predicted class to which the n-th instance belongs\n",
    "        '''\n",
    "        tmp = self.predict_proba(X)\n",
    "        return np.argmax(tmp, axis=1 )"
   ]
  },
  {
   "cell_type": "markdown",
   "metadata": {},
   "source": [
    "# 4. Experiment"
   ]
  },
  {
   "cell_type": "code",
   "execution_count": 12,
   "metadata": {},
   "outputs": [],
   "source": [
    "from sklearn import datasets\n",
    "from sklearn.metrics import accuracy_score\n",
    "from sklearn.model_selection import train_test_split"
   ]
  },
  {
   "cell_type": "markdown",
   "metadata": {},
   "source": [
    "## 4.1 Toy data"
   ]
  },
  {
   "cell_type": "code",
   "execution_count": 13,
   "metadata": {},
   "outputs": [],
   "source": [
    "def get_meshgrid(x, y, nx, ny, margin=0.1):\n",
    "    x_min, x_max = (1 + margin) * x.min() - margin * x.max(), (1 + margin) * x.max() - margin * x.min()\n",
    "    y_min, y_max = (1 + margin) * y.min() - margin * y.max(), (1 + margin) * y.max() - margin * y.min()\n",
    "    xx, yy = np.meshgrid(np.linspace(x_min, x_max, nx),\n",
    "                         np.linspace(y_min, y_max, ny))\n",
    "    return xx, yy\n",
    "\n",
    "def plot_result(ax, clf, xx, yy, X, t):\n",
    "    Z = (clf.predict(np.c_[xx.ravel(), yy.ravel()])).reshape(xx.shape)\n",
    "    ax.contourf(xx, yy, Z, alpha=0.7)\n",
    "    ax.scatter(X[:,0], X[:,1], c=t, edgecolor='k')"
   ]
  },
  {
   "cell_type": "code",
   "execution_count": 14,
   "metadata": {
    "scrolled": true
   },
   "outputs": [
    {
     "data": {
      "image/png": "[encoded data removed]",
      "text/plain": [
       "<Figure size 432x288 with 1 Axes>"
      ]
     },
     "metadata": {},
     "output_type": "display_data"
    }
   ],
   "source": [
    "X, t = datasets.make_blobs(n_samples=200, n_features=2, centers=3, random_state=42)\n",
    "plt.scatter(X[:,0], X[:,1], c=t, edgecolor='k')\n",
    "plt.show()\n",
    "\n",
    "xx, yy = get_meshgrid(X[:, 0], X[:, 1], nx=100, ny=100, margin=0.1)"
   ]
  },
  {
   "cell_type": "markdown",
   "metadata": {},
   "source": [
    "Let us train our logistic regression classifier by three solvers."
   ]
  },
  {
   "cell_type": "code",
   "execution_count": 15,
   "metadata": {},
   "outputs": [
    {
     "name": "stdout",
     "output_type": "stream",
     "text": [
      "success : True\n",
      "nit : 693\n",
      "calcualtion time : 0.20700621604919434seconds\n"
     ]
    },
    {
     "data": {
      "image/png": "[encoded data removed]",
      "text/plain": [
       "<Figure size 432x288 with 1 Axes>"
      ]
     },
     "metadata": {},
     "output_type": "display_data"
    }
   ],
   "source": [
    "clf = LogisticClf(C = 3, lam = 1.0)\n",
    "clf.fit(X, t, show_message=True, method='gd', alpha=0.01)\n",
    "ax = plt.subplot(111)\n",
    "plot_result(ax, clf, xx, yy, X, t)"
   ]
  },
  {
   "cell_type": "code",
   "execution_count": 16,
   "metadata": {},
   "outputs": [
    {
     "name": "stdout",
     "output_type": "stream",
     "text": [
      "success : True\n",
      "nit : 8\n",
      "calcualtion time : 0.015000104904174805seconds\n"
     ]
    },
    {
     "data": {
      "image/png": "[encoded data removed]",
      "text/plain": [
       "<Figure size 432x288 with 1 Axes>"
      ]
     },
     "metadata": {},
     "output_type": "display_data"
    }
   ],
   "source": [
    "clf = LogisticClf(C = 3, lam = 1.0)\n",
    "clf.fit(X, t, show_message=True, method='newton')\n",
    "ax = plt.subplot(111)\n",
    "plot_result(ax, clf, xx, yy, X, t)"
   ]
  },
  {
   "cell_type": "code",
   "execution_count": 17,
   "metadata": {
    "scrolled": true
   },
   "outputs": [
    {
     "name": "stdout",
     "output_type": "stream",
     "text": [
      "success : True\n",
      "nit : 8\n",
      "calcualtion time : 0.012000799179077148seconds\n"
     ]
    },
    {
     "data": {
      "image/png": "[encoded data removed]",
      "text/plain": [
       "<Figure size 432x288 with 1 Axes>"
      ]
     },
     "metadata": {},
     "output_type": "display_data"
    }
   ],
   "source": [
    "clf = LogisticClf(C = 3, lam = 1.0)\n",
    "clf.fit(X, t, show_message=True, method='newton-cg')\n",
    "ax = plt.subplot(111)\n",
    "plot_result(ax, clf, xx, yy, X, t)"
   ]
  },
  {
   "cell_type": "markdown",
   "metadata": {},
   "source": [
    "We can see that data are completely separated, and the decision boundaries are straight, because we employed 'linear' basis functions. \n",
    "\n",
    "Moreover, Newton method and Newton-CG method converge much faster compared with gradient descent method in terms of both iteration number and real computational time. Note that in this case we have $MC = 9$."
   ]
  },
  {
   "cell_type": "markdown",
   "metadata": {},
   "source": [
    "## 4.2 Hand-written digits\n",
    "\n",
    "Let us try out larger data. Here, we use MNIST hand-written digits data."
   ]
  },
  {
   "cell_type": "code",
   "execution_count": 33,
   "metadata": {
    "scrolled": true
   },
   "outputs": [
    {
     "name": "stdout",
     "output_type": "stream",
     "text": [
      "Training data : 1347\n",
      "Test data : 450\n",
      "Input dimension : 64\n"
     ]
    }
   ],
   "source": [
    "digits = datasets.load_digits()\n",
    "dat_train, dat_test, label_train, label_test = train_test_split(digits.data, digits.target, test_size=0.25)\n",
    "\n",
    "print(f\"Training data : {len(dat_train)}\")\n",
    "print(f\"Test data : {len(dat_test)}\")\n",
    "print(f\"Input dimension : {dat_train.shape[1]}\")"
   ]
  },
  {
   "cell_type": "markdown",
   "metadata": {},
   "source": [
    "Thus, in training phase, we have $N=1347$, $M=65$, $C=10$, and hence $MC = 650$."
   ]
  },
  {
   "cell_type": "code",
   "execution_count": 34,
   "metadata": {
    "collapsed": true,
    "jupyter": {
     "outputs_hidden": true
    }
   },
   "outputs": [],
   "source": [
    "def show_result_digit(clf):\n",
    "    label_test_pred = clf.predict(dat_test)\n",
    "    print(f\"train accuracy score: {accuracy_score(label_train, clf.predict(dat_train))}\")\n",
    "    print(f\"test accuracy score: {accuracy_score(label_test, label_test_pred)}\")"
   ]
  },
  {
   "cell_type": "markdown",
   "metadata": {},
   "source": [
    "Let us compare the results for three solvers."
   ]
  },
  {
   "cell_type": "code",
   "execution_count": 35,
   "metadata": {
    "scrolled": true
   },
   "outputs": [
    {
     "name": "stdout",
     "output_type": "stream",
     "text": [
      "success : True\n",
      "nit : 2065\n",
      "calcualtion time : 3.0380754470825195seconds\n",
      "train accuracy score: 0.9977728285077951\n",
      "test accuracy score: 0.9733333333333334\n"
     ]
    }
   ],
   "source": [
    "clf = LogisticClf(C=10, lam=1.0)\n",
    "clf.fit(dat_train, label_train, method='gd', alpha=0.01, show_message=True)\n",
    "show_result_digit(clf)"
   ]
  },
  {
   "cell_type": "code",
   "execution_count": 36,
   "metadata": {
    "scrolled": true
   },
   "outputs": [
    {
     "name": "stdout",
     "output_type": "stream",
     "text": [
      "success : True\n",
      "nit : 9\n",
      "calcualtion time : 23.935264348983765seconds\n",
      "train accuracy score: 1.0\n",
      "test accuracy score: 0.9666666666666667\n"
     ]
    }
   ],
   "source": [
    "clf = LogisticClf(C=10, lam=1.0)\n",
    "clf.fit(dat_train, label_train, method='newton', show_message=True)\n",
    "show_result_digit(clf)"
   ]
  },
  {
   "cell_type": "code",
   "execution_count": 37,
   "metadata": {},
   "outputs": [
    {
     "name": "stdout",
     "output_type": "stream",
     "text": [
      "success : True\n",
      "nit : 9\n",
      "calcualtion time : 1.0520105361938477seconds\n",
      "train accuracy score: 1.0\n",
      "test accuracy score: 0.9666666666666667\n"
     ]
    }
   ],
   "source": [
    "clf = LogisticClf(C=10, lam=1.0)\n",
    "clf.fit(dat_train, label_train, method='newton-cg', show_message=True)\n",
    "show_result_digit(clf)"
   ]
  },
  {
   "cell_type": "markdown",
   "metadata": {},
   "source": [
    "It can be seen that \n",
    "* The numbers of iteration for Newton and Newton-CG method are much smaller compared with that of gradient descent method. \n",
    "* Newton method takes quite a long time, while Newton-CG method terminates much faster. This is because Newton-CG method requires less computational cost in solving the linear equation which appeared in the update equation.\n",
    "\n",
    "Interestingly, \n",
    "* In gradient descent case, training accuracy does not reach 1.0, which Newton method attained, because in this case the iteration can terminate before it reaches true minimum.\n",
    "* However, the test accuracy for gradient descent training is better than that for Newton method.\n",
    "\n",
    "It seems that this is an example of early stopping."
   ]
  },
  {
   "cell_type": "markdown",
   "metadata": {},
   "source": [
    "Below, we use Newton-CG method to train logistic regression classifier with different values of regularization parameter. We can see that, as we increase the regularization parameter, the training score gets worse, while the test score gets better, which is consistent with our intuition that larger regularization means larger bias and smaller variance."
   ]
  },
  {
   "cell_type": "code",
   "execution_count": 39,
   "metadata": {
    "scrolled": true
   },
   "outputs": [
    {
     "name": "stdout",
     "output_type": "stream",
     "text": [
      "lambda = 0.03\n",
      "success : True\n",
      "nit : 12\n",
      "calcualtion time : 3.8450474739074707seconds\n",
      "train accuracy score: 1.0\n",
      "test accuracy score: 0.9666666666666667\n",
      "lambda = 1.0\n",
      "success : True\n",
      "nit : 9\n",
      "calcualtion time : 1.0370075702667236seconds\n",
      "train accuracy score: 1.0\n",
      "test accuracy score: 0.9666666666666667\n",
      "lambda = 30.0\n",
      "success : True\n",
      "nit : 7\n",
      "calcualtion time : 0.31400346755981445seconds\n",
      "train accuracy score: 0.9977728285077951\n",
      "test accuracy score: 0.9711111111111111\n"
     ]
    }
   ],
   "source": [
    "lams = [0.03, 1.0, 30.0]\n",
    "\n",
    "for lam in lams:\n",
    "    print(f\"lambda = {lam}\")\n",
    "    clf = LogisticClf(C=10, lam=lam)\n",
    "    clf.fit(dat_train, label_train, method='newton-cg', show_message=True)\n",
    "    show_result_digit(clf)"
   ]
  },
  {
   "cell_type": "markdown",
   "metadata": {},
   "source": [
    "# Appendix scikit-learn\n",
    "\n",
    "In this appendix, we demonstrate how we can use the scikit-learn library to perform logistic regression.\n",
    "\n",
    "For detail, see official documentations ( http://scikit-learn.org/stable/modules/generated/sklearn.linear_model.LogisticRegression.html )."
   ]
  },
  {
   "cell_type": "code",
   "execution_count": 24,
   "metadata": {
    "collapsed": true,
    "jupyter": {
     "outputs_hidden": true
    }
   },
   "outputs": [],
   "source": [
    "from sklearn.linear_model import LogisticRegression"
   ]
  },
  {
   "cell_type": "code",
   "execution_count": 25,
   "metadata": {
    "scrolled": true
   },
   "outputs": [
    {
     "data": {
      "image/png": "[encoded data removed]",
      "text/plain": [
       "<Figure size 432x288 with 1 Axes>"
      ]
     },
     "metadata": {},
     "output_type": "display_data"
    }
   ],
   "source": [
    "clf = LogisticRegression(solver='newton-cg', multi_class='multinomial')\n",
    "clf.fit(X, t)\n",
    "ax = plt.subplot(111)\n",
    "plot_result(ax, clf, xx, yy, X, t)"
   ]
  },
  {
   "cell_type": "code",
   "execution_count": 26,
   "metadata": {},
   "outputs": [
    {
     "name": "stdout",
     "output_type": "stream",
     "text": [
      "train accuracy score: 1.0\n",
      "test accuracy score: 0.9555555555555556\n"
     ]
    }
   ],
   "source": [
    "clf = LogisticRegression(solver='newton-cg', multi_class='multinomial')\n",
    "clf.fit(dat_train, label_train)\n",
    "show_result_digit(clf)"
   ]
  }
 ],
 "metadata": {
  "kernelspec": {
   "display_name": "Python 3",
   "language": "python",
   "name": "python3"
  },
  "language_info": {
   "codemirror_mode": {
    "name": "ipython",
    "version": 3
   },
   "file_extension": ".py",
   "mimetype": "text/x-python",
   "name": "python",
   "nbconvert_exporter": "python",
   "pygments_lexer": "ipython3",
   "version": "3.7.3"
  }
 },
 "nbformat": 4,
 "nbformat_minor": 4
}

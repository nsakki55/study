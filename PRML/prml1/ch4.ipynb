{
 "cells": [
  {
   "cell_type": "code",
   "execution_count": 1,
   "metadata": {},
   "outputs": [],
   "source": [
    "import time\n",
    "import numpy as np\n",
    "import matplotlib.pyplot as plt\n",
    "%matplotlib inline"
   ]
  },
  {
   "cell_type": "markdown",
   "metadata": {},
   "source": [
    "## ロジスティック回帰実装\n",
    "筆者公式ノートブックから"
   ]
  },
  {
   "cell_type": "markdown",
   "metadata": {},
   "source": [
    "### データ型を行列に変形"
   ]
  },
  {
   "cell_type": "code",
   "execution_count": 41,
   "metadata": {},
   "outputs": [],
   "source": [
    "# 基底関数を適応した場合の特徴ベクトルを作成。今回の基底関数は線形基底関数なので\n",
    "# １列目に１を加えるだけでよい\n",
    "def calcPhimat(X):\n",
    "    '''\n",
    "    This function generates the design matrix Phi from X, the input data\n",
    "        \n",
    "    Parameters\n",
    "    ----------\n",
    "    X : 2-D numpy array\n",
    "        (N,d) numpy array, with X[n, i] = i-th element of x_n\n",
    "            \n",
    "    Returns\n",
    "    ----------\n",
    "    Phi : 2-D numpy array\n",
    "        The design matrix\n",
    "    '''\n",
    "    N = len(X)\n",
    "    if len(np.shape(X)) == 1:\n",
    "        d = 1\n",
    "    else:\n",
    "        d = np.shape(X)[1]\n",
    "    Phi = np.zeros((N,d+1))\n",
    "    Phi[:,0] = np.ones(N)\n",
    "    Phi[:,1:] = np.reshape(X, (N,d))\n",
    "    return Phi\n",
    "\n",
    "# 目的変数を 1 of K　表記の行列にする\n",
    "def calcTmat(y, C):\n",
    "    '''\n",
    "    This function generates the matrix T from the training label y and the number of classes C\n",
    "    \n",
    "    Parameters\n",
    "    ----------\n",
    "    y : 1-D numpy array\n",
    "        The elements of y should be integers in [0, C-1]\n",
    "    C : int\n",
    "        The number of classes\n",
    "        \n",
    "    Returns\n",
    "    ----------\n",
    "    T : (len(y), C) numpy array\n",
    "        T[n, c] = 1 if y[n] == c else 0\n",
    "    '''\n",
    "    N = len(y)\n",
    "    T = np.zeros((N, C))\n",
    "    for c in range(C):\n",
    "        T[:, c] = (y == c)\n",
    "    return T\n",
    "\n",
    "\n",
    "# ソフトマックス関数の計算\n",
    "def calcPmat(Theta, Phi):\n",
    "    '''\n",
    "    This function generates the matrix P from the weight Theta and the design matrix Phi\n",
    "    \n",
    "    Parameters\n",
    "    ----------\n",
    "    Theta : 2-D numpy array\n",
    "        Matrix representing the weight parameter\n",
    "    Phi : 2-D numpy array\n",
    "        The design matrix\n",
    "        \n",
    "    Returns\n",
    "    ----------\n",
    "    P : 2-D numpy array\n",
    "    '''\n",
    "    P = np.exp( Phi @ (Theta.T) )\n",
    "    P = P/np.reshape( np.sum(P, axis= 1), (len(Phi),1)  ) \n",
    "    return P"
   ]
  },
  {
   "cell_type": "code",
   "execution_count": 9,
   "metadata": {},
   "outputs": [
    {
     "data": {
      "text/plain": [
       "array([[ 1.        ,  6.50565335,  2.4470026 ],\n",
       "       [ 1.        , -5.12894273,  9.83618863],\n",
       "       [ 1.        , -6.89187396, -7.77736396],\n",
       "       [ 1.        , -8.32771153, -8.28757337],\n",
       "       [ 1.        , -7.46899195, -6.0305075 ],\n",
       "       [ 1.        , -6.13233359, -6.26973933],\n",
       "       [ 1.        , -2.70155859,  9.31583347],\n",
       "       [ 1.        , -7.3506655 , -6.64805966],\n",
       "       [ 1.        ,  4.375222  ,  4.69333885],\n",
       "       [ 1.        , -6.06676507, -6.25048075],\n",
       "       [ 1.        ,  3.71294836,  1.91364433],\n",
       "       [ 1.        ,  4.86733877,  3.28031244],\n",
       "       [ 1.        ,  5.72293008,  3.02697174],\n",
       "       [ 1.        ,  4.15451529,  2.05504382],\n",
       "       [ 1.        ,  2.61473625,  2.159624  ],\n",
       "       [ 1.        , -7.7086222 , -7.44029063],\n",
       "       [ 1.        , -2.58120774, 10.01781903],\n",
       "       [ 1.        , -7.70184759, -6.63642238],\n",
       "       [ 1.        ,  5.32613903,  0.36045381],\n",
       "       [ 1.        , -5.29361038, -8.11792509],\n",
       "       [ 1.        ,  6.76203503,  3.00563494],\n",
       "       [ 1.        ,  4.16493353,  1.31984045],\n",
       "       [ 1.        , -6.55690863, -7.70734054],\n",
       "       [ 1.        , -2.44166942,  7.58953794],\n",
       "       [ 1.        , -6.19767422, -7.19037635],\n",
       "       [ 1.        , -3.18611962,  9.62596242],\n",
       "       [ 1.        , -3.6601912 ,  9.38998415],\n",
       "       [ 1.        , -7.03141229, -6.29179239],\n",
       "       [ 1.        , -2.30033403,  7.054616  ],\n",
       "       [ 1.        ,  3.40292813,  0.65271307],\n",
       "       [ 1.        ,  3.12050887,  1.48893561],\n",
       "       [ 1.        ,  6.9545374 ,  0.10590449],\n",
       "       [ 1.        , -8.59276172, -5.52623722],\n",
       "       [ 1.        , -7.70512439, -7.20149543],\n",
       "       [ 1.        , -2.14780202, 10.55232269],\n",
       "       [ 1.        , -2.40954626,  8.51081047],\n",
       "       [ 1.        , -6.46669574, -7.44383415],\n",
       "       [ 1.        , -1.92234053, 11.20474175],\n",
       "       [ 1.        , -6.63466062, -7.38705277],\n",
       "       [ 1.        , -2.41743685,  7.02671721],\n",
       "       [ 1.        ,  3.43958243,  1.63866845],\n",
       "       [ 1.        , -3.31769123,  8.51252908],\n",
       "       [ 1.        , -7.86113584, -6.41800612],\n",
       "       [ 1.        ,  6.27229014,  0.54302831],\n",
       "       [ 1.        , -7.69784787, -4.78772232],\n",
       "       [ 1.        ,  5.26554618,  1.11601213],\n",
       "       [ 1.        ,  3.75036441,  1.1573594 ],\n",
       "       [ 1.        , -6.80982511, -7.26542319],\n",
       "       [ 1.        ,  3.26220947,  1.03534464],\n",
       "       [ 1.        , -1.59379551,  9.34303724],\n",
       "       [ 1.        , -4.68982426, -7.68840788],\n",
       "       [ 1.        , -3.05358035,  9.12520872],\n",
       "       [ 1.        , -5.70018707, -7.34928525],\n",
       "       [ 1.        , -1.71816568,  8.10489867],\n",
       "       [ 1.        , -3.98771961,  8.29444192],\n",
       "       [ 1.        , -3.11090424, 10.86656431],\n",
       "       [ 1.        , -4.74659382, -8.83219739],\n",
       "       [ 1.        ,  4.38731068,  0.7253865 ],\n",
       "       [ 1.        , -3.21125072,  8.68662398],\n",
       "       [ 1.        ,  3.44857534,  2.62972329],\n",
       "       [ 1.        , -5.92920335, -7.45701325],\n",
       "       [ 1.        , -3.42862186, 10.56422053],\n",
       "       [ 1.        , -5.98002732, -6.57281007],\n",
       "       [ 1.        , -6.8986434 , -7.88263896],\n",
       "       [ 1.        , -6.00730655, -6.69676759],\n",
       "       [ 1.        , -6.6805675 , -7.48032647],\n",
       "       [ 1.        , -3.57150134,  9.48787856],\n",
       "       [ 1.        , -1.68665271,  7.79344248],\n",
       "       [ 1.        , -5.90450746, -7.02716697],\n",
       "       [ 1.        , -1.77073104,  9.18565441],\n",
       "       [ 1.        , -2.18511365,  8.62920385],\n",
       "       [ 1.        , -6.65553471, -6.86751719],\n",
       "       [ 1.        , -3.4172217 ,  7.60198243],\n",
       "       [ 1.        ,  3.97809237,  2.82560302],\n",
       "       [ 1.        , -1.10640331,  7.61243507],\n",
       "       [ 1.        ,  5.1549141 ,  2.48695563],\n",
       "       [ 1.        ,  3.56898634,  2.4556421 ],\n",
       "       [ 1.        , -2.97867201,  9.55684617],\n",
       "       [ 1.        ,  5.15492652,  5.82590117],\n",
       "       [ 1.        , -2.98837186,  8.82862715],\n",
       "       [ 1.        , -2.52269485,  7.9565752 ],\n",
       "       [ 1.        ,  4.85397258,  0.72743091],\n",
       "       [ 1.        ,  1.3986115 ,  0.94878204],\n",
       "       [ 1.        , -6.55546084, -7.01025265],\n",
       "       [ 1.        , -6.78263123, -6.28495257],\n",
       "       [ 1.        , -6.33252981, -7.08230225],\n",
       "       [ 1.        , -6.87438349, -6.833129  ],\n",
       "       [ 1.        , -2.42215055,  8.71527878],\n",
       "       [ 1.        ,  4.69808755,  0.83019939],\n",
       "       [ 1.        , -7.09730839, -5.78133274],\n",
       "       [ 1.        ,  4.68545068,  1.32156934],\n",
       "       [ 1.        , -3.92456837,  8.59364081],\n",
       "       [ 1.        , -4.05986105,  9.0828491 ],\n",
       "       [ 1.        , -2.54390939,  7.84560809],\n",
       "       [ 1.        ,  4.65288073,  3.42670376],\n",
       "       [ 1.        , -7.59807141, -7.09355674],\n",
       "       [ 1.        , -3.34841515,  8.70507375],\n",
       "       [ 1.        ,  4.89037169,  2.31961789],\n",
       "       [ 1.        ,  5.08369826,  2.74780374],\n",
       "       [ 1.        , -2.90130578,  7.55077118],\n",
       "       [ 1.        , -5.57414838, -6.85910575],\n",
       "       [ 1.        , -7.32969266, -6.25725966],\n",
       "       [ 1.        , -2.85191214,  8.21200886],\n",
       "       [ 1.        , -7.08774944, -7.37311053],\n",
       "       [ 1.        , -2.21307735,  9.2753414 ],\n",
       "       [ 1.        ,  4.41641605,  2.68717018],\n",
       "       [ 1.        , -6.36028068, -5.34737068],\n",
       "       [ 1.        ,  4.32460959,  2.7321389 ],\n",
       "       [ 1.        ,  5.80304259,  1.98340274],\n",
       "       [ 1.        , -8.47405485, -7.47948462],\n",
       "       [ 1.        ,  4.89976163,  2.75499256],\n",
       "       [ 1.        ,  5.14486612,  2.83892488],\n",
       "       [ 1.        , -2.16557933,  7.25124597],\n",
       "       [ 1.        , -6.1894832 , -7.28133007],\n",
       "       [ 1.        , -3.03895783,  9.52755356],\n",
       "       [ 1.        , -9.00352292, -7.40586461],\n",
       "       [ 1.        , -5.42848358, -5.92083877],\n",
       "       [ 1.        , -4.23411546,  8.4519986 ],\n",
       "       [ 1.        , -2.96983639, 10.07140835],\n",
       "       [ 1.        , -2.62484591,  8.71318243],\n",
       "       [ 1.        , -4.72644473, -7.64745716],\n",
       "       [ 1.        ,  6.40533308,  2.37815139],\n",
       "       [ 1.        , -3.49973395,  8.4479884 ],\n",
       "       [ 1.        , -6.80382263, -7.5572713 ],\n",
       "       [ 1.        , -6.53787122, -5.00393875],\n",
       "       [ 1.        ,  4.19336388,  2.82956848],\n",
       "       [ 1.        , -2.17793419,  9.98983126],\n",
       "       [ 1.        , -1.69568041,  7.78342181],\n",
       "       [ 1.        ,  3.7560214 ,  2.12689479],\n",
       "       [ 1.        , -1.4781981 ,  9.94556625],\n",
       "       [ 1.        ,  5.5938806 ,  2.62456094],\n",
       "       [ 1.        , -6.90052879, -6.76278221],\n",
       "       [ 1.        , -1.04354885,  8.78850983],\n",
       "       [ 1.        , -6.85511702, -6.3821113 ],\n",
       "       [ 1.        , -7.71934903, -7.47950224],\n",
       "       [ 1.        ,  5.60325497,  2.38595061],\n",
       "       [ 1.        ,  4.70415886,  0.89542491],\n",
       "       [ 1.        ,  6.78382293,  2.60708871],\n",
       "       [ 1.        , -2.41212007,  9.98293112],\n",
       "       [ 1.        ,  5.90678999,  1.26550022],\n",
       "       [ 1.        , -4.42796884,  8.98777225],\n",
       "       [ 1.        , -3.52202874,  9.32853346],\n",
       "       [ 1.        , -8.1998604 , -5.04865083],\n",
       "       [ 1.        ,  3.0323956 ,  2.15780354],\n",
       "       [ 1.        ,  4.56277713,  2.31432166],\n",
       "       [ 1.        , -3.83738367,  9.21114736],\n",
       "       [ 1.        ,  3.95985411,  2.20542338],\n",
       "       [ 1.        , -6.02196757, -7.04004812],\n",
       "       [ 1.        , -6.76610985, -6.21797892],\n",
       "       [ 1.        ,  4.19983435,  2.10391026],\n",
       "       [ 1.        , -3.6155326 ,  7.8180795 ],\n",
       "       [ 1.        , -6.89814033, -7.16876823],\n",
       "       [ 1.        ,  5.461939  ,  3.86996267],\n",
       "       [ 1.        , -6.99416704, -5.64229328],\n",
       "       [ 1.        ,  3.86705362,  1.73635108],\n",
       "       [ 1.        , -5.72151632, -6.0884469 ],\n",
       "       [ 1.        , -7.88564457, -8.09429821],\n",
       "       [ 1.        , -2.25164723,  8.93984021],\n",
       "       [ 1.        ,  5.11311646,  1.90034077],\n",
       "       [ 1.        ,  5.79847442,  1.15248737],\n",
       "       [ 1.        , -1.6966718 , 10.37052616],\n",
       "       [ 1.        ,  4.39449072,  1.21943352],\n",
       "       [ 1.        ,  4.9976662 ,  2.53395421],\n",
       "       [ 1.        , -6.98838734, -6.47839787],\n",
       "       [ 1.        , -2.72886951,  9.3713987 ],\n",
       "       [ 1.        ,  5.21076935,  3.10873532],\n",
       "       [ 1.        ,  4.93295131,  1.25881827],\n",
       "       [ 1.        , -3.29245092,  8.69222461],\n",
       "       [ 1.        , -6.59863532, -7.50280911],\n",
       "       [ 1.        ,  4.91656964,  2.80035293],\n",
       "       [ 1.        , -5.6019623 , -7.47168098],\n",
       "       [ 1.        , -2.50408417,  8.77969899],\n",
       "       [ 1.        ,  3.92457513,  2.65276743],\n",
       "       [ 1.        , -6.52261171, -7.57301919],\n",
       "       [ 1.        , -1.36637481,  9.76621916],\n",
       "       [ 1.        ,  6.08115213,  0.53730753],\n",
       "       [ 1.        , -2.44896741, 11.47752824],\n",
       "       [ 1.        , -3.10983631,  8.72259238],\n",
       "       [ 1.        , -2.67048333,  9.41833699],\n",
       "       [ 1.        ,  3.37899488,  2.89103163],\n",
       "       [ 1.        , -2.97261532,  8.54855637],\n",
       "       [ 1.        ,  3.8473581 ,  1.85843324],\n",
       "       [ 1.        , -6.78195109, -7.65311938],\n",
       "       [ 1.        , -6.25550737, -6.25176408],\n",
       "       [ 1.        , -6.05421084, -6.06659996],\n",
       "       [ 1.        , -1.03130358,  8.49601591],\n",
       "       [ 1.        ,  5.1618204 ,  2.27015436],\n",
       "       [ 1.        ,  4.81305976,  2.35848706],\n",
       "       [ 1.        ,  3.79308512,  0.45832246],\n",
       "       [ 1.        , -2.54502366, 10.57892978],\n",
       "       [ 1.        , -2.1475616 ,  8.36916637],\n",
       "       [ 1.        ,  3.9095122 ,  2.18962827],\n",
       "       [ 1.        , -7.77804186, -6.38819042],\n",
       "       [ 1.        , -7.63875985, -6.72971581],\n",
       "       [ 1.        , -2.26723535,  7.10100588],\n",
       "       [ 1.        , -6.56871963, -5.40475338],\n",
       "       [ 1.        , -0.62301172,  9.18886394],\n",
       "       [ 1.        , -0.92998481,  9.78172086],\n",
       "       [ 1.        ,  4.16794697,  3.06212028],\n",
       "       [ 1.        ,  3.66519717,  2.76025429]])"
      ]
     },
     "execution_count": 9,
     "metadata": {},
     "output_type": "execute_result"
    }
   ],
   "source": [
    "from sklearn import datasets\n",
    "\n",
    "X, t = datasets.make_blobs(n_samples=200, n_features=2, centers=3, random_state=42)\n",
    "calcPhimat(X)"
   ]
  },
  {
   "cell_type": "markdown",
   "metadata": {},
   "source": [
    "### 損失関数の定義"
   ]
  },
  {
   "cell_type": "code",
   "execution_count": 46,
   "metadata": {},
   "outputs": [],
   "source": [
    "# 損失関数の値を返してくれる\n",
    "def cost_function(thtvec, Phi, T, lam):\n",
    "    '''\n",
    "    This function calculate the loss function and its gradient\n",
    "    \n",
    "    Parameters\n",
    "    ----------\n",
    "    thtvec : 1-D numpy array \n",
    "        (M*C,) array, which represents the weight parameter Theta, in flattened form\n",
    "    Phi : 2-D numpy array\n",
    "        (N, M) array, design matrix\n",
    "    T : 2-D numpy array\n",
    "        (N, C) array, where T[n, c] = 1 if y[n] == c else 0\n",
    "    lam : float\n",
    "        The regularization constant\n",
    "    \n",
    "    Returns\n",
    "    ----------\n",
    "    J : float\n",
    "        The value of cost function        \n",
    "    '''\n",
    "    \n",
    "    N, M = np.shape(Phi) # N: データ数、M: 特徴量数\n",
    "    C = np.shape(T)[1] # C:クラス数\n",
    "    Theta = np.reshape(thtvec, (C, M))\n",
    "    P = calcPmat(Theta, Phi) # 事後確率、ソフトマックス関数の値\n",
    "    J = -1.0/N*np.sum(T*np.log(P)) + lam/(2.0*N)*np.linalg.norm(thtvec)**2\n",
    "    return J"
   ]
  },
  {
   "cell_type": "code",
   "execution_count": 43,
   "metadata": {},
   "outputs": [],
   "source": [
    "# 損失関数の勾配\n",
    "def grad_cost_function(thtvec, Phi, T, lam):\n",
    "    '''\n",
    "    This function calculates the gradient of the cost function \n",
    "    \n",
    "    Parameters\n",
    "    ----------\n",
    "    See the help for cost_function\n",
    "        \n",
    "    Returns\n",
    "    ----------\n",
    "    grad_vec : 2-D array\n",
    "        The gradient of the cost function with respect to the weight parameter Theta, in flattened form\n",
    "    '''\n",
    "    N, M = np.shape(Phi)\n",
    "    C = np.shape(T)[1]\n",
    "    Theta = np.reshape(thtvec, (C, M))\n",
    "    P = calcPmat(Theta, Phi)\n",
    "    grad_mat = 1.0/N*((P - T).T) @ Phi + lam/N*Theta\n",
    "    grad_vec = np.reshape(grad_mat, len(thtvec))\n",
    "    return grad_vec"
   ]
  },
  {
   "cell_type": "code",
   "execution_count": 15,
   "metadata": {},
   "outputs": [],
   "source": [
    "# ニューラトンラフソン法に用いるヘッセ行列とベクトルの積を計算する\n",
    "def hess_cost_function(thtvec, Phi, T, lam):\n",
    "    '''\n",
    "    This function calculates the Hessian of the cost function \n",
    "    \n",
    "    Parameters\n",
    "    ----------\n",
    "    See the help for cost_function\n",
    "    \n",
    "    Returns\n",
    "    ----------\n",
    "    H : 2-D array\n",
    "        The hessian\n",
    "    '''\n",
    "    \n",
    "    N, M = np.shape(Phi)\n",
    "    C = np.shape(T)[1]\n",
    "    Theta = np.reshape(thtvec, (C, M))\n",
    "    P = calcPmat(Theta, Phi)\n",
    "    tmparr_A = np.reshape(P, (N, C, 1)) * ( np.reshape(np.identity(C), (1, C, C)) - np.reshape(P, (N, 1, C)) )\n",
    "    tmparr_B = np.reshape(Phi, (N, M, 1)) * np.reshape(Phi, (N, 1, M)) \n",
    "    H_tmp = np.einsum('nik,njl->ijkl', tmparr_A, tmparr_B)/N # アインシュタインの縮約記法\n",
    "    H = np.reshape(H_tmp, (C*M, C*M)) + lam/N*np.identity(C*M)\n",
    "    return H"
   ]
  },
  {
   "cell_type": "code",
   "execution_count": 12,
   "metadata": {},
   "outputs": [],
   "source": [
    "from scipy.sparse.linalg import LinearOperator\n",
    "\n",
    "def hessp_cost_function(thtvec, Phi, T, lam):\n",
    "    '''\n",
    "    This function returns the function representing the product of Hessian and a given vector\n",
    "    \n",
    "    Parameters\n",
    "    ----------\n",
    "    See the help for cost_function\n",
    "    \n",
    "    Returns\n",
    "    ----------\n",
    "    A : scipy.sparse,linalg.LinearOperator object\n",
    "        A linear operator representing the Hessian of the cost function\n",
    "    '''\n",
    "    N, M = np.shape(Phi)\n",
    "    C = np.shape(T)[1]\n",
    "    Theta = np.reshape(thtvec, (C, M))\n",
    "    P = calcPmat(Theta, Phi)\n",
    "    def hp(v):\n",
    "        V = np.reshape(v, (C, M))\n",
    "        tmp = Phi @ V.T\n",
    "        tmp = tmp - np.reshape(np.sum(P*tmp, axis=1), (N, -1))\n",
    "        product = ((P*tmp).T @ Phi)/N + lam/N*V\n",
    "        product = product.flatten()\n",
    "        return product\n",
    "    A = LinearOperator((C*M, C*M), matvec=hp)\n",
    "    return A"
   ]
  },
  {
   "cell_type": "markdown",
   "metadata": {},
   "source": [
    "### 損失関数の最小化アルゴリズム"
   ]
  },
  {
   "cell_type": "code",
   "execution_count": 35,
   "metadata": {},
   "outputs": [],
   "source": [
    "# 最急降下法\n",
    "def minimize_GD(func, x0, grad, alpha=0.01, maxiter=1e4, ftol=1e-5):\n",
    "    '''\n",
    "    This function minimizes the given function using gradient descent method\n",
    "    \n",
    "    Parameters\n",
    "    ----------\n",
    "    func : callable\n",
    "        Function to be minimized (real-valued)\n",
    "    x0 : 1-D array\n",
    "        Initial value of the variable\n",
    "    grad : callable\n",
    "        The gradient of func (returns 1-D array)\n",
    "    alpha : float\n",
    "        Learning rate\n",
    "    maxiter : int\n",
    "        Maximum number of iteration\n",
    "    ftol : float\n",
    "        The threshold for stopping criterion. If the change of the value of function is smaller than this value, the iteration stops.\n",
    "    \n",
    "    Returns\n",
    "    ----------\n",
    "    result : dictionary\n",
    "        result['x'] ... variable, result['nit'] ... the number of iteration, result['func']...the value of the function, result['success']... whether the minimization is successful or not\n",
    "    '''\n",
    "    x = x0\n",
    "    nit = 0\n",
    "    while nit < maxiter:\n",
    "        xold = x\n",
    "        x = x - alpha*grad(x)\n",
    "        nit += 1\n",
    "        if abs(func(x) - func(xold)) < ftol:\n",
    "            break\n",
    "    success = (nit < maxiter)\n",
    "    return {'x': x, 'nit':nit, 'func':func(x), 'success':success}\n",
    "    "
   ]
  },
  {
   "cell_type": "code",
   "execution_count": 17,
   "metadata": {},
   "outputs": [],
   "source": [
    "# Newton法（損失関数を最小化させる）\n",
    "def minimize_newton(func, x0, grad, hess, maxiter=1e4, ftol=1e-5):\n",
    "    '''\n",
    "    This function minimizes the given function using Newton method\n",
    "    \n",
    "    Parameters\n",
    "    ----------\n",
    "    func : callable\n",
    "        Function to be minimized (real-valued)\n",
    "    x0 : 1-D array\n",
    "        Initial value of the variable\n",
    "    grad : callable\n",
    "        The gradient of func (returns 1-D array)\n",
    "    hess: callable\n",
    "        The hessian of func (returns 2-D array)\n",
    "    maxiter : int\n",
    "        Maximum number of iteration\n",
    "    ftol : float\n",
    "        The threshold for stopping criterion. If the change of the value of function is smaller than this value, the iteration stops.\n",
    "    \n",
    "    Returns\n",
    "    ----------\n",
    "    result : dictionary\n",
    "        result['x'] ... variable, result['nit'] ... the number of iteration, result['func']...the value of the function, result['success']... whether the minimization is successful or not\n",
    "    '''\n",
    "    \n",
    "    x = x0\n",
    "    nit = 0\n",
    "    while nit < maxiter:\n",
    "        xold = x\n",
    "        x = x - np.linalg.solve(hess(x), grad(x))\n",
    "        nit += 1\n",
    "        if abs(func(x) - func(xold)) < ftol:\n",
    "            break\n",
    "        success = (nit < maxiter)\n",
    "        return {'x':x, 'nit':nit, 'func':func(x), 'success':success}\n"
   ]
  },
  {
   "cell_type": "code",
   "execution_count": 16,
   "metadata": {},
   "outputs": [],
   "source": [
    "# 共役勾配法による損失関数の最小化 Newton-CG法と呼ぶらしい\n",
    "# https://qiita.com/Dason08/items/27559e192a6a977dd5e5\n",
    "\n",
    "from scipy.sparse.linalg import cg\n",
    "\n",
    "def minimize_ncg(func, x0, grad, hessp, maxiter=1e4, ftol=1e-5):\n",
    "    '''\n",
    "    This function minimizes the given function using Newton-CG method\n",
    "    \n",
    "    Parameters\n",
    "    ----------\n",
    "    func : callable\n",
    "        Function to be minimized (real-valued)\n",
    "    x0 : 1-D array\n",
    "        Initial value of the variable\n",
    "    grad : callable\n",
    "        The gradient of func (returns 1-D array)\n",
    "    hessp: callable\n",
    "        A function which returns scipy.sparse.linalg.LinearOperator object representing Hessian\n",
    "    maxiter : int\n",
    "        Maximum number of iteration\n",
    "    ftol : float\n",
    "        The threshold for stopping criterion. If the change of the value of function is smaller than this value, the iteration stops.\n",
    "    \n",
    "    Returns\n",
    "    ----------\n",
    "    result : dictionary\n",
    "        result['x'] ... variable, result['nit'] ... the number of iteration, result['func']...the value of the function, result['success']... whether the minimization is successful or not\n",
    "    '''\n",
    "    x = x0\n",
    "    nit = 0\n",
    "    while nit < maxiter:\n",
    "        xold = x\n",
    "        x = x - cg(A=hessp(x), b=grad(x))[0]\n",
    "        nit += 1\n",
    "        if abs(func(x) - func(xold)) < ftol:\n",
    "            break\n",
    "    success = (nit < maxiter)\n",
    "    return {'x': x, 'nit':nit, 'func':func(x), 'success':success} "
   ]
  },
  {
   "cell_type": "code",
   "execution_count": 18,
   "metadata": {},
   "outputs": [],
   "source": [
    "# 既に定義した損失関数の最小化アルゴリズムを選択できるようにまとめたもの\n",
    "def minimize(func, x0, method, grad, hess=None, hessp=None, alpha=None, maxiter=1e4, ftol=1e-5):\n",
    "    '''\n",
    "    This function minimizes the given function using the method speicified by user.\n",
    "    \n",
    "    Parameters\n",
    "    ----------\n",
    "    func : callable\n",
    "        Function to be minimized (real-valued)\n",
    "    x0 : 1-D array\n",
    "        Initial value of the variable\n",
    "    method : string\n",
    "        One of 'gd', 'newton', 'newton-cg'.\n",
    "    grad : callable\n",
    "        The gradient of func (returns 1-D array)\n",
    "    hess : callable\n",
    "        The hessian of func (returns 2-D array). Required when method='newton'\n",
    "    hessp: callable\n",
    "        A function which returns scipy.sparse.linalg.LinearOperator object representing Hessian. Required when method='newton-cg'\n",
    "    alpha : float\n",
    "        Learning rate\n",
    "    maxiter : int\n",
    "        Maximum number of iteration\n",
    "    ftol : float\n",
    "        The threshold for stopping criterion. If the change of the value of function is smaller than this value, the iteration stops.\n",
    "    \n",
    "    Returns\n",
    "    ----------\n",
    "    result : dictionary\n",
    "        result['x'] ... variable, result['nit'] ... the number of iteration, result['func']...the value of the function, result['success']... whether the minimization is successful or not\n",
    "    '''\n",
    "    if method == 'gd':\n",
    "        if alpha is None:\n",
    "            print(\"Gradient descent needs a learning rate parameter alpha.\")\n",
    "            return\n",
    "        else:\n",
    "            return minimize_GD(func, x0, grad, alpha, maxiter, ftol)\n",
    "    elif method == 'newton':\n",
    "        if hess is None:\n",
    "            print(\"Newton-Raphson method requires the hessian.\")\n",
    "            return\n",
    "        else:\n",
    "            return minimize_newton(func, x0, grad, hess, maxiter, ftol)\n",
    "    elif method == 'newton-cg':\n",
    "        if hessp is None:\n",
    "            print(\"Newton-CG method requires the hessian-product function.\")\n",
    "            return\n",
    "        else:\n",
    "            return minimize_ncg(func, x0, grad, hessp, maxiter, ftol)\n",
    "    else:\n",
    "        print(\"method should be one of gd, newton, newton-cg\")"
   ]
  },
  {
   "cell_type": "markdown",
   "metadata": {},
   "source": [
    "### ロジスティック回帰の実装"
   ]
  },
  {
   "cell_type": "code",
   "execution_count": 38,
   "metadata": {},
   "outputs": [],
   "source": [
    "# ロジスティック関数の実装\n",
    "class LogisticClf:\n",
    "    def __init__(self, C, lam):\n",
    "        self.C = C  # the number of labels\n",
    "        self.lam = lam #regularization parameter\n",
    "        self.Theta = None\n",
    "            \n",
    "    def fit(self, X, y, method='NR', alpha=None, maxiter=1e4, ftol=1e-5, show_message=False):\n",
    "        '''\n",
    "        Parameters\n",
    "        ----------\n",
    "        X : 1-D or 2-D numpy array\n",
    "            (N,) or (N, d) array, representing the training input data\n",
    "        y : 1-D numpy arra\n",
    "            (N,) array, representing training labels\n",
    "        '''\n",
    "        Phi = calcPhimat(X)\n",
    "        T = calcTmat(y, self.C)\n",
    "        N, M = np.shape(Phi)\n",
    "        \n",
    "        tht0 = np.zeros(M*self.C)\n",
    "        time_start = time.time()\n",
    "        result = minimize(func=lambda x : cost_function(x, Phi, T, self.lam), \n",
    "                          x0=tht0, \n",
    "                          method=method,\n",
    "                          grad=lambda x : grad_cost_function(x, Phi, T, self.lam),\n",
    "                          hess=lambda x : hess_cost_function(x, Phi, T, self.lam),\n",
    "                          hessp = lambda x : hessp_cost_function(x, Phi, T, self.lam),\n",
    "                          alpha=alpha,\n",
    "                          maxiter=maxiter,\n",
    "                          ftol=ftol\n",
    "                         )\n",
    "        time_end = time.time()\n",
    "        if show_message:\n",
    "            print(f\"success : {result['success']}\")\n",
    "            print(f\"nit : {result['nit']}\")\n",
    "            print(f\"calcualtion time : {time_end - time_start}seconds\")\n",
    "        self.Theta = np.reshape(result['x'], (self.C, M))\n",
    "        \n",
    "    def predict_proba(self, X):\n",
    "        '''\n",
    "        Parameters\n",
    "        ----------\n",
    "        X : 1-D or 2-D numpy array\n",
    "            (N,) or (N, d) array, representing the training input data\n",
    "        Returns\n",
    "        ----------\n",
    "        proba : 2-D numpy arra\n",
    "            (len(X), self.C) array, where proba[n, c] represents the probability that the n-th instance belongs to c-th class\n",
    "        '''\n",
    "        return calcPmat(self.Theta, calcPhimat(X))\n",
    "        \n",
    "    def predict(self, X):\n",
    "        '''\n",
    "        Parameters\n",
    "        ----------\n",
    "        X : 1-D or 2-D numpy array\n",
    "            (N,) or (N, d) array, representing the training input data\n",
    "        Returns\n",
    "        ----------\n",
    "        classes : 1-D numpy arra\n",
    "            (len(X), ) array, where classes[n] represents the predicted class to which the n-th instance belongs\n",
    "        '''\n",
    "        tmp = self.predict_proba(X)\n",
    "        return np.argmax(tmp, axis=1 )"
   ]
  },
  {
   "cell_type": "markdown",
   "metadata": {},
   "source": [
    "### 学習の実装"
   ]
  },
  {
   "cell_type": "code",
   "execution_count": 52,
   "metadata": {},
   "outputs": [
    {
     "data": {
      "image/png": "[encoded data removed]",
      "text/plain": [
       "<Figure size 432x288 with 1 Axes>"
      ]
     },
     "metadata": {
      "needs_background": "light"
     },
     "output_type": "display_data"
    }
   ],
   "source": [
    "from sklearn import datasets\n",
    "from sklearn.metrics import accuracy_score\n",
    "from sklearn.model_selection import train_test_split\n",
    "\n",
    "def get_meshgrid(x, y, nx, ny, margin=0.1):\n",
    "    x_min, x_max = (1 + margin) * x.min() - margin * x.max(), (1 + margin) * x.max() - margin * x.min()\n",
    "    y_min, y_max = (1 + margin) * y.min() - margin * y.max(), (1 + margin) * y.max() - margin * y.min()\n",
    "    xx, yy = np.meshgrid(np.linspace(x_min, x_max, nx),\n",
    "                         np.linspace(y_min, y_max, ny))\n",
    "    return xx, yy\n",
    "\n",
    "def plot_result(ax, clf, xx, yy, X, t):\n",
    "    Z = (clf.predict(np.c_[xx.ravel(), yy.ravel()])).reshape(xx.shape)\n",
    "    ax.contourf(xx, yy, Z, alpha=0.7)\n",
    "    ax.scatter(X[:,0], X[:,1], c=t, edgecolor='k')\n",
    "    \n",
    "X, t = datasets.make_blobs(n_samples=200, n_features=2, centers=3, random_state=42)\n",
    "plt.scatter(X[:,0], X[:,1], c=t, edgecolors='k')\n",
    "plt.show()\n",
    "\n",
    "xx, yy = get_meshgrid(X[:,0], X[:,1], nx=100, ny=100, margin=1)"
   ]
  },
  {
   "cell_type": "code",
   "execution_count": 55,
   "metadata": {},
   "outputs": [
    {
     "name": "stdout",
     "output_type": "stream",
     "text": [
      "success : True\n",
      "nit : 693\n",
      "calcualtion time : 0.10983514785766602seconds\n"
     ]
    },
    {
     "data": {
      "image/png": "[encoded data removed]",
      "text/plain": [
       "<Figure size 432x288 with 1 Axes>"
      ]
     },
     "metadata": {
      "needs_background": "light"
     },
     "output_type": "display_data"
    }
   ],
   "source": [
    "clf = LogisticClf(C=3, lam=1.0)\n",
    "clf.fit(X, t, show_message=True, method='gd', alpha=0.01)\n",
    "ax = plt.subplot(111)\n",
    "plot_result(ax, clf, xx, yy, X,t)"
   ]
  },
  {
   "cell_type": "code",
   "execution_count": 50,
   "metadata": {},
   "outputs": [
    {
     "name": "stdout",
     "output_type": "stream",
     "text": [
      "success : True\n",
      "nit : 1\n",
      "calcualtion time : 0.006907939910888672seconds\n"
     ]
    },
    {
     "data": {
      "image/png": "[encoded data removed]",
      "text/plain": [
       "<Figure size 432x288 with 1 Axes>"
      ]
     },
     "metadata": {
      "needs_background": "light"
     },
     "output_type": "display_data"
    }
   ],
   "source": [
    "clf = LogisticClf(C = 3, lam = 1.0)\n",
    "clf.fit(X, t, show_message=True, method='newton')\n",
    "ax = plt.subplot(111)\n",
    "plot_result(ax, clf, xx, yy, X, t)"
   ]
  },
  {
   "cell_type": "code",
   "execution_count": 51,
   "metadata": {},
   "outputs": [
    {
     "name": "stdout",
     "output_type": "stream",
     "text": [
      "success : True\n",
      "nit : 8\n",
      "calcualtion time : 0.014481782913208008seconds\n"
     ]
    },
    {
     "data": {
      "image/png": "[encoded data removed]",
      "text/plain": [
       "<Figure size 432x288 with 1 Axes>"
      ]
     },
     "metadata": {
      "needs_background": "light"
     },
     "output_type": "display_data"
    }
   ],
   "source": [
    "clf = LogisticClf(C = 3, lam = 1.0)\n",
    "clf.fit(X, t, show_message=True, method='newton-cg')\n",
    "ax = plt.subplot(111)\n",
    "plot_result(ax, clf, xx, yy, X, t)"
   ]
  },
  {
   "cell_type": "code",
   "execution_count": 69,
   "metadata": {},
   "outputs": [
    {
     "name": "stdout",
     "output_type": "stream",
     "text": [
      "Training data : 1347\n",
      "Test data : 450\n",
      "Input dimension : 64\n"
     ]
    },
    {
     "data": {
      "text/plain": [
       "<matplotlib.image.AxesImage at 0x1a2d1c52e8>"
      ]
     },
     "execution_count": 69,
     "metadata": {},
     "output_type": "execute_result"
    },
    {
     "data": {
      "image/png": "[encoded data removed]",
      "text/plain": [
       "<Figure size 432x288 with 1 Axes>"
      ]
     },
     "metadata": {
      "needs_background": "light"
     },
     "output_type": "display_data"
    }
   ],
   "source": [
    "# mnistでの分類\n",
    "\n",
    "def show_result_digit(clf):\n",
    "    label_test_pred = clf.predict(dat_test)\n",
    "    print(f\"train accuracy score: {accuracy_score(label_train, clf.predict(dat_train))}\")\n",
    "    print(f\"test accuracy score: {accuracy_score(label_test, label_test_pred)}\")\n",
    "    \n",
    "digits = datasets.load_digits()\n",
    "dat_train, dat_test, label_train, label_test = train_test_split(digits.data, digits.target, test_size=0.25)\n",
    "\n",
    "print(f\"Training data : {len(dat_train)}\")\n",
    "print(f\"Test data : {len(dat_test)}\")\n",
    "print(f\"Input dimension : {dat_train.shape[1]}\")\n",
    "plt.imshow(dat_train[0].reshape(8, 8))"
   ]
  },
  {
   "cell_type": "code",
   "execution_count": 68,
   "metadata": {},
   "outputs": [
    {
     "name": "stdout",
     "output_type": "stream",
     "text": [
      "success : True\n",
      "nit : 2119\n",
      "calcualtion time : 1.2015049457550049seconds\n",
      "train accuracy score: 0.9977728285077951\n",
      "test accuracy score: 0.9755555555555555\n"
     ]
    }
   ],
   "source": [
    "clf = LogisticClf(C=10, lam=1.0)\n",
    "clf.fit(dat_train, label_train, method='gd', alpha=0.01, show_message=True)\n",
    "show_result_digit(clf)"
   ]
  },
  {
   "cell_type": "code",
   "execution_count": 58,
   "metadata": {},
   "outputs": [
    {
     "name": "stdout",
     "output_type": "stream",
     "text": [
      "success : True\n",
      "nit : 1\n",
      "calcualtion time : 1.4347140789031982seconds\n",
      "train accuracy score: 0.9465478841870824\n",
      "test accuracy score: 0.9422222222222222\n"
     ]
    }
   ],
   "source": [
    "clf = LogisticClf(C=10, lam=1.0)\n",
    "clf.fit(dat_train, label_train, method='newton', show_message=True)\n",
    "show_result_digit(clf)"
   ]
  },
  {
   "cell_type": "code",
   "execution_count": 59,
   "metadata": {},
   "outputs": [
    {
     "name": "stdout",
     "output_type": "stream",
     "text": [
      "success : True\n",
      "nit : 10\n",
      "calcualtion time : 0.45823168754577637seconds\n",
      "train accuracy score: 1.0\n",
      "test accuracy score: 0.9666666666666667\n"
     ]
    }
   ],
   "source": [
    "clf = LogisticClf(C=10, lam=1.0)\n",
    "clf.fit(dat_train, label_train, method='newton-cg', show_message=True)\n",
    "show_result_digit(clf)"
   ]
  },
  {
   "cell_type": "code",
   "execution_count": 70,
   "metadata": {},
   "outputs": [
    {
     "name": "stdout",
     "output_type": "stream",
     "text": [
      "lambda = 0.03\n",
      "success : True\n",
      "nit : 12\n",
      "calcualtion time : 1.4919579029083252seconds\n",
      "train accuracy score: 1.0\n",
      "test accuracy score: 0.9711111111111111\n",
      "lambda = 1.0\n",
      "success : True\n",
      "nit : 10\n",
      "calcualtion time : 0.4119851589202881seconds\n",
      "train accuracy score: 1.0\n",
      "test accuracy score: 0.9733333333333334\n",
      "lambda = 30.0\n",
      "success : True\n",
      "nit : 7\n",
      "calcualtion time : 0.11200571060180664seconds\n",
      "train accuracy score: 0.9985152190051967\n",
      "test accuracy score: 0.9755555555555555\n"
     ]
    }
   ],
   "source": [
    "lams = [0.03, 1.0, 30.0]\n",
    "\n",
    "for lam in lams:\n",
    "    print(f\"lambda = {lam}\")\n",
    "    clf = LogisticClf(C=10, lam=lam)\n",
    "    clf.fit(dat_train, label_train, method='newton-cg', show_message=True)\n",
    "    show_result_digit(clf)"
   ]
  },
  {
   "cell_type": "markdown",
   "metadata": {},
   "source": [
    "### scikit-learnの実装"
   ]
  },
  {
   "cell_type": "code",
   "execution_count": 72,
   "metadata": {},
   "outputs": [
    {
     "name": "stdout",
     "output_type": "stream",
     "text": [
      "train accuracy score: 1.0\n",
      "test accuracy score: 0.9711111111111111\n"
     ]
    },
    {
     "data": {
      "image/png": "[encoded data removed]",
      "text/plain": [
       "<Figure size 432x288 with 1 Axes>"
      ]
     },
     "metadata": {
      "needs_background": "light"
     },
     "output_type": "display_data"
    }
   ],
   "source": [
    "from sklearn.linear_model import LogisticRegression\n",
    "clf = LogisticRegression(solver='newton-cg', multi_class='multinomial')\n",
    "clf.fit(X, t)\n",
    "ax = plt.subplot(111)\n",
    "plot_result(ax, clf, xx, yy, X, t)\n",
    "\n",
    "clf = LogisticRegression(solver='newton-cg', multi_class='multinomial')\n",
    "clf.fit(dat_train, label_train)\n",
    "show_result_digit(clf)"
   ]
  },
  {
   "cell_type": "markdown",
   "metadata": {},
   "source": [
    "## ベイズロジスティック回帰の実装\n",
    "https://qiita.com/ctgk/items/0c3315dca6f2fa83b544"
   ]
  },
  {
   "cell_type": "code",
   "execution_count": 92,
   "metadata": {},
   "outputs": [],
   "source": [
    "import itertools\n",
    "import numpy as np\n",
    "import matplotlib.pyplot as plt\n",
    "from functools import reduce"
   ]
  },
  {
   "cell_type": "code",
   "execution_count": 101,
   "metadata": {},
   "outputs": [],
   "source": [
    "# 特徴ベクトルを多項式特徴ベクトルとする\n",
    "\n",
    "class PolynomialFeatures(object):\n",
    "\n",
    "    def __init__(self, degree=2):\n",
    "        self.degree = degree\n",
    "\n",
    "    def transform(self, x):\n",
    "        x_t = x.transpose()\n",
    "        features = [np.ones(len(x))]\n",
    "        for degree in range(1, self.degree + 1):\n",
    "            for items in itertools.combinations_with_replacement(x_t, degree):\n",
    "                features.append(reduce(lambda x, y: x * y, items))\n",
    "        return np.array(features).transpose()"
   ]
  },
  {
   "cell_type": "code",
   "execution_count": 102,
   "metadata": {},
   "outputs": [],
   "source": [
    "# 普通のロジスティック回帰\n",
    "\n",
    "class LogisticRegression:\n",
    "    def __init__(self, iter_max, alpha=0):\n",
    "        self.iter_max = iter_max\n",
    "        self.alpha = alpha\n",
    "\n",
    "    def _sigmoid(self, a):\n",
    "        return np.divide(1, 1 + np.exp(-a))\n",
    "\n",
    "    def fit(self, X, t):\n",
    "        self.w = np.zeros(np.size(X, 1))\n",
    "        for i in range(self.iter_max):\n",
    "            w = np.copy(self.w)\n",
    "            y = self.predict_proba(X)\n",
    "            grad = X.T.dot(y - t) + self.alpha * w\n",
    "            hessian = (X.T.dot(np.diag(y * (1 - y))).dot(X)\n",
    "                       + self.alpha * np.identity(len(w)))\n",
    "            try:\n",
    "                self.w -= np.linalg.solve(hessian, grad)\n",
    "            except np.linalg.LinAlgError:\n",
    "                break\n",
    "            if np.allclose(w, self.w):\n",
    "                break\n",
    "            if i == self.iter_max - 1:\n",
    "                print(\"weight parameter w may not have converged\")\n",
    "\n",
    "    def predict(self, X):\n",
    "        return (self.predict_proba(X) > 0.5).astype(np.int)\n",
    "\n",
    "    def predict_proba(self, X):\n",
    "        return self._sigmoid(X.dot(self.w))"
   ]
  },
  {
   "cell_type": "code",
   "execution_count": 105,
   "metadata": {},
   "outputs": [],
   "source": [
    "# ベイズロジスティック回帰\n",
    "\n",
    "class BayesianLogisticRegression(LogisticRegression):\n",
    "        def __init__(self, iter_max, alpha=0.1):\n",
    "            super(BayesianLogisticRegression, self).__init__(iter_max, alpha)\n",
    "        \n",
    "        def fit(self, X, t):\n",
    "            super(BayesianLogisticRegression, self).fit(X, t)\n",
    "            y = self.predict_proba(X)\n",
    "            hessian = (X.T.dot(np.diag(y * (1 - y))).dot(X)\n",
    "                   + self.alpha * np.identity(len(self.w)))\n",
    "            self.w_var = np.linalg.inv(hessian)\n",
    "            \n",
    "        # 入力に対する事後予測分布の計算\n",
    "        def predict_dist(self, X):\n",
    "            mu_a = X.dot(self.w)\n",
    "            var_a = np.sum(X.dot(self.w_var) * X, axis=1)\n",
    "            return self._sigmoid(mu_a / np.sqrt(1 + np.pi * var_a / 8))"
   ]
  },
  {
   "cell_type": "code",
   "execution_count": 106,
   "metadata": {},
   "outputs": [
    {
     "data": {
      "image/png": "[encoded data removed]",
      "text/plain": [
       "<Figure size 432x288 with 2 Axes>"
      ]
     },
     "metadata": {
      "needs_background": "light"
     },
     "output_type": "display_data"
    }
   ],
   "source": [
    "def create_data_set():\n",
    "    x = np.random.normal(size=50).reshape(-1, 2)\n",
    "    y = np.random.normal(size=50).reshape(-1, 2)\n",
    "    y += np.array([2., 2.])\n",
    "    return (np.concatenate([x, y]), np.concatenate([np.zeros(25), np.ones(25)]))\n",
    "\n",
    "x, labels = create_data_set()\n",
    "colors = ['blue', 'red']\n",
    "plt.scatter(x[:, 0], x[:, 1], c=[colors[int(label)] for label in labels])\n",
    "\n",
    "features = PolynomialFeatures(degree=3)\n",
    "\n",
    "classifier = BayesianLogisticRegression(iter_max=100, alpha=0.1)\n",
    "classifier.fit(features.transform(x), labels)\n",
    "\n",
    "X_test, Y_test = np.meshgrid(np.linspace(-2, 4, 100), np.linspace(-2, 4, 100))\n",
    "x_test = np.array([X_test, Y_test]).transpose(1, 2, 0).reshape(-1, 2)\n",
    "probs = classifier.predict_proba(features.transform(x_test))\n",
    "Probs = probs.reshape(100, 100)\n",
    "dists = classifier.predict_dist(features.transform(x_test))\n",
    "Dists = dists.reshape(100, 100)\n",
    "levels = np.linspace(0, 1, 5)\n",
    "cp = plt.contour(X_test, Y_test, Probs, levels, colors='k', linestyles='dashed')\n",
    "plt.clabel(cp, inline=True, fontsize=10)\n",
    "plt.contourf(X_test, Y_test, Dists, levels, alpha=0.5)\n",
    "plt.colorbar()\n",
    "plt.xlim(-2, 4)\n",
    "plt.ylim(-2, 4)\n",
    "plt.show()"
   ]
  },
  {
   "cell_type": "code",
   "execution_count": null,
   "metadata": {},
   "outputs": [],
   "source": []
  },
  {
   "cell_type": "markdown",
   "metadata": {},
   "source": [
    "## 最小二乗法による識別\n",
    "http://tkzs.hatenablog.com/entry/2015/09/27/074223  \n",
    "図4.4, 4.5の再現を行う"
   ]
  },
  {
   "cell_type": "markdown",
   "metadata": {},
   "source": [
    "### 図4.4\n",
    "基底関数が線形なモデルでの最小二乗法による２クラス分類"
   ]
  },
  {
   "cell_type": "code",
   "execution_count": 108,
   "metadata": {},
   "outputs": [],
   "source": [
    "import matplotlib.pyplot as plt\n",
    "from pylab import *\n",
    "import numpy as np\n",
    "import random\n",
    "%matplotlib inline"
   ]
  },
  {
   "cell_type": "code",
   "execution_count": 119,
   "metadata": {},
   "outputs": [],
   "source": [
    "# 決定境界を求める関数\n",
    "def func(x, y, x_line):\n",
    "    W = np.linalg.inv(x.T.dot(x)).dot(x.T).dot(y) # (4.16)\n",
    "    \n",
    "    #  バイアス項を加える\n",
    "    w_0 = [1.0, 1.0]\n",
    "    W_add = np.c_[w_0, W]\n",
    "    \n",
    "    #(4.18),(4.19)\n",
    "    a = - ((W_add[0,1]-W_add[1,1])/(W_add[0,2]-W_add[1,2]))\n",
    "    b = - (W_add[0,0]-W_add[1,0])/(W_add[0,2]-W_add[1,2])\n",
    "    \n",
    "    return a * x_line + b"
   ]
  },
  {
   "cell_type": "code",
   "execution_count": 120,
   "metadata": {},
   "outputs": [
    {
     "data": {
      "text/plain": [
       "Text(0.5, 1.0, 'Figure4.4 right')"
      ]
     },
     "execution_count": 120,
     "metadata": {},
     "output_type": "execute_result"
    },
    {
     "data": {
      "image/png": "[encoded data removed]",
      "text/plain": [
       "<Figure size 432x288 with 2 Axes>"
      ]
     },
     "metadata": {
      "needs_background": "light"
     },
     "output_type": "display_data"
    }
   ],
   "source": [
    "#Generate sumple data\n",
    "#Mean\n",
    "mu_red = [-1,1]\n",
    "mu_blue = [1,-1]\n",
    "#Covariance\n",
    "cov = [[1.2,1], [1,1.2]]\n",
    "\n",
    "x_red,y_red = np.random.multivariate_normal(mu_red,cov,50).T\n",
    "x_blue,y_blue = np.random.multivariate_normal(mu_blue,cov,50).T\n",
    "\n",
    "x = vstack((x_red, x_blue)).T\n",
    "y = vstack((y_red, y_blue)).T\n",
    "\n",
    "#Add outlier\n",
    "mu_b_out= [7,-6]\n",
    "cov2 = [[1,0], [0,1]]\n",
    "x_blue2,y_blue2 = np.random.multivariate_normal(mu_blue,cov,45).T\n",
    "x_b_out,y_b_out = np.random.multivariate_normal(mu_b_out,cov2,5).T\n",
    "x_blue3, y_blue3 = np.r_[x_blue2,x_b_out], np.r_[y_blue2,y_b_out]\n",
    "\n",
    "x2 = vstack((x_red, x_blue3)).T\n",
    "y2 = vstack((y_red, y_blue3)).T\n",
    "\n",
    "\n",
    "#Plot right\n",
    "plt.subplot(1, 2, 1)\n",
    "x_line = np.linspace(-4, 8, 1000)\n",
    "plot(x_line, func(x,y,x_line),'m-')\n",
    "plt.scatter(x_red,y_red,color='r',marker='x')\n",
    "plt.scatter(x_blue,y_blue,color='b',marker='x')\n",
    "xlim(-4.0, 9.0)\n",
    "ylim(-9.0, 4.0)\n",
    "title(\"Figure4.4 left\")\n",
    "\n",
    "\n",
    "#Plot left\n",
    "plt.subplot(1, 2, 2)\n",
    "x_line = np.linspace(-4, 8, 1000)\n",
    "plot(x_line, func(x2,y2,x_line), 'm-')\n",
    "plt.scatter(x_red,y_red,color='r',marker='x')\n",
    "plt.scatter(x_blue3,y_blue3,color='b',marker='x')\n",
    "xlim(-4.0, 9.0)\n",
    "ylim(-9.0, 4.0)\n",
    "title(\"Figure4.4 right\")"
   ]
  },
  {
   "cell_type": "markdown",
   "metadata": {},
   "source": [
    "### 図4.5"
   ]
  },
  {
   "cell_type": "markdown",
   "metadata": {},
   "source": [
    "### 最小2乗法による分類"
   ]
  },
  {
   "cell_type": "code",
   "execution_count": 122,
   "metadata": {},
   "outputs": [
    {
     "data": {
      "image/png": "[encoded data removed]",
      "text/plain": [
       "<Figure size 432x288 with 1 Axes>"
      ]
     },
     "metadata": {
      "needs_background": "light"
     },
     "output_type": "display_data"
    }
   ],
   "source": [
    "#Function to seek hyperplane between class1 and 2\n",
    "def func12(x, y,x_line):\n",
    "    #Apply least square\n",
    "    W = np.linalg.inv(x.T.dot(x)).dot(x.T).dot(y)\n",
    "    \n",
    "    #Add bias term\n",
    "    w_0 = [1.0,1.0,1.0]\n",
    "    W_add = np.c_[w_0, W]\n",
    "    \n",
    "    #(4.18),(4.19)\n",
    "    a = - ((W_add[0,1]-W_add[1,1])/(W_add[0,2]-W_add[1,2]))\n",
    "    b = - (W_add[0,0]-W_add[1,0])/(W_add[0,2]-W_add[1,2])\n",
    "    return a * x_line + b\n",
    "\n",
    "#Function to seek hyperplane between class 2 and 3\n",
    "def func23(x, y,x_line):\n",
    "    #Apply least square\n",
    "    W = np.linalg.inv(x.T.dot(x)).dot(x.T).dot(y)\n",
    "    \n",
    "    #Add bias term\n",
    "    w_0 = [1.0,1.0,1.0]\n",
    "    W_add = np.c_[w_0, W]\n",
    "    \n",
    "    #(4.18),(4.19)\n",
    "    a = - ((W_add[1,1]-W_add[2,1])/(W_add[1,2]-W_add[2,2]))\n",
    "    b = - (W_add[1,0]-W_add[2,0])/(W_add[1,2]-W_add[2,2])\n",
    "    return a * x_line + b\n",
    "\n",
    "if __name__ == \"__main__\":\n",
    "    #Generate sumple data\n",
    "    N = 45\n",
    "    #Mean\n",
    "    mu_red_multi = [-2,2]\n",
    "    mu_green_multi = [0,0]\n",
    "    mu_blue_multi = [2,-2]\n",
    "    #Covariance\n",
    "    cov = [[1.2,1], [1,1.2]]\n",
    "\n",
    "    x_red_multi,y_red_multi = np.random.multivariate_normal(mu_red_multi,cov,N).T\n",
    "    x_green_multi,y_green_multi = np.random.multivariate_normal(mu_green_multi,cov,N).T\n",
    "    x_blue_multi,y_blue_multi = np.random.multivariate_normal(mu_blue_multi,cov,N).T\n",
    "\n",
    "    x_multi = vstack((x_red_multi, x_green_multi, x_blue_multi)).T\n",
    "    y_multi = vstack((y_red_multi, x_green_multi, y_blue_multi)).T\n",
    "    \n",
    "    #Label\n",
    "    T = []\n",
    "    for i in range(N):\n",
    "        T.append(array([1, 0, 0]))\n",
    "    for i in range(N):\n",
    "        T.append(array([0, 1, 0]))\n",
    "    for i in range(N):\n",
    "        T.append(array([0, 0, 1]))\n",
    "    T = array(T)\n",
    "\n",
    "    #Plot\n",
    "    x_line2 = np.linspace(-6, 6, 1000)\n",
    "    plot(x_line2, func12(x_multi,y_multi,x_line2), 'm-')\n",
    "    plot(x_line2, func23(x_multi,y_multi,x_line2),'m-')\n",
    "    plt.scatter(x_red_multi,y_red_multi,color='r',marker='x')\n",
    "    plt.scatter(x_green_multi,y_green_multi,color='g',marker=\"x\")\n",
    "    plt.scatter(x_blue_multi,y_blue_multi,color='b',marker=\"o\")\n",
    "    xlim(-6.0, 6.0)\n",
    "    ylim(-6.0, 6.0)\n",
    "    title(\"Figure 4.5 left\")"
   ]
  },
  {
   "cell_type": "markdown",
   "metadata": {},
   "source": [
    "## パーセプトロンの実装\n",
    "http://tkzs.hatenablog.com/entry/2015/09/27/080905"
   ]
  },
  {
   "cell_type": "code",
   "execution_count": 142,
   "metadata": {},
   "outputs": [
    {
     "data": {
      "image/png": "[encoded data removed]",
      "text/plain": [
       "<Figure size 432x288 with 1 Axes>"
      ]
     },
     "metadata": {
      "needs_background": "light"
     },
     "output_type": "display_data"
    },
    {
     "data": {
      "image/png": "[encoded data removed]",
      "text/plain": [
       "<Figure size 432x288 with 1 Axes>"
      ]
     },
     "metadata": {
      "needs_background": "light"
     },
     "output_type": "display_data"
    },
    {
     "data": {
      "image/png": "[encoded data removed]",
      "text/plain": [
       "<Figure size 432x288 with 1 Axes>"
      ]
     },
     "metadata": {
      "needs_background": "light"
     },
     "output_type": "display_data"
    },
    {
     "data": {
      "image/png": "[encoded data removed]",
      "text/plain": [
       "<Figure size 432x288 with 1 Axes>"
      ]
     },
     "metadata": {
      "needs_background": "light"
     },
     "output_type": "display_data"
    }
   ],
   "source": [
    "def func(train_data, k):\n",
    "    def perceptron(train_data, k):\n",
    "        x = 0\n",
    "        w = array([1.0,1.0, 1.0])\n",
    "        eta = 0.1\n",
    "        converged = False\n",
    "    \n",
    "        while not converged:\n",
    "            x += 1\n",
    "            if x == k:\n",
    "                converged = True\n",
    "                \n",
    "            for i in range(N): \n",
    "                w_t_phi_x = np.dot(w, [1,train_data[i,0], train_data[i,1]]) #(4.55) \n",
    "                \n",
    "                if w_t_phi_x > 0:\n",
    "                    d = 1\n",
    "                else:\n",
    "                    d = 2\n",
    "             \n",
    "                if d == train_data[i,2]:\n",
    "                    continue\n",
    "                else:\n",
    "                    if d == 1:\n",
    "                        t = 1\n",
    "                        w += -eta * array([1, train_data[i,0], train_data[i,1]]) * t\n",
    "                    else:\n",
    "                        t = -1\n",
    "                        w += -eta * array([1, train_data[i,0], train_data[i,1]]) * t\n",
    "        return w\n",
    "    \n",
    "    w = perceptron(train_data, k)\n",
    "\n",
    "    #Plot\n",
    "    plt.scatter(x_red,y_red,color='r',marker='x')\n",
    "    plt.scatter(x_blue,y_blue,color='b',marker='x')\n",
    "    x_line = linspace(-1.0, 1.0, 1000)\n",
    "    y_line = -w[1]/w[2] * x_line - w[0]/w[2]\n",
    "    plt.plot(x_line, y_line, 'k')\n",
    "    xlim(-1.0, 1.0)\n",
    "    ylim(-1.0, 1.0)\n",
    "    title(\"Figure 7.2\")\n",
    "    show()\n",
    "\n",
    "if __name__ == \"__main__\":\n",
    "    #Generate sumple data\n",
    "    #Mean\n",
    "    mu_blue = [-0.5,0.3]\n",
    "    mu_red = [0.5,-0.3]\n",
    "    #Covariance\n",
    "    cov = [[0.08,0.06], [0.06,0.08]]\n",
    "\n",
    "    #Data Blue\n",
    "    x_blue = [-0.85, -0.8, -0.5, -0.4, -0.1]\n",
    "    y_blue = [0.6,0.95, 0.62, 0.7, -0.1]\n",
    "    blue_label = np.ones(5)\n",
    "\n",
    "    #Data Red\n",
    "    x_red = [0.2, 0.4, 0.45, 0.6, 0.95]\n",
    "    y_red = [0.7, -0.5, 0.4, -0.9, 0.97]\n",
    "    red_label = np.ones(5)*2\n",
    "\n",
    "    Data_blue = vstack((x_blue, y_blue, blue_label)).T\n",
    "    Data_red = vstack((x_red, y_red, red_label)).T\n",
    "    Data_marge = vstack((Data_blue,Data_red))\n",
    "    \n",
    "    N = len(Data_marge)\n",
    "    for k in (N-9, N-6, N-3, N):\n",
    "        func(Data_marge, k)"
   ]
  },
  {
   "cell_type": "code",
   "execution_count": null,
   "metadata": {},
   "outputs": [],
   "source": []
  }
 ],
 "metadata": {
  "kernelspec": {
   "display_name": "Python 3",
   "language": "python",
   "name": "python3"
  },
  "language_info": {
   "codemirror_mode": {
    "name": "ipython",
    "version": 3
   },
   "file_extension": ".py",
   "mimetype": "text/x-python",
   "name": "python",
   "nbconvert_exporter": "python",
   "pygments_lexer": "ipython3",
   "version": "3.6.9"
  }
 },
 "nbformat": 4,
 "nbformat_minor": 2
}

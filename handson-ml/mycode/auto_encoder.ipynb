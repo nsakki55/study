{
 "cells": [
  {
   "cell_type": "code",
   "execution_count": 8,
   "metadata": {},
   "outputs": [],
   "source": [
    "# Common imports\n",
    "import numpy as np\n",
    "%matplotlib inline\n",
    "import matplotlib\n",
    "import matplotlib.pyplot as plt\n",
    "import os\n",
    "import sys\n",
    "import tensorflow as tf\n",
    "\n",
    "# to make this notebook's output stable across runs\n",
    "def reset_graph(seed=42):\n",
    "    tf.reset_default_graph()\n",
    "    tf.set_random_seed(seed)\n",
    "    np.random.seed(seed)\n"
   ]
  },
  {
   "cell_type": "code",
   "execution_count": 5,
   "metadata": {},
   "outputs": [],
   "source": [
    "import numpy.random as rnd\n",
    "\n",
    "rnd.seed(4)\n",
    "m = 200\n",
    "w1, w2 = 0.1, 0.3\n",
    "noise = 0.1\n",
    "\n",
    "angles = rnd.rand(m) * 3 * np.pi / 2 - 0.5\n",
    "data = np.empty((m, 3))\n",
    "data[:, 0] = np.cos(angles) + np.sin(angles)/2 + noise * rnd.randn(m) / 2\n",
    "data[:, 1] = np.sin(angles) * 0.7 + noise * rnd.randn(m) / 2\n",
    "data[:, 2] = data[:, 0] * w1 + data[:, 1] * w2 + noise * rnd.randn(m)\n",
    "\n",
    "from sklearn.preprocessing import StandardScaler\n",
    "scaler = StandardScaler()\n",
    "X_train = scaler.fit_transform(data[:100])\n",
    "X_test = scaler.transform(data[100:])"
   ]
  },
  {
   "cell_type": "code",
   "execution_count": 4,
   "metadata": {},
   "outputs": [
    {
     "name": "stderr",
     "output_type": "stream",
     "text": [
      "WARNING: Logging before flag parsing goes to stderr.\n",
      "W1107 11:30:14.561440 140126925756160 deprecation.py:323] From <ipython-input-4-9cde6c92808b>:10: dense (from tensorflow.python.layers.core) is deprecated and will be removed in a future version.\n",
      "Instructions for updating:\n",
      "Use keras.layers.dense instead.\n",
      "W1107 11:30:14.565148 140126925756160 deprecation.py:506] From /home/nagae/anaconda3/envs/gpu-env/lib/python3.6/site-packages/tensorflow/python/ops/init_ops.py:1251: calling VarianceScaling.__init__ (from tensorflow.python.ops.init_ops) with dtype is deprecated and will be removed in a future version.\n",
      "Instructions for updating:\n",
      "Call initializer instance with the dtype argument instead of passing it to the constructor\n"
     ]
    }
   ],
   "source": [
    "reset_graph()\n",
    "\n",
    "n_inputs = 3\n",
    "n_hidden = 2  # codings\n",
    "n_outputs = n_inputs\n",
    "\n",
    "learning_rate = 0.01\n",
    "\n",
    "X = tf.placeholder(tf.float32, shape=[None, n_inputs])\n",
    "hidden = tf.layers.dense(X ,n_hidden)\n",
    "outputs = tf.layers.dense(hidden, n_outputs)\n",
    "\n",
    "# 入力と出力の差の二乗誤差をとる\n",
    "reconstruction_loss = tf.reduce_mean(tf.square(outputs - X))\n",
    "\n",
    "optimizer = tf.train.AdamOptimizer(learning_rate)\n",
    "training_op = optimizer.minimize(reconstruction_loss)\n",
    "\n",
    "init = tf.global_variables_initializer()"
   ]
  },
  {
   "cell_type": "code",
   "execution_count": 11,
   "metadata": {},
   "outputs": [],
   "source": [
    "n_iterations = 1000\n",
    "codings = hidden\n",
    "\n",
    "with tf.Session() as sess:\n",
    "    init.run()\n",
    "    for iteration in range(n_iterations):\n",
    "        training_op.run(feed_dict={X:X_train})\n",
    "    codings_val = codings.eval(feed_dict={X:X_test})\n",
    "    "
   ]
  },
  {
   "cell_type": "code",
   "execution_count": 12,
   "metadata": {},
   "outputs": [
    {
     "data": {
      "image/png": "[encoded data removed]",
      "text/plain": [
       "<Figure size 288x216 with 1 Axes>"
      ]
     },
     "metadata": {
      "needs_background": "light"
     },
     "output_type": "display_data"
    }
   ],
   "source": [
    "fig = plt.figure(figsize=(4,3))\n",
    "plt.plot(codings_val[:,0], codings_val[:, 1], \"b.\")\n",
    "plt.xlabel(\"$z_1$\", fontsize=18)\n",
    "plt.ylabel(\"$z_2$\", fontsize=18, rotation=0)\n",
    "plt.show()"
   ]
  },
  {
   "cell_type": "code",
   "execution_count": 38,
   "metadata": {},
   "outputs": [
    {
     "name": "stdout",
     "output_type": "stream",
     "text": [
      "Extracting /tmp/data/train-images-idx3-ubyte.gz\n",
      "Extracting /tmp/data/train-labels-idx1-ubyte.gz\n",
      "Extracting /tmp/data/t10k-images-idx3-ubyte.gz\n",
      "Extracting /tmp/data/t10k-labels-idx1-ubyte.gz\n"
     ]
    }
   ],
   "source": [
    "from tensorflow.examples.tutorials.mnist import input_data\n",
    "mnist = input_data.read_data_sets(\"/tmp/data/\")"
   ]
  },
  {
   "cell_type": "code",
   "execution_count": 20,
   "metadata": {},
   "outputs": [],
   "source": [
    "reset_graph()\n",
    "\n",
    "from functools import partial\n",
    "\n",
    "n_inputs = 28 * 28\n",
    "n_hidden1 = 300\n",
    "n_hidden2 = 150  # codings\n",
    "n_hidden3 = n_hidden1\n",
    "n_outputs = n_inputs\n",
    "\n",
    "learning_rate = 0.01\n",
    "l2_reg = 0.0001\n",
    "\n",
    "X = tf.placeholder(tf.float32, shape=[None,n_inputs])\n",
    "\n",
    "he_init = tf.contrib.layers.variance_scaling_initializer()\n",
    "\n",
    "l2_reggularizer = tf.contrib.layers.l2_regularizer(l2_reg)\n",
    "\n",
    "my_dense_layer = partial(tf.layers.dense,\n",
    "                                                activation=tf.nn.elu,\n",
    "                                                kernel_initializer=he_init,\n",
    "                                                kernel_regularizer=l2_reggularizer)\n",
    "\n",
    "hidden1 = my_dense_layer(X, n_hidden1)\n",
    "hidden2 = my_dense_layer(hidden1, n_hidden2)\n",
    "hidden3 = my_dense_layer(hidden2, n_hidden3)\n",
    "outputs = my_dense_layer(hidden3, n_outputs)\n",
    "\n",
    "reconstruction_loss = tf.reduce_mean(tf.square(outputs - X))\n",
    "\n",
    "#  正則化項に当たる、重みの二乗和の部分を取得\n",
    "reg_losses = tf.get_collection(tf.GraphKeys.REGULARIZATION_LOSSES)\n",
    "\n",
    "loss = tf.add_n([reconstruction_loss] + reg_losses)\n",
    "\n",
    "optimizer = tf.train.AdamOptimizer(learning_rate)\n",
    "training_op = optimizer.minimize(loss)\n",
    "\n",
    "init = tf.global_variables_initializer()\n",
    "saver = tf.train.Saver()"
   ]
  },
  {
   "cell_type": "code",
   "execution_count": 21,
   "metadata": {},
   "outputs": [
    {
     "name": "stdout",
     "output_type": "stream",
     "text": [
      "0 Train MSE: 0.016805338\n",
      "1 Train MSE: 0.010816966\n",
      "2 Train MSE: 0.010609388\n",
      "3 Train MSE: 0.01039782\n",
      "4 Train MSE: 0.010863026\n"
     ]
    }
   ],
   "source": [
    "n_epochs = 5\n",
    "batch_size = 150\n",
    "\n",
    "with tf.Session() as sess:\n",
    "    init.run()\n",
    "    for epoch in range(n_epochs):\n",
    "        n_batches = mnist.train.num_examples // batch_size\n",
    "        for iteration in range(n_batches):\n",
    "            print(\"\\r{}%\".format(100 * iteration // n_batches), end=\"\") # not shown in the book\n",
    "            sys.stdout.flush()                                          # not shown\n",
    "            X_batch, y_batch = mnist.train.next_batch(batch_size)\n",
    "            sess.run(training_op, feed_dict={X: X_batch})\n",
    "        loss_train = reconstruction_loss.eval(feed_dict={X: X_batch})   # not shown\n",
    "        print(\"\\r{}\".format(epoch), \"Train MSE:\", loss_train)           # not shown\n",
    "        saver.save(sess, \"./my_model_all_layers.ckpt\")                  # not shown"
   ]
  },
  {
   "cell_type": "code",
   "execution_count": 27,
   "metadata": {},
   "outputs": [
    {
     "data": {
      "image/png": "[encoded data removed]",
      "text/plain": [
       "<Figure size 576x648 with 6 Axes>"
      ]
     },
     "metadata": {
      "needs_background": "light"
     },
     "output_type": "display_data"
    }
   ],
   "source": [
    "def plot_image(image, shape=[28, 28]):\n",
    "    plt.imshow(image.reshape(shape), cmap=\"Greys\", interpolation=\"nearest\")\n",
    "    plt.axis(\"off\")\n",
    "    \n",
    "def show_reconstructed_digits(X, outputs, model_path = None, n_test_digits = 3):\n",
    "    with tf.Session() as sess:\n",
    "        if model_path:\n",
    "            saver.restore(sess, model_path)\n",
    "        X_test = mnist.test.images[:n_test_digits]\n",
    "        outputs_val = outputs.eval(feed_dict={X: X_test})\n",
    "\n",
    "    fig = plt.figure(figsize=(8, 3 * n_test_digits))\n",
    "    for digit_index in range(n_test_digits):\n",
    "        plt.subplot(n_test_digits, 2, digit_index * 2 + 1)\n",
    "        plot_image(X_test[digit_index])\n",
    "        plt.subplot(n_test_digits, 2, digit_index * 2 + 2)\n",
    "        plot_image(outputs_val[digit_index])\n",
    "    \n",
    "show_reconstructed_digits(X, outputs, \"./my_model_all_layers.ckpt\")"
   ]
  },
  {
   "cell_type": "code",
   "execution_count": 42,
   "metadata": {},
   "outputs": [],
   "source": [
    "reset_graph()\n",
    "\n",
    "n_inputs = 28 * 28\n",
    "n_hidden1 = 300\n",
    "n_hidden2 = 150  # codings\n",
    "n_hidden3 = n_hidden1\n",
    "n_outputs = n_inputs\n",
    "\n",
    "learning_rate = 0.01\n",
    "l2_reg = 0.0005\n",
    "\n",
    "activation = tf.nn.elu\n",
    "regularizer = tf.contrib.layers.l2_regularizer(l2_reg)\n",
    "initializer = tf.contrib.layers.variance_scaling_initializer()\n",
    "\n",
    "X = tf.placeholder(tf.float32, shape=[None, n_inputs])\n",
    "\n",
    "weights1_init = initializer([n_inputs, n_hidden1])\n",
    "weights2_init = initializer([n_hidden1, n_hidden2])\n",
    "\n",
    "# 各層の重みとバイアスを作成\n",
    "weights1 = tf.Variable(weights1_init, dtype=tf.float32, name=\"weights1\")\n",
    "weights2 = tf.Variable(weights2_init, dtype=tf.float32, name=\"weights2\")\n",
    "weights3 = tf.transpose(weights2, name=\"weights3\")  # tied weights\n",
    "weights4 = tf.transpose(weights1, name=\"weights4\")  # tied weights\n",
    "\n",
    "biases1 = tf.Variable(tf.zeros(n_hidden1), name=\"biases1\")\n",
    "biases2 = tf.Variable(tf.zeros(n_hidden2), name=\"biases2\")\n",
    "biases3 = tf.Variable(tf.zeros(n_hidden3), name=\"biases3\")\n",
    "biases4 = tf.Variable(tf.zeros(n_outputs), name=\"biases4\")\n",
    "\n",
    "hidden1 = activation(tf.matmul(X, weights1) + biases1)\n",
    "hidden2 = activation(tf.matmul(hidden1, weights2) + biases2)\n",
    "hidden3 = activation(tf.matmul(hidden2, weights3) + biases3)\n",
    "outputs = tf.matmul(hidden3, weights4) + biases4\n",
    "\n",
    "reconstruction_loss = tf.reduce_mean(tf.square(outputs - X))\n",
    "reg_losses = regularizer(weights1) + regularizer(weights2)\n",
    "loss = reconstruction_loss + reg_losses\n",
    "\n",
    "optimizer = tf.train.AdamOptimizer(learning_rate)\n",
    "training_op = optimizer.minimize(loss)\n",
    "\n",
    "init = tf.global_variables_initializer()\n",
    "saver = tf.train.Saver()"
   ]
  },
  {
   "cell_type": "code",
   "execution_count": 43,
   "metadata": {},
   "outputs": [
    {
     "name": "stdout",
     "output_type": "stream",
     "text": [
      "0 Train MSE: 0.01564473\n",
      "1 Train MSE: 0.015724568\n",
      "2 Train MSE: 0.01650385\n",
      "3 Train MSE: 0.015803335\n",
      "4 Train MSE: 0.01724412\n"
     ]
    }
   ],
   "source": [
    "n_epochs = 5\n",
    "batch_size = 150\n",
    "\n",
    "with tf.Session() as sess:\n",
    "    init.run()\n",
    "    for epoch in range(n_epochs):\n",
    "        n_batches = mnist.train.num_examples // batch_size\n",
    "        for iteration in range(n_batches):\n",
    "            print(\"\\r{}%\".format(100 * iteration // n_batches), end=\"\")\n",
    "            sys.stdout.flush()\n",
    "            X_batch, y_batch = mnist.train.next_batch(batch_size)\n",
    "            sess.run(training_op, feed_dict={X: X_batch})\n",
    "        loss_train = reconstruction_loss.eval(feed_dict={X: X_batch})\n",
    "        print(\"\\r{}\".format(epoch), \"Train MSE:\", loss_train)\n",
    "        saver.save(sess, \"./my_model_tying_weights.ckpt\")"
   ]
  },
  {
   "cell_type": "code",
   "execution_count": 44,
   "metadata": {},
   "outputs": [
    {
     "data": {
      "image/png": "[encoded data removed]",
      "text/plain": [
       "<Figure size 576x648 with 6 Axes>"
      ]
     },
     "metadata": {
      "needs_background": "light"
     },
     "output_type": "display_data"
    }
   ],
   "source": [
    "show_reconstructed_digits(X, outputs, \"./my_model_tying_weights.ckpt\")"
   ]
  },
  {
   "cell_type": "code",
   "execution_count": null,
   "metadata": {},
   "outputs": [],
   "source": []
  },
  {
   "cell_type": "code",
   "execution_count": 46,
   "metadata": {},
   "outputs": [],
   "source": [
    "reset_graph()\n",
    "\n",
    "from functools import partial\n",
    "\n",
    "def train_autoencoder(X_train, n_neurons, n_epochs, batch_size,\n",
    "                      learning_rate = 0.01, l2_reg = 0.0005, seed=42,\n",
    "                      hidden_activation=tf.nn.elu,\n",
    "                      output_activation=tf.nn.elu):\n",
    "    graph = tf.Graph()\n",
    "    with graph.as_default():\n",
    "        tf.set_random_seed(seed)\n",
    "\n",
    "        n_inputs = X_train.shape[1]\n",
    "\n",
    "        X = tf.placeholder(tf.float32, shape=[None, n_inputs])\n",
    "        \n",
    "        my_dense_layer = partial(\n",
    "            tf.layers.dense,\n",
    "            kernel_initializer=tf.contrib.layers.variance_scaling_initializer(),\n",
    "            kernel_regularizer=tf.contrib.layers.l2_regularizer(l2_reg))\n",
    "\n",
    "        hidden = my_dense_layer(X, n_neurons, activation=hidden_activation, name=\"hidden\")\n",
    "        outputs = my_dense_layer(hidden, n_inputs, activation=output_activation, name=\"outputs\")\n",
    "\n",
    "        reconstruction_loss = tf.reduce_mean(tf.square(outputs - X))\n",
    "\n",
    "        reg_losses = tf.get_collection(tf.GraphKeys.REGULARIZATION_LOSSES)\n",
    "        loss = tf.add_n([reconstruction_loss] + reg_losses)\n",
    "\n",
    "        optimizer = tf.train.AdamOptimizer(learning_rate)\n",
    "        training_op = optimizer.minimize(loss)\n",
    "\n",
    "        init = tf.global_variables_initializer()\n",
    "\n",
    "    with tf.Session(graph=graph) as sess:\n",
    "        init.run()\n",
    "        for epoch in range(n_epochs):\n",
    "            n_batches = len(X_train) // batch_size\n",
    "            for iteration in range(n_batches):\n",
    "                print(\"\\r{}%\".format(100 * iteration // n_batches), end=\"\")\n",
    "                sys.stdout.flush()\n",
    "                indices = rnd.permutation(len(X_train))[:batch_size]\n",
    "                X_batch = X_train[indices]\n",
    "                sess.run(training_op, feed_dict={X: X_batch})\n",
    "            loss_train = reconstruction_loss.eval(feed_dict={X: X_batch})\n",
    "            print(\"\\r{}\".format(epoch), \"Train MSE:\", loss_train)\n",
    "        params = dict([(var.name, var.eval()) for var in tf.get_collection(tf.GraphKeys.TRAINABLE_VARIABLES)])\n",
    "        hidden_val = hidden.eval(feed_dict={X: X_train})\n",
    "        return hidden_val, params[\"hidden/kernel:0\"], params[\"hidden/bias:0\"], params[\"outputs/kernel:0\"], params[\"outputs/bias:0\"]"
   ]
  },
  {
   "cell_type": "code",
   "execution_count": 47,
   "metadata": {},
   "outputs": [
    {
     "name": "stdout",
     "output_type": "stream",
     "text": [
      "0 Train MSE: 0.018375846\n",
      "1 Train MSE: 0.018912312\n",
      "2 Train MSE: 0.018186176\n",
      "3 Train MSE: 0.019428281\n",
      "0 Train MSE: 0.0045527294\n",
      "1 Train MSE: 0.004918872\n",
      "2 Train MSE: 0.0047163684\n",
      "3 Train MSE: 0.004736436\n"
     ]
    }
   ],
   "source": [
    "#  第一のオートエンコーダの中間層の重み、バイアス、出力、出力層の重み、バイアスを取得\n",
    "hidden_output, W1, b1, W4, b4 = train_autoencoder(mnist.train.images, n_neurons=300, n_epochs=4, batch_size=150,\n",
    "                                                  output_activation=None)\n",
    "\n",
    "# 第一のオートエンコーダの中間層の出力を入力とする。\n",
    "_, W2, b2, W3, b3 = train_autoencoder(hidden_output, n_neurons=150, n_epochs=4, batch_size=150)"
   ]
  },
  {
   "cell_type": "code",
   "execution_count": 48,
   "metadata": {},
   "outputs": [],
   "source": [
    "reset_graph()\n",
    "\n",
    "n_inputs = 28*28\n",
    "\n",
    "# ２つのオートエンコーダの出力から、最終的なオートエンコーダを作成する\n",
    "X = tf.placeholder(tf.float32, shape=[None, n_inputs])\n",
    "hidden1 = tf.nn.elu(tf.matmul(X, W1) + b1)\n",
    "hidden2 = tf.nn.elu(tf.matmul(hidden1, W2) + b2)\n",
    "hidden3 = tf.nn.elu(tf.matmul(hidden2, W3) + b3)\n",
    "outputs = tf.matmul(hidden3, W4) + b4"
   ]
  },
  {
   "cell_type": "code",
   "execution_count": 49,
   "metadata": {},
   "outputs": [
    {
     "data": {
      "image/png": "[encoded data removed]",
      "text/plain": [
       "<Figure size 576x648 with 6 Axes>"
      ]
     },
     "metadata": {
      "needs_background": "light"
     },
     "output_type": "display_data"
    }
   ],
   "source": [
    "show_reconstructed_digits(X, outputs)"
   ]
  },
  {
   "cell_type": "code",
   "execution_count": null,
   "metadata": {},
   "outputs": [],
   "source": []
  },
  {
   "cell_type": "code",
   "execution_count": 50,
   "metadata": {},
   "outputs": [],
   "source": [
    "reset_graph()\n",
    "\n",
    "n_inputs = 28 * 28\n",
    "n_hidden1 = 300\n",
    "n_hidden2 = 150  # codings\n",
    "n_hidden3 = n_hidden1\n",
    "n_outputs = n_inputs\n",
    "\n",
    "learning_rate = 0.01\n",
    "l2_reg = 0.0001\n",
    "\n",
    "activation = tf.nn.elu\n",
    "regularizer = tf.contrib.layers.l2_regularizer(l2_reg)\n",
    "initializer = tf.contrib.layers.variance_scaling_initializer()\n",
    "\n",
    "X = tf.placeholder(tf.float32, shape=[None, n_inputs])\n",
    "\n",
    "weights1_init = initializer([n_inputs, n_hidden1])\n",
    "weights2_init = initializer([n_hidden1, n_hidden2])\n",
    "weights3_init = initializer([n_hidden2, n_hidden3])\n",
    "weights4_init = initializer([n_hidden3, n_outputs])\n",
    "\n",
    "weights1 = tf.Variable(weights1_init, dtype=tf.float32, name=\"weights1\")\n",
    "weights2 = tf.Variable(weights2_init, dtype=tf.float32, name=\"weights2\")\n",
    "weights3 = tf.Variable(weights3_init, dtype=tf.float32, name=\"weights3\")\n",
    "weights4 = tf.Variable(weights4_init, dtype=tf.float32, name=\"weights4\")\n",
    "\n",
    "biases1 = tf.Variable(tf.zeros(n_hidden1), name=\"biases1\")\n",
    "biases2 = tf.Variable(tf.zeros(n_hidden2), name=\"biases2\")\n",
    "biases3 = tf.Variable(tf.zeros(n_hidden3), name=\"biases3\")\n",
    "biases4 = tf.Variable(tf.zeros(n_outputs), name=\"biases4\")\n",
    "\n",
    "hidden1 = activation(tf.matmul(X, weights1) + biases1)\n",
    "hidden2 = activation(tf.matmul(hidden1, weights2) + biases2)\n",
    "hidden3 = activation(tf.matmul(hidden2, weights3) + biases3)\n",
    "outputs = tf.matmul(hidden3, weights4) + biases4\n",
    "\n",
    "reconstruction_loss = tf.reduce_mean(tf.square(outputs - X))"
   ]
  },
  {
   "cell_type": "code",
   "execution_count": 51,
   "metadata": {},
   "outputs": [],
   "source": [
    "optimizer = tf.train.AdamOptimizer(learning_rate)\n",
    "\n",
    "with tf.name_scope(\"phase1\"):\n",
    "    phase1_outputs = tf.matmul(hidden1, weights4) + biases4  # bypass hidden2 and hidden3\n",
    "    phase1_reconstruction_loss = tf.reduce_mean(tf.square(phase1_outputs - X))\n",
    "    phase1_reg_loss = regularizer(weights1) + regularizer(weights4)\n",
    "    phase1_loss = phase1_reconstruction_loss + phase1_reg_loss\n",
    "    phase1_training_op = optimizer.minimize(phase1_loss)\n",
    "\n",
    "with tf.name_scope(\"phase2\"):\n",
    "    phase2_reconstruction_loss = tf.reduce_mean(tf.square(hidden3 - hidden1))\n",
    "    phase2_reg_loss = regularizer(weights2) + regularizer(weights3)\n",
    "    phase2_loss = phase2_reconstruction_loss + phase2_reg_loss\n",
    "    train_vars = [weights2, biases2, weights3, biases3]\n",
    "    phase2_training_op = optimizer.minimize(phase2_loss, var_list=train_vars) # freeze hidden1\n",
    "    \n",
    "init = tf.global_variables_initializer()\n",
    "saver = tf.train.Saver()"
   ]
  },
  {
   "cell_type": "code",
   "execution_count": 52,
   "metadata": {},
   "outputs": [
    {
     "name": "stdout",
     "output_type": "stream",
     "text": [
      "Training phase #1\n",
      "0 Train MSE: 0.0074977092\n",
      "1 Train MSE: 0.0076213386\n",
      "2 Train MSE: 0.007838906\n",
      "3 Train MSE: 0.0075904224\n",
      "Training phase #2\n",
      "0 Train MSE: 0.15014516\n",
      "1 Train MSE: 0.004584965\n",
      "2 Train MSE: 0.0023938762\n",
      "3 Train MSE: 0.0021063257\n",
      "Test MSE: 0.009732892\n"
     ]
    }
   ],
   "source": [
    "training_ops = [phase1_training_op, phase2_training_op]\n",
    "reconstruction_losses = [phase1_reconstruction_loss, phase2_reconstruction_loss]\n",
    "n_epochs = [4, 4]\n",
    "batch_sizes = [150, 150]\n",
    "\n",
    "with tf.Session() as sess:\n",
    "    init.run()\n",
    "    for phase in range(2):\n",
    "        print(\"Training phase #{}\".format(phase + 1))\n",
    "        for epoch in range(n_epochs[phase]):\n",
    "            n_batches = mnist.train.num_examples // batch_sizes[phase]\n",
    "            for iteration in range(n_batches):\n",
    "                print(\"\\r{}%\".format(100 * iteration // n_batches), end=\"\")\n",
    "                sys.stdout.flush()\n",
    "                X_batch, y_batch = mnist.train.next_batch(batch_sizes[phase])\n",
    "                sess.run(training_ops[phase], feed_dict={X: X_batch})\n",
    "            loss_train = reconstruction_losses[phase].eval(feed_dict={X: X_batch})\n",
    "            print(\"\\r{}\".format(epoch), \"Train MSE:\", loss_train)\n",
    "            saver.save(sess, \"./my_model_one_at_a_time.ckpt\")\n",
    "    loss_test = reconstruction_loss.eval(feed_dict={X: mnist.test.images})\n",
    "    print(\"Test MSE:\", loss_test)"
   ]
  },
  {
   "cell_type": "code",
   "execution_count": 53,
   "metadata": {},
   "outputs": [
    {
     "name": "stdout",
     "output_type": "stream",
     "text": [
      "Training phase #1\n",
      "0 Train MSE: 0.007689027\n",
      "1 Train MSE: 0.007533066\n",
      "2 Train MSE: 0.0078823855\n",
      "3 Train MSE: 0.0076461593\n",
      "Training phase #2\n",
      "0 Train MSE: 0.044375245\n",
      "1 Train MSE: 0.005039089\n",
      "2 Train MSE: 0.002430958\n",
      "3 Train MSE: 0.0022032966\n",
      "Test MSE: 0.009717611\n"
     ]
    }
   ],
   "source": [
    "training_ops = [phase1_training_op, phase2_training_op]\n",
    "reconstruction_losses = [phase1_reconstruction_loss, phase2_reconstruction_loss]\n",
    "n_epochs = [4, 4]\n",
    "batch_sizes = [150, 150]\n",
    "\n",
    "with tf.Session() as sess:\n",
    "    init.run()\n",
    "    for phase in range(2):\n",
    "        print(\"Training phase #{}\".format(phase + 1))\n",
    "        if phase == 1:\n",
    "            hidden1_cache = hidden1.eval(feed_dict={X: mnist.train.images})\n",
    "        for epoch in range(n_epochs[phase]):\n",
    "            n_batches = mnist.train.num_examples // batch_sizes[phase]\n",
    "            for iteration in range(n_batches):\n",
    "                print(\"\\r{}%\".format(100 * iteration // n_batches), end=\"\")\n",
    "                sys.stdout.flush()\n",
    "                if phase == 1:\n",
    "                    indices = rnd.permutation(mnist.train.num_examples)\n",
    "                    hidden1_batch = hidden1_cache[indices[:batch_sizes[phase]]]\n",
    "                    feed_dict = {hidden1: hidden1_batch}\n",
    "                    sess.run(training_ops[phase], feed_dict=feed_dict)\n",
    "                else:\n",
    "                    X_batch, y_batch = mnist.train.next_batch(batch_sizes[phase])\n",
    "                    feed_dict = {X: X_batch}\n",
    "                    sess.run(training_ops[phase], feed_dict=feed_dict)\n",
    "            loss_train = reconstruction_losses[phase].eval(feed_dict=feed_dict)\n",
    "            print(\"\\r{}\".format(epoch), \"Train MSE:\", loss_train)\n",
    "            saver.save(sess, \"./my_model_cache_frozen.ckpt\")\n",
    "    loss_test = reconstruction_loss.eval(feed_dict={X: mnist.test.images})\n",
    "    print(\"Test MSE:\", loss_test)"
   ]
  },
  {
   "cell_type": "code",
   "execution_count": 55,
   "metadata": {},
   "outputs": [
    {
     "data": {
      "image/png": "[encoded data removed]",
      "text/plain": [
       "<Figure size 432x288 with 4 Axes>"
      ]
     },
     "metadata": {
      "needs_background": "light"
     },
     "output_type": "display_data"
    }
   ],
   "source": [
    "n_test_digits = 2\n",
    "X_test = mnist.test.images[:n_test_digits]\n",
    "\n",
    "with tf.Session() as sess:\n",
    "    saver.restore(sess, './my_model_one_at_a_time.ckpt')\n",
    "    outputs_val = outputs.eval(feed_dict={X:X_test})\n",
    "    \n",
    "def plot_images(image, shape=[28, 28]):\n",
    "    plt.imshow(image.reshape(shape), cmap='Grey', interpolation='nearest')\n",
    "    plt.axis('off')\n",
    "    \n",
    "for digit_index in range(n_test_digits):\n",
    "    plt.subplot(n_test_digits, 2, digit_index*2 + 1)\n",
    "    plot_image(X_test[digit_index])\n",
    "    plt.subplot(n_test_digits, 2, digit_index * 2 + 2)\n",
    "    plot_image(outputs_val[digit_index])"
   ]
  },
  {
   "cell_type": "code",
   "execution_count": 56,
   "metadata": {},
   "outputs": [
    {
     "data": {
      "image/png": "[encoded data removed]",
      "text/plain": [
       "<Figure size 432x288 with 5 Axes>"
      ]
     },
     "metadata": {
      "needs_background": "light"
     },
     "output_type": "display_data"
    }
   ],
   "source": [
    "with tf.Session() as sess:\n",
    "    saver.restore(sess, \"./my_model_one_at_a_time.ckpt\") # not shown in the book\n",
    "    weights1_val = weights1.eval()\n",
    "\n",
    "for i in range(5):\n",
    "    plt.subplot(1, 5, i + 1)\n",
    "    plot_image(weights1_val.T[i])\n",
    "\n",
    "plt.show()                          # not shown"
   ]
  },
  {
   "cell_type": "code",
   "execution_count": null,
   "metadata": {},
   "outputs": [],
   "source": []
  },
  {
   "cell_type": "code",
   "execution_count": 62,
   "metadata": {},
   "outputs": [],
   "source": [
    "reset_graph()\n",
    "\n",
    "n_inputs = 28 * 28\n",
    "n_hidden1 = 300\n",
    "n_hidden2 = 150\n",
    "n_outputs = 10\n",
    "\n",
    "learning_rate = 0.01\n",
    "l2_reg = 0.0005\n",
    "\n",
    "activation = tf.nn.elu\n",
    "regularizer = tf.contrib.layers.l2_regularizer(l2_reg)\n",
    "initializer = tf.contrib.layers.variance_scaling_initializer()\n",
    "\n",
    "X = tf.placeholder(tf.float32, shape=[None, n_inputs])\n",
    "y = tf.placeholder(tf.int32, shape=[None])\n",
    "\n",
    "weights1_init = initializer([n_inputs, n_hidden1])\n",
    "weights2_init = initializer([n_hidden1, n_hidden2])\n",
    "weights3_init = initializer([n_hidden2, n_outputs])\n",
    "\n",
    "weights1 = tf.Variable(weights1_init, dtype=tf.float32, name=\"weights1\")\n",
    "weights2 = tf.Variable(weights2_init, dtype=tf.float32, name=\"weights2\")\n",
    "weights3 = tf.Variable(weights3_init, dtype=tf.float32, name=\"weights3\")\n",
    "\n",
    "biases1 = tf.Variable(tf.zeros(n_hidden1), name=\"biases1\")\n",
    "biases2 = tf.Variable(tf.zeros(n_hidden2), name=\"biases2\")\n",
    "biases3 = tf.Variable(tf.zeros(n_outputs), name=\"biases3\")\n",
    "\n",
    "hidden1 = activation(tf.matmul(X, weights1) + biases1)\n",
    "hidden2 = activation(tf.matmul(hidden1, weights2) + biases2)\n",
    "logits = tf.matmul(hidden2, weights3) + biases3\n",
    "\n",
    "cross_entropy = tf.nn.sparse_softmax_cross_entropy_with_logits(labels=y, logits=logits)\n",
    "reg_loss = regularizer(weights1) + regularizer(weights2) + regularizer(weights3)\n",
    "loss = cross_entropy + reg_loss\n",
    "optimizer = tf.train.AdamOptimizer(learning_rate)\n",
    "training_op = optimizer.minimize(loss)\n",
    "\n",
    "correct = tf.nn.in_top_k(logits, y, 1)\n",
    "accuracy = tf.reduce_mean(tf.cast(correct, tf.float32))\n",
    "\n",
    "init = tf.global_variables_initializer()\n",
    "\n",
    "pretrain_saver = tf.train.Saver([weights1, weights2, biases1, biases2])\n",
    "saver = tf.train.Saver()"
   ]
  },
  {
   "cell_type": "code",
   "execution_count": 66,
   "metadata": {},
   "outputs": [
    {
     "name": "stdout",
     "output_type": "stream",
     "text": [
      "0 Train accuracy: 0.94666666\tTest accuracy: 0.9287\n",
      "1 Train accuracy: 0.96666664\tTest accuracy: 0.9358\n",
      "2 Train accuracy: 0.96666664\tTest accuracy: 0.937\n",
      "3 Train accuracy: 0.99333334\tTest accuracy: 0.9446\n"
     ]
    }
   ],
   "source": [
    "n_epochs = 4\n",
    "batch_size = 150\n",
    "n_labeled_instances = 20000\n",
    "\n",
    "#training_op = optimizer.minimize(loss, var_list=[weights3, biases3])  # Freeze layers 1 and 2 (optional)\n",
    "\n",
    "with tf.Session() as sess:\n",
    "    init.run()\n",
    "    pretrain_saver.restore(sess, \"./my_model_cache_frozen.ckpt\")\n",
    "    for epoch in range(n_epochs):\n",
    "        n_batches = n_labeled_instances // batch_size\n",
    "        for iteration in range(n_batches):\n",
    "            print(\"\\r{}%\".format(100 * iteration // n_batches), end=\"\")\n",
    "            sys.stdout.flush()\n",
    "            indices = rnd.permutation(n_labeled_instances)[:batch_size]\n",
    "            X_batch, y_batch = mnist.train.images[indices], mnist.train.labels[indices]\n",
    "            sess.run(training_op, feed_dict={X: X_batch, y: y_batch})\n",
    "        accuracy_val = accuracy.eval(feed_dict={X: X_batch, y: y_batch})\n",
    "        print(\"\\r{}\".format(epoch), \"Train accuracy:\", accuracy_val, end=\"\\t\")\n",
    "        saver.save(sess, \"./my_model_supervised_pretrained.ckpt\")\n",
    "        accuracy_val = accuracy.eval(feed_dict={X: mnist.test.images, y: mnist.test.labels})\n",
    "        print(\"Test accuracy:\", accuracy_val)"
   ]
  },
  {
   "cell_type": "code",
   "execution_count": null,
   "metadata": {},
   "outputs": [],
   "source": []
  },
  {
   "cell_type": "code",
   "execution_count": 67,
   "metadata": {},
   "outputs": [],
   "source": [
    "reset_graph()\n",
    "\n",
    "n_inputs = 28 * 28\n",
    "n_hidden1 = 300\n",
    "n_hidden2 = 150  # codings\n",
    "n_hidden3 = n_hidden1\n",
    "n_outputs = n_inputs\n",
    "\n",
    "learning_rate = 0.01\n",
    "\n",
    "noise_level = 1.0\n",
    "\n",
    "X = tf.placeholder(tf.float32, shape=[None, n_inputs])\n",
    "\n",
    "# ガウスノイズを加える\n",
    "X_noisy = X + noise_level * tf.random_normal(tf.shape(X))\n",
    "\n",
    "hidden1 = tf.layers.dense(X_noisy, n_hidden1, activation=tf.nn.relu, name='hidden1')\n",
    "hidden2 = tf.layers.dense(hidden1, n_hidden2, activation=tf.nn.relu, name='hidden2')\n",
    "hidden3 = tf.layers.dense(hidden2, n_hidden3, activation=tf.nn.relu, name='hidden3')\n",
    "outputs = tf.layers.dense(hidden3, n_outputs, name='outputs')\n",
    "\n",
    "reconstruction_loss = tf.reduce_mean(tf.square(outputs - X))\n",
    "\n",
    "optimizer = tf.train.AdamOptimizer(learning_rate)\n",
    "training_op = optimizer.minimize(reconstruction_loss)\n",
    "\n",
    "init = tf.global_variables_initializer()\n",
    "saver = tf.train.Saver()"
   ]
  },
  {
   "cell_type": "code",
   "execution_count": 68,
   "metadata": {},
   "outputs": [],
   "source": [
    "optimizer = tf.train.AdamOptimizer(learning_rate)\n",
    "training_op = optimizer.minimize(reconstruction_loss)\n",
    "    \n",
    "init = tf.global_variables_initializer()\n",
    "saver = tf.train.Saver()"
   ]
  },
  {
   "cell_type": "code",
   "execution_count": null,
   "metadata": {},
   "outputs": [],
   "source": []
  },
  {
   "cell_type": "code",
   "execution_count": 70,
   "metadata": {},
   "outputs": [
    {
     "name": "stderr",
     "output_type": "stream",
     "text": [
      "W1107 13:29:49.725429 140126925756160 deprecation.py:323] From <ipython-input-70-25875578bd48>:19: dropout (from tensorflow.python.layers.core) is deprecated and will be removed in a future version.\n",
      "Instructions for updating:\n",
      "Use keras.layers.dropout instead.\n"
     ]
    }
   ],
   "source": [
    "reset_graph()\n",
    "\n",
    "dropout_rate = 0.3\n",
    "\n",
    "n_inputs = 28 * 28\n",
    "n_hidden1 = 300\n",
    "n_hidden2 = 150  # codings\n",
    "n_hidden3 = n_hidden1\n",
    "n_outputs = n_inputs\n",
    "\n",
    "learning_rate = 0.01\n",
    "\n",
    "noise_level = 1.0\n",
    "\n",
    "training = tf.placeholder_with_default(False, shape=(), name='training')\n",
    "X = tf.placeholder(tf.float32, shape=[None, n_inputs])\n",
    "\n",
    "# dropoutノイズを加える\n",
    "X_drop = tf.layers.dropout(X, dropout_rate, training=training)\n",
    "\n",
    "\n",
    "hidden1 = tf.layers.dense(X_drop, n_hidden1, activation=tf.nn.relu, name='hidden1')\n",
    "hidden2 = tf.layers.dense(hidden1, n_hidden2, activation=tf.nn.relu, name='hidden2')\n",
    "hidden3 = tf.layers.dense(hidden2, n_hidden3, activation=tf.nn.relu, name='hidden3')\n",
    "outputs = tf.layers.dense(hidden3, n_outputs, name='outputs')\n",
    "\n",
    "reconstruction_loss = tf.reduce_mean(tf.square(outputs - X))\n",
    "\n",
    "optimizer = tf.train.AdamOptimizer(learning_rate)\n",
    "training_op = optimizer.minimize(reconstruction_loss)\n",
    "\n",
    "init = tf.global_variables_initializer()\n",
    "saver = tf.train.Saver()"
   ]
  },
  {
   "cell_type": "code",
   "execution_count": 71,
   "metadata": {},
   "outputs": [
    {
     "name": "stdout",
     "output_type": "stream",
     "text": [
      "0 Train MSE: 0.02932836\n",
      "1 Train MSE: 0.0287801\n",
      "2 Train MSE: 0.027146872\n",
      "3 Train MSE: 0.027016709\n",
      "4 Train MSE: 0.025990859\n",
      "5 Train MSE: 0.026399657\n",
      "6 Train MSE: 0.025156818\n",
      "7 Train MSE: 0.027591575\n",
      "8 Train MSE: 0.028740918\n",
      "9 Train MSE: 0.026856173\n"
     ]
    }
   ],
   "source": [
    "n_epochs = 10\n",
    "batch_size = 150\n",
    "\n",
    "with tf.Session() as sess:\n",
    "    init.run()\n",
    "    for epoch in range(n_epochs):\n",
    "        n_batches = mnist.train.num_examples // batch_size\n",
    "        for iteration in range(n_batches):\n",
    "            print(\"\\r{}%\".format(100 * iteration // n_batches), end=\"\")\n",
    "            sys.stdout.flush()\n",
    "            X_batch, y_batch = mnist.train.next_batch(batch_size)\n",
    "            sess.run(training_op, feed_dict={X: X_batch, training: True})\n",
    "        loss_train = reconstruction_loss.eval(feed_dict={X: X_batch})\n",
    "        print(\"\\r{}\".format(epoch), \"Train MSE:\", loss_train)\n",
    "        saver.save(sess, \"./my_model_stacked_denoising_dropout.ckpt\")"
   ]
  },
  {
   "cell_type": "code",
   "execution_count": 72,
   "metadata": {},
   "outputs": [
    {
     "data": {
      "image/png": "[encoded data removed]",
      "text/plain": [
       "<Figure size 576x648 with 6 Axes>"
      ]
     },
     "metadata": {
      "needs_background": "light"
     },
     "output_type": "display_data"
    }
   ],
   "source": [
    "show_reconstructed_digits(X, outputs, \"./my_model_stacked_denoising_dropout.ckpt\")"
   ]
  },
  {
   "cell_type": "code",
   "execution_count": 73,
   "metadata": {},
   "outputs": [],
   "source": [
    "reset_graph()\n",
    "\n",
    "n_inputs = 28 * 28\n",
    "n_hidden1 = 1000  # sparse codings\n",
    "n_outputs = n_inputs\n",
    "\n",
    "def kl_divergence(p, q):\n",
    "    # Kullback Leibler divergence\n",
    "    return p * tf.log(p / q) + (1 - p) * tf.log((1 - p) / (1 - q))\n",
    "\n",
    "learning_rate = 0.01\n",
    "sparsity_target = 0.1\n",
    "sparsity_weight = 0.2\n",
    "\n",
    "X = tf.placeholder(tf.float32, shape=[None, n_inputs])            # not shown in the book\n",
    "\n",
    "# ロジスティク関数で、活性度を　０、１にクリッピング\n",
    "hidden1 = tf.layers.dense(X, n_hidden1, activation=tf.nn.sigmoid) # not shown\n",
    "outputs = tf.layers.dense(hidden1, n_outputs)                     # not shown\n",
    "\n",
    "# 疎な中間層にするための正則化項\n",
    "hidden1_mean = tf.reduce_mean(hidden1, axis=0)\n",
    "sparsity_loss = tf.reduce_mean(kl_divergence(sparsity_target, hidden1_mean))\n",
    "\n",
    "reconstruction_loss = tf.reduce_mean(tf.square(outputs - X))\n",
    "\n",
    "loss = reconstruction_loss + sparsity_weight * sparsity_loss\n",
    "\n",
    "optimizer = tf.train.AdamOptimizer(learning_rate)\n",
    "training_op = optimizer.minimize(loss)\n",
    "\n",
    "init = tf.global_variables_initializer()\n",
    "saver = tf.train.Saver()"
   ]
  },
  {
   "cell_type": "code",
   "execution_count": 74,
   "metadata": {},
   "outputs": [
    {
     "name": "stdout",
     "output_type": "stream",
     "text": [
      "0 Train MSE: 0.085699 \tSparsity loss: 0.33426052 \tTotal loss: 0.15255111\n",
      "1 Train MSE: 0.07854353 \tSparsity loss: 0.3153703 \tTotal loss: 0.1416176\n",
      "2 Train MSE: 0.07105568 \tSparsity loss: 0.30241552 \tTotal loss: 0.13153878\n",
      "3 Train MSE: 0.07265292 \tSparsity loss: 0.263442 \tTotal loss: 0.12534133\n",
      "4 Train MSE: 0.06816287 \tSparsity loss: 0.23450148 \tTotal loss: 0.115063176\n",
      "5 Train MSE: 0.06606667 \tSparsity loss: 0.17412674 \tTotal loss: 0.10089202\n",
      "6 Train MSE: 0.05780654 \tSparsity loss: 0.11680181 \tTotal loss: 0.0811669\n",
      "7 Train MSE: 0.041055135 \tSparsity loss: 0.052385528 \tTotal loss: 0.051532242\n",
      "8 Train MSE: 0.029583981 \tSparsity loss: 0.024608552 \tTotal loss: 0.03450569\n",
      "9 Train MSE: 0.020438513 \tSparsity loss: 0.013525486 \tTotal loss: 0.02314361\n",
      "10 Train MSE: 0.015819615 \tSparsity loss: 0.00910682 \tTotal loss: 0.017640978\n",
      "11 Train MSE: 0.013126077 \tSparsity loss: 0.008786436 \tTotal loss: 0.014883365\n",
      "12 Train MSE: 0.011587965 \tSparsity loss: 0.008423551 \tTotal loss: 0.013272676\n",
      "13 Train MSE: 0.010264912 \tSparsity loss: 0.00830641 \tTotal loss: 0.011926194\n",
      "14 Train MSE: 0.009167064 \tSparsity loss: 0.00776317 \tTotal loss: 0.010719698\n",
      "15 Train MSE: 0.008487114 \tSparsity loss: 0.007919207 \tTotal loss: 0.010070955\n",
      "16 Train MSE: 0.0079425 \tSparsity loss: 0.0076370225 \tTotal loss: 0.009469904\n",
      "17 Train MSE: 0.0073390924 \tSparsity loss: 0.0077603897 \tTotal loss: 0.008891171\n",
      "18 Train MSE: 0.007146164 \tSparsity loss: 0.0073012165 \tTotal loss: 0.008606407\n",
      "19 Train MSE: 0.0067710616 \tSparsity loss: 0.0071307905 \tTotal loss: 0.00819722\n",
      "20 Train MSE: 0.0066412766 \tSparsity loss: 0.007129259 \tTotal loss: 0.008067128\n",
      "21 Train MSE: 0.006162478 \tSparsity loss: 0.0069799023 \tTotal loss: 0.0075584585\n",
      "22 Train MSE: 0.005996992 \tSparsity loss: 0.007013017 \tTotal loss: 0.0073995953\n",
      "23 Train MSE: 0.0057720095 \tSparsity loss: 0.00704842 \tTotal loss: 0.007181694\n",
      "24 Train MSE: 0.0054347897 \tSparsity loss: 0.006512066 \tTotal loss: 0.006737203\n",
      "25 Train MSE: 0.0052358434 \tSparsity loss: 0.0063166465 \tTotal loss: 0.0064991727\n",
      "26 Train MSE: 0.0051882914 \tSparsity loss: 0.0064694756 \tTotal loss: 0.0064821867\n",
      "27 Train MSE: 0.0050341357 \tSparsity loss: 0.0063236086 \tTotal loss: 0.0062988573\n",
      "28 Train MSE: 0.0048555136 \tSparsity loss: 0.0061625256 \tTotal loss: 0.006088019\n",
      "29 Train MSE: 0.0046224934 \tSparsity loss: 0.006318224 \tTotal loss: 0.0058861384\n",
      "30 Train MSE: 0.0045010517 \tSparsity loss: 0.0056037065 \tTotal loss: 0.005621793\n",
      "31 Train MSE: 0.0043126894 \tSparsity loss: 0.005544473 \tTotal loss: 0.005421584\n",
      "32 Train MSE: 0.0043382784 \tSparsity loss: 0.005414478 \tTotal loss: 0.005421174\n",
      "33 Train MSE: 0.0044211457 \tSparsity loss: 0.005282876 \tTotal loss: 0.005477721\n",
      "34 Train MSE: 0.004275085 \tSparsity loss: 0.004941375 \tTotal loss: 0.00526336\n",
      "35 Train MSE: 0.0040333844 \tSparsity loss: 0.0050953054 \tTotal loss: 0.0050524455\n",
      "36 Train MSE: 0.003997269 \tSparsity loss: 0.0052065803 \tTotal loss: 0.005038585\n",
      "37 Train MSE: 0.004013396 \tSparsity loss: 0.0046836655 \tTotal loss: 0.004950129\n",
      "38 Train MSE: 0.0038320704 \tSparsity loss: 0.0047069388 \tTotal loss: 0.004773458\n",
      "39 Train MSE: 0.003744193 \tSparsity loss: 0.004919136 \tTotal loss: 0.00472802\n",
      "40 Train MSE: 0.0036675793 \tSparsity loss: 0.004275637 \tTotal loss: 0.004522707\n",
      "41 Train MSE: 0.003719888 \tSparsity loss: 0.0043530646 \tTotal loss: 0.004590501\n",
      "42 Train MSE: 0.0035716554 \tSparsity loss: 0.0043426426 \tTotal loss: 0.0044401838\n",
      "43 Train MSE: 0.0034279835 \tSparsity loss: 0.004168743 \tTotal loss: 0.004261732\n",
      "44 Train MSE: 0.0033314694 \tSparsity loss: 0.004031649 \tTotal loss: 0.004137799\n",
      "45 Train MSE: 0.0032249705 \tSparsity loss: 0.0041037053 \tTotal loss: 0.004045712\n",
      "46 Train MSE: 0.003291644 \tSparsity loss: 0.0037586587 \tTotal loss: 0.0040433756\n",
      "47 Train MSE: 0.003231197 \tSparsity loss: 0.0034610212 \tTotal loss: 0.0039234012\n",
      "48 Train MSE: 0.0033005802 \tSparsity loss: 0.0039181393 \tTotal loss: 0.004084208\n",
      "49 Train MSE: 0.003216925 \tSparsity loss: 0.0038194603 \tTotal loss: 0.0039808173\n",
      "50 Train MSE: 0.0029897399 \tSparsity loss: 0.0035977722 \tTotal loss: 0.0037092944\n",
      "51 Train MSE: 0.0031536387 \tSparsity loss: 0.0031516866 \tTotal loss: 0.003783976\n",
      "52 Train MSE: 0.0030955325 \tSparsity loss: 0.003175775 \tTotal loss: 0.0037306875\n",
      "53 Train MSE: 0.002851525 \tSparsity loss: 0.0031538776 \tTotal loss: 0.0034823006\n",
      "54 Train MSE: 0.0028843894 \tSparsity loss: 0.002820677 \tTotal loss: 0.0034485247\n",
      "55 Train MSE: 0.0028899512 \tSparsity loss: 0.002848719 \tTotal loss: 0.003459695\n",
      "56 Train MSE: 0.0027772316 \tSparsity loss: 0.0027169543 \tTotal loss: 0.0033206225\n",
      "57 Train MSE: 0.0030809264 \tSparsity loss: 0.002748316 \tTotal loss: 0.0036305897\n",
      "58 Train MSE: 0.0026226756 \tSparsity loss: 0.0024836669 \tTotal loss: 0.003119409\n",
      "59 Train MSE: 0.003597399 \tSparsity loss: 0.0023028487 \tTotal loss: 0.004057969\n",
      "60 Train MSE: 0.0026380597 \tSparsity loss: 0.0023936334 \tTotal loss: 0.0031167862\n",
      "61 Train MSE: 0.00394533 \tSparsity loss: 0.0020849607 \tTotal loss: 0.0043623224\n",
      "62 Train MSE: 0.0024169832 \tSparsity loss: 0.0022442765 \tTotal loss: 0.0028658386\n",
      "63 Train MSE: 0.0025246497 \tSparsity loss: 0.0022319683 \tTotal loss: 0.0029710433\n",
      "64 Train MSE: 0.002558093 \tSparsity loss: 0.0019905397 \tTotal loss: 0.002956201\n",
      "65 Train MSE: 0.002380002 \tSparsity loss: 0.0020093727 \tTotal loss: 0.0027818766\n",
      "66 Train MSE: 0.002484891 \tSparsity loss: 0.0018279443 \tTotal loss: 0.00285048\n",
      "67 Train MSE: 0.0027089666 \tSparsity loss: 0.0019343052 \tTotal loss: 0.0030958275\n",
      "68 Train MSE: 0.0023753 \tSparsity loss: 0.0019290037 \tTotal loss: 0.002761101\n",
      "69 Train MSE: 0.0023847779 \tSparsity loss: 0.0016061222 \tTotal loss: 0.0027060024\n",
      "70 Train MSE: 0.0030032329 \tSparsity loss: 0.0014226048 \tTotal loss: 0.0032877538\n",
      "71 Train MSE: 0.0023955314 \tSparsity loss: 0.0016495078 \tTotal loss: 0.0027254329\n",
      "72 Train MSE: 0.0023098635 \tSparsity loss: 0.0014986956 \tTotal loss: 0.0026096026\n",
      "73 Train MSE: 0.0028918644 \tSparsity loss: 0.0013626063 \tTotal loss: 0.0031643857\n",
      "74 Train MSE: 0.0021837763 \tSparsity loss: 0.0014153554 \tTotal loss: 0.0024668474\n",
      "75 Train MSE: 0.0028237859 \tSparsity loss: 0.0014122274 \tTotal loss: 0.0031062313\n",
      "76 Train MSE: 0.0024212326 \tSparsity loss: 0.0013308763 \tTotal loss: 0.002687408\n",
      "77 Train MSE: 0.002886473 \tSparsity loss: 0.0013205876 \tTotal loss: 0.0031505905\n",
      "78 Train MSE: 0.004107389 \tSparsity loss: 0.0010666782 \tTotal loss: 0.004320725\n",
      "79 Train MSE: 0.0021863193 \tSparsity loss: 0.0011390598 \tTotal loss: 0.0024141313\n",
      "80 Train MSE: 0.0023365908 \tSparsity loss: 0.001270314 \tTotal loss: 0.0025906535\n",
      "81 Train MSE: 0.0025605236 \tSparsity loss: 0.0009841153 \tTotal loss: 0.0027573467\n",
      "82 Train MSE: 0.002533292 \tSparsity loss: 0.00088898424 \tTotal loss: 0.0027110889\n",
      "83 Train MSE: 0.0024652553 \tSparsity loss: 0.00095240807 \tTotal loss: 0.0026557369\n",
      "84 Train MSE: 0.0026667311 \tSparsity loss: 0.0009697754 \tTotal loss: 0.0028606863\n",
      "85 Train MSE: 0.00220307 \tSparsity loss: 0.0008271764 \tTotal loss: 0.0023685053\n",
      "86 Train MSE: 0.0020186477 \tSparsity loss: 0.00080804667 \tTotal loss: 0.002180257\n",
      "87 Train MSE: 0.002140976 \tSparsity loss: 0.0007034538 \tTotal loss: 0.0022816667\n",
      "88 Train MSE: 0.0018776843 \tSparsity loss: 0.0007919024 \tTotal loss: 0.0020360649\n",
      "89 Train MSE: 0.0021531237 \tSparsity loss: 0.0006976351 \tTotal loss: 0.0022926508\n",
      "90 Train MSE: 0.0021295222 \tSparsity loss: 0.0006406354 \tTotal loss: 0.0022576493\n",
      "91 Train MSE: 0.0020355205 \tSparsity loss: 0.0007293363 \tTotal loss: 0.0021813877\n",
      "92 Train MSE: 0.0017854274 \tSparsity loss: 0.0007154948 \tTotal loss: 0.0019285264\n",
      "93 Train MSE: 0.0031417075 \tSparsity loss: 0.00062732364 \tTotal loss: 0.0032671723\n",
      "94 Train MSE: 0.0031148829 \tSparsity loss: 0.0005638305 \tTotal loss: 0.003227649\n",
      "95 Train MSE: 0.0024039887 \tSparsity loss: 0.00061689876 \tTotal loss: 0.0025273685\n",
      "96 Train MSE: 0.0022097228 \tSparsity loss: 0.0005353356 \tTotal loss: 0.00231679\n",
      "97 Train MSE: 0.002243558 \tSparsity loss: 0.0005553545 \tTotal loss: 0.0023546289\n",
      "98 Train MSE: 0.0021175744 \tSparsity loss: 0.0005097802 \tTotal loss: 0.0022195305\n",
      "99 Train MSE: 0.0018246641 \tSparsity loss: 0.00050250185 \tTotal loss: 0.0019251645\n"
     ]
    }
   ],
   "source": [
    "n_epochs = 100\n",
    "batch_size = 1000\n",
    "\n",
    "with tf.Session() as sess:\n",
    "    init.run()\n",
    "    for epoch in range(n_epochs):\n",
    "        n_batches = mnist.train.num_examples // batch_size\n",
    "        for iteration in range(n_batches):\n",
    "            print(\"\\r{}%\".format(100 * iteration // n_batches), end=\"\")\n",
    "            sys.stdout.flush()\n",
    "            X_batch, y_batch = mnist.train.next_batch(batch_size)\n",
    "            sess.run(training_op, feed_dict={X: X_batch})\n",
    "        reconstruction_loss_val, sparsity_loss_val, loss_val = sess.run([reconstruction_loss, sparsity_loss, loss], feed_dict={X: X_batch})\n",
    "        print(\"\\r{}\".format(epoch), \"Train MSE:\", reconstruction_loss_val, \"\\tSparsity loss:\", sparsity_loss_val, \"\\tTotal loss:\", loss_val)\n",
    "        saver.save(sess, \"./my_model_sparse.ckpt\")"
   ]
  },
  {
   "cell_type": "code",
   "execution_count": 75,
   "metadata": {},
   "outputs": [
    {
     "data": {
      "image/png": "[encoded data removed]",
      "text/plain": [
       "<Figure size 576x648 with 6 Axes>"
      ]
     },
     "metadata": {
      "needs_background": "light"
     },
     "output_type": "display_data"
    }
   ],
   "source": [
    "show_reconstructed_digits(X, outputs, \"./my_model_sparse.ckpt\")"
   ]
  },
  {
   "cell_type": "code",
   "execution_count": null,
   "metadata": {},
   "outputs": [],
   "source": []
  },
  {
   "cell_type": "code",
   "execution_count": 93,
   "metadata": {},
   "outputs": [],
   "source": [
    "reset_graph()\n",
    "\n",
    "from functools import partial\n",
    "\n",
    "n_inputs = 28 * 28\n",
    "n_hidden1 = 500\n",
    "n_hidden2 = 500\n",
    "n_hidden3 = 20  # codings\n",
    "n_hidden4 = n_hidden2\n",
    "n_hidden5 = n_hidden1\n",
    "n_outputs = n_inputs\n",
    "learning_rate = 0.001\n",
    "\n",
    "initializer = tf.contrib.layers.variance_scaling_initializer()\n",
    "\n",
    "my_dense_layer = partial(tf.layers.dense, \n",
    "                         activation=tf.nn.relu, \n",
    "                         kernel_initializer=initializer)\n",
    "\n",
    "X = tf.placeholder(tf.float32, shape=[None, n_inputs])\n",
    "\n",
    "hidden1 = my_dense_layer(X, n_hidden1)\n",
    "hidden2 = my_dense_layer(hidden1, n_hidden2)\n",
    "\n",
    "hidden3_mean = my_dense_layer(hidden2, n_hidden3, activation=None)\n",
    "hidden3_sigma = my_dense_layer(hidden2, n_hidden3, activation=None)\n",
    "noise = tf.random_normal(tf.shape(hidden3_sigma), dtype=tf.float32)\n",
    "hidden3 = hidden3_mean + hidden3_sigma * noise\n",
    "\n",
    "hidden4 = my_dense_layer(hidden3, n_hidden4)\n",
    "hidden5 = my_dense_layer(hidden4, n_hidden5)\n",
    "logits = my_dense_layer(hidden5, n_outputs, activation=None)\n",
    "\n",
    "outputs = tf.sigmoid(logits)\n",
    "\n",
    "xentropy = tf.nn.sigmoid_cross_entropy_with_logits(labels=X, logits=logits)\n",
    "reconstruction_loss  = tf.reduce_mean(tf.square(xentropy))\n",
    "\n",
    "eps = 1e-10 \n",
    "latent_loss = 0.5 * tf.reduce_sum(\n",
    "    tf.square(hidden3_sigma) + tf.square(hidden3_mean)\n",
    "    - 1 - tf.log(eps + tf.square(hidden3_sigma)))\n",
    "\n",
    "loss = reconstruction_loss + latent_loss\n",
    "\n",
    "optimizer = tf.train.AdamOptimizer(learning_rate=learning_rate)\n",
    "training_op = optimizer.minimize(loss)\n",
    "\n",
    "init = tf.global_variables_initializer()\n",
    "saver = tf.train.Saver()"
   ]
  },
  {
   "cell_type": "code",
   "execution_count": 82,
   "metadata": {},
   "outputs": [
    {
     "name": "stdout",
     "output_type": "stream",
     "text": [
      "0 Train total loss: 25.26321 \tReconstruction loss: 0.19354215 \tLatent loss: 25.069668\n",
      "1 Train total loss: 9.692268 \tReconstruction loss: 0.19453587 \tLatent loss: 9.497732\n",
      "2 Train total loss: 6.524347 \tReconstruction loss: 0.18498828 \tLatent loss: 6.3393583\n",
      "3 Train total loss: 4.951652 \tReconstruction loss: 0.19243138 \tLatent loss: 4.7592206\n",
      "4 Train total loss: 3.2507477 \tReconstruction loss: 0.18999581 \tLatent loss: 3.060752\n",
      "5 Train total loss: 2.087463 \tReconstruction loss: 0.1906408 \tLatent loss: 1.8968222\n",
      "6 Train total loss: 1.6411262 \tReconstruction loss: 0.18726343 \tLatent loss: 1.4538627\n",
      "7 Train total loss: 1.2264836 \tReconstruction loss: 0.18994552 \tLatent loss: 1.036538\n",
      "8 Train total loss: 0.83543664 \tReconstruction loss: 0.19192542 \tLatent loss: 0.64351124\n",
      "9 Train total loss: 0.5692755 \tReconstruction loss: 0.18825509 \tLatent loss: 0.3810204\n",
      "10 Train total loss: 0.48642027 \tReconstruction loss: 0.18641557 \tLatent loss: 0.3000047\n",
      "11 Train total loss: 0.3661834 \tReconstruction loss: 0.18674828 \tLatent loss: 0.1794351\n",
      "12 Train total loss: 0.31570792 \tReconstruction loss: 0.18905613 \tLatent loss: 0.12665181\n",
      "13 Train total loss: 0.28926697 \tReconstruction loss: 0.18812051 \tLatent loss: 0.10114646\n",
      "14 Train total loss: 0.24338265 \tReconstruction loss: 0.18499976 \tLatent loss: 0.05838288\n",
      "15 Train total loss: 0.27873117 \tReconstruction loss: 0.1904678 \tLatent loss: 0.08826335\n",
      "16 Train total loss: 0.26381814 \tReconstruction loss: 0.18762581 \tLatent loss: 0.07619232\n",
      "17% Train total loss: 0.20975955 \tReconstruction loss: 0.18592198 \tLatent loss: 0.023837572\n",
      "18 Train total loss: 0.20266862 \tReconstruction loss: 0.18879771 \tLatent loss: 0.013870912\n",
      "19 Train total loss: 0.24224815 \tReconstruction loss: 0.1862152 \tLatent loss: 0.05603295\n",
      "20 Train total loss: 0.25821936 \tReconstruction loss: 0.18560573 \tLatent loss: 0.07261363\n",
      "21 Train total loss: 0.20162465 \tReconstruction loss: 0.1907401 \tLatent loss: 0.010884556\n",
      "22 Train total loss: 0.19620365 \tReconstruction loss: 0.18764412 \tLatent loss: 0.008559526\n",
      "23 Train total loss: 0.19376647 \tReconstruction loss: 0.18822537 \tLatent loss: 0.0055411067\n",
      "24 Train total loss: 0.1961847 \tReconstruction loss: 0.18934384 \tLatent loss: 0.0068408484\n",
      "25 Train total loss: 0.1974268 \tReconstruction loss: 0.19187497 \tLatent loss: 0.0055518355\n",
      "26 Train total loss: 0.23645966 \tReconstruction loss: 0.18759288 \tLatent loss: 0.04886678\n",
      "27 Train total loss: 0.19109648 \tReconstruction loss: 0.18812402 \tLatent loss: 0.0029724704\n",
      "28 Train total loss: 0.19248329 \tReconstruction loss: 0.18658665 \tLatent loss: 0.005896641\n",
      "29 Train total loss: 0.19155824 \tReconstruction loss: 0.18642648 \tLatent loss: 0.0051317685\n",
      "30 Train total loss: 0.19237524 \tReconstruction loss: 0.19074093 \tLatent loss: 0.0016343193\n",
      "31 Train total loss: 0.18851998 \tReconstruction loss: 0.18622422 \tLatent loss: 0.0022957553\n",
      "32 Train total loss: 0.19509208 \tReconstruction loss: 0.19249688 \tLatent loss: 0.0025951972\n",
      "33 Train total loss: 0.18654127 \tReconstruction loss: 0.18436691 \tLatent loss: 0.0021743672\n",
      "34 Train total loss: 0.19541667 \tReconstruction loss: 0.18986925 \tLatent loss: 0.005547419\n",
      "35 Train total loss: 0.18905649 \tReconstruction loss: 0.18794829 \tLatent loss: 0.0011082054\n",
      "36 Train total loss: 0.19477865 \tReconstruction loss: 0.19380514 \tLatent loss: 0.00097350386\n",
      "37 Train total loss: 0.18926184 \tReconstruction loss: 0.1886579 \tLatent loss: 0.00060393946\n",
      "38 Train total loss: 0.19913104 \tReconstruction loss: 0.1957087 \tLatent loss: 0.0034223418\n",
      "39 Train total loss: 0.19014116 \tReconstruction loss: 0.18982922 \tLatent loss: 0.00031194085\n",
      "40 Train total loss: 0.18962097 \tReconstruction loss: 0.18857612 \tLatent loss: 0.0010448514\n",
      "41 Train total loss: 0.19230741 \tReconstruction loss: 0.19108233 \tLatent loss: 0.0012250915\n",
      "42 Train total loss: 0.19155088 \tReconstruction loss: 0.19113679 \tLatent loss: 0.00041408706\n",
      "43 Train total loss: 0.18487422 \tReconstruction loss: 0.18468612 \tLatent loss: 0.00018810421\n",
      "44 Train total loss: 0.18536998 \tReconstruction loss: 0.18523933 \tLatent loss: 0.00013065076\n",
      "45 Train total loss: 0.19497304 \tReconstruction loss: 0.19490805 \tLatent loss: 6.498554e-05\n",
      "46 Train total loss: 0.18473162 \tReconstruction loss: 0.18464886 \tLatent loss: 8.275482e-05\n",
      "47 Train total loss: 0.18417871 \tReconstruction loss: 0.18374023 \tLatent loss: 0.00043847488\n",
      "48 Train total loss: 0.19434229 \tReconstruction loss: 0.1942333 \tLatent loss: 0.000108987566\n",
      "49 Train total loss: 0.18337102 \tReconstruction loss: 0.17921649 \tLatent loss: 0.0041545373\n"
     ]
    }
   ],
   "source": [
    "n_epochs = 50\n",
    "batch_size = 150\n",
    "\n",
    "with tf.Session() as sess:\n",
    "    init.run()\n",
    "    for epoch in range(n_epochs):\n",
    "        n_batches = mnist.train.num_examples // batch_size\n",
    "        for iteration in range(n_batches):\n",
    "            print(\"\\r{}%\".format(100 * iteration // n_batches), end=\"\")\n",
    "            sys.stdout.flush()\n",
    "            X_batch, y_batch = mnist.train.next_batch(batch_size)\n",
    "            sess.run(training_op, feed_dict={X: X_batch})\n",
    "        loss_val, reconstruction_loss_val, latent_loss_val = sess.run([loss, reconstruction_loss, latent_loss], feed_dict={X: X_batch})\n",
    "        print(\"\\r{}\".format(epoch), \"Train total loss:\", loss_val, \"\\tReconstruction loss:\", reconstruction_loss_val, \"\\tLatent loss:\", latent_loss_val)\n",
    "        saver.save(sess, \"./my_model_variational.ckpt\")"
   ]
  },
  {
   "cell_type": "code",
   "execution_count": null,
   "metadata": {},
   "outputs": [],
   "source": []
  },
  {
   "cell_type": "code",
   "execution_count": 92,
   "metadata": {},
   "outputs": [],
   "source": [
    "reset_graph()\n",
    "\n",
    "from functools import partial\n",
    "\n",
    "n_inputs = 28 * 28\n",
    "n_hidden1 = 500\n",
    "n_hidden2 = 500\n",
    "n_hidden3 = 20  # codings\n",
    "n_hidden4 = n_hidden2\n",
    "n_hidden5 = n_hidden1\n",
    "n_outputs = n_inputs\n",
    "learning_rate = 0.001\n",
    "\n",
    "initializer = tf.contrib.layers.variance_scaling_initializer()\n",
    "\n",
    "my_dense_layer = partial(tf.layers.dense, \n",
    "                         activation=tf.nn.relu, \n",
    "                         kernel_initializer=initializer)\n",
    "\n",
    "X = tf.placeholder(tf.float32, shape=[None, n_inputs])\n",
    "\n",
    "hidden1 = my_dense_layer(X, n_hidden1)\n",
    "hidden2 = my_dense_layer(hidden1, n_hidden2)\n",
    "\n",
    "hidden3_mean = my_dense_layer(hidden2, n_hidden3, activation=None)\n",
    "hidden3_gamma = my_dense_layer(hidden2, n_hidden3, activation=None)\n",
    "\n",
    "noise = tf.random_normal(tf.shape(hidden3_gamma), dtype=tf.float32)\n",
    "hidden3 = hidden3_mean + tf.exp(0.5 * hidden3_gamma)*noise\n",
    "\n",
    "hidden4 = my_dense_layer(hidden3, n_hidden4)\n",
    "hidden5 = my_dense_layer(hidden4, n_hidden5)\n",
    "logits = my_dense_layer(hidden5, n_outputs, activation=None)\n",
    "\n",
    "outputs = tf.sigmoid(logits)\n",
    "\n",
    "xentropy = tf.nn.sigmoid_cross_entropy_with_logits(labels=X, logits=logits)\n",
    "reconstruction_loss  = tf.reduce_mean(tf.square(xentropy))\n",
    "\n",
    "latent_loss = 0.5 * tf.reduce_sum(\n",
    "    tf.exp(hidden3_gamma) + tf.square(hidden3_mean) - 1 - hidden3_gamma)\n",
    "\n",
    "loss = reconstruction_loss + latent_loss\n",
    "\n",
    "optimizer = tf.train.AdamOptimizer(learning_rate=learning_rate)\n",
    "training_op = optimizer.minimize(loss)\n",
    "\n",
    "init = tf.global_variables_initializer()\n",
    "saver = tf.train.Saver()"
   ]
  },
  {
   "cell_type": "code",
   "execution_count": null,
   "metadata": {},
   "outputs": [],
   "source": []
  },
  {
   "cell_type": "code",
   "execution_count": 94,
   "metadata": {},
   "outputs": [
    {
     "name": "stdout",
     "output_type": "stream",
     "text": [
      "0 Train total loss: 54.890205 \tReconstruction loss: 0.19316746 \tLatent loss: 54.697037\n",
      "1 Train total loss: 16.710794 \tReconstruction loss: 0.18839228 \tLatent loss: 16.522402\n",
      "2 Train total loss: 10.779031 \tReconstruction loss: 0.19131531 \tLatent loss: 10.587715\n",
      "3 Train total loss: 7.5157113 \tReconstruction loss: 0.18542677 \tLatent loss: 7.3302846\n",
      "4 Train total loss: 4.464959 \tReconstruction loss: 0.1955539 \tLatent loss: 4.2694054\n",
      "5 Train total loss: 3.2433367 \tReconstruction loss: 0.18940933 \tLatent loss: 3.0539274\n",
      "6 Train total loss: 2.8437886 \tReconstruction loss: 0.19007929 \tLatent loss: 2.6537094\n",
      "7 Train total loss: 2.2200499 \tReconstruction loss: 0.18366228 \tLatent loss: 2.0363877\n",
      "8 Train total loss: 1.6413264 \tReconstruction loss: 0.19223833 \tLatent loss: 1.4490881\n",
      "9 Train total loss: 1.2992743 \tReconstruction loss: 0.18964957 \tLatent loss: 1.1096247\n",
      "10 Train total loss: 0.9076846 \tReconstruction loss: 0.18615568 \tLatent loss: 0.72152895\n",
      "11 Train total loss: 0.7229403 \tReconstruction loss: 0.19363484 \tLatent loss: 0.52930546\n",
      "12% Train total loss: 1.0063543 \tReconstruction loss: 0.19182214 \tLatent loss: 0.8145322\n",
      "13 Train total loss: 0.9274088 \tReconstruction loss: 0.18857549 \tLatent loss: 0.7388333\n",
      "14 Train total loss: 0.4213034 \tReconstruction loss: 0.19073483 \tLatent loss: 0.23056857\n",
      "15 Train total loss: 0.3504757 \tReconstruction loss: 0.18618284 \tLatent loss: 0.16429286\n",
      "16 Train total loss: 0.40827745 \tReconstruction loss: 0.19079292 \tLatent loss: 0.21748453\n",
      "17 Train total loss: 0.42403534 \tReconstruction loss: 0.18824634 \tLatent loss: 0.235789\n",
      "18 Train total loss: 0.29964054 \tReconstruction loss: 0.18960491 \tLatent loss: 0.11003563\n",
      "19 Train total loss: 0.31125963 \tReconstruction loss: 0.18476273 \tLatent loss: 0.12649691\n",
      "20 Train total loss: 0.37203825 \tReconstruction loss: 0.18766205 \tLatent loss: 0.18437621\n",
      "21 Train total loss: 0.2505186 \tReconstruction loss: 0.19920948 \tLatent loss: 0.0513091\n",
      "22 Train total loss: 0.21827467 \tReconstruction loss: 0.18998307 \tLatent loss: 0.0282916\n",
      "23 Train total loss: 0.22285722 \tReconstruction loss: 0.18904054 \tLatent loss: 0.033816677\n",
      "24 Train total loss: 0.8937142 \tReconstruction loss: 0.18986504 \tLatent loss: 0.70384914\n",
      "25 Train total loss: 0.28588828 \tReconstruction loss: 0.19183956 \tLatent loss: 0.094048716\n",
      "26 Train total loss: 0.2148923 \tReconstruction loss: 0.19373845 \tLatent loss: 0.021153852\n",
      "27 Train total loss: 0.30095625 \tReconstruction loss: 0.1891742 \tLatent loss: 0.11178205\n",
      "28 Train total loss: 0.2212157 \tReconstruction loss: 0.18752746 \tLatent loss: 0.033688225\n",
      "29 Train total loss: 0.19550781 \tReconstruction loss: 0.18105611 \tLatent loss: 0.014451703\n",
      "30 Train total loss: 0.2233772 \tReconstruction loss: 0.19073728 \tLatent loss: 0.03263992\n",
      "31 Train total loss: 0.23084976 \tReconstruction loss: 0.1863232 \tLatent loss: 0.044526566\n",
      "32 Train total loss: 0.20768848 \tReconstruction loss: 0.18827344 \tLatent loss: 0.019415038\n",
      "33 Train total loss: 0.19378456 \tReconstruction loss: 0.1881924 \tLatent loss: 0.0055921664\n",
      "34 Train total loss: 0.2951803 \tReconstruction loss: 0.18749347 \tLatent loss: 0.10768682\n",
      "35 Train total loss: 0.19646418 \tReconstruction loss: 0.19118285 \tLatent loss: 0.0052813315\n",
      "36 Train total loss: 0.43427077 \tReconstruction loss: 0.1847443 \tLatent loss: 0.24952647\n",
      "37 Train total loss: 0.19717784 \tReconstruction loss: 0.1860974 \tLatent loss: 0.011080439\n",
      "38 Train total loss: 0.27662417 \tReconstruction loss: 0.18974258 \tLatent loss: 0.08688159\n",
      "39 Train total loss: 0.24043566 \tReconstruction loss: 0.18215092 \tLatent loss: 0.05828474\n",
      "40 Train total loss: 0.21101177 \tReconstruction loss: 0.1958115 \tLatent loss: 0.01520028\n",
      "41 Train total loss: 0.20257719 \tReconstruction loss: 0.19096977 \tLatent loss: 0.011607427\n",
      "42 Train total loss: 0.19492601 \tReconstruction loss: 0.19110002 \tLatent loss: 0.003825993\n",
      "43 Train total loss: 0.74328125 \tReconstruction loss: 0.18921886 \tLatent loss: 0.55406237\n",
      "44 Train total loss: 0.19441508 \tReconstruction loss: 0.19340248 \tLatent loss: 0.0010125866\n",
      "45 Train total loss: 0.19143403 \tReconstruction loss: 0.18888077 \tLatent loss: 0.0025532567\n",
      "46 Train total loss: 0.19142812 \tReconstruction loss: 0.1901396 \tLatent loss: 0.0012885124\n",
      "47 Train total loss: 0.18827276 \tReconstruction loss: 0.18617141 \tLatent loss: 0.0021013515\n",
      "48 Train total loss: 0.1956197 \tReconstruction loss: 0.19238256 \tLatent loss: 0.0032371392\n",
      "49 Train total loss: 0.18248148 \tReconstruction loss: 0.18115038 \tLatent loss: 0.0013311075\n"
     ]
    }
   ],
   "source": [
    "import numpy as np\n",
    "\n",
    "n_digits = 60\n",
    "n_epochs = 50\n",
    "batch_size = 150\n",
    "\n",
    "with tf.Session() as sess:\n",
    "    init.run()\n",
    "    for epoch in range(n_epochs):\n",
    "        n_batches = mnist.train.num_examples // batch_size\n",
    "        for iteration in range(n_batches):\n",
    "            print(\"\\r{}%\".format(100 * iteration // n_batches), end=\"\") # not shown in the book\n",
    "            sys.stdout.flush()                                          # not shown\n",
    "            X_batch, y_batch = mnist.train.next_batch(batch_size)\n",
    "            sess.run(training_op, feed_dict={X: X_batch})\n",
    "        loss_val, reconstruction_loss_val, latent_loss_val = sess.run([loss, reconstruction_loss, latent_loss], feed_dict={X: X_batch}) # not shown\n",
    "        print(\"\\r{}\".format(epoch), \"Train total loss:\", loss_val, \"\\tReconstruction loss:\", reconstruction_loss_val, \"\\tLatent loss:\", latent_loss_val)  # not shown\n",
    "        saver.save(sess, \"./my_model_variational.ckpt\")  # not shown\n",
    "    \n",
    "    codings_rnd = np.random.normal(size=[n_digits, n_hidden3])\n",
    "    outputs_val = outputs.eval(feed_dict={hidden3: codings_rnd})"
   ]
  },
  {
   "cell_type": "code",
   "execution_count": 95,
   "metadata": {},
   "outputs": [
    {
     "data": {
      "image/png": "[encoded data removed]",
      "text/plain": [
       "<Figure size 576x3600 with 60 Axes>"
      ]
     },
     "metadata": {
      "needs_background": "light"
     },
     "output_type": "display_data"
    }
   ],
   "source": [
    "def plot_images(image, shape=[28, 28]):\n",
    "    plt.imshow(image.reshape(shape), cmap='Grey', interpolation='nearest')\n",
    "    plt.axis('off')\n",
    "               \n",
    "plt.figure(figsize=(8,50)) # not shown in the book\n",
    "for iteration in range(n_digits):\n",
    "    plt.subplot(n_digits, 10, iteration + 1)\n",
    "    plot_image(outputs_val[iteration])"
   ]
  },
  {
   "cell_type": "code",
   "execution_count": null,
   "metadata": {},
   "outputs": [],
   "source": []
  },
  {
   "cell_type": "code",
   "execution_count": null,
   "metadata": {},
   "outputs": [],
   "source": []
  }
 ],
 "metadata": {
  "kernelspec": {
   "display_name": "Python 3",
   "language": "python",
   "name": "python3"
  },
  "language_info": {
   "codemirror_mode": {
    "name": "ipython",
    "version": 3
   },
   "file_extension": ".py",
   "mimetype": "text/x-python",
   "name": "python",
   "nbconvert_exporter": "python",
   "pygments_lexer": "ipython3",
   "version": "3.6.8"
  }
 },
 "nbformat": 4,
 "nbformat_minor": 2
}

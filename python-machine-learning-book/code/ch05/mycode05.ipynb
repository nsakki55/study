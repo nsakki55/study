{
 "cells": [
  {
   "cell_type": "code",
   "execution_count": 1,
   "metadata": {},
   "outputs": [
    {
     "data": {
      "text/html": [
       "<div>\n",
       "<style scoped>\n",
       "    .dataframe tbody tr th:only-of-type {\n",
       "        vertical-align: middle;\n",
       "    }\n",
       "\n",
       "    .dataframe tbody tr th {\n",
       "        vertical-align: top;\n",
       "    }\n",
       "\n",
       "    .dataframe thead th {\n",
       "        text-align: right;\n",
       "    }\n",
       "</style>\n",
       "<table border=\"1\" class=\"dataframe\">\n",
       "  <thead>\n",
       "    <tr style=\"text-align: right;\">\n",
       "      <th></th>\n",
       "      <th>Class label</th>\n",
       "      <th>Alcohol</th>\n",
       "      <th>Malic acid</th>\n",
       "      <th>Ash</th>\n",
       "      <th>Alcalinity of ash</th>\n",
       "      <th>Magnesium</th>\n",
       "      <th>Total phenols</th>\n",
       "      <th>Flavanoids</th>\n",
       "      <th>Nonflavanoid phenols</th>\n",
       "      <th>Proanthocyanins</th>\n",
       "      <th>Color intensity</th>\n",
       "      <th>Hue</th>\n",
       "      <th>OD280/OD315 of diluted wines</th>\n",
       "      <th>Proline</th>\n",
       "    </tr>\n",
       "  </thead>\n",
       "  <tbody>\n",
       "    <tr>\n",
       "      <th>0</th>\n",
       "      <td>1</td>\n",
       "      <td>14.23</td>\n",
       "      <td>1.71</td>\n",
       "      <td>2.43</td>\n",
       "      <td>15.6</td>\n",
       "      <td>127</td>\n",
       "      <td>2.80</td>\n",
       "      <td>3.06</td>\n",
       "      <td>0.28</td>\n",
       "      <td>2.29</td>\n",
       "      <td>5.64</td>\n",
       "      <td>1.04</td>\n",
       "      <td>3.92</td>\n",
       "      <td>1065</td>\n",
       "    </tr>\n",
       "    <tr>\n",
       "      <th>1</th>\n",
       "      <td>1</td>\n",
       "      <td>13.20</td>\n",
       "      <td>1.78</td>\n",
       "      <td>2.14</td>\n",
       "      <td>11.2</td>\n",
       "      <td>100</td>\n",
       "      <td>2.65</td>\n",
       "      <td>2.76</td>\n",
       "      <td>0.26</td>\n",
       "      <td>1.28</td>\n",
       "      <td>4.38</td>\n",
       "      <td>1.05</td>\n",
       "      <td>3.40</td>\n",
       "      <td>1050</td>\n",
       "    </tr>\n",
       "    <tr>\n",
       "      <th>2</th>\n",
       "      <td>1</td>\n",
       "      <td>13.16</td>\n",
       "      <td>2.36</td>\n",
       "      <td>2.67</td>\n",
       "      <td>18.6</td>\n",
       "      <td>101</td>\n",
       "      <td>2.80</td>\n",
       "      <td>3.24</td>\n",
       "      <td>0.30</td>\n",
       "      <td>2.81</td>\n",
       "      <td>5.68</td>\n",
       "      <td>1.03</td>\n",
       "      <td>3.17</td>\n",
       "      <td>1185</td>\n",
       "    </tr>\n",
       "    <tr>\n",
       "      <th>3</th>\n",
       "      <td>1</td>\n",
       "      <td>14.37</td>\n",
       "      <td>1.95</td>\n",
       "      <td>2.50</td>\n",
       "      <td>16.8</td>\n",
       "      <td>113</td>\n",
       "      <td>3.85</td>\n",
       "      <td>3.49</td>\n",
       "      <td>0.24</td>\n",
       "      <td>2.18</td>\n",
       "      <td>7.80</td>\n",
       "      <td>0.86</td>\n",
       "      <td>3.45</td>\n",
       "      <td>1480</td>\n",
       "    </tr>\n",
       "    <tr>\n",
       "      <th>4</th>\n",
       "      <td>1</td>\n",
       "      <td>13.24</td>\n",
       "      <td>2.59</td>\n",
       "      <td>2.87</td>\n",
       "      <td>21.0</td>\n",
       "      <td>118</td>\n",
       "      <td>2.80</td>\n",
       "      <td>2.69</td>\n",
       "      <td>0.39</td>\n",
       "      <td>1.82</td>\n",
       "      <td>4.32</td>\n",
       "      <td>1.04</td>\n",
       "      <td>2.93</td>\n",
       "      <td>735</td>\n",
       "    </tr>\n",
       "  </tbody>\n",
       "</table>\n",
       "</div>"
      ],
      "text/plain": [
       "   Class label  Alcohol  Malic acid   Ash  Alcalinity of ash  Magnesium  \\\n",
       "0            1    14.23        1.71  2.43               15.6        127   \n",
       "1            1    13.20        1.78  2.14               11.2        100   \n",
       "2            1    13.16        2.36  2.67               18.6        101   \n",
       "3            1    14.37        1.95  2.50               16.8        113   \n",
       "4            1    13.24        2.59  2.87               21.0        118   \n",
       "\n",
       "   Total phenols  Flavanoids  Nonflavanoid phenols  Proanthocyanins  \\\n",
       "0           2.80        3.06                  0.28             2.29   \n",
       "1           2.65        2.76                  0.26             1.28   \n",
       "2           2.80        3.24                  0.30             2.81   \n",
       "3           3.85        3.49                  0.24             2.18   \n",
       "4           2.80        2.69                  0.39             1.82   \n",
       "\n",
       "   Color intensity   Hue  OD280/OD315 of diluted wines  Proline  \n",
       "0             5.64  1.04                          3.92     1065  \n",
       "1             4.38  1.05                          3.40     1050  \n",
       "2             5.68  1.03                          3.17     1185  \n",
       "3             7.80  0.86                          3.45     1480  \n",
       "4             4.32  1.04                          2.93      735  "
      ]
     },
     "execution_count": 1,
     "metadata": {},
     "output_type": "execute_result"
    }
   ],
   "source": [
    "import pandas as pd\n",
    "\n",
    "df_wine = pd.read_csv('https://archive.ics.uci.edu/ml/'\n",
    "                      'machine-learning-databases/wine/wine.data',\n",
    "                      header=None)\n",
    "\n",
    "df_wine.columns = ['Class label', 'Alcohol', 'Malic acid', 'Ash',\n",
    "                   'Alcalinity of ash', 'Magnesium', 'Total phenols',\n",
    "                   'Flavanoids', 'Nonflavanoid phenols', 'Proanthocyanins',\n",
    "                   'Color intensity', 'Hue',\n",
    "                   'OD280/OD315 of diluted wines', 'Proline']\n",
    "\n",
    "df_wine.head()"
   ]
  },
  {
   "cell_type": "code",
   "execution_count": 7,
   "metadata": {},
   "outputs": [],
   "source": [
    "from sklearn.preprocessing import StandardScaler\n",
    "from sklearn.model_selection import train_test_split\n",
    "X=df_wine.iloc[:,1:]\n",
    "y=df_wine.iloc[:,0]\n",
    "\n",
    "sc=StandardScaler()\n",
    "X_train,X_test,y_train,y_test=train_test_split(X,y,test_size=0.2,random_state=0)\n",
    "\n",
    "sc=StandardScaler()\n",
    "X_train_std=sc.fit_transform(X_train)\n",
    "X_test_std=sc.fit_transform(X_test)"
   ]
  },
  {
   "cell_type": "code",
   "execution_count": 31,
   "metadata": {},
   "outputs": [],
   "source": [
    "import numpy as np\n",
    "import matplotlib.pyplot as plt\n",
    "%matplotlib inline\n",
    "cov_mat=np.cov(X_train_std.T)\n",
    "eigen_vals,eigen_vecs=np.linalg.eig(cov_mat)"
   ]
  },
  {
   "cell_type": "code",
   "execution_count": 33,
   "metadata": {},
   "outputs": [
    {
     "data": {
      "image/png": "[encoded data removed]",
      "text/plain": [
       "<Figure size 432x288 with 1 Axes>"
      ]
     },
     "metadata": {
      "needs_background": "light"
     },
     "output_type": "display_data"
    }
   ],
   "source": [
    "# 固有値の合計を求める\n",
    "tot=sum(eigen_vals)\n",
    "# 固有値（新しい基底に対するデータの分散）が大きい順に並べる\n",
    "var_exp=[(i/tot) for i in sorted(eigen_vals,reverse=True)]\n",
    "# 累積和を求める\n",
    "cum_var_exp=np.cumsum(var_exp)\n",
    "plt.bar(range(1,X.shape[1]+1),var_exp,alpha=0.5,align='center',label='individual explained variance')\n",
    "plt.step(range(1,X.shape[1]+1),cum_var_exp,where='mid',label='cumulatice explained variance')\n",
    "plt.xlabel('Principal components')\n",
    "plt.ylabel('Explained variance ratio')\n",
    "plt.legend(loc='best')\n",
    "plt.show()"
   ]
  },
  {
   "cell_type": "code",
   "execution_count": 86,
   "metadata": {},
   "outputs": [
    {
     "data": {
      "text/plain": [
       "array([[ 0.12959991,  0.49807323],\n",
       "       [-0.24464064,  0.23168482],\n",
       "       [-0.01018912,  0.31496874],\n",
       "       [-0.24051579, -0.02321825],\n",
       "       [ 0.12649451,  0.25841951],\n",
       "       [ 0.38944115,  0.1006849 ],\n",
       "       [ 0.42757808,  0.02097952],\n",
       "       [-0.30505669,  0.0399057 ],\n",
       "       [ 0.30775255,  0.06746036],\n",
       "       [-0.11027186,  0.53087111],\n",
       "       [ 0.30710508, -0.27161729],\n",
       "       [ 0.37636185, -0.16071181],\n",
       "       [ 0.2811085 ,  0.36547344]])"
      ]
     },
     "execution_count": 86,
     "metadata": {},
     "output_type": "execute_result"
    }
   ],
   "source": [
    "# 固有値と固有ベクトルの組のタプルを作成。eigen_vecの各列が固有ベクトルに対応する\n",
    "eigen_pairs=[(np.abs(eigen_vals[i]),eigen_vecs[:,i]) for i in range(len(eigen_vals))]\n",
    "# 固有値（分散）が大きい順に並び替える\n",
    "eigen_pairs.sort(reverse=True)\n",
    "# 射影行列を作成。それぞれの固有ベクトルを列とする行列\n",
    "# eigen_pairs[0][1]で固有ベクトルを表し[:,np.newaxis]で列ベクトルに変換している\n",
    "w=np.hstack((eigen_pairs[0][1][:,np.newaxis],eigen_pairs[1][1][:,np.newaxis]))\n",
    "w"
   ]
  },
  {
   "cell_type": "code",
   "execution_count": 87,
   "metadata": {},
   "outputs": [],
   "source": [
    "X_train_pca=X_train_std.dot(w)"
   ]
  },
  {
   "cell_type": "code",
   "execution_count": 98,
   "metadata": {},
   "outputs": [
    {
     "data": {
      "image/png": "[encoded data removed]",
      "text/plain": [
       "<Figure size 432x288 with 1 Axes>"
      ]
     },
     "metadata": {
      "needs_background": "light"
     },
     "output_type": "display_data"
    }
   ],
   "source": [
    "colors=['r','b','g']\n",
    "markers=['s','x','o']\n",
    "\n",
    "for l,c,m in zip(np.unique(y_train),colors,markers):\n",
    "    plt.scatter(X_train_pca[y_train==l,0],X_train_pca[y_train==l,1],c=c,marker=m,label=l)\n",
    "\n",
    "plt.xlabel('PC1')\n",
    "plt.ylabel('PC12')\n",
    "plt.legend(loc='lower left')\n",
    "plt.show()"
   ]
  },
  {
   "cell_type": "code",
   "execution_count": 208,
   "metadata": {},
   "outputs": [
    {
     "name": "stdout",
     "output_type": "stream",
     "text": [
      "1.0\n",
      "0.9722222222222222\n",
      "0.9722222222222222\n"
     ]
    },
    {
     "name": "stderr",
     "output_type": "stream",
     "text": [
      "/home/nagae/.conda/envs/gpu-env/lib/python3.6/site-packages/sklearn/linear_model/logistic.py:432: FutureWarning: Default solver will be changed to 'lbfgs' in 0.22. Specify a solver to silence this warning.\n",
      "  FutureWarning)\n",
      "/home/nagae/.conda/envs/gpu-env/lib/python3.6/site-packages/sklearn/linear_model/logistic.py:469: FutureWarning: Default multi_class will be changed to 'auto' in 0.22. Specify the multi_class option to silence this warning.\n",
      "  \"this warning.\", FutureWarning)\n",
      "/home/nagae/.conda/envs/gpu-env/lib/python3.6/site-packages/sklearn/linear_model/logistic.py:432: FutureWarning: Default solver will be changed to 'lbfgs' in 0.22. Specify a solver to silence this warning.\n",
      "  FutureWarning)\n",
      "/home/nagae/.conda/envs/gpu-env/lib/python3.6/site-packages/sklearn/linear_model/logistic.py:469: FutureWarning: Default multi_class will be changed to 'auto' in 0.22. Specify the multi_class option to silence this warning.\n",
      "  \"this warning.\", FutureWarning)\n",
      "/home/nagae/.conda/envs/gpu-env/lib/python3.6/site-packages/sklearn/linear_model/logistic.py:432: FutureWarning: Default solver will be changed to 'lbfgs' in 0.22. Specify a solver to silence this warning.\n",
      "  FutureWarning)\n",
      "/home/nagae/.conda/envs/gpu-env/lib/python3.6/site-packages/sklearn/linear_model/logistic.py:469: FutureWarning: Default multi_class will be changed to 'auto' in 0.22. Specify the multi_class option to silence this warning.\n",
      "  \"this warning.\", FutureWarning)\n"
     ]
    }
   ],
   "source": [
    "from sklearn.linear_model import LogisticRegression\n",
    "from sklearn.decomposition import PCA\n",
    "\n",
    "lr=LogisticRegression()\n",
    "lr.fit(X_train_std,y_train)\n",
    "print(lr.score(X_test_std,y_test))\n",
    "\n",
    "pca=PCA(n_components=2)\n",
    "X_train_pca=pca.fit_transform(X_train_std)\n",
    "X_test_pca=pca.transform(X_test_std)\n",
    "\n",
    "lr.fit(X_train_pca,y_train)\n",
    "print(lr.score(X_test_pca,y_test))\n",
    "\n",
    "X_std=sc.fit_transform(X)\n",
    "pca.fit(X_std)\n",
    "\n",
    "X_train_pca=pca.transform(X_train_std)\n",
    "X_test_pca=pca.transform(X_test_std)\n",
    "\n",
    "lr.fit(X_train_pca,y_train)\n",
    "print(lr.score(X_test_pca,y_test))\n"
   ]
  },
  {
   "cell_type": "code",
   "execution_count": 209,
   "metadata": {},
   "outputs": [
    {
     "data": {
      "text/html": [
       "<div>\n",
       "<style scoped>\n",
       "    .dataframe tbody tr th:only-of-type {\n",
       "        vertical-align: middle;\n",
       "    }\n",
       "\n",
       "    .dataframe tbody tr th {\n",
       "        vertical-align: top;\n",
       "    }\n",
       "\n",
       "    .dataframe thead th {\n",
       "        text-align: right;\n",
       "    }\n",
       "</style>\n",
       "<table border=\"1\" class=\"dataframe\">\n",
       "  <thead>\n",
       "    <tr style=\"text-align: right;\">\n",
       "      <th></th>\n",
       "      <th>Class label</th>\n",
       "      <th>Alcohol</th>\n",
       "      <th>Malic acid</th>\n",
       "      <th>Ash</th>\n",
       "      <th>Alcalinity of ash</th>\n",
       "      <th>Magnesium</th>\n",
       "      <th>Total phenols</th>\n",
       "      <th>Flavanoids</th>\n",
       "      <th>Nonflavanoid phenols</th>\n",
       "      <th>Proanthocyanins</th>\n",
       "      <th>Color intensity</th>\n",
       "      <th>Hue</th>\n",
       "      <th>OD280/OD315 of diluted wines</th>\n",
       "      <th>Proline</th>\n",
       "    </tr>\n",
       "  </thead>\n",
       "  <tbody>\n",
       "    <tr>\n",
       "      <th>0</th>\n",
       "      <td>1</td>\n",
       "      <td>14.23</td>\n",
       "      <td>1.71</td>\n",
       "      <td>2.43</td>\n",
       "      <td>15.6</td>\n",
       "      <td>127</td>\n",
       "      <td>2.80</td>\n",
       "      <td>3.06</td>\n",
       "      <td>0.28</td>\n",
       "      <td>2.29</td>\n",
       "      <td>5.64</td>\n",
       "      <td>1.04</td>\n",
       "      <td>3.92</td>\n",
       "      <td>1065</td>\n",
       "    </tr>\n",
       "    <tr>\n",
       "      <th>1</th>\n",
       "      <td>1</td>\n",
       "      <td>13.20</td>\n",
       "      <td>1.78</td>\n",
       "      <td>2.14</td>\n",
       "      <td>11.2</td>\n",
       "      <td>100</td>\n",
       "      <td>2.65</td>\n",
       "      <td>2.76</td>\n",
       "      <td>0.26</td>\n",
       "      <td>1.28</td>\n",
       "      <td>4.38</td>\n",
       "      <td>1.05</td>\n",
       "      <td>3.40</td>\n",
       "      <td>1050</td>\n",
       "    </tr>\n",
       "    <tr>\n",
       "      <th>2</th>\n",
       "      <td>1</td>\n",
       "      <td>13.16</td>\n",
       "      <td>2.36</td>\n",
       "      <td>2.67</td>\n",
       "      <td>18.6</td>\n",
       "      <td>101</td>\n",
       "      <td>2.80</td>\n",
       "      <td>3.24</td>\n",
       "      <td>0.30</td>\n",
       "      <td>2.81</td>\n",
       "      <td>5.68</td>\n",
       "      <td>1.03</td>\n",
       "      <td>3.17</td>\n",
       "      <td>1185</td>\n",
       "    </tr>\n",
       "    <tr>\n",
       "      <th>3</th>\n",
       "      <td>1</td>\n",
       "      <td>14.37</td>\n",
       "      <td>1.95</td>\n",
       "      <td>2.50</td>\n",
       "      <td>16.8</td>\n",
       "      <td>113</td>\n",
       "      <td>3.85</td>\n",
       "      <td>3.49</td>\n",
       "      <td>0.24</td>\n",
       "      <td>2.18</td>\n",
       "      <td>7.80</td>\n",
       "      <td>0.86</td>\n",
       "      <td>3.45</td>\n",
       "      <td>1480</td>\n",
       "    </tr>\n",
       "    <tr>\n",
       "      <th>4</th>\n",
       "      <td>1</td>\n",
       "      <td>13.24</td>\n",
       "      <td>2.59</td>\n",
       "      <td>2.87</td>\n",
       "      <td>21.0</td>\n",
       "      <td>118</td>\n",
       "      <td>2.80</td>\n",
       "      <td>2.69</td>\n",
       "      <td>0.39</td>\n",
       "      <td>1.82</td>\n",
       "      <td>4.32</td>\n",
       "      <td>1.04</td>\n",
       "      <td>2.93</td>\n",
       "      <td>735</td>\n",
       "    </tr>\n",
       "  </tbody>\n",
       "</table>\n",
       "</div>"
      ],
      "text/plain": [
       "   Class label  Alcohol  Malic acid   Ash  Alcalinity of ash  Magnesium  \\\n",
       "0            1    14.23        1.71  2.43               15.6        127   \n",
       "1            1    13.20        1.78  2.14               11.2        100   \n",
       "2            1    13.16        2.36  2.67               18.6        101   \n",
       "3            1    14.37        1.95  2.50               16.8        113   \n",
       "4            1    13.24        2.59  2.87               21.0        118   \n",
       "\n",
       "   Total phenols  Flavanoids  Nonflavanoid phenols  Proanthocyanins  \\\n",
       "0           2.80        3.06                  0.28             2.29   \n",
       "1           2.65        2.76                  0.26             1.28   \n",
       "2           2.80        3.24                  0.30             2.81   \n",
       "3           3.85        3.49                  0.24             2.18   \n",
       "4           2.80        2.69                  0.39             1.82   \n",
       "\n",
       "   Color intensity   Hue  OD280/OD315 of diluted wines  Proline  \n",
       "0             5.64  1.04                          3.92     1065  \n",
       "1             4.38  1.05                          3.40     1050  \n",
       "2             5.68  1.03                          3.17     1185  \n",
       "3             7.80  0.86                          3.45     1480  \n",
       "4             4.32  1.04                          2.93      735  "
      ]
     },
     "execution_count": 209,
     "metadata": {},
     "output_type": "execute_result"
    }
   ],
   "source": [
    "import pandas as pd\n",
    "\n",
    "df_wine = pd.read_csv('https://archive.ics.uci.edu/ml/'\n",
    "                      'machine-learning-databases/wine/wine.data',\n",
    "                      header=None)\n",
    "df_wine.columns = ['Class label', 'Alcohol', 'Malic acid', 'Ash',\n",
    "                   'Alcalinity of ash', 'Magnesium', 'Total phenols',\n",
    "                   'Flavanoids', 'Nonflavanoid phenols', 'Proanthocyanins',\n",
    "                   'Color intensity', 'Hue',\n",
    "                   'OD280/OD315 of diluted wines', 'Proline']\n",
    "df_wine.head()"
   ]
  },
  {
   "cell_type": "code",
   "execution_count": 210,
   "metadata": {},
   "outputs": [],
   "source": [
    "from sklearn.model_selection import train_test_split\n",
    "from sklearn.preprocessing import StandardScaler\n",
    "X=df_wine.iloc[:,1:]\n",
    "y=df_wine.iloc[:,0]\n",
    "X_train,X_test,y_train,y_test=train_test_split(X,y,test_size=0.2,random_state=0)\n",
    "sc=StandardScaler()\n",
    "X_train_std=sc.fit_transform(X_train)\n",
    "X_test_std=sc.transform(X_test)"
   ]
  },
  {
   "cell_type": "code",
   "execution_count": 211,
   "metadata": {},
   "outputs": [
    {
     "name": "stdout",
     "output_type": "stream",
     "text": [
      "MV 1: [ 0.9198 -0.3075  0.3117 -0.7707  0.3571  0.9424  1.0813 -0.6109  0.5657\n",
      "  0.1902  0.5024  0.8202  1.1967]\n",
      "\n",
      "MV 2: [-0.8942 -0.418  -0.4675  0.2214 -0.2926 -0.0748  0.0313 -0.0577  0.1011\n",
      " -0.891   0.4644  0.292  -0.7087]\n",
      "\n",
      "MV 3: [ 1.8548e-01  8.7684e-01  2.7821e-01  5.3578e-01  5.6683e-04 -9.1185e-01\n",
      " -1.1995e+00  7.3007e-01 -7.3855e-01  9.6293e-01 -1.1464e+00 -1.2612e+00\n",
      " -3.5417e-01]\n",
      "\n"
     ]
    }
   ],
   "source": [
    "np.set_printoptions(precision=4)\n",
    "mean_vecs=[]\n",
    "for label in range(1,len(np.unique(y))+1):\n",
    "    # axis=0とすることで各列の特徴量の平均値を取ることができる.なので返り値は特徴量数の長さの配列\n",
    "    mean_vecs.append(np.mean(X_train_std[y_train==label],axis=0))\n",
    "    print('MV %s: %s\\n' %(label,mean_vecs[label-1]))"
   ]
  },
  {
   "cell_type": "code",
   "execution_count": 212,
   "metadata": {},
   "outputs": [
    {
     "data": {
      "text/html": [
       "<div>\n",
       "<style scoped>\n",
       "    .dataframe tbody tr th:only-of-type {\n",
       "        vertical-align: middle;\n",
       "    }\n",
       "\n",
       "    .dataframe tbody tr th {\n",
       "        vertical-align: top;\n",
       "    }\n",
       "\n",
       "    .dataframe thead th {\n",
       "        text-align: right;\n",
       "    }\n",
       "</style>\n",
       "<table border=\"1\" class=\"dataframe\">\n",
       "  <thead>\n",
       "    <tr style=\"text-align: right;\">\n",
       "      <th></th>\n",
       "      <th>0</th>\n",
       "      <th>1</th>\n",
       "      <th>2</th>\n",
       "      <th>3</th>\n",
       "      <th>4</th>\n",
       "      <th>5</th>\n",
       "      <th>6</th>\n",
       "      <th>7</th>\n",
       "      <th>8</th>\n",
       "      <th>9</th>\n",
       "      <th>10</th>\n",
       "      <th>11</th>\n",
       "      <th>12</th>\n",
       "    </tr>\n",
       "  </thead>\n",
       "  <tbody>\n",
       "    <tr>\n",
       "      <th>count</th>\n",
       "      <td>45.000000</td>\n",
       "      <td>45.000000</td>\n",
       "      <td>45.000000</td>\n",
       "      <td>45.000000</td>\n",
       "      <td>45.000000</td>\n",
       "      <td>45.000000</td>\n",
       "      <td>45.000000</td>\n",
       "      <td>45.000000</td>\n",
       "      <td>45.000000</td>\n",
       "      <td>45.000000</td>\n",
       "      <td>45.000000</td>\n",
       "      <td>45.000000</td>\n",
       "      <td>45.000000</td>\n",
       "    </tr>\n",
       "    <tr>\n",
       "      <th>mean</th>\n",
       "      <td>0.919784</td>\n",
       "      <td>-0.307458</td>\n",
       "      <td>0.311705</td>\n",
       "      <td>-0.770701</td>\n",
       "      <td>0.357067</td>\n",
       "      <td>0.942440</td>\n",
       "      <td>1.081270</td>\n",
       "      <td>-0.610910</td>\n",
       "      <td>0.565706</td>\n",
       "      <td>0.190232</td>\n",
       "      <td>0.502353</td>\n",
       "      <td>0.820201</td>\n",
       "      <td>1.196739</td>\n",
       "    </tr>\n",
       "    <tr>\n",
       "      <th>std</th>\n",
       "      <td>0.557767</td>\n",
       "      <td>0.632308</td>\n",
       "      <td>0.869889</td>\n",
       "      <td>0.788751</td>\n",
       "      <td>0.705016</td>\n",
       "      <td>0.588455</td>\n",
       "      <td>0.417458</td>\n",
       "      <td>0.533613</td>\n",
       "      <td>0.706982</td>\n",
       "      <td>0.538255</td>\n",
       "      <td>0.489588</td>\n",
       "      <td>0.523128</td>\n",
       "      <td>0.722817</td>\n",
       "    </tr>\n",
       "    <tr>\n",
       "      <th>min</th>\n",
       "      <td>-0.167667</td>\n",
       "      <td>-0.920085</td>\n",
       "      <td>-1.216457</td>\n",
       "      <td>-2.435551</td>\n",
       "      <td>-0.779172</td>\n",
       "      <td>-0.096241</td>\n",
       "      <td>0.247661</td>\n",
       "      <td>-1.520697</td>\n",
       "      <td>-0.553449</td>\n",
       "      <td>-0.643002</td>\n",
       "      <td>-0.582053</td>\n",
       "      <td>-0.022591</td>\n",
       "      <td>-0.205908</td>\n",
       "    </tr>\n",
       "    <tr>\n",
       "      <th>25%</th>\n",
       "      <td>0.528567</td>\n",
       "      <td>-0.623169</td>\n",
       "      <td>-0.286163</td>\n",
       "      <td>-1.152904</td>\n",
       "      <td>-0.145320</td>\n",
       "      <td>0.559999</td>\n",
       "      <td>0.751528</td>\n",
       "      <td>-0.892054</td>\n",
       "      <td>0.091564</td>\n",
       "      <td>-0.229851</td>\n",
       "      <td>0.290904</td>\n",
       "      <td>0.394022</td>\n",
       "      <td>0.801646</td>\n",
       "    </tr>\n",
       "    <tr>\n",
       "      <th>50%</th>\n",
       "      <td>0.926414</td>\n",
       "      <td>-0.506202</td>\n",
       "      <td>0.160377</td>\n",
       "      <td>-0.803091</td>\n",
       "      <td>0.136392</td>\n",
       "      <td>0.888118</td>\n",
       "      <td>1.111433</td>\n",
       "      <td>-0.656312</td>\n",
       "      <td>0.532889</td>\n",
       "      <td>0.162220</td>\n",
       "      <td>0.509143</td>\n",
       "      <td>0.810634</td>\n",
       "      <td>1.065923</td>\n",
       "    </tr>\n",
       "    <tr>\n",
       "      <th>75%</th>\n",
       "      <td>1.336695</td>\n",
       "      <td>-0.380237</td>\n",
       "      <td>0.941824</td>\n",
       "      <td>-0.278372</td>\n",
       "      <td>0.770244</td>\n",
       "      <td>1.216238</td>\n",
       "      <td>1.358225</td>\n",
       "      <td>-0.341991</td>\n",
       "      <td>0.906318</td>\n",
       "      <td>0.486839</td>\n",
       "      <td>0.771030</td>\n",
       "      <td>1.227247</td>\n",
       "      <td>1.776165</td>\n",
       "    </tr>\n",
       "    <tr>\n",
       "      <th>max</th>\n",
       "      <td>2.194554</td>\n",
       "      <td>1.455243</td>\n",
       "      <td>3.174527</td>\n",
       "      <td>1.587296</td>\n",
       "      <td>1.967520</td>\n",
       "      <td>2.659965</td>\n",
       "      <td>1.841526</td>\n",
       "      <td>0.836715</td>\n",
       "      <td>2.298189</td>\n",
       "      <td>1.625111</td>\n",
       "      <td>1.425748</td>\n",
       "      <td>1.963262</td>\n",
       "      <td>2.658188</td>\n",
       "    </tr>\n",
       "  </tbody>\n",
       "</table>\n",
       "</div>"
      ],
      "text/plain": [
       "              0          1          2          3          4          5   \\\n",
       "count  45.000000  45.000000  45.000000  45.000000  45.000000  45.000000   \n",
       "mean    0.919784  -0.307458   0.311705  -0.770701   0.357067   0.942440   \n",
       "std     0.557767   0.632308   0.869889   0.788751   0.705016   0.588455   \n",
       "min    -0.167667  -0.920085  -1.216457  -2.435551  -0.779172  -0.096241   \n",
       "25%     0.528567  -0.623169  -0.286163  -1.152904  -0.145320   0.559999   \n",
       "50%     0.926414  -0.506202   0.160377  -0.803091   0.136392   0.888118   \n",
       "75%     1.336695  -0.380237   0.941824  -0.278372   0.770244   1.216238   \n",
       "max     2.194554   1.455243   3.174527   1.587296   1.967520   2.659965   \n",
       "\n",
       "              6          7          8          9          10         11  \\\n",
       "count  45.000000  45.000000  45.000000  45.000000  45.000000  45.000000   \n",
       "mean    1.081270  -0.610910   0.565706   0.190232   0.502353   0.820201   \n",
       "std     0.417458   0.533613   0.706982   0.538255   0.489588   0.523128   \n",
       "min     0.247661  -1.520697  -0.553449  -0.643002  -0.582053  -0.022591   \n",
       "25%     0.751528  -0.892054   0.091564  -0.229851   0.290904   0.394022   \n",
       "50%     1.111433  -0.656312   0.532889   0.162220   0.509143   0.810634   \n",
       "75%     1.358225  -0.341991   0.906318   0.486839   0.771030   1.227247   \n",
       "max     1.841526   0.836715   2.298189   1.625111   1.425748   1.963262   \n",
       "\n",
       "              12  \n",
       "count  45.000000  \n",
       "mean    1.196739  \n",
       "std     0.722817  \n",
       "min    -0.205908  \n",
       "25%     0.801646  \n",
       "50%     1.065923  \n",
       "75%     1.776165  \n",
       "max     2.658188  "
      ]
     },
     "execution_count": 212,
     "metadata": {},
     "output_type": "execute_result"
    }
   ],
   "source": [
    "pd.DataFrame(X_train_std[y_train==1]).describe()"
   ]
  },
  {
   "cell_type": "code",
   "execution_count": 213,
   "metadata": {},
   "outputs": [],
   "source": [
    "# クラス内変動行列S_Wを求める\n",
    "d=X_train.shape[1]\n",
    "S_W=np.zeros((d,d))\n",
    "for label,mv in zip(range(1,len(np.unique(y_train)+1)),mean_vecs):\n",
    "    class_scatter=np.zeros((d,d))\n",
    "    for row in X_train_std[y_train==label]:\n",
    "        # 変動行列を計算\n",
    "        row,mv=row.reshape(d,1),mv.reshape(d,1)\n",
    "        class_scatter+=(row-mv).dot((row-mv).T)\n",
    "    S_W+=class_scatter"
   ]
  },
  {
   "cell_type": "code",
   "execution_count": 214,
   "metadata": {},
   "outputs": [
    {
     "data": {
      "text/plain": [
       "(13, 13)"
      ]
     },
     "execution_count": 214,
     "metadata": {},
     "output_type": "execute_result"
    }
   ],
   "source": [
    "S_W.shape"
   ]
  },
  {
   "cell_type": "code",
   "execution_count": 215,
   "metadata": {},
   "outputs": [
    {
     "name": "stdout",
     "output_type": "stream",
     "text": [
      "class label distribution: [45 55 42]\n"
     ]
    }
   ],
   "source": [
    "print('class label distribution: %s' % np.bincount(y_train)[1:])"
   ]
  },
  {
   "cell_type": "code",
   "execution_count": 222,
   "metadata": {},
   "outputs": [
    {
     "name": "stdout",
     "output_type": "stream",
     "text": [
      "Scaled within-class scatter matrix: 13x13\n"
     ]
    }
   ],
   "source": [
    "#正規化した変動行列を求める。すなわち、共分散行列を求めることと同じ\n",
    "d = X_train.shape[1]\n",
    "S_W = np.zeros((d, d))\n",
    "for label, mv in zip(range(1, 4), mean_vecs):\n",
    "    class_scatter = np.cov(X_train_std[y_train == label].T)\n",
    "    S_W += class_scatter\n",
    "print('Scaled within-class scatter matrix: %sx%s' % (S_W.shape[0],\n",
    "                                                     S_W.shape[1]))"
   ]
  },
  {
   "cell_type": "code",
   "execution_count": 223,
   "metadata": {},
   "outputs": [
    {
     "name": "stdout",
     "output_type": "stream",
     "text": [
      "Between-class scatter matrix: 13x13\n"
     ]
    }
   ],
   "source": [
    "# クラス内変動行列を求める\n",
    "mean_overall = np.mean(X_train_std, axis=0)\n",
    "d =X_train.shape[1]\n",
    "S_B = np.zeros((d, d))\n",
    "for i, mean_vec in enumerate(mean_vecs):\n",
    "    n = X_train[y_train == i + 1].shape[0]\n",
    "    mean_vec = mean_vec.reshape(d, 1)  # make column vector\n",
    "    mean_overall = mean_overall.reshape(d, 1)  # make column vector\n",
    "    S_B += n * (mean_vec - mean_overall).dot((mean_vec - mean_overall).T)\n",
    "\n",
    "print('Between-class scatter matrix: %sx%s' % (S_B.shape[0], S_B.shape[1]))"
   ]
  },
  {
   "cell_type": "code",
   "execution_count": 199,
   "metadata": {},
   "outputs": [],
   "source": [
    "eigen_vals, eigen_vecs = np.linalg.eig(np.linalg.inv(S_W).dot(S_B))"
   ]
  },
  {
   "cell_type": "code",
   "execution_count": 224,
   "metadata": {},
   "outputs": [
    {
     "name": "stdout",
     "output_type": "stream",
     "text": [
      "Eigenvalues in decreasing order:\n",
      "\n",
      "544.9409138254811\n",
      "187.26591131223122\n",
      "4.853374971125164e-14\n",
      "4.1281391006153586e-14\n",
      "4.1281391006153586e-14\n",
      "3.303972443675131e-14\n",
      "3.303972443675131e-14\n",
      "2.1762941134571637e-14\n",
      "1.2907382852490287e-14\n",
      "1.2907382852490287e-14\n",
      "3.9813989247888525e-15\n",
      "2.940593750158527e-15\n",
      "0.0\n"
     ]
    }
   ],
   "source": [
    "#固有値と固有ベクトルのペアを作成\n",
    "eigen_pairs = [(np.abs(eigen_vals[i]), eigen_vecs[:, i])\n",
    "               for i in range(len(eigen_vals))]\n",
    "\n",
    "#固有値が大きい順番に並び替え \n",
    "eigen_pairs = sorted(eigen_pairs, key=lambda k: k[0], reverse=True)\n",
    "\n",
    "print('Eigenvalues in decreasing order:\\n')\n",
    "for eigen_val in eigen_pairs:\n",
    "    print(eigen_val[0])"
   ]
  },
  {
   "cell_type": "code",
   "execution_count": 226,
   "metadata": {},
   "outputs": [
    {
     "data": {
      "image/png": "[encoded data removed]",
      "text/plain": [
       "<Figure size 432x288 with 1 Axes>"
      ]
     },
     "metadata": {
      "needs_background": "light"
     },
     "output_type": "display_data"
    }
   ],
   "source": [
    "# 固有値の実数部の総和を求める\n",
    "tot = sum(eigen_vals.real)\n",
    "# 分散説明率と累積和を求める\n",
    "discr = [(i / tot) for i in sorted(eigen_vals.real, reverse=True)]\n",
    "cum_discr = np.cumsum(discr)\n",
    "\n",
    "plt.bar(range(1, 14), discr, alpha=0.5, align='center',\n",
    "        label='individual \"discriminability\"')\n",
    "plt.step(range(1, 14), cum_discr, where='mid',\n",
    "         label='cumulative \"discriminability\"')\n",
    "plt.ylabel('\"discriminability\" ratio')\n",
    "plt.xlabel('Linear Discriminants')\n",
    "plt.ylim([-0.1, 1.1])\n",
    "plt.legend(loc='best')\n",
    "plt.tight_layout()\n",
    "plt.show()"
   ]
  },
  {
   "cell_type": "code",
   "execution_count": 227,
   "metadata": {},
   "outputs": [
    {
     "data": {
      "text/plain": [
       "array([[-0.0816, -0.3969],\n",
       "       [ 0.066 , -0.2356],\n",
       "       [-0.03  , -0.3811],\n",
       "       [ 0.1629,  0.3243],\n",
       "       [ 0.0047, -0.0071],\n",
       "       [ 0.2207,  0.0776],\n",
       "       [-0.7881,  0.0992],\n",
       "       [-0.0901,  0.0393],\n",
       "       [ 0.0651,  0.206 ],\n",
       "       [ 0.2012, -0.3168],\n",
       "       [-0.0551,  0.2306],\n",
       "       [-0.3749,  0.0273],\n",
       "       [-0.3085, -0.5678]])"
      ]
     },
     "execution_count": 227,
     "metadata": {},
     "output_type": "execute_result"
    }
   ],
   "source": [
    "w = np.hstack((eigen_pairs[0][1][:, np.newaxis].real,\n",
    "              eigen_pairs[1][1][:, np.newaxis].real))\n",
    "w"
   ]
  },
  {
   "cell_type": "code",
   "execution_count": 229,
   "metadata": {},
   "outputs": [
    {
     "data": {
      "image/png": "[encoded data removed]",
      "text/plain": [
       "<Figure size 432x288 with 1 Axes>"
      ]
     },
     "metadata": {
      "needs_background": "light"
     },
     "output_type": "display_data"
    }
   ],
   "source": [
    "X_train_lda=X_train_std.dot(w)\n",
    "colors=['r','b','g']\n",
    "markers=['s','x','o']\n",
    "\n",
    "for l,c,m in zip(np.unique(y_train),colors,markers):\n",
    "    plt.scatter(X_train_lda[y_train==l,0]*-1,X_train_lda[y_train==l,1]*-1,c=c,marker=m,label=l)\n",
    "    \n",
    "plt.xlabel('LD1')\n",
    "plt.ylabel('LD2')\n",
    "plt.legend(loc='lower left')\n",
    "plt.show()"
   ]
  },
  {
   "cell_type": "code",
   "execution_count": null,
   "metadata": {},
   "outputs": [],
   "source": []
  }
 ],
 "metadata": {
  "kernelspec": {
   "display_name": "Python 3",
   "language": "python",
   "name": "python3"
  },
  "language_info": {
   "codemirror_mode": {
    "name": "ipython",
    "version": 3
   },
   "file_extension": ".py",
   "mimetype": "text/x-python",
   "name": "python",
   "nbconvert_exporter": "python",
   "pygments_lexer": "ipython3",
   "version": "3.6.8"
  }
 },
 "nbformat": 4,
 "nbformat_minor": 2
}

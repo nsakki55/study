{
 "cells": [
  {
   "cell_type": "code",
<<<<<<< HEAD
   "execution_count": 2,
   "metadata": {},
   "outputs": [
    {
     "data": {
      "text/plain": [
       "[name: \"/device:CPU:0\"\n",
       " device_type: \"CPU\"\n",
       " memory_limit: 268435456\n",
       " locality {\n",
       " }\n",
       " incarnation: 15422316876960267171, name: \"/device:XLA_CPU:0\"\n",
       " device_type: \"XLA_CPU\"\n",
       " memory_limit: 17179869184\n",
       " locality {\n",
       " }\n",
       " incarnation: 841863674224261079\n",
       " physical_device_desc: \"device: XLA_CPU device\", name: \"/device:XLA_GPU:0\"\n",
       " device_type: \"XLA_GPU\"\n",
       " memory_limit: 17179869184\n",
       " locality {\n",
       " }\n",
       " incarnation: 12328487589842167483\n",
       " physical_device_desc: \"device: XLA_GPU device\", name: \"/device:GPU:0\"\n",
       " device_type: \"GPU\"\n",
       " memory_limit: 3357016064\n",
       " locality {\n",
       "   bus_id: 1\n",
       "   links {\n",
       "   }\n",
       " }\n",
       " incarnation: 17115740051308463589\n",
       " physical_device_desc: \"device: 0, name: GeForce GTX 1050 Ti, pci bus id: 0000:01:00.0, compute capability: 6.1\"]"
      ]
     },
     "execution_count": 2,
     "metadata": {},
     "output_type": "execute_result"
    }
   ],
   "source": [
    "import keras\n",
    "from tensorflow.python.client import device_lib\n",
    "device_lib.list_local_devices()"
   ]
=======
   "execution_count": 40,
   "metadata": {},
   "outputs": [],
   "source": [
    "from keras.datasets import imdb\n",
    "\n",
    "(train_data, train_labels), (test_data, test_labels) = imdb.load_data(num_words=10000)\n",
    "\n",
    "import numpy as np\n",
    "\n",
    "def vectorize_sequences(sequences, dimension=10000):\n",
    "    # Create an all-zero matrix of shape (len(sequences), dimension)\n",
    "    results = np.zeros((len(sequences), dimension))\n",
    "    for i, sequence in enumerate(sequences):\n",
    "        results[i, sequence] = 1.  # set specific indices of results[i] to 1s\n",
    "    return results\n",
    "\n",
    "# Our vectorized training data\n",
    "x_train = vectorize_sequences(train_data)\n",
    "# Our vectorized test data\n",
    "x_test = vectorize_sequences(test_data)\n",
    "# Our vectorized labels\n",
    "y_train = np.asarray(train_labels).astype('float32')\n",
    "y_test = np.asarray(test_labels).astype('float32')\n",
    "# validation data\n",
    "x_val = x_train[:10000]\n",
    "partial_x_train = x_train[10000:]\n",
    "\n",
    "y_val = y_train[:10000]\n",
    "partial_y_train = y_train[10000:]"
   ]
  },
  {
   "cell_type": "code",
   "execution_count": 7,
   "metadata": {},
   "outputs": [],
   "source": [
    "from keras import models\n",
    "from keras import layers\n",
    "from keras import optimizers\n",
    "\n",
    "model1 = models.Sequential()\n",
    "model1.add(layers.Dense(16, activation='relu', input_shape=(10000,)))\n",
    "model1.add(layers.Dense(16, activation='relu'))\n",
    "model1.add(layers.Dense(1, activation='sigmoid'))\n",
    "model1.compile(optimizer=optimizers.RMSprop(lr=0.001),\n",
    "              loss='binary_crossentropy',\n",
    "              metrics=['accuracy'])\n",
    "\n",
    "model2 = models.Sequential()\n",
    "model2.add(layers.Dense(4, activation='relu', input_shape=(10000,)))\n",
    "model2.add(layers.Dense(4, activation='relu'))\n",
    "model2.add(layers.Dense(1, activation='sigmoid'))\n",
    "model2.compile(optimizer=optimizers.RMSprop(lr=0.001),\n",
    "              loss='binary_crossentropy',\n",
    "              metrics=['accuracy'])\n",
    "\n",
    "model3 = models.Sequential()\n",
    "model3.add(layers.Dense(512, activation='relu', input_shape=(10000,)))\n",
    "model3.add(layers.Dense(512, activation='relu'))\n",
    "model3.add(layers.Dense(512, activation='sigmoid'))\n",
    "model3.compile(optimizer=optimizers.RMSprop(lr=0.001),\n",
    "              loss='binary_crossentropy',\n",
    "              metrics=['accuracy'])\n",
    "\n",
    "\n"
   ]
  },
  {
   "cell_type": "code",
   "execution_count": 8,
   "metadata": {},
   "outputs": [
    {
     "name": "stdout",
     "output_type": "stream",
     "text": [
      "Train on 15000 samples, validate on 10000 samples\n",
      "Epoch 1/20\n",
      "15000/15000 [==============================] - 1s 85us/step - loss: 0.5198 - acc: 0.7903 - val_loss: 0.3893 - val_acc: 0.8699\n",
      "Epoch 2/20\n",
      "15000/15000 [==============================] - 1s 70us/step - loss: 0.3107 - acc: 0.9009 - val_loss: 0.3097 - val_acc: 0.8870\n",
      "Epoch 3/20\n",
      "15000/15000 [==============================] - 1s 72us/step - loss: 0.2300 - acc: 0.9255 - val_loss: 0.2816 - val_acc: 0.8903\n",
      "Epoch 4/20\n",
      "15000/15000 [==============================] - 1s 71us/step - loss: 0.1825 - acc: 0.9408 - val_loss: 0.2889 - val_acc: 0.8829\n",
      "Epoch 5/20\n",
      "15000/15000 [==============================] - 1s 70us/step - loss: 0.1506 - acc: 0.9503 - val_loss: 0.2797 - val_acc: 0.8863\n",
      "Epoch 6/20\n",
      "15000/15000 [==============================] - 1s 72us/step - loss: 0.1216 - acc: 0.9619 - val_loss: 0.2878 - val_acc: 0.8864\n",
      "Epoch 7/20\n",
      "15000/15000 [==============================] - 1s 71us/step - loss: 0.1021 - acc: 0.9684 - val_loss: 0.3090 - val_acc: 0.8832\n",
      "Epoch 8/20\n",
      "15000/15000 [==============================] - 1s 72us/step - loss: 0.0850 - acc: 0.9762 - val_loss: 0.3217 - val_acc: 0.8822\n",
      "Epoch 9/20\n",
      "15000/15000 [==============================] - 1s 71us/step - loss: 0.0688 - acc: 0.9817 - val_loss: 0.3572 - val_acc: 0.8749\n",
      "Epoch 10/20\n",
      "15000/15000 [==============================] - 1s 76us/step - loss: 0.0573 - acc: 0.9859 - val_loss: 0.3688 - val_acc: 0.8795\n",
      "Epoch 11/20\n",
      "15000/15000 [==============================] - 1s 72us/step - loss: 0.0459 - acc: 0.9897 - val_loss: 0.4090 - val_acc: 0.8755\n",
      "Epoch 12/20\n",
      "15000/15000 [==============================] - 1s 72us/step - loss: 0.0363 - acc: 0.9919 - val_loss: 0.4524 - val_acc: 0.8648\n",
      "Epoch 13/20\n",
      "15000/15000 [==============================] - 1s 71us/step - loss: 0.0294 - acc: 0.9952 - val_loss: 0.4623 - val_acc: 0.8734\n",
      "Epoch 14/20\n",
      "15000/15000 [==============================] - 1s 71us/step - loss: 0.0228 - acc: 0.9965 - val_loss: 0.4843 - val_acc: 0.8706\n",
      "Epoch 15/20\n",
      "15000/15000 [==============================] - 1s 71us/step - loss: 0.0182 - acc: 0.9973 - val_loss: 0.5129 - val_acc: 0.8699\n",
      "Epoch 16/20\n",
      "15000/15000 [==============================] - 1s 71us/step - loss: 0.0156 - acc: 0.9976 - val_loss: 0.5395 - val_acc: 0.8710\n",
      "Epoch 17/20\n",
      "15000/15000 [==============================] - 1s 72us/step - loss: 0.0091 - acc: 0.9995 - val_loss: 0.5744 - val_acc: 0.8696\n",
      "Epoch 18/20\n",
      "15000/15000 [==============================] - 1s 71us/step - loss: 0.0091 - acc: 0.9986 - val_loss: 0.6129 - val_acc: 0.8681\n",
      "Epoch 19/20\n",
      "15000/15000 [==============================] - 1s 71us/step - loss: 0.0055 - acc: 0.9996 - val_loss: 0.6926 - val_acc: 0.8621\n",
      "Epoch 20/20\n",
      "15000/15000 [==============================] - 1s 72us/step - loss: 0.0036 - acc: 0.9999 - val_loss: 0.6781 - val_acc: 0.8659\n",
      "Train on 15000 samples, validate on 10000 samples\n",
      "Epoch 1/20\n",
      "15000/15000 [==============================] - 1s 84us/step - loss: 0.6035 - acc: 0.7017 - val_loss: 0.5255 - val_acc: 0.7586\n",
      "Epoch 2/20\n",
      "15000/15000 [==============================] - 1s 71us/step - loss: 0.4278 - acc: 0.8749 - val_loss: 0.4001 - val_acc: 0.8743\n",
      "Epoch 3/20\n",
      "15000/15000 [==============================] - 1s 71us/step - loss: 0.3253 - acc: 0.9109 - val_loss: 0.3549 - val_acc: 0.8666\n",
      "Epoch 4/20\n",
      "15000/15000 [==============================] - 1s 71us/step - loss: 0.2633 - acc: 0.9253 - val_loss: 0.3027 - val_acc: 0.8883\n",
      "Epoch 5/20\n",
      "15000/15000 [==============================] - 1s 72us/step - loss: 0.2209 - acc: 0.9345 - val_loss: 0.2863 - val_acc: 0.8896\n",
      "Epoch 6/20\n",
      "15000/15000 [==============================] - 1s 71us/step - loss: 0.1905 - acc: 0.9433 - val_loss: 0.2800 - val_acc: 0.8885\n",
      "Epoch 7/20\n",
      "15000/15000 [==============================] - 1s 71us/step - loss: 0.1646 - acc: 0.9527 - val_loss: 0.2728 - val_acc: 0.8918\n",
      "Epoch 8/20\n",
      "15000/15000 [==============================] - 1s 71us/step - loss: 0.1462 - acc: 0.9567 - val_loss: 0.2803 - val_acc: 0.8873\n",
      "Epoch 9/20\n",
      "15000/15000 [==============================] - 1s 70us/step - loss: 0.1290 - acc: 0.9631 - val_loss: 0.2776 - val_acc: 0.8884\n",
      "Epoch 10/20\n",
      "15000/15000 [==============================] - 1s 73us/step - loss: 0.1155 - acc: 0.9681 - val_loss: 0.2923 - val_acc: 0.8859\n",
      "Epoch 11/20\n",
      "15000/15000 [==============================] - 1s 73us/step - loss: 0.1037 - acc: 0.9727 - val_loss: 0.2939 - val_acc: 0.8852\n",
      "Epoch 12/20\n",
      "15000/15000 [==============================] - 1s 76us/step - loss: 0.0922 - acc: 0.9761 - val_loss: 0.3017 - val_acc: 0.8845\n",
      "Epoch 13/20\n",
      "15000/15000 [==============================] - 1s 77us/step - loss: 0.0825 - acc: 0.9785 - val_loss: 0.3122 - val_acc: 0.8837\n",
      "Epoch 14/20\n",
      "15000/15000 [==============================] - 1s 71us/step - loss: 0.0741 - acc: 0.9817 - val_loss: 0.3311 - val_acc: 0.8822\n",
      "Epoch 15/20\n",
      "15000/15000 [==============================] - 1s 76us/step - loss: 0.0657 - acc: 0.9849 - val_loss: 0.3350 - val_acc: 0.8786\n",
      "Epoch 16/20\n",
      "15000/15000 [==============================] - 1s 75us/step - loss: 0.0585 - acc: 0.9874 - val_loss: 0.3492 - val_acc: 0.8769\n",
      "Epoch 17/20\n",
      "15000/15000 [==============================] - 1s 71us/step - loss: 0.0515 - acc: 0.9899 - val_loss: 0.3645 - val_acc: 0.8764\n",
      "Epoch 18/20\n",
      "15000/15000 [==============================] - 1s 71us/step - loss: 0.0451 - acc: 0.9911 - val_loss: 0.3805 - val_acc: 0.8763\n",
      "Epoch 19/20\n",
      "15000/15000 [==============================] - 1s 76us/step - loss: 0.0401 - acc: 0.9930 - val_loss: 0.3979 - val_acc: 0.8745\n",
      "Epoch 20/20\n",
      "15000/15000 [==============================] - 1s 76us/step - loss: 0.0349 - acc: 0.9938 - val_loss: 0.4193 - val_acc: 0.8735\n",
      "Train on 15000 samples, validate on 10000 samples\n",
      "Epoch 1/20\n",
      "15000/15000 [==============================] - 1s 77us/step - loss: 0.0302 - acc: 0.9953 - val_loss: 0.4347 - val_acc: 0.8730\n",
      "Epoch 2/20\n",
      "15000/15000 [==============================] - 1s 71us/step - loss: 0.0258 - acc: 0.9961 - val_loss: 0.4551 - val_acc: 0.8718\n",
      "Epoch 3/20\n",
      "15000/15000 [==============================] - 1s 72us/step - loss: 0.0224 - acc: 0.9966 - val_loss: 0.4760 - val_acc: 0.8703\n",
      "Epoch 4/20\n",
      "15000/15000 [==============================] - 1s 71us/step - loss: 0.0188 - acc: 0.9979 - val_loss: 0.5013 - val_acc: 0.8693\n",
      "Epoch 5/20\n",
      "15000/15000 [==============================] - 1s 73us/step - loss: 0.0163 - acc: 0.9982 - val_loss: 0.5350 - val_acc: 0.8644\n",
      "Epoch 6/20\n",
      "15000/15000 [==============================] - 1s 71us/step - loss: 0.0134 - acc: 0.9991 - val_loss: 0.5426 - val_acc: 0.8697\n",
      "Epoch 7/20\n",
      "15000/15000 [==============================] - 1s 70us/step - loss: 0.0117 - acc: 0.9995 - val_loss: 0.5661 - val_acc: 0.8673\n",
      "Epoch 8/20\n",
      "15000/15000 [==============================] - 1s 71us/step - loss: 0.0094 - acc: 0.9996 - val_loss: 0.5917 - val_acc: 0.8665\n",
      "Epoch 9/20\n",
      "15000/15000 [==============================] - 1s 73us/step - loss: 0.0082 - acc: 0.9996 - val_loss: 0.6200 - val_acc: 0.8663\n",
      "Epoch 10/20\n",
      "15000/15000 [==============================] - 1s 71us/step - loss: 0.0066 - acc: 0.9997 - val_loss: 0.6412 - val_acc: 0.8650\n",
      "Epoch 11/20\n",
      "15000/15000 [==============================] - 1s 71us/step - loss: 0.0057 - acc: 0.9999 - val_loss: 0.6664 - val_acc: 0.8643\n",
      "Epoch 12/20\n",
      "15000/15000 [==============================] - 1s 70us/step - loss: 0.0045 - acc: 0.9999 - val_loss: 0.6907 - val_acc: 0.8639\n",
      "Epoch 13/20\n",
      "15000/15000 [==============================] - 1s 71us/step - loss: 0.0037 - acc: 0.9999 - val_loss: 0.7300 - val_acc: 0.8621\n",
      "Epoch 14/20\n",
      "15000/15000 [==============================] - 1s 70us/step - loss: 0.0029 - acc: 0.9999 - val_loss: 0.7455 - val_acc: 0.8622\n",
      "Epoch 15/20\n",
      "15000/15000 [==============================] - 1s 70us/step - loss: 0.0024 - acc: 0.9999 - val_loss: 0.7756 - val_acc: 0.8619\n",
      "Epoch 16/20\n",
      "15000/15000 [==============================] - 1s 71us/step - loss: 0.0020 - acc: 0.9999 - val_loss: 0.8154 - val_acc: 0.8621\n",
      "Epoch 17/20\n",
      "15000/15000 [==============================] - 1s 71us/step - loss: 0.0016 - acc: 0.9999 - val_loss: 0.8355 - val_acc: 0.8605\n",
      "Epoch 18/20\n",
      "15000/15000 [==============================] - 1s 74us/step - loss: 0.0013 - acc: 0.9999 - val_loss: 0.8658 - val_acc: 0.8616\n",
      "Epoch 19/20\n"
     ]
    },
    {
     "name": "stdout",
     "output_type": "stream",
     "text": [
      "15000/15000 [==============================] - 1s 72us/step - loss: 0.0010 - acc: 0.9999 - val_loss: 0.9033 - val_acc: 0.8590\n",
      "Epoch 20/20\n",
      "15000/15000 [==============================] - 1s 81us/step - loss: 7.9419e-04 - acc: 0.9999 - val_loss: 0.9180 - val_acc: 0.8595\n"
     ]
    }
   ],
   "source": [
    "history1 = model1.fit(partial_x_train,\n",
    "                    partial_y_train,\n",
    "                    epochs=20,\n",
    "                    batch_size=512,\n",
    "                    validation_data=(x_val, y_val))\n",
    "history2 = model2.fit(partial_x_train,\n",
    "                    partial_y_train,\n",
    "                    epochs=20,\n",
    "                    batch_size=512,\n",
    "                    validation_data=(x_val, y_val))\n",
    "history3 = model2.fit(partial_x_train,\n",
    "                    partial_y_train,\n",
    "                    epochs=20,\n",
    "                    batch_size=512,\n",
    "                    validation_data=(x_val, y_val))"
   ]
  },
  {
   "cell_type": "code",
   "execution_count": 10,
   "metadata": {},
   "outputs": [
    {
     "data": {
      "image/png": "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\n",
      "text/plain": [
       "<Figure size 432x288 with 1 Axes>"
      ]
     },
     "metadata": {
      "needs_background": "light"
     },
     "output_type": "display_data"
    }
   ],
   "source": [
    "import matplotlib.pyplot as plt\n",
    "%matplotlib inline\n",
    "\n",
    "val_acc1 = history1.history['val_acc']\n",
    "val_loss1 = history1.history['val_loss']\n",
    "val_acc2 = history2.history['val_acc']\n",
    "val_loss2 = history2.history['val_loss']\n",
    "val_acc3 = history3.history['val_acc']\n",
    "val_loss3 = history3.history['val_loss']\n",
    "\n",
    "\n",
    "epochs = range(1, len(val_acc1) + 1)\n",
    "\n",
    "# \"bo\" is for \"blue dot\"\n",
    "plt.plot(epochs, val_loss1, 'blue', label='original')\n",
    "# b is for \"solid blue line\"\n",
    "plt.plot(epochs, val_loss2, 'red', label='smaller')\n",
    "plt.plot(epochs, val_loss3, 'green', label='larger')\n",
    "plt.title('validation loss')\n",
    "plt.xlabel('Epochs')\n",
    "plt.ylabel('Loss')\n",
    "plt.legend()\n",
    "\n",
    "plt.show()"
   ]
  },
  {
   "cell_type": "code",
   "execution_count": 30,
   "metadata": {},
   "outputs": [],
   "source": [
    "from keras import regularizers\n",
    "\n",
    "#重みパラメータを正則化するモデルの作成\n",
    "model=models.Sequential()\n",
    "model.add(layers.Dense(16,kernel_regularizer=regularizers.l1_l2(l1=0.001,l2=0.001),\n",
    "                       activation='relu',input_shape=(10000,)))\n",
    "model.add(layers.Dense(16,kernel_regularizer=regularizers.l1_l2(l1=0.001,l2=0.001),\n",
    "                       activation='relu'))\n",
    "model.add(layers.Dense(1,activation='sigmoid'))\n",
    "model.compile(optimizer=optimizers.RMSprop(lr=0.001),\n",
    "              loss='binary_crossentropy',\n",
    "              metrics=['accuracy'])"
   ]
  },
  {
   "cell_type": "code",
   "execution_count": 31,
   "metadata": {},
   "outputs": [
    {
     "name": "stdout",
     "output_type": "stream",
     "text": [
      "Train on 15000 samples, validate on 10000 samples\n",
      "Epoch 1/20\n",
      "15000/15000 [==============================] - 1s 94us/step - loss: 1.1093 - acc: 0.7332 - val_loss: 0.7321 - val_acc: 0.8365\n",
      "Epoch 2/20\n",
      "15000/15000 [==============================] - 1s 72us/step - loss: 0.6879 - acc: 0.8405 - val_loss: 0.6600 - val_acc: 0.8524\n",
      "Epoch 3/20\n",
      "15000/15000 [==============================] - 1s 72us/step - loss: 0.6394 - acc: 0.8527 - val_loss: 0.6321 - val_acc: 0.8574\n",
      "Epoch 4/20\n",
      "15000/15000 [==============================] - 1s 72us/step - loss: 0.6116 - acc: 0.8605 - val_loss: 0.6148 - val_acc: 0.8595\n",
      "Epoch 5/20\n",
      "15000/15000 [==============================] - 1s 72us/step - loss: 0.5939 - acc: 0.8639 - val_loss: 0.5927 - val_acc: 0.8634\n",
      "Epoch 6/20\n",
      "15000/15000 [==============================] - 1s 72us/step - loss: 0.5820 - acc: 0.8625 - val_loss: 0.6131 - val_acc: 0.8478\n",
      "Epoch 7/20\n",
      "15000/15000 [==============================] - 1s 72us/step - loss: 0.5681 - acc: 0.8661 - val_loss: 0.5830 - val_acc: 0.8601\n",
      "Epoch 8/20\n",
      "15000/15000 [==============================] - 1s 72us/step - loss: 0.5607 - acc: 0.8649 - val_loss: 0.5691 - val_acc: 0.8647\n",
      "Epoch 9/20\n",
      "15000/15000 [==============================] - 1s 72us/step - loss: 0.5525 - acc: 0.8704 - val_loss: 0.5705 - val_acc: 0.8603\n",
      "Epoch 10/20\n",
      "15000/15000 [==============================] - 1s 72us/step - loss: 0.5452 - acc: 0.8743 - val_loss: 0.5614 - val_acc: 0.8717\n",
      "Epoch 11/20\n",
      "15000/15000 [==============================] - 1s 73us/step - loss: 0.5413 - acc: 0.8715 - val_loss: 0.5471 - val_acc: 0.8692\n",
      "Epoch 12/20\n",
      "15000/15000 [==============================] - 1s 72us/step - loss: 0.5326 - acc: 0.8745 - val_loss: 0.5698 - val_acc: 0.8607\n",
      "Epoch 13/20\n",
      "15000/15000 [==============================] - 1s 72us/step - loss: 0.5234 - acc: 0.8766 - val_loss: 0.5720 - val_acc: 0.8515\n",
      "Epoch 14/20\n",
      "15000/15000 [==============================] - 1s 72us/step - loss: 0.5184 - acc: 0.8793 - val_loss: 0.6763 - val_acc: 0.8002\n",
      "Epoch 15/20\n",
      "15000/15000 [==============================] - 1s 72us/step - loss: 0.5174 - acc: 0.8801 - val_loss: 0.5461 - val_acc: 0.8676\n",
      "Epoch 16/20\n",
      "15000/15000 [==============================] - 1s 73us/step - loss: 0.5169 - acc: 0.8809 - val_loss: 0.5291 - val_acc: 0.8755\n",
      "Epoch 17/20\n",
      "15000/15000 [==============================] - 1s 73us/step - loss: 0.5082 - acc: 0.8831 - val_loss: 0.5283 - val_acc: 0.8758\n",
      "Epoch 18/20\n",
      "15000/15000 [==============================] - 1s 72us/step - loss: 0.5063 - acc: 0.8831 - val_loss: 0.5644 - val_acc: 0.8536\n",
      "Epoch 19/20\n",
      "15000/15000 [==============================] - 1s 73us/step - loss: 0.5016 - acc: 0.8857 - val_loss: 0.5232 - val_acc: 0.8777\n",
      "Epoch 20/20\n",
      "15000/15000 [==============================] - 1s 73us/step - loss: 0.4953 - acc: 0.8872 - val_loss: 0.5834 - val_acc: 0.8414\n"
     ]
    }
   ],
   "source": [
    "history = model.fit(partial_x_train,\n",
    "                    partial_y_train,\n",
    "                    epochs=20,\n",
    "                    batch_size=512,\n",
    "                    validation_data=(x_val, y_val))"
   ]
  },
  {
   "cell_type": "code",
   "execution_count": 32,
   "metadata": {},
   "outputs": [
    {
     "data": {
      "image/png": "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\n",
      "text/plain": [
       "<Figure size 432x288 with 1 Axes>"
      ]
     },
     "metadata": {
      "needs_background": "light"
     },
     "output_type": "display_data"
    },
    {
     "data": {
      "image/png": "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\n",
      "text/plain": [
       "<Figure size 432x288 with 1 Axes>"
      ]
     },
     "metadata": {
      "needs_background": "light"
     },
     "output_type": "display_data"
    }
   ],
   "source": [
    "history.history.keys()\n",
    "historyory_dict=history.history\n",
    "val_acc=historyory_dict['val_acc']\n",
    "plt.plot(epochs,val_acc,'red',marker='*',linestyle='None',label='regulation')\n",
    "plt.plot(epochs,val_acc1,'blue',marker='+',linestyle='None',label='original')\n",
    "plt.xlabel('epochs')\n",
    "plt.ylabel('val_accuracy')\n",
    "plt.legend()\n",
    "plt.show()\n",
    "\n",
    "history.history.keys()\n",
    "historyory_dict=history.history\n",
    "val_loss=historyory_dict['val_loss']\n",
    "plt.plot(epochs,val_loss,'red',marker='*',linestyle='None',label='regulation')\n",
    "plt.plot(epochs,val_loss1,'blue',marker='+',linestyle='None',label='original')\n",
    "plt.xlabel('epochs')\n",
    "plt.ylabel('val_loss')\n",
    "plt.legend()\n",
    "plt.show()"
   ]
  },
  {
   "cell_type": "code",
   "execution_count": 42,
   "metadata": {},
   "outputs": [],
   "source": [
    "model_dropout=models.Sequential()\n",
    "model_dropout.add(layers.Dense(16,activation='relu',kernel_regularizer=regularizers.l2(l=0.01),input_shape=(10000,)))\n",
    "model_dropout.add(layers.Dropout(0.5))\n",
    "model_dropout.add(layers.Dense(16,activation='relu'))\n",
    "model_dropout.add(layers.Dropout(0.5))\n",
    "model_dropout.add(layers.Dense(1,activation='sigmoid'))\n",
    "model_dropout.compile(optimizer=optimizers.RMSprop(lr=0.001),\n",
    "                      loss='binary_crossentropy',\n",
    "                      metrics=['accuracy'])\n",
    "\n",
    "                  "
   ]
  },
  {
   "cell_type": "code",
   "execution_count": 43,
   "metadata": {},
   "outputs": [
    {
     "name": "stdout",
     "output_type": "stream",
     "text": [
      "Train on 15000 samples, validate on 10000 samples\n",
      "Epoch 1/20\n",
      "15000/15000 [==============================] - 1s 95us/step - loss: 0.3744 - acc: 0.9340 - val_loss: 0.5000 - val_acc: 0.8776\n",
      "Epoch 2/20\n",
      "15000/15000 [==============================] - 1s 72us/step - loss: 0.3763 - acc: 0.9325 - val_loss: 0.5263 - val_acc: 0.8675\n",
      "Epoch 3/20\n",
      "15000/15000 [==============================] - 1s 70us/step - loss: 0.3748 - acc: 0.9347 - val_loss: 0.5045 - val_acc: 0.8754\n",
      "Epoch 4/20\n",
      "15000/15000 [==============================] - 1s 70us/step - loss: 0.3683 - acc: 0.9371 - val_loss: 0.5050 - val_acc: 0.8789\n",
      "Epoch 5/20\n",
      "15000/15000 [==============================] - 1s 70us/step - loss: 0.3731 - acc: 0.9343 - val_loss: 0.5188 - val_acc: 0.8708\n",
      "Epoch 6/20\n",
      "15000/15000 [==============================] - 1s 70us/step - loss: 0.3674 - acc: 0.9367 - val_loss: 0.5052 - val_acc: 0.8774\n",
      "Epoch 7/20\n",
      "15000/15000 [==============================] - 1s 53us/step - loss: 0.3663 - acc: 0.9381 - val_loss: 0.5124 - val_acc: 0.8736\n",
      "Epoch 8/20\n",
      "15000/15000 [==============================] - 1s 53us/step - loss: 0.3666 - acc: 0.9379 - val_loss: 0.5096 - val_acc: 0.8761\n",
      "Epoch 9/20\n",
      "15000/15000 [==============================] - 1s 60us/step - loss: 0.3647 - acc: 0.9369 - val_loss: 0.5203 - val_acc: 0.8731\n",
      "Epoch 10/20\n",
      "15000/15000 [==============================] - 1s 71us/step - loss: 0.3638 - acc: 0.9379 - val_loss: 0.5090 - val_acc: 0.8766\n",
      "Epoch 11/20\n",
      "15000/15000 [==============================] - 1s 71us/step - loss: 0.3630 - acc: 0.9385 - val_loss: 0.5135 - val_acc: 0.8740\n",
      "Epoch 12/20\n",
      "15000/15000 [==============================] - 1s 71us/step - loss: 0.3582 - acc: 0.9407 - val_loss: 0.5156 - val_acc: 0.8749\n",
      "Epoch 13/20\n",
      "15000/15000 [==============================] - 1s 72us/step - loss: 0.3590 - acc: 0.9410 - val_loss: 0.5248 - val_acc: 0.8701\n",
      "Epoch 14/20\n",
      "15000/15000 [==============================] - 1s 71us/step - loss: 0.3628 - acc: 0.9392 - val_loss: 0.5376 - val_acc: 0.8674\n",
      "Epoch 15/20\n",
      "15000/15000 [==============================] - 1s 71us/step - loss: 0.3592 - acc: 0.9414 - val_loss: 0.5260 - val_acc: 0.8703\n",
      "Epoch 16/20\n",
      "15000/15000 [==============================] - 1s 70us/step - loss: 0.3536 - acc: 0.9448 - val_loss: 0.5471 - val_acc: 0.8633\n",
      "Epoch 17/20\n",
      "15000/15000 [==============================] - 1s 70us/step - loss: 0.3586 - acc: 0.9407 - val_loss: 0.5159 - val_acc: 0.8756\n",
      "Epoch 18/20\n",
      "15000/15000 [==============================] - 1s 71us/step - loss: 0.3565 - acc: 0.9409 - val_loss: 0.5835 - val_acc: 0.8491\n",
      "Epoch 19/20\n",
      "15000/15000 [==============================] - 1s 71us/step - loss: 0.3475 - acc: 0.9483 - val_loss: 0.5339 - val_acc: 0.8678\n",
      "Epoch 20/20\n",
      "15000/15000 [==============================] - 1s 70us/step - loss: 0.3550 - acc: 0.9437 - val_loss: 0.5407 - val_acc: 0.8657\n"
     ]
    }
   ],
   "source": [
    "history_dropout = model.fit(partial_x_train,\n",
    "                    partial_y_train,\n",
    "                    epochs=20,\n",
    "                    batch_size=512,\n",
    "                    validation_data=(x_val, y_val))"
   ]
  },
  {
   "cell_type": "code",
   "execution_count": 44,
   "metadata": {},
   "outputs": [
    {
     "data": {
      "image/png": "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\n",
      "text/plain": [
       "<Figure size 432x288 with 1 Axes>"
      ]
     },
     "metadata": {
      "needs_background": "light"
     },
     "output_type": "display_data"
    },
    {
     "data": {
      "image/png": "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\n",
      "text/plain": [
       "<Figure size 432x288 with 1 Axes>"
      ]
     },
     "metadata": {
      "needs_background": "light"
     },
     "output_type": "display_data"
    }
   ],
   "source": [
    "history_dropout.history.keys()\n",
    "historyory_dict=history_dropout.history\n",
    "val_acc_dropout=historyory_dict['val_acc']\n",
    "plt.plot(epochs,val_acc_dropout,'red',marker='*',linestyle='None',label='Dropout')\n",
    "plt.plot(epochs,val_acc1,'blue',marker='+',linestyle='None',label='original')\n",
    "plt.xlabel('epochs')\n",
    "plt.ylabel('val_accuracy')\n",
    "plt.legend()\n",
    "plt.show()\n",
    "\n",
    "history_dropout.history.keys()\n",
    "historyory_dict=history_dropout.history\n",
    "val_loss_dropout=historyory_dict['val_loss']\n",
    "plt.plot(epochs,val_loss_dropout,'red',marker='*',linestyle='None',label='dropout')\n",
    "plt.plot(epochs,val_loss1,'blue',marker='+',linestyle='None',label='original')\n",
    "plt.xlabel('epochs')\n",
    "plt.ylabel('val_loss')\n",
    "plt.legend()\n",
    "plt.show()"
   ]
  },
  {
   "cell_type": "code",
   "execution_count": 45,
   "metadata": {},
   "outputs": [
    {
     "name": "stdout",
     "output_type": "stream",
     "text": [
      "[[0. 1. 1. ... 0. 0. 0.]\n",
      " [0. 1. 0. ... 0. 0. 0.]\n",
      " [0. 1. 1. ... 0. 0. 0.]\n",
      " ...\n",
      " [0. 1. 1. ... 0. 0. 0.]\n",
      " [0. 1. 1. ... 0. 0. 0.]\n",
      " [0. 1. 1. ... 0. 0. 0.]]\n"
     ]
    }
   ],
   "source": []
  },
  {
   "cell_type": "code",
   "execution_count": null,
   "metadata": {},
   "outputs": [],
   "source": []
>>>>>>> origin/master
  }
 ],
 "metadata": {
  "kernelspec": {
   "display_name": "Python 3",
   "language": "python",
   "name": "python3"
  },
  "language_info": {
   "codemirror_mode": {
    "name": "ipython",
    "version": 3
   },
   "file_extension": ".py",
   "mimetype": "text/x-python",
   "name": "python",
   "nbconvert_exporter": "python",
   "pygments_lexer": "ipython3",
   "version": "3.6.8"
  }
 },
 "nbformat": 4,
 "nbformat_minor": 2
}

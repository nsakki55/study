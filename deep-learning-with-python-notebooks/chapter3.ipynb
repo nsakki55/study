{
 "cells": [
  {
   "cell_type": "code",
   "execution_count": 7,
   "metadata": {},
   "outputs": [],
   "source": [
    "from keras import models\n",
    "from keras import layers\n",
    "\n",
    "model=models.Sequential()\n",
    "# Dense全結合層 入力が784次元で、出力を32次元にする \n",
    "model.add(layers.Dense(32,input_shape=(784,)))\n",
    "# 入力が表記されていな場合は入力側の層の形状にあわせて動的に構築される。\n",
    "model.add(layers.Dense(32))\n"
   ]
  },
  {
   "cell_type": "code",
   "execution_count": 37,
   "metadata": {},
   "outputs": [],
   "source": [
    "# iMDBデータの読み込み　num_wordsで出現頻度の高いもののみをとりだす\n",
    "from keras.datasets import imdb\n",
    "\n",
    "(X_train_origin,y_train_origin),(X_test_origin,y_test_origin)=imdb.load_data(num_words=10000)\n"
   ]
  },
  {
   "cell_type": "code",
   "execution_count": 38,
   "metadata": {},
   "outputs": [
    {
     "name": "stdout",
     "output_type": "stream",
     "text": [
      "(25000, 10000)\n",
      "[1 0 0 ... 0 1 0]\n",
      "(25000, 10000)\n",
      "[0 1 1 ... 0 0 0]\n",
      "9995\n"
     ]
    },
    {
     "data": {
      "text/plain": [
       "\"? this film was just brilliant casting location scenery story direction everyone's really suited the part they played and you could just imagine being there robert ? is an amazing actor and now the same being director ? father came from the same scottish island as myself so i loved the fact there was a real connection with this film the witty remarks throughout the film were great it was just brilliant so much that i bought the film as soon as it was released for ? and would recommend it to everyone to watch and the fly fishing was amazing really cried at the end it was so sad and you know what they say if you cry at a film it must have been good and this definitely was also ? to the two little boy's that played the ? of norman and paul they were just brilliant children are often left out of the ? list i think because the stars that play them all grown up are such a big profile for the whole film but these children are amazing and should be praised for what they have done don't you think the whole story was so lovely because it was true and was someone's life after all that was shared with us all\""
      ]
     },
     "execution_count": 38,
     "metadata": {},
     "output_type": "execute_result"
    }
   ],
   "source": [
    "print(X_train.shape)\n",
    "print(y_train)\n",
    "print(X_test.shape)\n",
    "print(y_test)\n",
    "\n",
    "print(max(max(sequence for sequence in X_train_origin)))\n",
    "# 単語と番号の辞書を取得\n",
    "word_index=imdb.get_word_index()\n",
    "# 単語：番号を番号：単語にかえる\n",
    "reverse_word_index=dict([(value,key) for (key,value) in word_index.items()])\n",
    "decode_review=' '.join([reverse_word_index.get(i-3,'?') for i in X_train_origin[0]])\n",
    "decode_review"
   ]
  },
  {
   "cell_type": "code",
   "execution_count": 49,
   "metadata": {},
   "outputs": [
    {
     "name": "stdout",
     "output_type": "stream",
     "text": [
      "(25000, 10000)\n",
      "(25000, 10000)\n",
      "(25000,)\n",
      "(25000,)\n"
     ]
    }
   ],
   "source": [
    "#onehot エンコーディング\n",
    "import numpy as np\n",
    "def vectorize_sequences(sequences, dimension=10000):\n",
    "    # Create an all-zero matrix of shape (len(sequences), dimension)\n",
    "    results = np.zeros((len(sequences), dimension))\n",
    "    for i, sequence in enumerate(sequences):\n",
    "        results[i, sequence] = 1.  # set specific indices of results[i] to 1s\n",
    "    return results\n",
    "\n",
    "import copy\n",
    "\n",
    "X_train=vectorize_sequences(X_train_origin)\n",
    "X_test=vectorize_sequences(X_test_origin)\n",
    "\n",
    "print(X_train.shape)\n",
    "print(X_test.shape)\n",
    "\n",
    "y_train=np.asarray(y_train_origin).astype('float32')\n",
    "y_test=np.asarray(y_test_origin).astype('float32')\n",
    "\n",
    "print(y_train.shape)\n",
    "print(y_test.shape)\n"
   ]
  },
  {
   "cell_type": "code",
   "execution_count": 58,
   "metadata": {},
   "outputs": [],
   "source": [
    "from keras import models\n",
    "from keras import layers\n",
    "from keras import optimizers\n",
    "from keras import metrics\n",
    "from keras import losses\n",
    "\n",
    "model=models.Sequential()\n",
    "model.add(layers.Dense(16,activation='relu',input_shape=(10000,)))\n",
    "model.add(layers.Dense(16,activation='relu',input_shape=(16,)))\n",
    "model.add(layers.Dense(1,activation='sigmoid'))\n",
    "model.compile(optimizer=optimizers.RMSprop(lr=0.001),\n",
    "              loss=losses.binary_crossentropy,\n",
    "              metrics=[metrics.binary_accuracy])"
   ]
  },
  {
   "cell_type": "code",
   "execution_count": 63,
   "metadata": {},
   "outputs": [
    {
     "name": "stdout",
     "output_type": "stream",
     "text": [
      "(25000, 10000)\n",
      "(10000, 10000)\n",
      "(25000,)\n",
      "(15000,)\n"
     ]
    }
   ],
   "source": [
    "# 検証データを訓練データから分割する\n",
    "X_val=X_train[:10000]\n",
    "partial_X_train=X_train[10000:]\n",
    "print(X_train.shape)\n",
    "print(X_val.shape)\n",
    "y_val=y_train[:10000]\n",
    "partial_y_train=y_train[10000:]\n",
    "print(y_train.shape)\n",
    "print(partial_y_train.shape)\n"
   ]
  },
  {
   "cell_type": "code",
   "execution_count": 65,
   "metadata": {},
   "outputs": [
    {
     "name": "stdout",
     "output_type": "stream",
     "text": [
      "WARNING:tensorflow:From /home/nagae/anaconda3/envs/gpu-env/lib/python3.6/site-packages/tensorflow/python/ops/math_ops.py:3066: to_int32 (from tensorflow.python.ops.math_ops) is deprecated and will be removed in a future version.\n",
      "Instructions for updating:\n",
      "Use tf.cast instead.\n",
      "Train on 15000 samples, validate on 10000 samples\n",
      "Epoch 1/20\n",
      "15000/15000 [==============================] - 2s 139us/step - loss: 0.4845 - binary_accuracy: 0.7966 - val_loss: 0.3558 - val_binary_accuracy: 0.8738\n",
      "Epoch 2/20\n",
      "15000/15000 [==============================] - 1s 66us/step - loss: 0.2834 - binary_accuracy: 0.9047 - val_loss: 0.2969 - val_binary_accuracy: 0.8848\n",
      "Epoch 3/20\n",
      "15000/15000 [==============================] - 1s 66us/step - loss: 0.2084 - binary_accuracy: 0.9307 - val_loss: 0.3007 - val_binary_accuracy: 0.8770\n",
      "Epoch 4/20\n",
      "15000/15000 [==============================] - 1s 66us/step - loss: 0.1719 - binary_accuracy: 0.9423 - val_loss: 0.2754 - val_binary_accuracy: 0.8892\n",
      "Epoch 5/20\n",
      "15000/15000 [==============================] - 1s 66us/step - loss: 0.1363 - binary_accuracy: 0.9567 - val_loss: 0.2849 - val_binary_accuracy: 0.8877\n",
      "Epoch 6/20\n",
      "15000/15000 [==============================] - 1s 66us/step - loss: 0.1146 - binary_accuracy: 0.9644 - val_loss: 0.2986 - val_binary_accuracy: 0.8852\n",
      "Epoch 7/20\n",
      "15000/15000 [==============================] - 1s 66us/step - loss: 0.0925 - binary_accuracy: 0.9721 - val_loss: 0.3207 - val_binary_accuracy: 0.8805\n",
      "Epoch 8/20\n",
      "15000/15000 [==============================] - 1s 67us/step - loss: 0.0804 - binary_accuracy: 0.9761 - val_loss: 0.3396 - val_binary_accuracy: 0.8816\n",
      "Epoch 9/20\n",
      "15000/15000 [==============================] - 1s 66us/step - loss: 0.0688 - binary_accuracy: 0.9798 - val_loss: 0.3627 - val_binary_accuracy: 0.8786\n",
      "Epoch 10/20\n",
      "15000/15000 [==============================] - 1s 66us/step - loss: 0.0555 - binary_accuracy: 0.9855 - val_loss: 0.3919 - val_binary_accuracy: 0.8736\n",
      "Epoch 11/20\n",
      "15000/15000 [==============================] - 1s 66us/step - loss: 0.0446 - binary_accuracy: 0.9892 - val_loss: 0.4185 - val_binary_accuracy: 0.8722\n",
      "Epoch 12/20\n",
      "15000/15000 [==============================] - 1s 66us/step - loss: 0.0370 - binary_accuracy: 0.9910 - val_loss: 0.4552 - val_binary_accuracy: 0.8686\n",
      "Epoch 13/20\n",
      "15000/15000 [==============================] - 1s 66us/step - loss: 0.0306 - binary_accuracy: 0.9939 - val_loss: 0.4730 - val_binary_accuracy: 0.8704\n",
      "Epoch 14/20\n",
      "15000/15000 [==============================] - 1s 66us/step - loss: 0.0256 - binary_accuracy: 0.9948 - val_loss: 0.4999 - val_binary_accuracy: 0.8715\n",
      "Epoch 15/20\n",
      "15000/15000 [==============================] - 1s 66us/step - loss: 0.0199 - binary_accuracy: 0.9967 - val_loss: 0.5504 - val_binary_accuracy: 0.8677\n",
      "Epoch 16/20\n",
      "15000/15000 [==============================] - 1s 66us/step - loss: 0.0179 - binary_accuracy: 0.9968 - val_loss: 0.5639 - val_binary_accuracy: 0.8680\n",
      "Epoch 17/20\n",
      "15000/15000 [==============================] - 1s 66us/step - loss: 0.0121 - binary_accuracy: 0.9988 - val_loss: 0.5947 - val_binary_accuracy: 0.8678\n",
      "Epoch 18/20\n",
      "15000/15000 [==============================] - 1s 66us/step - loss: 0.0123 - binary_accuracy: 0.9973 - val_loss: 0.6275 - val_binary_accuracy: 0.8669\n",
      "Epoch 19/20\n",
      "15000/15000 [==============================] - 1s 67us/step - loss: 0.0060 - binary_accuracy: 0.9999 - val_loss: 0.6935 - val_binary_accuracy: 0.8580\n",
      "Epoch 20/20\n",
      "15000/15000 [==============================] - 1s 66us/step - loss: 0.0098 - binary_accuracy: 0.9977 - val_loss: 0.6881 - val_binary_accuracy: 0.8657\n"
     ]
    }
   ],
   "source": [
    "history=model.fit(partial_X_train,\n",
    "                  partial_y_train,\n",
    "                  batch_size=512,\n",
    "                  epochs=20,\n",
    "                  validation_data=(X_val,y_val))"
   ]
  },
  {
   "cell_type": "code",
   "execution_count": 67,
   "metadata": {},
   "outputs": [
    {
     "data": {
      "text/plain": [
       "dict_keys(['val_loss', 'val_binary_accuracy', 'loss', 'binary_accuracy'])"
      ]
     },
     "execution_count": 67,
     "metadata": {},
     "output_type": "execute_result"
    }
   ],
   "source": [
    "# model.fit の返り値 hisotryのhistoryメンバーには訓練中のデータが格納されている\n",
    "history_dict=history.history\n",
    "history_dict.keys()"
   ]
  },
  {
   "cell_type": "code",
   "execution_count": 70,
   "metadata": {},
   "outputs": [
    {
     "data": {
      "image/png": "[encoded data removed]",
      "text/plain": [
       "<Figure size 432x288 with 1 Axes>"
      ]
     },
     "metadata": {
      "needs_background": "light"
     },
     "output_type": "display_data"
    }
   ],
   "source": [
    "import matplotlib.pyplot as plt\n",
    "%matplotlib inline\n",
    "\n",
    "loss_values=history_dict['loss']\n",
    "val_loss_values=history_dict['val_loss']\n",
    "\n",
    "epochs=range(1,len(loss_values)+1)\n",
    "plt.plot(epochs,loss_values,'bo',label='Trainig loss')\n",
    "plt.plot(epochs,val_loss_values,'b',label='Validation loss')\n",
    "plt.title(\"loss\")\n",
    "plt.xlabel(\"epochs\")\n",
    "plt.ylabel(\"loss\")\n",
    "plt.legend()\n",
    "plt.show()"
   ]
  },
  {
   "cell_type": "code",
   "execution_count": 72,
   "metadata": {},
   "outputs": [
    {
     "data": {
      "image/png": "[encoded data removed]",
      "text/plain": [
       "<Figure size 432x288 with 1 Axes>"
      ]
     },
     "metadata": {
      "needs_background": "light"
     },
     "output_type": "display_data"
    }
   ],
   "source": [
    "acc=history_dict['binary_accuracy']\n",
    "val_acc=history_dict['val_binary_accuracy']\n",
    "\n",
    "epochs=range(1,len(acc)+1)\n",
    "plt.plot(epochs,acc,'bo',label='trainign accuracy')\n",
    "plt.plot(epochs,val_acc,'b',label='validation accuracy')\n",
    "plt.title(\"accuracy\")\n",
    "plt.xlabel(\"epochs\")\n",
    "plt.ylabel(\"accyracy\")\n",
    "plt.legend()\n",
    "plt.show()"
   ]
  },
  {
   "cell_type": "code",
   "execution_count": 79,
   "metadata": {},
   "outputs": [
    {
     "name": "stdout",
     "output_type": "stream",
     "text": [
      "Epoch 1/4\n",
      "15000/15000 [==============================] - 1s 61us/step - loss: 0.5075 - binary_accuracy: 0.7815\n",
      "Epoch 2/4\n",
      "15000/15000 [==============================] - 1s 42us/step - loss: 0.2967 - binary_accuracy: 0.9016\n",
      "Epoch 3/4\n",
      "15000/15000 [==============================] - 1s 42us/step - loss: 0.2200 - binary_accuracy: 0.9251\n",
      "Epoch 4/4\n",
      "15000/15000 [==============================] - 1s 42us/step - loss: 0.1745 - binary_accuracy: 0.9435\n",
      "25000/25000 [==============================] - 1s 41us/step\n",
      "[0.3107783252191544, 0.87368]\n"
     ]
    }
   ],
   "source": [
    "model=models.Sequential()\n",
    "model.add(layers.Dense(16,activation='relu',input_shape=(10000,)))\n",
    "model.add(layers.Dense(16,activation='relu',input_shape=(16,)))\n",
    "model.add(layers.Dense(1,activation='sigmoid'))\n",
    "model.compile(optimizer=optimizers.RMSprop(lr=0.001),\n",
    "              loss=losses.binary_crossentropy,\n",
    "              metrics=[metrics.binary_accuracy])\n",
    "model.fit(partial_X_train,partial_y_train,epochs=4,batch_size=512)\n",
    "results=model.evaluate(X_test,y_test)\n",
    "print(results)\n"
   ]
  },
  {
   "cell_type": "code",
   "execution_count": 96,
   "metadata": {},
   "outputs": [
    {
     "name": "stdout",
     "output_type": "stream",
     "text": [
      "Train on 15000 samples, validate on 10000 samples\n",
      "Epoch 1/4\n",
      "15000/15000 [==============================] - 2s 107us/step - loss: 0.1610 - acc: 0.7664 - val_loss: 0.1401 - val_acc: 0.8007\n",
      "Epoch 2/4\n",
      "15000/15000 [==============================] - 1s 67us/step - loss: 0.0779 - acc: 0.9009 - val_loss: 0.0974 - val_acc: 0.8670\n",
      "Epoch 3/4\n",
      "15000/15000 [==============================] - 1s 68us/step - loss: 0.0545 - acc: 0.9295 - val_loss: 0.1093 - val_acc: 0.8519\n",
      "Epoch 4/4\n",
      "15000/15000 [==============================] - 1s 68us/step - loss: 0.0381 - acc: 0.9535 - val_loss: 0.0947 - val_acc: 0.8750\n",
      "25000/25000 [==============================] - 1s 41us/step\n",
      "[0.10515637971460819, 0.85996]\n",
      "dict_keys(['val_loss', 'val_acc', 'loss', 'acc'])\n"
     ]
    },
    {
     "data": {
      "image/png": "[encoded data removed]",
      "text/plain": [
       "<Figure size 432x288 with 1 Axes>"
      ]
     },
     "metadata": {
      "needs_background": "light"
     },
     "output_type": "display_data"
    }
   ],
   "source": [
    "# 実験\n",
    "hidden_num=128\n",
    "activation='relu'\n",
    "model=models.Sequential()\n",
    "model.add(layers.Dense(hidden_num,activation=activation,input_shape=(10000,)))\n",
    "model.add(layers.Dense(hidden_num,activation=activation))\n",
    "model.add(layers.Dense(1,activation='sigmoid'))\n",
    "\n",
    "model.compile(optimizer='rmsprop',\n",
    "              loss='mse',\n",
    "              metrics=['accuracy'])\n",
    "history=model.fit(partial_X_train,partial_y_train,epochs=4,batch_size=512,validation_data=(X_val,y_val))\n",
    "results=model.evaluate(X_test,y_test)\n",
    "print(results)\n",
    "\n",
    "history_dict=history.history\n",
    "print(history_dict.keys())\n",
    "\n",
    "acc=history_dict['acc']\n",
    "val_acc=history_dict['val_acc']\n",
    "\n",
    "epochs=range(1,len(acc)+1)\n",
    "plt.plot(epochs,acc,'bo',label='trainign accuracy')\n",
    "plt.plot(epochs,val_acc,'b',label='validation accuracy')\n",
    "plt.title(\"accuracy\")\n",
    "plt.xlabel(\"epochs\")\n",
    "plt.ylabel(\"accyracy\")\n",
    "plt.legend()\n",
    "plt.show()\n"
   ]
  }
 ],
 "metadata": {
  "kernelspec": {
   "display_name": "Python 3",
   "language": "python",
   "name": "python3"
  },
  "language_info": {
   "codemirror_mode": {
    "name": "ipython",
    "version": 3
   },
   "file_extension": ".py",
   "mimetype": "text/x-python",
   "name": "python",
   "nbconvert_exporter": "python",
   "pygments_lexer": "ipython3",
   "version": "3.6.8"
  }
 },
 "nbformat": 4,
 "nbformat_minor": 2
}

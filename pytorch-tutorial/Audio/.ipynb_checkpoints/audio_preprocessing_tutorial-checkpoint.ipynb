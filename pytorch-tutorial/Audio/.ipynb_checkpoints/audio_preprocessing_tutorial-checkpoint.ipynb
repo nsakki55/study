{
 "cells": [
  {
   "cell_type": "code",
   "execution_count": 1,
   "metadata": {},
   "outputs": [],
   "source": [
    "%matplotlib inline"
   ]
  },
  {
   "cell_type": "markdown",
   "metadata": {},
   "source": [
    "\n",
    "torchaudio Tutorial\n",
    "===================\n",
    "\n",
    "PyTorch is an open source deep learning platform that provides a\n",
    "seamless path from research prototyping to production deployment with\n",
    "GPU support.\n",
    "\n",
    "Significant effort in solving machine learning problems goes into data\n",
    "preparation. ``torchaudio`` leverages PyTorch’s GPU support, and provides\n",
    "many tools to make data loading easy and more readable. In this\n",
    "tutorial, we will see how to load and preprocess data from a simple\n",
    "dataset.\n",
    "\n",
    "For this tutorial, please make sure the ``matplotlib`` package is\n",
    "installed for easier visualization.\n",
    "\n",
    "\n"
   ]
  },
  {
   "cell_type": "code",
   "execution_count": 3,
   "metadata": {},
   "outputs": [
    {
     "ename": "ModuleNotFoundError",
     "evalue": "No module named 'torchaudio'",
     "output_type": "error",
     "traceback": [
      "\u001b[0;31m---------------------------------------------------------------------------\u001b[0m",
      "\u001b[0;31mModuleNotFoundError\u001b[0m                       Traceback (most recent call last)",
      "\u001b[0;32m<ipython-input-3-20b5931256a7>\u001b[0m in \u001b[0;36m<module>\u001b[0;34m\u001b[0m\n\u001b[1;32m      1\u001b[0m \u001b[0;32mimport\u001b[0m \u001b[0mtorch\u001b[0m\u001b[0;34m\u001b[0m\u001b[0m\n\u001b[0;32m----> 2\u001b[0;31m \u001b[0;32mimport\u001b[0m \u001b[0mtorchaudio\u001b[0m\u001b[0;34m\u001b[0m\u001b[0m\n\u001b[0m\u001b[1;32m      3\u001b[0m \u001b[0;32mimport\u001b[0m \u001b[0mmatplotlib\u001b[0m\u001b[0;34m.\u001b[0m\u001b[0mpyplot\u001b[0m \u001b[0;32mas\u001b[0m \u001b[0mplt\u001b[0m\u001b[0;34m\u001b[0m\u001b[0m\n",
      "\u001b[0;31mModuleNotFoundError\u001b[0m: No module named 'torchaudio'"
     ]
    }
   ],
   "source": [
    "import torch\n",
    "import torchaudio\n",
    "import matplotlib.pyplot as plt"
   ]
  },
  {
   "cell_type": "markdown",
   "metadata": {},
   "source": [
    "Opening a file\n",
    "-----------------\n",
    "\n",
    "``torchaudio`` also supports loading sound files in the wav and mp3 format. We\n",
    "call waveform the resulting raw audio signal.\n",
    "\n",
    "\n"
   ]
  },
  {
   "cell_type": "code",
   "execution_count": null,
   "metadata": {},
   "outputs": [],
   "source": [
    "filename = \"../_static/img/steam-train-whistle-daniel_simon-converted-from-mp3.wav\"\n",
    "waveform, sample_rate = torchaudio.load(filename)\n",
    "\n",
    "print(\"Shape of waveform: {}\".format(waveform.size()))\n",
    "print(\"Sample rate of waveform: {}\".format(sample_rate))\n",
    "\n",
    "plt.figure()\n",
    "plt.plot(waveform.t().numpy())"
   ]
  },
  {
   "cell_type": "markdown",
   "metadata": {},
   "source": [
    "When you load a file in ``torchaudio``, you can optionally specify the backend to use either \n",
    "`SoX <https://pypi.org/project/sox/>`_ or `SoundFile <https://pypi.org/project/SoundFile/>`_ \n",
    "via ``torchaudio.set_audio_backend``. These backends are loaded lazily when needed.\n",
    "\n",
    "``torchaudio`` also makes JIT compilation optional for functions, and uses ``nn.Module`` where possible.\n",
    "\n"
   ]
  },
  {
   "cell_type": "markdown",
   "metadata": {},
   "source": [
    "Transformations\n",
    "---------------\n",
    "\n",
    "``torchaudio`` supports a growing list of\n",
    "`transformations <https://pytorch.org/audio/transforms.html>`_.\n",
    "\n",
    "-  **Resample**: Resample waveform to a different sample rate.\n",
    "-  **Spectrogram**: Create a spectrogram from a waveform.\n",
    "-  **GriffinLim**: Compute waveform from a linear scale magnitude spectrogram using \n",
    "   the Griffin-Lim transformation.\n",
    "-  **ComputeDeltas**: Compute delta coefficients of a tensor, usually a spectrogram.\n",
    "-  **ComplexNorm**: Compute the norm of a complex tensor.\n",
    "-  **MelScale**: This turns a normal STFT into a Mel-frequency STFT,\n",
    "   using a conversion matrix.\n",
    "-  **AmplitudeToDB**: This turns a spectrogram from the\n",
    "   power/amplitude scale to the decibel scale.\n",
    "-  **MFCC**: Create the Mel-frequency cepstrum coefficients from a\n",
    "   waveform.\n",
    "-  **MelSpectrogram**: Create MEL Spectrograms from a waveform using the\n",
    "   STFT function in PyTorch.\n",
    "-  **MuLawEncoding**: Encode waveform based on mu-law companding.\n",
    "-  **MuLawDecoding**: Decode mu-law encoded waveform.\n",
    "-  **TimeStretch**: Stretch a spectrogram in time without modifying pitch for a given rate.\n",
    "-  **FrequencyMasking**: Apply masking to a spectrogram in the frequency domain.\n",
    "-  **TimeMasking**: Apply masking to a spectrogram in the time domain.\n",
    "\n",
    "Each transform supports batching: you can perform a transform on a single raw \n",
    "audio signal or spectrogram, or many of the same shape.\n",
    "\n",
    "Since all transforms are ``nn.Modules`` or ``jit.ScriptModules``, they can be\n",
    "used as part of a neural network at any point.\n",
    "\n",
    "\n"
   ]
  },
  {
   "cell_type": "markdown",
   "metadata": {},
   "source": [
    "To start, we can look at the log of the spectrogram on a log scale.\n",
    "\n",
    "\n"
   ]
  },
  {
   "cell_type": "code",
   "execution_count": null,
   "metadata": {},
   "outputs": [],
   "source": [
    "specgram = torchaudio.transforms.Spectrogram()(waveform)\n",
    "\n",
    "print(\"Shape of spectrogram: {}\".format(specgram.size()))\n",
    "\n",
    "plt.figure()\n",
    "plt.imshow(specgram.log2()[0,:,:].numpy(), cmap='gray')"
   ]
  },
  {
   "cell_type": "markdown",
   "metadata": {},
   "source": [
    "Or we can look at the Mel Spectrogram on a log scale.\n",
    "\n",
    "\n"
   ]
  },
  {
   "cell_type": "code",
   "execution_count": null,
   "metadata": {},
   "outputs": [],
   "source": [
    "specgram = torchaudio.transforms.MelSpectrogram()(waveform)\n",
    "\n",
    "print(\"Shape of spectrogram: {}\".format(specgram.size()))\n",
    "\n",
    "plt.figure()\n",
    "p = plt.imshow(specgram.log2()[0,:,:].detach().numpy(), cmap='gray')"
   ]
  },
  {
   "cell_type": "markdown",
   "metadata": {},
   "source": [
    "We can resample the waveform, one channel at a time.\n",
    "\n",
    "\n"
   ]
  },
  {
   "cell_type": "code",
   "execution_count": null,
   "metadata": {},
   "outputs": [],
   "source": [
    "new_sample_rate = sample_rate/10\n",
    "\n",
    "# Since Resample applies to a single channel, we resample first channel here\n",
    "channel = 0\n",
    "transformed = torchaudio.transforms.Resample(sample_rate, new_sample_rate)(waveform[channel,:].view(1,-1))\n",
    "\n",
    "print(\"Shape of transformed waveform: {}\".format(transformed.size()))\n",
    "\n",
    "plt.figure()\n",
    "plt.plot(transformed[0,:].numpy())"
   ]
  },
  {
   "cell_type": "markdown",
   "metadata": {},
   "source": [
    "As another example of transformations, we can encode the signal based on\n",
    "Mu-Law enconding. But to do so, we need the signal to be between -1 and\n",
    "1. Since the tensor is just a regular PyTorch tensor, we can apply\n",
    "standard operators on it.\n",
    "\n",
    "\n"
   ]
  },
  {
   "cell_type": "code",
   "execution_count": null,
   "metadata": {},
   "outputs": [],
   "source": [
    "# Let's check if the tensor is in the interval [-1,1]\n",
    "print(\"Min of waveform: {}\\nMax of waveform: {}\\nMean of waveform: {}\".format(waveform.min(), waveform.max(), waveform.mean()))"
   ]
  },
  {
   "cell_type": "markdown",
   "metadata": {},
   "source": [
    "Since the waveform is already between -1 and 1, we do not need to\n",
    "normalize it.\n",
    "\n",
    "\n"
   ]
  },
  {
   "cell_type": "code",
   "execution_count": null,
   "metadata": {},
   "outputs": [],
   "source": [
    "def normalize(tensor):\n",
    "    # Subtract the mean, and scale to the interval [-1,1]\n",
    "    tensor_minusmean = tensor - tensor.mean()\n",
    "    return tensor_minusmean/tensor_minusmean.abs().max()\n",
    "\n",
    "# Let's normalize to the full interval [-1,1]\n",
    "# waveform = normalize(waveform)"
   ]
  },
  {
   "cell_type": "markdown",
   "metadata": {},
   "source": [
    "Let’s apply encode the waveform.\n",
    "\n",
    "\n"
   ]
  },
  {
   "cell_type": "code",
   "execution_count": null,
   "metadata": {},
   "outputs": [],
   "source": [
    "transformed = torchaudio.transforms.MuLawEncoding()(waveform)\n",
    "\n",
    "print(\"Shape of transformed waveform: {}\".format(transformed.size()))\n",
    "\n",
    "plt.figure()\n",
    "plt.plot(transformed[0,:].numpy())"
   ]
  },
  {
   "cell_type": "markdown",
   "metadata": {},
   "source": [
    "And now decode.\n",
    "\n",
    "\n"
   ]
  },
  {
   "cell_type": "code",
   "execution_count": null,
   "metadata": {},
   "outputs": [],
   "source": [
    "reconstructed = torchaudio.transforms.MuLawDecoding()(transformed)\n",
    "\n",
    "print(\"Shape of recovered waveform: {}\".format(reconstructed.size()))\n",
    "\n",
    "plt.figure()\n",
    "plt.plot(reconstructed[0,:].numpy())"
   ]
  },
  {
   "cell_type": "markdown",
   "metadata": {},
   "source": [
    "We can finally compare the original waveform with its reconstructed\n",
    "version.\n",
    "\n",
    "\n"
   ]
  },
  {
   "cell_type": "code",
   "execution_count": null,
   "metadata": {},
   "outputs": [],
   "source": [
    "# Compute median relative difference\n",
    "err = ((waveform-reconstructed).abs() / waveform.abs()).median()\n",
    "\n",
    "print(\"Median relative difference between original and MuLaw reconstucted signals: {:.2%}\".format(err))"
   ]
  },
  {
   "cell_type": "markdown",
   "metadata": {},
   "source": [
    "Functional\n",
    "---------------\n",
    "\n",
    "The transformations seen above rely on lower level stateless functions for their computations. \n",
    "These functions are available under ``torchaudio.functional``. The complete list is available \n",
    "`here <https://pytorch.org/audio/functional.html>`_ and includes:\n",
    "\n",
    "-  **istft**: Inverse short time Fourier Transform.\n",
    "-  **gain**: Applies amplification or attenuation to the whole waveform.\n",
    "-  **dither**: Increases the perceived dynamic range of audio stored at a\n",
    "   particular bit-depth.\n",
    "-  **compute_deltas**: Compute delta coefficients of a tensor.\n",
    "-  **equalizer_biquad**: Design biquad peaking equalizer filter and perform filtering.\n",
    "-  **lowpass_biquad**: Design biquad lowpass filter and perform filtering.\n",
    "-  **highpass_biquad**:Design biquad highpass filter and perform filtering.\n",
    "\n",
    "For example, let's try the `mu_law_encoding` functional:\n",
    "\n"
   ]
  },
  {
   "cell_type": "code",
   "execution_count": null,
   "metadata": {},
   "outputs": [],
   "source": [
    "mu_law_encoding_waveform = torchaudio.functional.mu_law_encoding(waveform, quantization_channels=256)\n",
    "\n",
    "print(\"Shape of transformed waveform: {}\".format(mu_law_encoding_waveform.size()))\n",
    "\n",
    "plt.figure()\n",
    "plt.plot(mu_law_encoding_waveform[0,:].numpy())"
   ]
  },
  {
   "cell_type": "markdown",
   "metadata": {},
   "source": [
    "You can see how the output fron ``torchaudio.functional.mu_law_encoding`` is the same as \n",
    "the output from ``torchaudio.transforms.MuLawEncoding``.\n",
    "\n",
    "Now let's experiment with a few of the other functionals and visualize their output. Taking our \n",
    "spectogram, we can compute it's deltas:\n",
    "\n"
   ]
  },
  {
   "cell_type": "code",
   "execution_count": null,
   "metadata": {},
   "outputs": [],
   "source": [
    "computed = torchaudio.functional.compute_deltas(specgram.contiguous(), win_length=3)\n",
    "print(\"Shape of computed deltas: {}\".format(computed.shape))\n",
    "\n",
    "plt.figure()\n",
    "plt.imshow(computed.log2()[0,:,:].detach().numpy(), cmap='gray')"
   ]
  },
  {
   "cell_type": "markdown",
   "metadata": {},
   "source": [
    "We can take the original waveform and apply different effects to it.\n",
    "\n",
    "\n"
   ]
  },
  {
   "cell_type": "code",
   "execution_count": null,
   "metadata": {},
   "outputs": [],
   "source": [
    "gain_waveform = torchaudio.functional.gain(waveform, gain_db=5.0)\n",
    "print(\"Min of gain_waveform: {}\\nMax of gain_waveform: {}\\nMean of gain_waveform: {}\".format(gain_waveform.min(), gain_waveform.max(), gain_waveform.mean()))\n",
    "\n",
    "dither_waveform = torchaudio.functional.dither(waveform)\n",
    "print(\"Min of dither_waveform: {}\\nMax of dither_waveform: {}\\nMean of dither_waveform: {}\".format(dither_waveform.min(), dither_waveform.max(), dither_waveform.mean()))"
   ]
  },
  {
   "cell_type": "markdown",
   "metadata": {},
   "source": [
    "Another example of the capabilities in ``torchaudio.functional`` are applying filters to our\n",
    "waveform. Applying the lowpass biquad filter to our waveform will output a new waveform with \n",
    "the signal of the frequency modified.\n",
    "\n"
   ]
  },
  {
   "cell_type": "code",
   "execution_count": null,
   "metadata": {},
   "outputs": [],
   "source": [
    "lowpass_waveform = torchaudio.functional.lowpass_biquad(waveform, sample_rate, cutoff_freq=3000)\n",
    "\n",
    "print(\"Min of lowpass_waveform: {}\\nMax of lowpass_waveform: {}\\nMean of lowpass_waveform: {}\".format(lowpass_waveform.min(), lowpass_waveform.max(), lowpass_waveform.mean()))\n",
    "\n",
    "plt.figure()\n",
    "plt.plot(lowpass_waveform.t().numpy())"
   ]
  },
  {
   "cell_type": "markdown",
   "metadata": {},
   "source": [
    "We can also visualize a waveform with the highpass biquad filter.\n",
    "\n",
    "\n"
   ]
  },
  {
   "cell_type": "code",
   "execution_count": null,
   "metadata": {},
   "outputs": [],
   "source": [
    "highpass_waveform = torchaudio.functional.highpass_biquad(waveform, sample_rate, cutoff_freq=2000)\n",
    "\n",
    "print(\"Min of highpass_waveform: {}\\nMax of highpass_waveform: {}\\nMean of highpass_waveform: {}\".format(highpass_waveform.min(), highpass_waveform.max(), highpass_waveform.mean()))\n",
    "\n",
    "plt.figure()\n",
    "plt.plot(highpass_waveform.t().numpy())"
   ]
  },
  {
   "cell_type": "markdown",
   "metadata": {},
   "source": [
    "Migrating to torchaudio from Kaldi\n",
    "----------------------------------\n",
    "\n",
    "Users may be familiar with\n",
    "`Kaldi <http://github.com/kaldi-asr/kaldi>`_, a toolkit for speech\n",
    "recognition. ``torchaudio`` offers compatibility with it in\n",
    "``torchaudio.kaldi_io``. It can indeed read from kaldi scp, or ark file\n",
    "or streams with:\n",
    "\n",
    "-  read_vec_int_ark\n",
    "-  read_vec_flt_scp\n",
    "-  read_vec_flt_arkfile/stream\n",
    "-  read_mat_scp\n",
    "-  read_mat_ark\n",
    "\n",
    "``torchaudio`` provides Kaldi-compatible transforms for ``spectrogram``,\n",
    "``fbank``, ``mfcc``, and ``resample_waveform with the benefit of GPU support, see\n",
    "`here <compliance.kaldi.html>`__ for more information.\n",
    "\n",
    "\n"
   ]
  },
  {
   "cell_type": "code",
   "execution_count": null,
   "metadata": {},
   "outputs": [],
   "source": [
    "n_fft = 400.0\n",
    "frame_length = n_fft / sample_rate * 1000.0\n",
    "frame_shift = frame_length / 2.0\n",
    "\n",
    "params = {\n",
    "    \"channel\": 0,\n",
    "    \"dither\": 0.0,\n",
    "    \"window_type\": \"hanning\",\n",
    "    \"frame_length\": frame_length,\n",
    "    \"frame_shift\": frame_shift,\n",
    "    \"remove_dc_offset\": False,\n",
    "    \"round_to_power_of_two\": False,\n",
    "    \"sample_frequency\": sample_rate,\n",
    "}\n",
    "\n",
    "specgram = torchaudio.compliance.kaldi.spectrogram(waveform, **params)\n",
    "\n",
    "print(\"Shape of spectrogram: {}\".format(specgram.size()))\n",
    "\n",
    "plt.figure()\n",
    "plt.imshow(specgram.t().numpy(), cmap='gray')"
   ]
  },
  {
   "cell_type": "markdown",
   "metadata": {},
   "source": [
    "We also support computing the filterbank features from waveforms,\n",
    "matching Kaldi’s implementation.\n",
    "\n",
    "\n"
   ]
  },
  {
   "cell_type": "code",
   "execution_count": null,
   "metadata": {},
   "outputs": [],
   "source": [
    "fbank = torchaudio.compliance.kaldi.fbank(waveform, **params)\n",
    "\n",
    "print(\"Shape of fbank: {}\".format(fbank.size()))\n",
    "\n",
    "plt.figure()\n",
    "plt.imshow(fbank.t().numpy(), cmap='gray')"
   ]
  },
  {
   "cell_type": "markdown",
   "metadata": {},
   "source": [
    "You can create mel frequency cepstral coefficients from a raw audio signal\n",
    "This matches the input/output of Kaldi’s compute-mfcc-feats.\n",
    "\n",
    "\n"
   ]
  },
  {
   "cell_type": "code",
   "execution_count": null,
   "metadata": {},
   "outputs": [],
   "source": [
    "mfcc = torchaudio.compliance.kaldi.mfcc(waveform, **params)\n",
    "\n",
    "print(\"Shape of mfcc: {}\".format(mfcc.size()))\n",
    "\n",
    "plt.figure()\n",
    "plt.imshow(mfcc.t().numpy(), cmap='gray')"
   ]
  },
  {
   "cell_type": "markdown",
   "metadata": {},
   "source": [
    "Available Datasets\n",
    "-----------------\n",
    "\n",
    "If you do not want to create your own dataset to train your model, ``torchaudio`` offers a\n",
    "unified dataset interface. This interface supports lazy-loading of files to memory, download \n",
    "and extract functions, and datasets to build models.\n",
    "\n",
    "The datasets ``torchaudio`` currently supports are:\n",
    "\n",
    "-  **VCTK**: Speech data uttered by 109 native speakers of English with various accents\n",
    "   (`Read more here <https://homepages.inf.ed.ac.uk/jyamagis/page3/page58/page58.html>`_).\n",
    "-  **Yesno**: Sixty recordings of one individual saying yes or no in Hebrew; each\n",
    "   recording is eight words long (`Read more here <https://www.openslr.org/1/>`_).\n",
    "-  **Common Voice**: An open source, multi-language dataset of voices that anyone can use\n",
    "   to train speech-enabled applications (`Read more here <https://voice.mozilla.org/en/datasets>`_).\n",
    "-  **LibriSpeech**: Large-scale (1000 hours) corpus of read English speech (`Read more here <http://www.openslr.org/12>`_).\n",
    "\n",
    "\n"
   ]
  },
  {
   "cell_type": "code",
   "execution_count": null,
   "metadata": {},
   "outputs": [],
   "source": [
    "yesno_data = torchaudio.datasets.YESNO('./', download=True)\n",
    "\n",
    "# A data point in Yesno is a tuple (waveform, sample_rate, labels) where labels is a list of integers with 1 for yes and 0 for no.\n",
    "\n",
    "# Pick data point number 3 to see an example of the the yesno_data:\n",
    "n = 3\n",
    "waveform, sample_rate, labels = yesno_data[n]\n",
    "\n",
    "print(\"Waveform: {}\\nSample rate: {}\\nLabels: {}\".format(waveform, sample_rate, labels))\n",
    "\n",
    "plt.figure()\n",
    "plt.plot(waveform.t().numpy())"
   ]
  },
  {
   "cell_type": "markdown",
   "metadata": {},
   "source": [
    "Now, whenever you ask for a sound file from the dataset, it is loaded in memory only when you ask for it.\n",
    "Meaning, the dataset only loads and keeps in memory the items that you want and use, saving on memory.\n",
    "\n",
    "\n"
   ]
  },
  {
   "cell_type": "markdown",
   "metadata": {},
   "source": [
    "Conclusion\n",
    "----------\n",
    "\n",
    "We used an example raw audio signal, or waveform, to illustrate how to\n",
    "open an audio file using ``torchaudio``, and how to pre-process,\n",
    "transform, and apply functions to such waveform. We also demonstrated how\n",
    "to use familiar Kaldi functions, as well as utilize built-in datasets to \n",
    "construct our models. Given that ``torchaudio`` is built on PyTorch,\n",
    "these techniques can be used as building blocks for more advanced audio\n",
    "applications, such as speech recognition, while leveraging GPUs.\n",
    "\n",
    "\n"
   ]
  }
 ],
 "metadata": {
  "kernelspec": {
   "display_name": "Python 3",
   "language": "python",
   "name": "python3"
  },
  "language_info": {
   "codemirror_mode": {
    "name": "ipython",
    "version": 3
   },
   "file_extension": ".py",
   "mimetype": "text/x-python",
   "name": "python",
   "nbconvert_exporter": "python",
   "pygments_lexer": "ipython3",
   "version": "3.6.3"
  }
 },
 "nbformat": 4,
 "nbformat_minor": 1
}
